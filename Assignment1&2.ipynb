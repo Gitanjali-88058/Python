{
 "cells": [
  {
   "cell_type": "markdown",
   "id": "e53f9566",
   "metadata": {},
   "source": [
    "Q1. Write a function avgMarks() which accepts two parameters:\n",
    "\n",
    "(i) a list marksList having marks of a student in three subjects.\n",
    "(ii) an integer passMarks denoting minimum marks required to pass a subject.\n",
    "If the marks obtained in any subject are less than passMarks, then raise an exception displaying\n",
    "'Essential Repeat', otherwise the function avgMarks() returns the average percentage\n",
    "obtained by the student. For example, if marksList = [80, 82, 78] and passMarks =\n",
    "50 then avgMarks()should return 80. If marksList = [80, 82, 38] and\n",
    "passMarks = 50 then avgMarks()should raise exception displaying 'Essential\n",
    "Repeat'.\n",
    "Write a Python program that does the following:\n",
    "• Reads marks of a student in three subjects. While inputting the marks of a student use\n",
    "an assert statement to check that the marks are between 1 and 100 for each subject.\n",
    "• Reads passMarks. While inputting the passMarks use an assert statement to\n",
    "check that the passMarks are between 1 and 100.\n",
    "• If the reading is successful, make use of the function avgMarks() to return the\n",
    "percentage obtained by the student."
   ]
  },
  {
   "cell_type": "code",
   "execution_count": 21,
   "id": "443302bd",
   "metadata": {},
   "outputs": [
    {
     "name": "stdout",
     "output_type": "stream",
     "text": [
      "Enter marks: 56\n",
      "Enter marks: 78\n",
      "Enter marks: 90\n",
      "Enter the passMarks: 50\n",
      "75%\n"
     ]
    }
   ],
   "source": [
    "def avgMarks(marksList,passMarks):\n",
    "    try:    \n",
    "        avg=0\n",
    "        for i in marksList:\n",
    "            if(passMarks>i):\n",
    "                raise Exception\n",
    "            avg+=i\n",
    "        percent=avg/3\n",
    "        return round(percent)\n",
    "    except Exception:\n",
    "         print(\"Essential Repeat\")\n",
    "            \n",
    "marksList=[]            \n",
    "for i in range(3):\n",
    "   marks=int(input('Enter marks: ')) \n",
    "   assert 0<=marks<=100,\"Invalid Marks\"\n",
    "   marksList.append(marks)\n",
    "    \n",
    "\n",
    "passMarks=int(input(\"Enter the passMarks: \"))\n",
    "assert 0<=passMarks<=100 ,\" Invalid PassMarks\"\n",
    "percentage=avgMarks(marksList,passMarks)\n",
    "print(f'{percentage}%')\n",
    "           "
   ]
  },
  {
   "cell_type": "markdown",
   "id": "6b28639c",
   "metadata": {},
   "source": [
    "Q2. Consider a tuple T1 = (1, 2, 5, 7, 9, 3, 4, 6, 8, 10). Write a function primes()\n",
    "that accepts tuple T1 as argument and creates a list T2 having values that are prime numbers in the\n",
    "tuple T1. The function should return a dictionary primeCubes where keys are items of the list\n",
    "T2 and the values are cubes of the keys. For example, when T1 as passed as an argument, T2 will\n",
    "be [2, 5, 7, 3] and primeCubes will be {2:8,5:125,7:343,3:27}."
   ]
  },
  {
   "cell_type": "code",
   "execution_count": 51,
   "id": "00c103b6",
   "metadata": {},
   "outputs": [
    {
     "name": "stdout",
     "output_type": "stream",
     "text": [
      "[2, 5, 7, 3]\n",
      "Dictionary: {2: 8, 5: 125, 7: 343, 3: 27}\n"
     ]
    }
   ],
   "source": [
    "def primes(T1):\n",
    "    T=list(T1)\n",
    "    T2=[]\n",
    "    flag=False\n",
    "    for num in T1:\n",
    "        if num>1:\n",
    "            for i in range(2,num):\n",
    "                if(num%i!=0):\n",
    "                    flag=False\n",
    "                else:\n",
    "                    flag=True\n",
    "                    break;\n",
    "                    \n",
    "            if  not flag:\n",
    "                T2.append(num)\n",
    "            else: \n",
    "                continue\n",
    "    print(T2)\n",
    "    primeCubes={}\n",
    "    for i in T2:\n",
    "        \n",
    "        primeCubes[i]=i**3\n",
    "    return primeCubes        \n",
    "                \n",
    "T1=(1, 2, 5, 7,9,3, 4, 6, 8, 10)\n",
    "print(f'Dictionary: {primes(T1)}')  "
   ]
  },
  {
   "cell_type": "markdown",
   "id": "0b6d35f7",
   "metadata": {},
   "source": [
    "Q3. Define a class Salesman that stores information about employees in a company. The class\n",
    "should contain the following data members:\n",
    "• name –Name of the Salesman\n",
    "• region – Region assigned to the Salesman ('Delhi' or 'Mumbai')\n",
    "• basicPay, HRA – Salary Components, where HRA is 4000 if the location assigned is\n",
    "'Delhi' otherwise HRA is 8000 if the location assigned is 'Mumbai'\n",
    "• salary – Gross Salary of the salesman. This should be computed using a function\n",
    "grossSalary() for determining the gross salary as basicPay + HRA.\n",
    "\n",
    "The class should support the following methods:\n",
    "\n",
    "• _init_() for initializing data members.\n",
    "• display() which displays the information about the salesman.\n",
    "If the salesman 'Raman' from 'Delhi' region has basic as Rupees 20000, then his gross\n",
    "salary will be Rupees 24000. If the salesman 'Aman' from 'Mumbai' region has basic as\n",
    "Rupees 20000, then his gross salary will be Rupees 28000."
   ]
  },
  {
   "cell_type": "code",
   "execution_count": 33,
   "id": "e7dcd516",
   "metadata": {},
   "outputs": [
    {
     "name": "stdout",
     "output_type": "stream",
     "text": [
      "Name of the employee: Gitanjali\n",
      "Region assigned to the salesman: Delhi\n",
      "Basic Pay: 20000\n",
      "HRA of the employee: 4000\n",
      "Gross Salary of the salesman: 24000\n",
      "Name of the employee: Mosh\n",
      "Region assigned to the salesman: Mumbai\n",
      "Basic Pay: 40000\n",
      "HRA of the employee: 8000\n",
      "Gross Salary of the salesman: 48000\n"
     ]
    }
   ],
   "source": [
    "class Salesman:\n",
    "    \n",
    "    def __init__(self,name,region,basicPay):\n",
    "        self.name=name\n",
    "        self.region=region\n",
    "        self.basicPay=basicPay\n",
    "        self.HRA=0\n",
    "    def display(self):\n",
    "        print(f'Name of the employee: {self.name}')\n",
    "        print(f'Region assigned to the salesman: {self.region}')\n",
    "        print(f'Basic Pay: {self.basicPay}')\n",
    "        if(self.region=='Delhi'):\n",
    "            self.HRA=4000\n",
    "        elif(self.region=='Mumbai'):\n",
    "            self.HRA=8000\n",
    "        print(f'HRA of the employee: {self.HRA}')    \n",
    "       \n",
    "    def grossSalary(self):\n",
    "        gross_Salary=self.basicPay+self.HRA\n",
    "        print(f'Gross Salary of the salesman: {gross_Salary}')\n",
    "\n",
    "emp1=Salesman(\"Gitanjali\",'Delhi',20000)\n",
    "emp1.display()\n",
    "emp1.grossSalary()\n",
    "emp2=Salesman('Mosh','Mumbai',40000)\n",
    "emp2.display()\n",
    "emp2.grossSalary()"
   ]
  },
  {
   "cell_type": "markdown",
   "id": "163315d2",
   "metadata": {},
   "source": [
    "Q4. Write a function readData() that accepts three arguments, namely, name of an input text file,\n",
    "name of output file, and a character. It should read the text file and write alternate lines of this file\n",
    "to the output file. The function should also return the number of occurrences of the character\n",
    "(specified as argument) in the input file."
   ]
  },
  {
   "cell_type": "code",
   "execution_count": 2,
   "id": "f01f6fa7",
   "metadata": {},
   "outputs": [
    {
     "ename": "SyntaxError",
     "evalue": "invalid syntax (<ipython-input-2-d896ffe2abba>, line 3)",
     "output_type": "error",
     "traceback": [
      "\u001b[1;36m  File \u001b[1;32m\"<ipython-input-2-d896ffe2abba>\"\u001b[1;36m, line \u001b[1;32m3\u001b[0m\n\u001b[1;33m    def readData(ip,op,'c'):\u001b[0m\n\u001b[1;37m                       ^\u001b[0m\n\u001b[1;31mSyntaxError\u001b[0m\u001b[1;31m:\u001b[0m invalid syntax\n"
     ]
    }
   ],
   "source": [
    "ip=open('InputFile.txt','r')\n",
    "op=open('OutputFile.txt','w')\n",
    "def readData(ip,op,'c'):\n",
    "    count=ip.readlines()\n",
    "    type(count)\n",
    "         for i in range(0,len(count)):\n",
    "                if(i%2!=0):\n",
    "                    op.write(count[i])\n",
    "                else:\n",
    "                    pass\n",
    "    op.close()\n",
    "    string = ip.read()\n",
    "    all_freq={}\n",
    "    for i in string:\n",
    "        if i == 'c':\n",
    "            if i in all_freq:\n",
    "                all_freq[i] += 1\n",
    "            else:\n",
    "                all_freq[i] = 1\n",
    "    print(\"Occurences of the characters in input file: \", all_freq)\n"
   ]
  },
  {
   "cell_type": "code",
   "execution_count": null,
   "id": "9e6012af",
   "metadata": {},
   "outputs": [],
   "source": []
  }
 ],
 "metadata": {
  "kernelspec": {
   "display_name": "Python 3",
   "language": "python",
   "name": "python3"
  },
  "language_info": {
   "codemirror_mode": {
    "name": "ipython",
    "version": 3
   },
   "file_extension": ".py",
   "mimetype": "text/x-python",
   "name": "python",
   "nbconvert_exporter": "python",
   "pygments_lexer": "ipython3",
   "version": "3.8.8"
  }
 },
 "nbformat": 4,
 "nbformat_minor": 5
}
