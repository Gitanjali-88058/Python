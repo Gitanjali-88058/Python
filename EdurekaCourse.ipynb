{
 "cells": [
  {
   "cell_type": "markdown",
   "id": "24f004a4",
   "metadata": {},
   "source": [
    "# Single-line Comment"
   ]
  },
  {
   "cell_type": "code",
   "execution_count": 2,
   "id": "bf322ffc",
   "metadata": {},
   "outputs": [
    {
     "name": "stdout",
     "output_type": "stream",
     "text": [
      "3\n"
     ]
    }
   ],
   "source": [
    "#INITIALIZING A\n",
    "a=3\n",
    "print(a)"
   ]
  },
  {
   "cell_type": "markdown",
   "id": "f6f72066",
   "metadata": {},
   "source": [
    "# Multi-line Comment"
   ]
  },
  {
   "cell_type": "code",
   "execution_count": 1,
   "id": "30bb4049",
   "metadata": {},
   "outputs": [
    {
     "name": "stdout",
     "output_type": "stream",
     "text": [
      "Hello World\n"
     ]
    }
   ],
   "source": [
    "print('Hello World')\n",
    "\n"
   ]
  },
  {
   "cell_type": "code",
   "execution_count": 3,
   "id": "f4b10805",
   "metadata": {},
   "outputs": [
    {
     "data": {
      "text/plain": [
       "968"
      ]
     },
     "execution_count": 3,
     "metadata": {},
     "output_type": "execute_result"
    }
   ],
   "source": [
    "#Comment in python\n",
    "#Multi-line Comment\n",
    "#program to multiplt two numbers\n",
    "a=22\n",
    "b=44\n",
    "a*b"
   ]
  },
  {
   "cell_type": "markdown",
   "id": "e4916880",
   "metadata": {},
   "source": [
    "# Doc-string Comment"
   ]
  },
  {
   "cell_type": "code",
   "execution_count": 4,
   "id": "45997af7",
   "metadata": {},
   "outputs": [
    {
     "data": {
      "text/plain": [
       "'Hello World'"
      ]
     },
     "execution_count": 4,
     "metadata": {},
     "output_type": "execute_result"
    }
   ],
   "source": [
    "'''This is doc string\n",
    "Comment which is documentation strings\n",
    "written in triple quotes that act as comments'''\n",
    "a=\"Hello World\"\n",
    "a"
   ]
  },
  {
   "cell_type": "code",
   "execution_count": 5,
   "id": "88ec8665",
   "metadata": {},
   "outputs": [
    {
     "data": {
      "text/plain": [
       "'\\ndoc strings are not omitted by the interpreter\\ncomments are omitted\\n'"
      ]
     },
     "execution_count": 5,
     "metadata": {},
     "output_type": "execute_result"
    }
   ],
   "source": [
    "'''\n",
    "doc strings are not omitted by the interpreter\n",
    "comments are omitted\n",
    "'''"
   ]
  },
  {
   "cell_type": "code",
   "execution_count": 6,
   "id": "4cf35674",
   "metadata": {},
   "outputs": [
    {
     "data": {
      "text/plain": [
       "'\\ndoc strings are not omitted by the interpreter\\ncomments are omitted\\n'"
      ]
     },
     "execution_count": 6,
     "metadata": {},
     "output_type": "execute_result"
    }
   ],
   "source": [
    "a=4\n",
    "b=3\n",
    "a*b\n",
    "'''\n",
    "doc strings are not omitted by the interpreter\n",
    "comments are omitted\n",
    "'''"
   ]
  },
  {
   "cell_type": "code",
   "execution_count": 7,
   "id": "dea6a2b0",
   "metadata": {},
   "outputs": [
    {
     "name": "stdout",
     "output_type": "stream",
     "text": [
      "12\n"
     ]
    },
    {
     "data": {
      "text/plain": [
       "'\\ndoc strings are not omitted by the interpreter\\ncomments are omitted\\n'"
      ]
     },
     "execution_count": 7,
     "metadata": {},
     "output_type": "execute_result"
    }
   ],
   "source": [
    "a=4\n",
    "b=3\n",
    "print(a*b)\n",
    "'''\n",
    "doc strings are not omitted by the interpreter\n",
    "comments are omitted\n",
    "'''"
   ]
  },
  {
   "cell_type": "markdown",
   "id": "a1cf465b",
   "metadata": {},
   "source": [
    "# Variables and DataTypes"
   ]
  },
  {
   "cell_type": "code",
   "execution_count": 9,
   "id": "6f13f238",
   "metadata": {},
   "outputs": [
    {
     "name": "stdout",
     "output_type": "stream",
     "text": [
      "<class 'int'>\n",
      "<class 'float'>\n",
      "<class 'bool'>\n"
     ]
    }
   ],
   "source": [
    "x=2\n",
    "print(type(x))\n",
    "y=2.314\n",
    "print(type(y))\n",
    "num=2>3\n",
    "print(type(num))\n"
   ]
  },
  {
   "cell_type": "code",
   "execution_count": 10,
   "id": "16bdfdb7",
   "metadata": {},
   "outputs": [
    {
     "data": {
      "text/plain": [
       "complex"
      ]
     },
     "execution_count": 10,
     "metadata": {},
     "output_type": "execute_result"
    }
   ],
   "source": [
    "z=24j\n",
    "type(z)"
   ]
  },
  {
   "cell_type": "code",
   "execution_count": 11,
   "id": "c33c0312",
   "metadata": {},
   "outputs": [
    {
     "data": {
      "text/plain": [
       "int"
      ]
     },
     "execution_count": 11,
     "metadata": {},
     "output_type": "execute_result"
    }
   ],
   "source": [
    "type(x)"
   ]
  },
  {
   "cell_type": "markdown",
   "id": "8dc17425",
   "metadata": {},
   "source": [
    "# String"
   ]
  },
  {
   "cell_type": "code",
   "execution_count": 3,
   "id": "f1c3fc64",
   "metadata": {},
   "outputs": [
    {
     "data": {
      "text/plain": [
       "'gitanjali'"
      ]
     },
     "execution_count": 3,
     "metadata": {},
     "output_type": "execute_result"
    }
   ],
   "source": [
    "name=\"Gitanjali\"\n",
    "name.lower()\n"
   ]
  },
  {
   "cell_type": "code",
   "execution_count": 4,
   "id": "97ae6ca9",
   "metadata": {},
   "outputs": [
    {
     "data": {
      "text/plain": [
       "'GITANJALI'"
      ]
     },
     "execution_count": 4,
     "metadata": {},
     "output_type": "execute_result"
    }
   ],
   "source": [
    "name.upper()"
   ]
  },
  {
   "cell_type": "code",
   "execution_count": 6,
   "id": "f795a25d",
   "metadata": {},
   "outputs": [
    {
     "data": {
      "text/plain": [
       "'a'"
      ]
     },
     "execution_count": 6,
     "metadata": {},
     "output_type": "execute_result"
    }
   ],
   "source": [
    "name[-3]"
   ]
  },
  {
   "cell_type": "code",
   "execution_count": 14,
   "id": "dc0fd601",
   "metadata": {},
   "outputs": [
    {
     "data": {
      "text/plain": [
       "'j'"
      ]
     },
     "execution_count": 14,
     "metadata": {},
     "output_type": "execute_result"
    }
   ],
   "source": [
    "name[5]"
   ]
  },
  {
   "cell_type": "code",
   "execution_count": 15,
   "id": "14e4aa48",
   "metadata": {},
   "outputs": [
    {
     "data": {
      "text/plain": [
       "'Gi'"
      ]
     },
     "execution_count": 15,
     "metadata": {},
     "output_type": "execute_result"
    }
   ],
   "source": [
    "name[0:2]"
   ]
  },
  {
   "cell_type": "code",
   "execution_count": 16,
   "id": "8934ed36",
   "metadata": {},
   "outputs": [
    {
     "data": {
      "text/plain": [
       "'ilajnatiG'"
      ]
     },
     "execution_count": 16,
     "metadata": {},
     "output_type": "execute_result"
    }
   ],
   "source": [
    "name[::-1]"
   ]
  },
  {
   "cell_type": "code",
   "execution_count": 17,
   "id": "3009a859",
   "metadata": {},
   "outputs": [
    {
     "data": {
      "text/plain": [
       "1"
      ]
     },
     "execution_count": 17,
     "metadata": {},
     "output_type": "execute_result"
    }
   ],
   "source": [
    "name.index('i')"
   ]
  },
  {
   "cell_type": "code",
   "execution_count": 18,
   "id": "9ffb2d4b",
   "metadata": {},
   "outputs": [
    {
     "data": {
      "text/plain": [
       "2"
      ]
     },
     "execution_count": 18,
     "metadata": {},
     "output_type": "execute_result"
    }
   ],
   "source": [
    "name.index('t')"
   ]
  },
  {
   "cell_type": "markdown",
   "id": "cf976935",
   "metadata": {},
   "source": [
    "# List"
   ]
  },
  {
   "cell_type": "code",
   "execution_count": 19,
   "id": "fd57bf8b",
   "metadata": {},
   "outputs": [
    {
     "data": {
      "text/plain": [
       "['Hello', 'World', 'Gitanjali', 1, 5, 6]"
      ]
     },
     "execution_count": 19,
     "metadata": {},
     "output_type": "execute_result"
    }
   ],
   "source": [
    "mylist=[\"Hello\",'World',\"Gitanjali\",1,5,6]\n",
    "mylist"
   ]
  },
  {
   "cell_type": "code",
   "execution_count": 30,
   "id": "eedc018e",
   "metadata": {},
   "outputs": [
    {
     "data": {
      "text/plain": [
       "[6, 5, 1, 'Gitanjali', 'World', 'Hello']"
      ]
     },
     "execution_count": 30,
     "metadata": {},
     "output_type": "execute_result"
    }
   ],
   "source": [
    "mylist.reverse()\n",
    "mylist"
   ]
  },
  {
   "cell_type": "code",
   "execution_count": 21,
   "id": "7e068130",
   "metadata": {},
   "outputs": [
    {
     "data": {
      "text/plain": [
       "[5]"
      ]
     },
     "execution_count": 21,
     "metadata": {},
     "output_type": "execute_result"
    }
   ],
   "source": [
    "mylist[1:2]"
   ]
  },
  {
   "cell_type": "code",
   "execution_count": 22,
   "id": "383aaf69",
   "metadata": {},
   "outputs": [
    {
     "data": {
      "text/plain": [
       "[6, 5, 1]"
      ]
     },
     "execution_count": 22,
     "metadata": {},
     "output_type": "execute_result"
    }
   ],
   "source": [
    "mylist[0:3]"
   ]
  },
  {
   "cell_type": "code",
   "execution_count": 31,
   "id": "75c70b01",
   "metadata": {},
   "outputs": [
    {
     "data": {
      "text/plain": [
       "['Hello', 'World', 'Gitanjali', 1, 5, 6]"
      ]
     },
     "execution_count": 31,
     "metadata": {},
     "output_type": "execute_result"
    }
   ],
   "source": [
    "mylist[::-1]"
   ]
  },
  {
   "cell_type": "code",
   "execution_count": 35,
   "id": "51a3dcf8",
   "metadata": {},
   "outputs": [
    {
     "data": {
      "text/plain": [
       "['KING', 5, 1, 'Gitanjali', 'World', 'Hello']"
      ]
     },
     "execution_count": 35,
     "metadata": {},
     "output_type": "execute_result"
    }
   ],
   "source": [
    "mylist[0]='KING'\n",
    "mylist"
   ]
  },
  {
   "cell_type": "code",
   "execution_count": 36,
   "id": "610b540a",
   "metadata": {},
   "outputs": [
    {
     "data": {
      "text/plain": [
       "['KING', 5, 3, 'Gitanjali', 'World', 'Hello']"
      ]
     },
     "execution_count": 36,
     "metadata": {},
     "output_type": "execute_result"
    }
   ],
   "source": [
    "mylist[2]=3\n",
    "mylist\n"
   ]
  },
  {
   "cell_type": "code",
   "execution_count": 46,
   "id": "4c9b7ccf",
   "metadata": {},
   "outputs": [
    {
     "data": {
      "text/plain": [
       "['KING', 5, 3, 'Gitanjali', 'World', 'Hello', 'okay', 'okay']"
      ]
     },
     "execution_count": 46,
     "metadata": {},
     "output_type": "execute_result"
    }
   ],
   "source": [
    "mylist.insert(0,'SAIF')\n",
    "mylist.append('okay')\n",
    "mylist.remove('SAIF')\n",
    "\n",
    "\n",
    "\n",
    "mylist"
   ]
  },
  {
   "cell_type": "markdown",
   "id": "3a6bec8a",
   "metadata": {},
   "source": [
    "# SET"
   ]
  },
  {
   "cell_type": "code",
   "execution_count": 16,
   "id": "5476883d",
   "metadata": {},
   "outputs": [
    {
     "data": {
      "text/plain": [
       "{1, 2, 3, 4, 5, 'Null'}"
      ]
     },
     "execution_count": 16,
     "metadata": {},
     "output_type": "execute_result"
    }
   ],
   "source": [
    "MYSET={1,2,3,4,4,'Null',5}\n",
    "MYSET\n"
   ]
  },
  {
   "cell_type": "markdown",
   "id": "0578a54f",
   "metadata": {},
   "source": [
    "# TUPLES\n"
   ]
  },
  {
   "cell_type": "code",
   "execution_count": 53,
   "id": "b2bae739",
   "metadata": {},
   "outputs": [
    {
     "data": {
      "text/plain": [
       "(1, 2, 3, 4, 'gitanjali', 'gitanjali', 'jump')"
      ]
     },
     "execution_count": 53,
     "metadata": {},
     "output_type": "execute_result"
    }
   ],
   "source": [
    "myTuple=(1,2,3,4,\"gitanjali\",\"gitanjali\",'jump')\n",
    "myTuple"
   ]
  },
  {
   "cell_type": "code",
   "execution_count": 55,
   "id": "e4e90fac",
   "metadata": {},
   "outputs": [
    {
     "data": {
      "text/plain": [
       "3"
      ]
     },
     "execution_count": 55,
     "metadata": {},
     "output_type": "execute_result"
    }
   ],
   "source": [
    "myTuple[2]"
   ]
  },
  {
   "cell_type": "code",
   "execution_count": 54,
   "id": "e4d4ae28",
   "metadata": {},
   "outputs": [
    {
     "data": {
      "text/plain": [
       "2"
      ]
     },
     "execution_count": 54,
     "metadata": {},
     "output_type": "execute_result"
    }
   ],
   "source": [
    "myTuple.count(\"gitanjali\")"
   ]
  },
  {
   "cell_type": "markdown",
   "id": "a5e7f68b",
   "metadata": {},
   "source": [
    "# DICTIONARY\n"
   ]
  },
  {
   "cell_type": "code",
   "execution_count": 57,
   "id": "5ecff4e4",
   "metadata": {},
   "outputs": [
    {
     "data": {
      "text/plain": [
       "{1: 'Python', 2: 'C++', 3: 'java'}"
      ]
     },
     "execution_count": 57,
     "metadata": {},
     "output_type": "execute_result"
    }
   ],
   "source": [
    "courses={1:\"Python\",2:\"C++\",3:\"java\"}\n",
    "courses"
   ]
  },
  {
   "cell_type": "code",
   "execution_count": 59,
   "id": "49bb9ac4",
   "metadata": {},
   "outputs": [
    {
     "data": {
      "text/plain": [
       "{1: 'jython', 2: 'C++', 3: 'java'}"
      ]
     },
     "execution_count": 59,
     "metadata": {},
     "output_type": "execute_result"
    }
   ],
   "source": [
    "courses[1]=\"jython\"\n",
    "courses"
   ]
  },
  {
   "cell_type": "code",
   "execution_count": 69,
   "id": "fa0bed81",
   "metadata": {},
   "outputs": [
    {
     "name": "stdout",
     "output_type": "stream",
     "text": [
      "None\n"
     ]
    }
   ],
   "source": [
    "print(courses.get('java'))\n"
   ]
  },
  {
   "cell_type": "code",
   "execution_count": 70,
   "id": "7445fbd9",
   "metadata": {},
   "outputs": [
    {
     "name": "stdout",
     "output_type": "stream",
     "text": [
      "jython\n"
     ]
    }
   ],
   "source": [
    "print(courses.get(1))"
   ]
  },
  {
   "cell_type": "code",
   "execution_count": 71,
   "id": "a9fa251f",
   "metadata": {},
   "outputs": [
    {
     "data": {
      "text/plain": [
       "range(0, 10)"
      ]
     },
     "execution_count": 71,
     "metadata": {},
     "output_type": "execute_result"
    }
   ],
   "source": [
    "range(10)"
   ]
  },
  {
   "cell_type": "code",
   "execution_count": 8,
   "id": "bd995bcb",
   "metadata": {},
   "outputs": [
    {
     "ename": "SyntaxError",
     "evalue": "invalid syntax (<ipython-input-8-01453d5d69b0>, line 1)",
     "output_type": "error",
     "traceback": [
      "\u001b[1;36m  File \u001b[1;32m\"<ipython-input-8-01453d5d69b0>\"\u001b[1;36m, line \u001b[1;32m1\u001b[0m\n\u001b[1;33m    list(for i in range(11))\u001b[0m\n\u001b[1;37m         ^\u001b[0m\n\u001b[1;31mSyntaxError\u001b[0m\u001b[1;31m:\u001b[0m invalid syntax\n"
     ]
    }
   ],
   "source": [
    "list(for i in range(11))\n"
   ]
  },
  {
   "cell_type": "code",
   "execution_count": 81,
   "id": "e46ed037",
   "metadata": {},
   "outputs": [
    {
     "data": {
      "text/plain": [
       "[[1, 2, 3, 4, 5], [6, 7, 8, 9, 10]]"
      ]
     },
     "execution_count": 81,
     "metadata": {},
     "output_type": "execute_result"
    }
   ],
   "source": [
    "a=[1,2,3,4,5]\n",
    "b=[6,7,8,9,10]\n",
    "c=[a,b]\n",
    "c"
   ]
  },
  {
   "cell_type": "code",
   "execution_count": 88,
   "id": "d08c4469",
   "metadata": {},
   "outputs": [],
   "source": [
    "x=10\n",
    "name=\"Phoebe\"\n"
   ]
  },
  {
   "cell_type": "code",
   "execution_count": 87,
   "id": "31bedf8b",
   "metadata": {
    "scrolled": true
   },
   "outputs": [
    {
     "data": {
      "text/plain": [
       "'10Phoebe'"
      ]
     },
     "execution_count": 87,
     "metadata": {},
     "output_type": "execute_result"
    }
   ],
   "source": [
    "str(x)+name"
   ]
  },
  {
   "cell_type": "markdown",
   "id": "6d24895c",
   "metadata": {},
   "source": [
    "# namedTuple"
   ]
  },
  {
   "cell_type": "code",
   "execution_count": 99,
   "id": "5fd12ef8",
   "metadata": {},
   "outputs": [
    {
     "name": "stdout",
     "output_type": "stream",
     "text": [
      "courses(name='data science', technology='python')\n",
      "courses(name='artificial Intelligence', technology='python')\n"
     ]
    }
   ],
   "source": [
    "from collections import namedtuple\n",
    "a=namedtuple('courses','name,technology')\n",
    "m=a('data science','python')\n",
    "print(m)\n",
    "s=a._make(['artificial Intelligence','python'])\n",
    "print(s)"
   ]
  },
  {
   "cell_type": "markdown",
   "id": "558d5081",
   "metadata": {},
   "source": [
    "# Deque\n"
   ]
  },
  {
   "cell_type": "code",
   "execution_count": 9,
   "id": "7505dc59",
   "metadata": {},
   "outputs": [
    {
     "name": "stdout",
     "output_type": "stream",
     "text": [
      "deque(['H', 'e', 'a', 'r', 't', 'f', 'e', 'l', 't'])\n"
     ]
    }
   ],
   "source": [
    "from collections import deque\n",
    "a=['H','e','a','r','t','f','e','l','t']\n",
    "d=deque(a)\n",
    "print(d)"
   ]
  },
  {
   "cell_type": "code",
   "execution_count": 10,
   "id": "ff9918fb",
   "metadata": {},
   "outputs": [
    {
     "data": {
      "text/plain": [
       "deque(['H', 'e', 'a', 'r', 't', 'f', 'e', 'l', 't', 'Truely'])"
      ]
     },
     "execution_count": 10,
     "metadata": {},
     "output_type": "execute_result"
    }
   ],
   "source": [
    "d.append(\"Truely\")  #appendleft()\n",
    "d"
   ]
  },
  {
   "cell_type": "code",
   "execution_count": 107,
   "id": "acb13643",
   "metadata": {},
   "outputs": [
    {
     "data": {
      "text/plain": [
       "deque(['Truely', 'H', 'e', 'a', 'r', 't', 'f', 'e', 'l', 'Truely'])"
      ]
     },
     "execution_count": 107,
     "metadata": {},
     "output_type": "execute_result"
    }
   ],
   "source": [
    "d.popleft()\n",
    "\n",
    "d"
   ]
  },
  {
   "cell_type": "code",
   "execution_count": 108,
   "id": "4cf1c4ac",
   "metadata": {},
   "outputs": [
    {
     "data": {
      "text/plain": [
       "deque(['Truely', 'H', 'e', 'a', 'r', 't', 'f', 'e', 'l', 't', 'Truely'])"
      ]
     },
     "execution_count": 108,
     "metadata": {},
     "output_type": "execute_result"
    }
   ],
   "source": [
    "d.insert(9,'t')\n",
    "d"
   ]
  },
  {
   "cell_type": "markdown",
   "id": "88c884c7",
   "metadata": {},
   "source": [
    "# ChainMap"
   ]
  },
  {
   "cell_type": "code",
   "execution_count": 109,
   "id": "9df30788",
   "metadata": {},
   "outputs": [
    {
     "name": "stdout",
     "output_type": "stream",
     "text": [
      "ChainMap({1: 'C++', 2: 'Python'}, {3: 'ML', 4: 'AI'})\n"
     ]
    }
   ],
   "source": [
    "from collections import ChainMap\n",
    "a={1:\"C++\",2:\"Python\"}\n",
    "b={3:\"ML\",4:\"AI\"}\n",
    "a1=ChainMap(a,b)\n",
    "print(a1)"
   ]
  },
  {
   "cell_type": "markdown",
   "id": "7697c60d",
   "metadata": {},
   "source": [
    "# Counter\n"
   ]
  },
  {
   "cell_type": "code",
   "execution_count": 13,
   "id": "05e519fd",
   "metadata": {},
   "outputs": [
    {
     "name": "stdout",
     "output_type": "stream",
     "text": [
      "Counter({3: 4, 2: 3, 1: 2, 4: 2, 5: 2, 6: 2})\n",
      "[1, 1, 2, 2, 2, 3, 3, 3, 3, 4, 4, 5, 5, 6, 6]\n"
     ]
    }
   ],
   "source": [
    "from collections import Counter\n",
    "a=[1,2,3,4,3,2,1,5,3,2,5,6,4,3,6]\n",
    "c=Counter(a)\n",
    "print(c)\n",
    "print(list(c.elements()))"
   ]
  },
  {
   "cell_type": "code",
   "execution_count": 113,
   "id": "6a83006e",
   "metadata": {},
   "outputs": [
    {
     "name": "stdout",
     "output_type": "stream",
     "text": [
      "[(3, 4), (2, 3), (1, 2), (4, 2), (5, 2), (6, 2)]\n"
     ]
    }
   ],
   "source": [
    "print(c.most_common())"
   ]
  },
  {
   "cell_type": "code",
   "execution_count": 15,
   "id": "58000b2d",
   "metadata": {},
   "outputs": [
    {
     "name": "stdout",
     "output_type": "stream",
     "text": [
      "None\n",
      "[(3, 4), (2, 3), (1, 2), (4, 2), (5, 2), (6, 2), ((2, 1), -1), ((6, 1), -1)]\n"
     ]
    }
   ],
   "source": [
    "sub=((2,1) , (6,1))\n",
    "print(c.subtract(sub))\n",
    "print(c.most_common())"
   ]
  },
  {
   "cell_type": "markdown",
   "id": "dac65795",
   "metadata": {},
   "source": [
    "# OrderDict"
   ]
  },
  {
   "cell_type": "code",
   "execution_count": 4,
   "id": "64044684",
   "metadata": {},
   "outputs": [
    {
     "name": "stdout",
     "output_type": "stream",
     "text": [
      "OrderedDict([(1, 'e'), (2, 'd'), (3, 'u'), (4, 'r'), (5, 'e'), (6, 'k'), (7, 'a')])\n",
      "odict_keys([1, 2, 3, 4, 5, 6, 7])\n",
      "odict_items([(1, 'e'), (2, 'd'), (3, 'u'), (4, 'r'), (5, 'e'), (6, 'k'), (7, 'a')])\n",
      "OrderedDict([(1, 'p'), (2, 'd'), (3, 'u'), (4, 'r'), (5, 'e'), (6, 'k'), (7, 'a'), (8, 'o')])\n"
     ]
    }
   ],
   "source": [
    "from collections import OrderedDict\n",
    "\n",
    "d=OrderedDict()\n",
    "d[1]='e'\n",
    "d[2]='d'\n",
    "d[3]='u'\n",
    "d[4]='r'\n",
    "d[5]='e'\n",
    "d[6]='k'\n",
    "\n",
    "\n",
    "d[7]='a'\n",
    "\n",
    "print(d)\n",
    "print(d.keys())\n",
    "print(d.items())\n",
    "\n",
    "d[1]='p'\n",
    "d[8]='o'\n",
    "print(d)"
   ]
  },
  {
   "cell_type": "code",
   "execution_count": 17,
   "id": "7786efcc",
   "metadata": {},
   "outputs": [
    {
     "name": "stdout",
     "output_type": "stream",
     "text": [
      "0\n"
     ]
    },
    {
     "ename": "KeyError",
     "evalue": "4",
     "output_type": "error",
     "traceback": [
      "\u001b[1;31m---------------------------------------------------------------------------\u001b[0m",
      "\u001b[1;31mKeyError\u001b[0m                                  Traceback (most recent call last)",
      "\u001b[1;32m<ipython-input-17-3d61226999db>\u001b[0m in \u001b[0;36m<module>\u001b[1;34m\u001b[0m\n\u001b[0;32m      7\u001b[0m \u001b[1;33m\u001b[0m\u001b[0m\n\u001b[0;32m      8\u001b[0m \u001b[0ma\u001b[0m\u001b[1;33m=\u001b[0m\u001b[1;33m{\u001b[0m\u001b[1;36m1\u001b[0m\u001b[1;33m:\u001b[0m\u001b[1;34m'python'\u001b[0m\u001b[1;33m,\u001b[0m\u001b[1;36m2\u001b[0m\u001b[1;33m:\u001b[0m\u001b[1;34m'java'\u001b[0m\u001b[1;33m,\u001b[0m\u001b[1;36m3\u001b[0m\u001b[1;33m:\u001b[0m\u001b[1;34m'ml'\u001b[0m\u001b[1;33m}\u001b[0m\u001b[1;33m\u001b[0m\u001b[1;33m\u001b[0m\u001b[0m\n\u001b[1;32m----> 9\u001b[1;33m \u001b[0mprint\u001b[0m\u001b[1;33m(\u001b[0m\u001b[0ma\u001b[0m\u001b[1;33m[\u001b[0m\u001b[1;36m4\u001b[0m\u001b[1;33m]\u001b[0m\u001b[1;33m)\u001b[0m\u001b[1;33m\u001b[0m\u001b[1;33m\u001b[0m\u001b[0m\n\u001b[0m",
      "\u001b[1;31mKeyError\u001b[0m: 4"
     ]
    }
   ],
   "source": [
    "from collections import defaultdict\n",
    "d=defaultdict(int)\n",
    "d[1]='python'\n",
    "d[2]='java'\n",
    "\n",
    "print(d[3])\n",
    "\n",
    "a={1:'python',2:'java',3:'ml'}\n",
    "print(a[4])"
   ]
  },
  {
   "cell_type": "markdown",
   "id": "e206acd5",
   "metadata": {},
   "source": [
    "# Arrays\n"
   ]
  },
  {
   "cell_type": "code",
   "execution_count": 29,
   "id": "8f5193f4",
   "metadata": {},
   "outputs": [
    {
     "name": "stdout",
     "output_type": "stream",
     "text": [
      "array('i', [1, 2, 3, 4, 5, 6])\n"
     ]
    },
    {
     "data": {
      "text/plain": [
       "3"
      ]
     },
     "execution_count": 29,
     "metadata": {},
     "output_type": "execute_result"
    }
   ],
   "source": [
    "import array as arr\n",
    "a=arr.array('i',[1,2,3,4,5,6])\n",
    "\n",
    "print(a)\n",
    "a[2]"
   ]
  },
  {
   "cell_type": "code",
   "execution_count": 30,
   "id": "579a9a82",
   "metadata": {},
   "outputs": [
    {
     "name": "stdout",
     "output_type": "stream",
     "text": [
      "array('i', [1, 2, 8, 4, 5, 6])\n"
     ]
    }
   ],
   "source": [
    "a[2]=8\n",
    "print(a)\n"
   ]
  },
  {
   "cell_type": "code",
   "execution_count": 32,
   "id": "187fc11e",
   "metadata": {},
   "outputs": [
    {
     "name": "stdout",
     "output_type": "stream",
     "text": [
      "array('i', [1, 2, 8, 4, 9, 6])\n"
     ]
    }
   ],
   "source": [
    "a[4]=9\n",
    "print(a)"
   ]
  },
  {
   "cell_type": "markdown",
   "id": "f14405b1",
   "metadata": {},
   "source": [
    "# Add elements"
   ]
  },
  {
   "cell_type": "code",
   "execution_count": 38,
   "id": "e24a017c",
   "metadata": {},
   "outputs": [
    {
     "data": {
      "text/plain": [
       "array('i', [1, 2, 3, 4, 5, 6, 7])"
      ]
     },
     "execution_count": 38,
     "metadata": {},
     "output_type": "execute_result"
    }
   ],
   "source": [
    "import array as arr\n",
    "a=arr.array('i',[1,2,3,4,5,6])\n",
    "d=a.append(7)\n",
    "a"
   ]
  },
  {
   "cell_type": "code",
   "execution_count": 39,
   "id": "4b854553",
   "metadata": {},
   "outputs": [
    {
     "data": {
      "text/plain": [
       "array('i', [1, 2, 3, 4, 5, 6, 7, 7, 8, 9, 0])"
      ]
     },
     "execution_count": 39,
     "metadata": {},
     "output_type": "execute_result"
    }
   ],
   "source": [
    "a.extend([7,8,9,0])\n",
    "a"
   ]
  },
  {
   "cell_type": "code",
   "execution_count": 45,
   "id": "64940ba0",
   "metadata": {},
   "outputs": [
    {
     "data": {
      "text/plain": [
       "array('i', [1, 2, 3, 4, 5, 6, 7, 12, 7, 8, 9, 0])"
      ]
     },
     "execution_count": 45,
     "metadata": {},
     "output_type": "execute_result"
    }
   ],
   "source": [
    "a.insert(7,12)\n",
    "\n",
    "a"
   ]
  },
  {
   "cell_type": "code",
   "execution_count": 46,
   "id": "e067b3e3",
   "metadata": {},
   "outputs": [
    {
     "data": {
      "text/plain": [
       "1"
      ]
     },
     "execution_count": 46,
     "metadata": {},
     "output_type": "execute_result"
    }
   ],
   "source": [
    "a.pop(0)\n"
   ]
  },
  {
   "cell_type": "code",
   "execution_count": 47,
   "id": "75e95f92",
   "metadata": {},
   "outputs": [],
   "source": [
    "a.remove(2)"
   ]
  },
  {
   "cell_type": "code",
   "execution_count": 48,
   "id": "328fb6ea",
   "metadata": {},
   "outputs": [
    {
     "data": {
      "text/plain": [
       "array('i', [3, 4, 5, 6, 7, 12, 7, 8, 9, 0])"
      ]
     },
     "execution_count": 48,
     "metadata": {},
     "output_type": "execute_result"
    }
   ],
   "source": [
    "a"
   ]
  },
  {
   "cell_type": "code",
   "execution_count": 54,
   "id": "3dea1397",
   "metadata": {},
   "outputs": [
    {
     "name": "stdout",
     "output_type": "stream",
     "text": [
      "array('i', [10, 20, 30, 40, 50, 60, 70, 80])\n"
     ]
    }
   ],
   "source": [
    "a1=arr.array('i',[10,20,30,40])\n",
    "a2=arr.array('i',[50,60,70,80])\n",
    "d=arr.array('i')\n",
    "d=a1+a2\n",
    "print(d)"
   ]
  },
  {
   "cell_type": "code",
   "execution_count": 55,
   "id": "ce415699",
   "metadata": {},
   "outputs": [
    {
     "data": {
      "text/plain": [
       "array('i', [10, 20, 30, 40])"
      ]
     },
     "execution_count": 55,
     "metadata": {},
     "output_type": "execute_result"
    }
   ],
   "source": [
    "d[0:4]"
   ]
  },
  {
   "cell_type": "code",
   "execution_count": 56,
   "id": "2b3a2997",
   "metadata": {},
   "outputs": [
    {
     "data": {
      "text/plain": [
       "array('i', [10, 20, 30, 40, 50, 60, 70])"
      ]
     },
     "execution_count": 56,
     "metadata": {},
     "output_type": "execute_result"
    }
   ],
   "source": [
    "d[0:-1]"
   ]
  },
  {
   "cell_type": "code",
   "execution_count": 57,
   "id": "21e1773b",
   "metadata": {},
   "outputs": [
    {
     "data": {
      "text/plain": [
       "array('i', [80, 70, 60, 50, 40, 30, 20, 10])"
      ]
     },
     "execution_count": 57,
     "metadata": {},
     "output_type": "execute_result"
    }
   ],
   "source": [
    "d[::-1]"
   ]
  },
  {
   "cell_type": "code",
   "execution_count": 58,
   "id": "9a98afd0",
   "metadata": {},
   "outputs": [
    {
     "data": {
      "text/plain": [
       "array('i', [10, 20, 30, 40, 50, 60, 70, 80])"
      ]
     },
     "execution_count": 58,
     "metadata": {},
     "output_type": "execute_result"
    }
   ],
   "source": [
    "d"
   ]
  },
  {
   "cell_type": "code",
   "execution_count": 59,
   "id": "b4423475",
   "metadata": {},
   "outputs": [
    {
     "name": "stdout",
     "output_type": "stream",
     "text": [
      "10 20 30 40 50 60 70 80 "
     ]
    }
   ],
   "source": [
    "for x in d:\n",
    "    print(x,end=\" \")"
   ]
  },
  {
   "cell_type": "code",
   "execution_count": 60,
   "id": "ac9266a4",
   "metadata": {},
   "outputs": [
    {
     "name": "stdout",
     "output_type": "stream",
     "text": [
      "10 20 30 "
     ]
    }
   ],
   "source": [
    "for x in d[0:3]:\n",
    "    print(x,end=\" \")"
   ]
  },
  {
   "cell_type": "code",
   "execution_count": 61,
   "id": "d17df646",
   "metadata": {},
   "outputs": [
    {
     "data": {
      "text/plain": [
       "array('i', [10, 20, 30, 40, 50, 60, 70, 80])"
      ]
     },
     "execution_count": 61,
     "metadata": {},
     "output_type": "execute_result"
    }
   ],
   "source": [
    "d\n"
   ]
  },
  {
   "cell_type": "code",
   "execution_count": 68,
   "id": "607dbdaf",
   "metadata": {},
   "outputs": [
    {
     "name": "stdout",
     "output_type": "stream",
     "text": [
      "10 40 70 "
     ]
    }
   ],
   "source": [
    "temp=0\n",
    "while temp<len(d):\n",
    "    print(d[temp], end=\" \")\n",
    "    temp+=3"
   ]
  },
  {
   "cell_type": "markdown",
   "id": "5c9f7d3d",
   "metadata": {},
   "source": [
    "# Dictionaries\n"
   ]
  },
  {
   "cell_type": "code",
   "execution_count": 1,
   "id": "37ae23e2",
   "metadata": {},
   "outputs": [
    {
     "name": "stdout",
     "output_type": "stream",
     "text": [
      "{'Dev': '001', 'Joey': '002'}\n"
     ]
    },
    {
     "data": {
      "text/plain": [
       "dict"
      ]
     },
     "execution_count": 1,
     "metadata": {},
     "output_type": "execute_result"
    }
   ],
   "source": [
    "my_dict={\"Dev\":\"001\",\"Joey\":\"002\"}\n",
    "print(my_dict)\n",
    "type(my_dict)\n"
   ]
  },
  {
   "cell_type": "code",
   "execution_count": 2,
   "id": "b2acfb5d",
   "metadata": {},
   "outputs": [
    {
     "name": "stdout",
     "output_type": "stream",
     "text": [
      "{}\n"
     ]
    },
    {
     "data": {
      "text/plain": [
       "dict"
      ]
     },
     "execution_count": 2,
     "metadata": {},
     "output_type": "execute_result"
    }
   ],
   "source": [
    "new_dict=dict()\n",
    "print(new_dict)\n",
    "type(new_dict)\n"
   ]
  },
  {
   "cell_type": "code",
   "execution_count": 6,
   "id": "e1a4bd07",
   "metadata": {},
   "outputs": [
    {
     "name": "stdout",
     "output_type": "stream",
     "text": [
      "{'Dev': '001', 'Joey': '002', 'Lobo': '003'}\n"
     ]
    },
    {
     "data": {
      "text/plain": [
       "dict"
      ]
     },
     "execution_count": 6,
     "metadata": {},
     "output_type": "execute_result"
    }
   ],
   "source": [
    "new_dict=dict(Dev=\"001\",Joey=\"002\",Lobo=\"003\")\n",
    "print(new_dict)\n",
    "type(new_dict)"
   ]
  },
  {
   "cell_type": "code",
   "execution_count": 42,
   "id": "7f944b62",
   "metadata": {},
   "outputs": [
    {
     "name": "stdout",
     "output_type": "stream",
     "text": [
      "{'Employee': {'Dev': {'id': '001', 'salary': '25000', 'Design': 'Cheif Manager'}, 'Joey': {'id': '002', 'salary': '12000', 'Design': 'HR'}}}\n"
     ]
    },
    {
     "data": {
      "text/plain": [
       "dict"
      ]
     },
     "execution_count": 42,
     "metadata": {},
     "output_type": "execute_result"
    }
   ],
   "source": [
    "emp_details={'Employee':{'Dev':{'id':'001','salary':\"25000\",'Design':'Cheif Manager'},'Joey':{'id':'002','salary':'12000','Design':'HR'}}}\n",
    "print(emp_details)\n",
    "type(emp_details)"
   ]
  },
  {
   "cell_type": "markdown",
   "id": "0b5babe1",
   "metadata": {},
   "source": [
    "# HashMap and HashFunction\n"
   ]
  },
  {
   "cell_type": "code",
   "execution_count": 9,
   "id": "65d3516e",
   "metadata": {},
   "outputs": [
    {
     "data": {
      "text/plain": [
       "'001'"
      ]
     },
     "execution_count": 9,
     "metadata": {},
     "output_type": "execute_result"
    }
   ],
   "source": [
    "new_dict['Dev']"
   ]
  },
  {
   "cell_type": "code",
   "execution_count": 16,
   "id": "9962ae44",
   "metadata": {},
   "outputs": [
    {
     "name": "stdout",
     "output_type": "stream",
     "text": [
      "dict_keys(['Dev', 'Joey', 'Lobo'])\n"
     ]
    }
   ],
   "source": [
    "print(new_dict.keys())"
   ]
  },
  {
   "cell_type": "code",
   "execution_count": 17,
   "id": "e96914b6",
   "metadata": {},
   "outputs": [
    {
     "name": "stdout",
     "output_type": "stream",
     "text": [
      "dict_values(['001', '002', '003'])\n"
     ]
    }
   ],
   "source": [
    "print(new_dict.values())"
   ]
  },
  {
   "cell_type": "code",
   "execution_count": 18,
   "id": "da100536",
   "metadata": {},
   "outputs": [
    {
     "name": "stdout",
     "output_type": "stream",
     "text": [
      "001\n"
     ]
    }
   ],
   "source": [
    "print(new_dict.get('Dev'))"
   ]
  },
  {
   "cell_type": "code",
   "execution_count": 20,
   "id": "ce558b65",
   "metadata": {},
   "outputs": [
    {
     "name": "stdout",
     "output_type": "stream",
     "text": [
      "Dev Joey Lobo "
     ]
    }
   ],
   "source": [
    "for i in new_dict:\n",
    "    print(i,end=\" \")"
   ]
  },
  {
   "cell_type": "code",
   "execution_count": 22,
   "id": "3895e38e",
   "metadata": {},
   "outputs": [
    {
     "name": "stdout",
     "output_type": "stream",
     "text": [
      "001 002 003 "
     ]
    }
   ],
   "source": [
    "for i in new_dict.values():\n",
    "    print(i,end=\" \")"
   ]
  },
  {
   "cell_type": "code",
   "execution_count": 23,
   "id": "50f78cb1",
   "metadata": {},
   "outputs": [
    {
     "name": "stdout",
     "output_type": "stream",
     "text": [
      "Dev 001\n",
      "Joey 002\n",
      "Lobo 003\n"
     ]
    }
   ],
   "source": [
    "for x,y in new_dict.items():\n",
    "    print(x,y)"
   ]
  },
  {
   "cell_type": "code",
   "execution_count": 24,
   "id": "a32c32de",
   "metadata": {},
   "outputs": [
    {
     "data": {
      "text/plain": [
       "{'Dev': '004', 'Joey': '002', 'Lobo': '003', 'Chris': '005'}"
      ]
     },
     "execution_count": 24,
     "metadata": {},
     "output_type": "execute_result"
    }
   ],
   "source": [
    "new_dict['Dev']='004'\n",
    "new_dict['Chris']='005'\n",
    "new_dict"
   ]
  },
  {
   "cell_type": "code",
   "execution_count": 31,
   "id": "4633210a",
   "metadata": {},
   "outputs": [
    {
     "data": {
      "text/plain": [
       "'004'"
      ]
     },
     "execution_count": 31,
     "metadata": {},
     "output_type": "execute_result"
    }
   ],
   "source": [
    "new_dict={'Dev': '004', 'Joey': '002', 'Lobo': '003', 'Chris': '005'}\n",
    "new_dict.pop('Dev')\n"
   ]
  },
  {
   "cell_type": "code",
   "execution_count": 36,
   "id": "59afea6b",
   "metadata": {},
   "outputs": [
    {
     "data": {
      "text/plain": [
       "('Chris', '005')"
      ]
     },
     "execution_count": 36,
     "metadata": {},
     "output_type": "execute_result"
    }
   ],
   "source": [
    "new_dict.popitem()"
   ]
  },
  {
   "cell_type": "code",
   "execution_count": 37,
   "id": "d1e688c9",
   "metadata": {},
   "outputs": [],
   "source": [
    "new_dict={'Dev': '004', 'Joey': '002', 'Lobo': '003', 'Chris': '005'}\n",
    "del new_dict['Dev']"
   ]
  },
  {
   "cell_type": "code",
   "execution_count": 38,
   "id": "ff8ae4dd",
   "metadata": {},
   "outputs": [
    {
     "name": "stdout",
     "output_type": "stream",
     "text": [
      "{'Joey': '002', 'Lobo': '003', 'Chris': '005'}\n"
     ]
    }
   ],
   "source": [
    "print(new_dict)"
   ]
  },
  {
   "cell_type": "markdown",
   "id": "51950c15",
   "metadata": {},
   "source": [
    "# Dict to Df"
   ]
  },
  {
   "cell_type": "code",
   "execution_count": 40,
   "id": "48b801e7",
   "metadata": {},
   "outputs": [
    {
     "data": {
      "text/html": [
       "<div>\n",
       "<style scoped>\n",
       "    .dataframe tbody tr th:only-of-type {\n",
       "        vertical-align: middle;\n",
       "    }\n",
       "\n",
       "    .dataframe tbody tr th {\n",
       "        vertical-align: top;\n",
       "    }\n",
       "\n",
       "    .dataframe thead th {\n",
       "        text-align: right;\n",
       "    }\n",
       "</style>\n",
       "<table border=\"1\" class=\"dataframe\">\n",
       "  <thead>\n",
       "    <tr style=\"text-align: right;\">\n",
       "      <th></th>\n",
       "      <th>Dev</th>\n",
       "      <th>Joey</th>\n",
       "    </tr>\n",
       "  </thead>\n",
       "  <tbody>\n",
       "    <tr>\n",
       "      <th>id</th>\n",
       "      <td>001</td>\n",
       "      <td>002</td>\n",
       "    </tr>\n",
       "    <tr>\n",
       "      <th>salary</th>\n",
       "      <td>25000</td>\n",
       "      <td>12000</td>\n",
       "    </tr>\n",
       "    <tr>\n",
       "      <th>Design</th>\n",
       "      <td>Cheif Manager</td>\n",
       "      <td>HR</td>\n",
       "    </tr>\n",
       "  </tbody>\n",
       "</table>\n",
       "</div>"
      ],
      "text/plain": [
       "                  Dev   Joey\n",
       "id                001    002\n",
       "salary          25000  12000\n",
       "Design  Cheif Manager     HR"
      ]
     },
     "execution_count": 40,
     "metadata": {},
     "output_type": "execute_result"
    }
   ],
   "source": [
    "import pandas as pd\n",
    "df=pd.DataFrame(emp_details['Employee'])\n",
    "df"
   ]
  },
  {
   "cell_type": "markdown",
   "id": "803c083d",
   "metadata": {},
   "source": [
    "# Identity Operators"
   ]
  },
  {
   "cell_type": "code",
   "execution_count": 47,
   "id": "0cc41a42",
   "metadata": {},
   "outputs": [
    {
     "data": {
      "text/plain": [
       "True"
      ]
     },
     "execution_count": 47,
     "metadata": {},
     "output_type": "execute_result"
    }
   ],
   "source": [
    "list1=[10,20,30]\n",
    "list2=[10,30,20]\n",
    "x=list1\n",
    "x is list1"
   ]
  },
  {
   "cell_type": "code",
   "execution_count": 44,
   "id": "0ec15178",
   "metadata": {},
   "outputs": [
    {
     "data": {
      "text/plain": [
       "False"
      ]
     },
     "execution_count": 44,
     "metadata": {},
     "output_type": "execute_result"
    }
   ],
   "source": [
    "list1 is list2"
   ]
  },
  {
   "cell_type": "code",
   "execution_count": 45,
   "id": "29a911fa",
   "metadata": {},
   "outputs": [
    {
     "data": {
      "text/plain": [
       "True"
      ]
     },
     "execution_count": 45,
     "metadata": {},
     "output_type": "execute_result"
    }
   ],
   "source": [
    "list is not list2"
   ]
  },
  {
   "cell_type": "markdown",
   "id": "1397f7ea",
   "metadata": {},
   "source": [
    "# Membership Operators"
   ]
  },
  {
   "cell_type": "code",
   "execution_count": 52,
   "id": "196f4db7",
   "metadata": {},
   "outputs": [
    {
     "data": {
      "text/plain": [
       "True"
      ]
     },
     "execution_count": 52,
     "metadata": {},
     "output_type": "execute_result"
    }
   ],
   "source": [
    "list1=[10,20,30]\n",
    "list2=[[10,20,30],40,50,60]\n",
    "20 in list1\n"
   ]
  },
  {
   "cell_type": "code",
   "execution_count": 49,
   "id": "5a631487",
   "metadata": {},
   "outputs": [
    {
     "data": {
      "text/plain": [
       "False"
      ]
     },
     "execution_count": 49,
     "metadata": {},
     "output_type": "execute_result"
    }
   ],
   "source": [
    "70 in list2"
   ]
  },
  {
   "cell_type": "code",
   "execution_count": 50,
   "id": "f5e51261",
   "metadata": {},
   "outputs": [
    {
     "data": {
      "text/plain": [
       "True"
      ]
     },
     "execution_count": 50,
     "metadata": {},
     "output_type": "execute_result"
    }
   ],
   "source": [
    "30.0 in list1"
   ]
  },
  {
   "cell_type": "code",
   "execution_count": 53,
   "id": "d6cf3d68",
   "metadata": {},
   "outputs": [
    {
     "data": {
      "text/plain": [
       "True"
      ]
     },
     "execution_count": 53,
     "metadata": {},
     "output_type": "execute_result"
    }
   ],
   "source": [
    "list1 in list2"
   ]
  },
  {
   "cell_type": "markdown",
   "id": "a333649f",
   "metadata": {},
   "source": [
    "# Bitwise Operators"
   ]
  },
  {
   "cell_type": "code",
   "execution_count": 54,
   "id": "a987c62f",
   "metadata": {},
   "outputs": [
    {
     "data": {
      "text/plain": [
       "8"
      ]
     },
     "execution_count": 54,
     "metadata": {},
     "output_type": "execute_result"
    }
   ],
   "source": [
    "10 & 12"
   ]
  },
  {
   "cell_type": "code",
   "execution_count": 55,
   "id": "24488958",
   "metadata": {},
   "outputs": [
    {
     "data": {
      "text/plain": [
       "14"
      ]
     },
     "execution_count": 55,
     "metadata": {},
     "output_type": "execute_result"
    }
   ],
   "source": [
    "10 | 12"
   ]
  },
  {
   "cell_type": "code",
   "execution_count": 56,
   "id": "30199650",
   "metadata": {},
   "outputs": [
    {
     "data": {
      "text/plain": [
       "2"
      ]
     },
     "execution_count": 56,
     "metadata": {},
     "output_type": "execute_result"
    }
   ],
   "source": [
    "10>>2"
   ]
  },
  {
   "cell_type": "code",
   "execution_count": 57,
   "id": "db4a8fb8",
   "metadata": {},
   "outputs": [
    {
     "data": {
      "text/plain": [
       "40"
      ]
     },
     "execution_count": 57,
     "metadata": {},
     "output_type": "execute_result"
    }
   ],
   "source": [
    "10<<2"
   ]
  },
  {
   "cell_type": "code",
   "execution_count": 58,
   "id": "18f5a42a",
   "metadata": {},
   "outputs": [
    {
     "data": {
      "text/plain": [
       "8"
      ]
     },
     "execution_count": 58,
     "metadata": {},
     "output_type": "execute_result"
    }
   ],
   "source": [
    "10^2"
   ]
  },
  {
   "cell_type": "code",
   "execution_count": 60,
   "id": "a329d6f4",
   "metadata": {},
   "outputs": [
    {
     "data": {
      "text/plain": [
       "-11"
      ]
     },
     "execution_count": 60,
     "metadata": {},
     "output_type": "execute_result"
    }
   ],
   "source": [
    "~10"
   ]
  },
  {
   "cell_type": "code",
   "execution_count": 61,
   "id": "4a946b45",
   "metadata": {},
   "outputs": [
    {
     "data": {
      "text/plain": [
       "-3"
      ]
     },
     "execution_count": 61,
     "metadata": {},
     "output_type": "execute_result"
    }
   ],
   "source": [
    "~2"
   ]
  },
  {
   "cell_type": "markdown",
   "id": "6820124f",
   "metadata": {},
   "source": [
    "# Pythagorean Numbers\n"
   ]
  },
  {
   "cell_type": "code",
   "execution_count": 18,
   "id": "762dd0b0",
   "metadata": {},
   "outputs": [
    {
     "name": "stdout",
     "output_type": "stream",
     "text": [
      "Enter maximal number:8\n",
      "3 4 5\n",
      "4 3 5\n",
      "8 6 10\n"
     ]
    }
   ],
   "source": [
    "import math as m\n",
    "num=int(input('Enter maximal number:'))\n",
    "for a in range(1,num+1):\n",
    "    for b in range(1,num):\n",
    "        c_square=a**2+b**2\n",
    "        c=int(m.sqrt(c_square))\n",
    "        if((c_square-c**2)==0):\n",
    "          print(a,b,c)"
   ]
  },
  {
   "cell_type": "code",
   "execution_count": 2,
   "id": "0c1a69e0",
   "metadata": {},
   "outputs": [
    {
     "data": {
      "text/plain": [
       "225"
      ]
     },
     "execution_count": 2,
     "metadata": {},
     "output_type": "execute_result"
    }
   ],
   "source": [
    "144+81\n"
   ]
  },
  {
   "cell_type": "markdown",
   "id": "45f397c0",
   "metadata": {},
   "source": [
    "# File Handling"
   ]
  },
  {
   "cell_type": "code",
   "execution_count": 5,
   "id": "d8a7b954",
   "metadata": {},
   "outputs": [
    {
     "name": "stdout",
     "output_type": "stream",
     "text": [
      "\n",
      "\n"
     ]
    }
   ],
   "source": [
    "'''File Handling Example 1'''\n",
    "import os\n",
    "#file = open(\"C:\\Users\\LENOVO\\Desktop\\Python\\.ipynb_checkpoints\\Demo1.txt\",'w')\n",
    "file = open(\"Demo1.txt\",'w')\n",
    "file.close()\n",
    "\n",
    "'''File Handling Example 2'''\n",
    "import os\n",
    "#file = open(\"C:\\Users\\LENOVO\\Desktop\\Python\\.ipynb_checkpoints\\Demo1.txt\",'r')\n",
    "file = open(\"Demo1.txt\",'r')\n",
    "print(file.read())\n",
    "file.close()\n",
    "\n",
    "'''File handling Example 3'''\n",
    "\n",
    "import os\n",
    "#file=open(\"C:\\Users\\LENOVO\\Desktop\\Python\\.ipynb_checkpoints\\Demo1.txt\",'r')\n",
    "file = open(\"Demo1.txt\",'r')\n",
    "print(file.read(5))\n",
    "file.close()\n"
   ]
  },
  {
   "cell_type": "code",
   "execution_count": 4,
   "id": "2e661428",
   "metadata": {},
   "outputs": [
    {
     "name": "stdout",
     "output_type": "stream",
     "text": [
      "Enter the length of side1: 3\n",
      "Enter the length of side2: 4\n",
      "Enter the length of side3: 5\n",
      "Details(Area=6.0, Perimeter=12.0)\n"
     ]
    }
   ],
   "source": [
    "import math as m\n",
    "from collections import namedtuple\n",
    "\n",
    "def area(s1, s2, s3):\n",
    "    s = (s1+s2+s3)/2\n",
    "    area = m.sqrt(s*(s-s1)*(s-s2)*(s-s3))\n",
    "    return area\n",
    "\n",
    "\n",
    "def perimeter(s1, s2, s3):\n",
    "\n",
    "    perimeter = s1+s2+s3\n",
    "    return perimeter\n",
    "\n",
    "\n",
    "side1 = float(input(\"Enter the length of side1: \"))\n",
    "side2 = float(input(\"Enter the length of side2: \"))\n",
    "side3 = float(input(\"Enter the length of side3: \"))\n",
    "\n",
    "#from collections import namedtuple\n",
    "\n",
    "result = namedtuple('Details', 'Area,Perimeter')\n",
    "info = result(area(side1, side2, side3), perimeter(side1, side2, side3))\n",
    "#info = result._make([area(side1, side2, side3), perimeter(side1, side2, side3)])\n",
    "print(info)"
   ]
  },
  {
   "cell_type": "markdown",
   "id": "f4f30cd9",
   "metadata": {},
   "source": [
    "# Decorators and functions"
   ]
  },
  {
   "cell_type": "code",
   "execution_count": 5,
   "id": "6d537402",
   "metadata": {},
   "outputs": [
    {
     "name": "stdout",
     "output_type": "stream",
     "text": [
      "Hello\n",
      "Pythonista\n",
      "Welcome to the code\n"
     ]
    }
   ],
   "source": [
    "def function1(function):\n",
    "    def wrapper():\n",
    "        print(\"Hello\")\n",
    "        function()\n",
    "        print(\"Welcome to the code\")\n",
    "    return wrapper\n",
    "@function1            #Decorator\n",
    "def function2():\n",
    "        print(\"Pythonista\")\n",
    " \n",
    "#function2 = function1(function2)\n",
    "function2()"
   ]
  },
  {
   "cell_type": "code",
   "execution_count": 12,
   "id": "93b3832c",
   "metadata": {},
   "outputs": [
    {
     "name": "stdout",
     "output_type": "stream",
     "text": [
      "True\n"
     ]
    }
   ],
   "source": [
    "import functools\n",
    "def singleton(cls):\n",
    "    @functools.wraps(cls)\n",
    "    def wrapper(*args,**kwargs):\n",
    "        if not wrapper.instance:\n",
    "             wrapper.instance=cls(*args,*kwargs)\n",
    "        return wrapper.instance\n",
    "    wrapper.instance=None\n",
    "    return wrapper\n",
    "\n",
    "@singleton\n",
    "class one:\n",
    "    pass\n",
    "\n",
    "first = one()\n",
    "second = one()\n",
    "print(first is second)"
   ]
  },
  {
   "cell_type": "markdown",
   "id": "a3d7a3bb",
   "metadata": {},
   "source": [
    "# Lambda within user defined function\n"
   ]
  },
  {
   "cell_type": "code",
   "execution_count": 11,
   "id": "897823de",
   "metadata": {},
   "outputs": [
    {
     "name": "stdout",
     "output_type": "stream",
     "text": [
      "6\n",
      "9\n"
     ]
    }
   ],
   "source": [
    "def A(x):\n",
    "    return (lambda y:x+y)\n",
    "t=A(3)\n",
    "\n",
    "print(t(4))\n"
   ]
  },
  {
   "cell_type": "markdown",
   "id": "8f86ff3a",
   "metadata": {},
   "source": [
    "## Lambda within filter()"
   ]
  },
  {
   "cell_type": "code",
   "execution_count": 13,
   "id": "afb085ff",
   "metadata": {},
   "outputs": [
    {
     "name": "stdout",
     "output_type": "stream",
     "text": [
      "[2, 4, 6]\n"
     ]
    }
   ],
   "source": [
    "mylist=[1,2,3,4,5,6]\n",
    "newlist=list(filter(lambda a:(a%2==0),mylist))      #SYNTAX: filter(function, interables)\n",
    "print(newlist)"
   ]
  },
  {
   "cell_type": "code",
   "execution_count": 17,
   "id": "f799d6b4",
   "metadata": {},
   "outputs": [
    {
     "name": "stdout",
     "output_type": "stream",
     "text": [
      "[2, 4, 6, 8, 9, 3, 12, 30]\n"
     ]
    }
   ],
   "source": [
    "mylist=[2,4,6,7,8,9,17,3,12,5,19,30]\n",
    "newlist=list(filter(lambda a:(a%2==0 or a%3==0),mylist))\n",
    "print(newlist)"
   ]
  },
  {
   "cell_type": "markdown",
   "id": "e9b72897",
   "metadata": {},
   "source": [
    "## Lambda within map()"
   ]
  },
  {
   "cell_type": "code",
   "execution_count": 18,
   "id": "1af93c1a",
   "metadata": {},
   "outputs": [
    {
     "name": "stdout",
     "output_type": "stream",
     "text": [
      "[True, True, True, True, True, False]\n"
     ]
    }
   ],
   "source": [
    "# map(func,iterables)\n",
    "mylist=[1,2,3,4,5,6]\n",
    "p=list(map(lambda a:(a/3!=2),mylist))\n",
    "print(p)"
   ]
  },
  {
   "cell_type": "code",
   "execution_count": 21,
   "id": "a97fb975",
   "metadata": {},
   "outputs": [
    {
     "name": "stdout",
     "output_type": "stream",
     "text": [
      "[False, False, True, False, False, False, False, False, True, False, False, True]\n"
     ]
    }
   ],
   "source": [
    "mylist=[2,4,6,7,8,9,17,3,12,5,19,30]\n",
    "newlist=list(map(lambda a:(a%2==0 and a%3==0),mylist))\n",
    "print(newlist)"
   ]
  },
  {
   "cell_type": "markdown",
   "id": "7de184c2",
   "metadata": {},
   "source": [
    "## Lambda within reduce()"
   ]
  },
  {
   "cell_type": "code",
   "execution_count": 22,
   "id": "d9372a59",
   "metadata": {},
   "outputs": [
    {
     "data": {
      "text/plain": [
       "5765"
      ]
     },
     "execution_count": 22,
     "metadata": {},
     "output_type": "execute_result"
    }
   ],
   "source": [
    "#reduce(func,sequence)\n",
    "from functools import reduce \n",
    "reduce(lambda a,b: a+b,[23,5643,98,1])"
   ]
  },
  {
   "cell_type": "markdown",
   "id": "d0de063e",
   "metadata": {},
   "source": [
    "### Algebraic"
   ]
  },
  {
   "cell_type": "code",
   "execution_count": 24,
   "id": "95858b9e",
   "metadata": {},
   "outputs": [
    {
     "name": "stdout",
     "output_type": "stream",
     "text": [
      "36\n"
     ]
    }
   ],
   "source": [
    "# (a+b)^2\n",
    "\n",
    "result=lambda a,b:(a+b)**2\n",
    "\n",
    "print(result(2,4))"
   ]
  },
  {
   "cell_type": "markdown",
   "id": "b14897bb",
   "metadata": {},
   "source": [
    "## Map\n"
   ]
  },
  {
   "cell_type": "code",
   "execution_count": 21,
   "id": "175aecda",
   "metadata": {},
   "outputs": [
    {
     "name": "stdout",
     "output_type": "stream",
     "text": [
      "<map object at 0x0000025FCC4E80A0>\n",
      "[1, 4, 9, 16]\n"
     ]
    }
   ],
   "source": [
    "#map(func,iterables)\n",
    "\n",
    "def new(a):\n",
    "    return a*a\n",
    "x=map(new,[1,2,3,4])\n",
    "print(x)\n",
    "print(list(x))"
   ]
  },
  {
   "cell_type": "code",
   "execution_count": 27,
   "id": "f1dc7609",
   "metadata": {},
   "outputs": [
    {
     "name": "stdout",
     "output_type": "stream",
     "text": [
      "<map object at 0x00000235927E5430>\n",
      "[4, 12, 24, 40]\n"
     ]
    }
   ],
   "source": [
    "def new(a,b):\n",
    "    return a*b\n",
    "x=map(new,[1,2,3,4],[4,6,8,10])\n",
    "print(x)\n",
    "print(list(x))"
   ]
  },
  {
   "cell_type": "code",
   "execution_count": 23,
   "id": "34a9e09b",
   "metadata": {},
   "outputs": [
    {
     "name": "stdout",
     "output_type": "stream",
     "text": [
      "[3, 6, 9, 12, 15]\n"
     ]
    }
   ],
   "source": [
    "lst1=[1,2,3,4,5]\n",
    "lst2=[2,4,6,8,10]\n",
    "y=list(map(lambda a,b:a+b,lst1,lst2))\n",
    "print(y)"
   ]
  },
  {
   "cell_type": "markdown",
   "id": "f2619c8a",
   "metadata": {},
   "source": [
    "## Filter() "
   ]
  },
  {
   "cell_type": "code",
   "execution_count": 30,
   "id": "f2df39e2",
   "metadata": {},
   "outputs": [
    {
     "name": "stdout",
     "output_type": "stream",
     "text": [
      "<filter object at 0x00000235927E5E80>\n",
      "(3, 4, 5, 6, 7, 8)\n"
     ]
    }
   ],
   "source": [
    "def new(i):\n",
    "    if i>=3:\n",
    "        return i\n",
    "j=filter(new,[1,2,3,4,5,6,7,8])\n",
    "print(j)\n",
    "print(tuple(j))"
   ]
  },
  {
   "cell_type": "code",
   "execution_count": 32,
   "id": "34b43155",
   "metadata": {},
   "outputs": [
    {
     "name": "stdout",
     "output_type": "stream",
     "text": [
      "[1, 2, 3, 4, 5, 6, 7, 8]\n"
     ]
    }
   ],
   "source": [
    "z=filter(lambda x:x+3,[1,2,3,4,5,6,7,8])\n",
    "print(list(z))"
   ]
  },
  {
   "cell_type": "markdown",
   "id": "a1b6a6b2",
   "metadata": {},
   "source": [
    "## Reduce"
   ]
  },
  {
   "cell_type": "code",
   "execution_count": 33,
   "id": "fced3112",
   "metadata": {},
   "outputs": [
    {
     "name": "stdout",
     "output_type": "stream",
     "text": [
      "126\n"
     ]
    }
   ],
   "source": [
    "from functools import reduce\n",
    "def a(x,y):\n",
    "    return x+y\n",
    "s=reduce(a,[1,23,4,5,6,78,9])\n",
    "print(s)"
   ]
  },
  {
   "cell_type": "code",
   "execution_count": 34,
   "id": "5d908e71",
   "metadata": {},
   "outputs": [
    {
     "name": "stdout",
     "output_type": "stream",
     "text": [
      "1937520\n"
     ]
    }
   ],
   "source": [
    "from functools import reduce\n",
    "z=reduce(lambda x,y:x*y,[1,23,4,5,6,78,9])\n",
    "print(z)"
   ]
  },
  {
   "cell_type": "markdown",
   "id": "92b63d84",
   "metadata": {},
   "source": [
    "## filter with map"
   ]
  },
  {
   "cell_type": "code",
   "execution_count": 43,
   "id": "53617f7c",
   "metadata": {},
   "outputs": [
    {
     "name": "stdout",
     "output_type": "stream",
     "text": [
      "(6, 10, 12, 14, 16, 18, 20)\n"
     ]
    }
   ],
   "source": [
    "c=map(lambda x:x+x,filter(lambda x:(x>=3),[1,2,3,5,6,7,8,9,10]))\n",
    "print(tuple(c))"
   ]
  },
  {
   "cell_type": "code",
   "execution_count": 41,
   "id": "329b55ca",
   "metadata": {},
   "outputs": [
    {
     "name": "stdout",
     "output_type": "stream",
     "text": [
      "(12, 13)\n"
     ]
    }
   ],
   "source": [
    "c=filter(lambda x:(x>=12),map(lambda x:x+3,[1,2,3,4,5,6,7,8,9,10]))\n",
    "print(tuple(c))"
   ]
  },
  {
   "cell_type": "markdown",
   "id": "972416ef",
   "metadata": {},
   "source": [
    "## Reduce with map with filter"
   ]
  },
  {
   "cell_type": "code",
   "execution_count": 49,
   "id": "e6e5c612",
   "metadata": {},
   "outputs": [
    {
     "name": "stdout",
     "output_type": "stream",
     "text": [
      "81\n"
     ]
    }
   ],
   "source": [
    "z=reduce(lambda x,y:x+y,map(lambda x:x+3,filter(lambda x:(x>=4),[2,4,12,14,16,20])))\n",
    "print(z)"
   ]
  },
  {
   "cell_type": "markdown",
   "id": "c4105bca",
   "metadata": {},
   "source": [
    "# Generators"
   ]
  },
  {
   "cell_type": "code",
   "execution_count": 57,
   "id": "d30513e0",
   "metadata": {},
   "outputs": [
    {
     "data": {
      "text/plain": [
       "(1, 'Hi')"
      ]
     },
     "execution_count": 57,
     "metadata": {},
     "output_type": "execute_result"
    }
   ],
   "source": [
    "def new(dict):\n",
    "    for x,y in dict.items():\n",
    "        yield x,y\n",
    "a={1:\"Hi\",2:\"Welcome\",3:\"AK\"}\n",
    "b=new(a)\n",
    "next(b)"
   ]
  },
  {
   "cell_type": "code",
   "execution_count": 59,
   "id": "723b7855",
   "metadata": {},
   "outputs": [
    {
     "data": {
      "text/plain": [
       "(3, 'AK')"
      ]
     },
     "execution_count": 59,
     "metadata": {},
     "output_type": "execute_result"
    }
   ],
   "source": [
    "next(b)"
   ]
  },
  {
   "cell_type": "code",
   "execution_count": 52,
   "id": "af17d8e2",
   "metadata": {},
   "outputs": [
    {
     "ename": "StopIteration",
     "evalue": "",
     "output_type": "error",
     "traceback": [
      "\u001b[1;31m---------------------------------------------------------------------------\u001b[0m",
      "\u001b[1;31mStopIteration\u001b[0m                             Traceback (most recent call last)",
      "\u001b[1;32m<ipython-input-52-adb3e17b0219>\u001b[0m in \u001b[0;36m<module>\u001b[1;34m\u001b[0m\n\u001b[1;32m----> 1\u001b[1;33m \u001b[0mnext\u001b[0m\u001b[1;33m(\u001b[0m\u001b[0mb\u001b[0m\u001b[1;33m)\u001b[0m\u001b[1;33m\u001b[0m\u001b[1;33m\u001b[0m\u001b[0m\n\u001b[0m",
      "\u001b[1;31mStopIteration\u001b[0m: "
     ]
    }
   ],
   "source": [
    "next(b)"
   ]
  },
  {
   "cell_type": "code",
   "execution_count": 25,
   "id": "347733ac",
   "metadata": {},
   "outputs": [
    {
     "data": {
      "text/plain": [
       "1"
      ]
     },
     "execution_count": 25,
     "metadata": {},
     "output_type": "execute_result"
    }
   ],
   "source": [
    "def myfunc(i):\n",
    "    while i<=3:\n",
    "        yield i\n",
    "        i+=1\n",
    "j=myfunc(1)\n",
    "next(j)"
   ]
  },
  {
   "cell_type": "code",
   "execution_count": 28,
   "id": "58656380",
   "metadata": {},
   "outputs": [
    {
     "ename": "StopIteration",
     "evalue": "",
     "output_type": "error",
     "traceback": [
      "\u001b[1;31m---------------------------------------------------------------------------\u001b[0m",
      "\u001b[1;31mStopIteration\u001b[0m                             Traceback (most recent call last)",
      "\u001b[1;32m<ipython-input-28-36a6314a8ca5>\u001b[0m in \u001b[0;36m<module>\u001b[1;34m\u001b[0m\n\u001b[1;32m----> 1\u001b[1;33m \u001b[0mnext\u001b[0m\u001b[1;33m(\u001b[0m\u001b[0mj\u001b[0m\u001b[1;33m)\u001b[0m\u001b[1;33m\u001b[0m\u001b[1;33m\u001b[0m\u001b[0m\n\u001b[0m",
      "\u001b[1;31mStopIteration\u001b[0m: "
     ]
    }
   ],
   "source": [
    "next(j)"
   ]
  },
  {
   "cell_type": "code",
   "execution_count": 30,
   "id": "d1d4a7fe",
   "metadata": {},
   "outputs": [],
   "source": [
    "def ex():\n",
    "    n=3\n",
    "    yield n\n",
    "    n=n*n\n",
    "    yield n\n",
    "v=ex()\n"
   ]
  },
  {
   "cell_type": "code",
   "execution_count": 33,
   "id": "d0d8fd9b",
   "metadata": {},
   "outputs": [
    {
     "ename": "StopIteration",
     "evalue": "",
     "output_type": "error",
     "traceback": [
      "\u001b[1;31m---------------------------------------------------------------------------\u001b[0m",
      "\u001b[1;31mStopIteration\u001b[0m                             Traceback (most recent call last)",
      "\u001b[1;32m<ipython-input-33-3c76cce91add>\u001b[0m in \u001b[0;36m<module>\u001b[1;34m\u001b[0m\n\u001b[1;32m----> 1\u001b[1;33m \u001b[0mnext\u001b[0m\u001b[1;33m(\u001b[0m\u001b[0mv\u001b[0m\u001b[1;33m)\u001b[0m\u001b[1;33m\u001b[0m\u001b[1;33m\u001b[0m\u001b[0m\n\u001b[0m",
      "\u001b[1;31mStopIteration\u001b[0m: "
     ]
    }
   ],
   "source": [
    "next(v)"
   ]
  },
  {
   "cell_type": "code",
   "execution_count": 71,
   "id": "c6f0eddb",
   "metadata": {},
   "outputs": [
    {
     "name": "stdout",
     "output_type": "stream",
     "text": [
      "3\n",
      "9\n"
     ]
    }
   ],
   "source": [
    "for x in v:\n",
    "    print(x)"
   ]
  },
  {
   "cell_type": "code",
   "execution_count": 35,
   "id": "258b1627",
   "metadata": {},
   "outputs": [],
   "source": [
    "for x in v:\n",
    "    next(x)"
   ]
  },
  {
   "cell_type": "code",
   "execution_count": 80,
   "id": "51104e39",
   "metadata": {},
   "outputs": [
    {
     "name": "stdout",
     "output_type": "stream",
     "text": [
      "List comp:[2, 3, 4, 5, 6, 7]\n"
     ]
    }
   ],
   "source": [
    "#Generator expressions\n",
    "\n",
    "f=range(6)\n",
    "print(\"List comp\",end=\":\")\n",
    "q=[x+2 for x in f]\n",
    "print(q)"
   ]
  },
  {
   "cell_type": "markdown",
   "id": "91c56d12",
   "metadata": {},
   "source": [
    "## Fib "
   ]
  },
  {
   "cell_type": "code",
   "execution_count": 2,
   "id": "7fd51e4d",
   "metadata": {},
   "outputs": [
    {
     "name": "stdout",
     "output_type": "stream",
     "text": [
      "0 1 1 2 3 5 8 13 21 34 "
     ]
    }
   ],
   "source": [
    "def fib():\n",
    "    f,s=0,1\n",
    "    while True:\n",
    "        yield f\n",
    "        f,s=s,f+s\n",
    "for x in fib():\n",
    "    if x>50:\n",
    "        break\n",
    "    print(x, end=\" \")    \n",
    "            "
   ]
  },
  {
   "cell_type": "markdown",
   "id": "0396a9d8",
   "metadata": {},
   "source": [
    "## Number Stream"
   ]
  },
  {
   "cell_type": "code",
   "execution_count": 8,
   "id": "3361a70f",
   "metadata": {},
   "outputs": [
    {
     "name": "stdout",
     "output_type": "stream",
     "text": [
      "<generator object <genexpr> at 0x0000018822476C10>\n",
      "0\n",
      "1\n",
      "2\n",
      "3\n",
      "4\n",
      "5\n",
      "6\n",
      "7\n",
      "8\n",
      "9\n",
      "10\n",
      "11\n",
      "12\n",
      "13\n",
      "14\n",
      "15\n",
      "16\n",
      "17\n",
      "18\n",
      "19\n",
      "20\n",
      "21\n",
      "22\n",
      "23\n",
      "24\n",
      "25\n",
      "26\n",
      "27\n",
      "28\n",
      "29\n",
      "30\n",
      "31\n",
      "32\n",
      "33\n",
      "34\n",
      "35\n",
      "36\n",
      "37\n",
      "38\n",
      "39\n",
      "40\n",
      "41\n",
      "42\n",
      "43\n",
      "44\n",
      "45\n",
      "46\n",
      "47\n",
      "48\n",
      "49\n",
      "50\n",
      "51\n",
      "52\n",
      "53\n",
      "54\n",
      "55\n",
      "56\n",
      "57\n",
      "58\n",
      "59\n",
      "60\n",
      "61\n",
      "62\n",
      "63\n",
      "64\n",
      "65\n",
      "66\n",
      "67\n",
      "68\n",
      "69\n",
      "70\n",
      "71\n",
      "72\n",
      "73\n",
      "74\n",
      "75\n",
      "76\n",
      "77\n",
      "78\n",
      "79\n",
      "80\n",
      "81\n",
      "82\n",
      "83\n",
      "84\n",
      "85\n",
      "86\n",
      "87\n",
      "88\n",
      "89\n",
      "90\n",
      "91\n",
      "92\n",
      "93\n",
      "94\n",
      "95\n",
      "96\n",
      "97\n",
      "98\n",
      "99\n"
     ]
    }
   ],
   "source": [
    "a=range(100)\n",
    "b=(x for x in a)\n",
    "print(b)\n",
    "for y in b:\n",
    "    print(y)"
   ]
  },
  {
   "cell_type": "code",
   "execution_count": 7,
   "id": "fcca26f3",
   "metadata": {},
   "outputs": [
    {
     "name": "stdout",
     "output_type": "stream",
     "text": [
      "<generator object <genexpr> at 0x00000188224767B0>\n",
      "2\n",
      "4\n",
      "6\n",
      "8\n",
      "10\n",
      "12\n",
      "14\n",
      "16\n",
      "18\n",
      "20\n",
      "22\n",
      "24\n",
      "26\n",
      "28\n",
      "30\n",
      "32\n",
      "34\n",
      "36\n",
      "38\n",
      "40\n",
      "42\n",
      "44\n",
      "46\n",
      "48\n",
      "50\n",
      "52\n",
      "54\n",
      "56\n",
      "58\n",
      "60\n",
      "62\n",
      "64\n",
      "66\n",
      "68\n",
      "70\n",
      "72\n",
      "74\n",
      "76\n",
      "78\n",
      "80\n",
      "82\n",
      "84\n",
      "86\n",
      "88\n",
      "90\n",
      "92\n",
      "94\n",
      "96\n",
      "98\n"
     ]
    }
   ],
   "source": [
    "a=range(2,100,2)\n",
    "b=(x for x in a)\n",
    "print(b)\n",
    "for y in b:\n",
    "    print(y)\n"
   ]
  },
  {
   "cell_type": "code",
   "execution_count": 9,
   "id": "6ad1cec8",
   "metadata": {},
   "outputs": [
    {
     "data": {
      "image/png": "[encoded data removed]",
      "text/plain": [
       "<Figure size 432x288 with 1 Axes>"
      ]
     },
     "metadata": {},
     "output_type": "display_data"
    }
   ],
   "source": [
    "import numpy as np\n",
    "from matplotlib import pyplot as plt\n",
    "import seaborn as sb\n",
    "def s(flip=2):\n",
    "    x=np.linspace(0,14,100)\n",
    "    for i in range(1,5):\n",
    "        plt.plot(x,np.sin(x+i*.5)*(7-i)*flip)\n",
    "sb.set()\n",
    "s()\n",
    "plt.show()"
   ]
  },
  {
   "cell_type": "markdown",
   "id": "e4a96d95",
   "metadata": {},
   "source": [
    "# Classes\n"
   ]
  },
  {
   "cell_type": "code",
   "execution_count": 36,
   "id": "e68f525c",
   "metadata": {},
   "outputs": [
    {
     "name": "stdout",
     "output_type": "stream",
     "text": [
      "{'modelname': 'City', 'yearm': 2017, 'price': 1500000, 'cc': 1500}\n",
      "{'modelname': 'Bolt', 'yearm': 2016, 'price': 90000}\n"
     ]
    }
   ],
   "source": [
    "class Car():\n",
    "    def __init__(self,modelname,yearm,price):\n",
    "        self.modelname = modelname\n",
    "        self.yearm = yearm\n",
    "        self.price = price\n",
    "    def price_inc(self):\n",
    "        self.price=int(self.price*0.15)\n",
    "        \n",
    "\n",
    "honda = Car('City',2017,10000000)\n",
    "honda.cc=1500\n",
    "honda.price_inc()\n",
    "tata=Car('Bolt',2016,600000)\n",
    "tata.price_inc()\n",
    "print(honda.__dict__)\n",
    "print(tata.__dict__)\n"
   ]
  },
  {
   "cell_type": "markdown",
   "id": "c2f59b31",
   "metadata": {},
   "source": [
    "## Inheritance"
   ]
  },
  {
   "cell_type": "code",
   "execution_count": 34,
   "id": "b53cd8ec",
   "metadata": {},
   "outputs": [
    {
     "ename": "TypeError",
     "evalue": "__init__() missing 1 required positional argument: 'cc'",
     "output_type": "error",
     "traceback": [
      "\u001b[1;31m---------------------------------------------------------------------------\u001b[0m",
      "\u001b[1;31mTypeError\u001b[0m                                 Traceback (most recent call last)",
      "\u001b[1;32m<ipython-input-34-6547f9c3afaa>\u001b[0m in \u001b[0;36m<module>\u001b[1;34m\u001b[0m\n\u001b[0;32m     12\u001b[0m         \u001b[0mself\u001b[0m\u001b[1;33m.\u001b[0m\u001b[0mcc\u001b[0m\u001b[1;33m=\u001b[0m\u001b[0mcc\u001b[0m\u001b[1;33m\u001b[0m\u001b[1;33m\u001b[0m\u001b[0m\n\u001b[0;32m     13\u001b[0m \u001b[1;33m\u001b[0m\u001b[0m\n\u001b[1;32m---> 14\u001b[1;33m \u001b[0mhonda\u001b[0m \u001b[1;33m=\u001b[0m \u001b[0mSuperCar\u001b[0m\u001b[1;33m(\u001b[0m\u001b[1;34m'City'\u001b[0m\u001b[1;33m,\u001b[0m\u001b[1;36m2017\u001b[0m\u001b[1;33m,\u001b[0m\u001b[1;36m100000\u001b[0m\u001b[1;33m)\u001b[0m\u001b[1;33m\u001b[0m\u001b[1;33m\u001b[0m\u001b[0m\n\u001b[0m\u001b[0;32m     15\u001b[0m \u001b[0mtata\u001b[0m \u001b[1;33m=\u001b[0m \u001b[0mCar\u001b[0m\u001b[1;33m(\u001b[0m\u001b[1;34m'Bolt'\u001b[0m\u001b[1;33m,\u001b[0m\u001b[1;36m2016\u001b[0m\u001b[1;33m,\u001b[0m\u001b[1;36m600000\u001b[0m\u001b[1;33m)\u001b[0m\u001b[1;33m\u001b[0m\u001b[1;33m\u001b[0m\u001b[0m\n\u001b[0;32m     16\u001b[0m \u001b[0mhonda\u001b[0m\u001b[1;33m.\u001b[0m\u001b[0mcc\u001b[0m\u001b[1;33m=\u001b[0m\u001b[1;36m1500\u001b[0m\u001b[1;33m\u001b[0m\u001b[1;33m\u001b[0m\u001b[0m\n",
      "\u001b[1;31mTypeError\u001b[0m: __init__() missing 1 required positional argument: 'cc'"
     ]
    }
   ],
   "source": [
    "class Car():\n",
    "    def __init__(self,modelname,yearm,price):\n",
    "        self.modelname = modelname\n",
    "        self.yearm = yearm\n",
    "        self.price = price\n",
    "    def price_inc(self):\n",
    "        self.price=int(self.price*0.15)\n",
    "class SuperCar(Car):\n",
    "    def __init__(self,modelname,yearm,price,cc):\n",
    "        super.__init__(self,modelname,yearm,price)\n",
    "            #super.__init__(modelname,yearm,price)\n",
    "        self.cc=cc\n",
    "         \n",
    "honda = SuperCar('City',2017,100000)\n",
    "tata = Car('Bolt',2016,600000)\n",
    "honda.cc=1500\n",
    "honda.price_inc()\n",
    "print(honda.price)"
   ]
  },
  {
   "cell_type": "code",
   "execution_count": 3,
   "id": "bfb04502",
   "metadata": {},
   "outputs": [
    {
     "name": "stdout",
     "output_type": "stream",
     "text": [
      "19 Gitanjali Mukeria\n"
     ]
    }
   ],
   "source": [
    "class Parent:\n",
    "    def __init__(self,fname,fage):\n",
    "        self.name=fname\n",
    "        self.age=fage\n",
    "    def view(self):\n",
    "        print(self.name,self.age)\n",
    "       \n",
    "    \n",
    "class Child(Parent):\n",
    "    def __init__(self,fname,fage):\n",
    "        Parent.__init__(self, fname,fage)\n",
    "        self.lastname =\"Mukeria\"\n",
    "        \n",
    "    def view(self):\n",
    "        print(self.age,self.name,self.lastname)\n",
    "    \n",
    "ob=Child('Gitanjali',19)\n",
    "ob.view()\n",
    "        "
   ]
  },
  {
   "cell_type": "markdown",
   "id": "b048a88e",
   "metadata": {},
   "source": [
    "## Multiple "
   ]
  },
  {
   "cell_type": "code",
   "execution_count": 6,
   "id": "d562e0d0",
   "metadata": {},
   "outputs": [
    {
     "name": "stdout",
     "output_type": "stream",
     "text": [
      "This is function1\n",
      "This is function2\n",
      "This is function3\n"
     ]
    }
   ],
   "source": [
    "class Parent:\n",
    "    def func1(self):\n",
    "        print(\"This is function1\")\n",
    "\n",
    "class Parent2:\n",
    "    def func2(self):\n",
    "        print(\"This is function2\")\n",
    "\n",
    "class Child(Parent,Parent2):\n",
    "    def func3(self):\n",
    "        print(\"This is function3\")\n",
    "    \n",
    "ob=Child()\n",
    "ob.func1()\n",
    "ob.func2()\n",
    "ob.func3()"
   ]
  },
  {
   "cell_type": "markdown",
   "id": "26017003",
   "metadata": {},
   "source": [
    "## Multilevel  "
   ]
  },
  {
   "cell_type": "code",
   "execution_count": 10,
   "id": "e04ba0b0",
   "metadata": {},
   "outputs": [
    {
     "name": "stdout",
     "output_type": "stream",
     "text": [
      "This is function2\n",
      "This is function1\n"
     ]
    }
   ],
   "source": [
    "class Parent:   \n",
    "    def func1(self):\n",
    "        print(\"This is function1\")\n",
    "\n",
    "class Parent2(Parent):\n",
    "    def func2(self):\n",
    "        print(\"This is function2\")\n",
    "\n",
    "class Child(Parent2):\n",
    "    def func3(self):\n",
    "        print(\"This is function3\")\n",
    "        \n",
    "ob=Child()\n",
    "ob.func2()\n",
    "ob.func1()"
   ]
  },
  {
   "cell_type": "markdown",
   "id": "09426d6b",
   "metadata": {},
   "source": [
    "## Inheritance"
   ]
  },
  {
   "cell_type": "code",
   "execution_count": 12,
   "id": "19e5d8a0",
   "metadata": {},
   "outputs": [
    {
     "name": "stdout",
     "output_type": "stream",
     "text": [
      "This is function1\n",
      "This is function1\n"
     ]
    }
   ],
   "source": [
    "class Parent:   \n",
    "    def func1(self):\n",
    "        print(\"This is function1\")\n",
    "\n",
    "class Parent2(Parent):\n",
    "    def func2(self):\n",
    "        print(\"This is function2\")\n",
    "\n",
    "class Child(Parent):\n",
    "    def func3(self):\n",
    "        print(\"This is function3\")\n",
    "        \n",
    "ob=Child()\n",
    "ob2=Parent2()\n",
    "ob2.func1()\n",
    "ob.func1()"
   ]
  },
  {
   "cell_type": "markdown",
   "id": "017c8003",
   "metadata": {},
   "source": [
    "## Hybrid Inheritance "
   ]
  },
  {
   "cell_type": "code",
   "execution_count": 16,
   "id": "c6806aa8",
   "metadata": {},
   "outputs": [
    {
     "name": "stdout",
     "output_type": "stream",
     "text": [
      "This is function4\n",
      "This is function1\n",
      "This is function1\n"
     ]
    }
   ],
   "source": [
    "class Parent:   \n",
    "    def func1(self):\n",
    "        print(\"This is function1\")\n",
    "\n",
    "class Parent2(Parent):\n",
    "    def func2(self):\n",
    "        print(\"This is function2\")\n",
    "        \n",
    "class Parent3:\n",
    "    def func4(self):\n",
    "        print(\"This is function4\")\n",
    "        \n",
    "class Child(Parent,Parent3):\n",
    "    def func3(self):\n",
    "        print(\"This is function3\")\n",
    "        \n",
    "ob=Child()\n",
    "ob2=Parent2()\n",
    "ob.func4()\n",
    "ob2.func1()\n",
    "ob.func1()"
   ]
  },
  {
   "cell_type": "markdown",
   "id": "6f60e544",
   "metadata": {},
   "source": [
    "## Super Function "
   ]
  },
  {
   "cell_type": "code",
   "execution_count": 17,
   "id": "ba9983e7",
   "metadata": {},
   "outputs": [
    {
     "name": "stdout",
     "output_type": "stream",
     "text": [
      "This is function1\n",
      "This is child class object\n"
     ]
    }
   ],
   "source": [
    "class Parent:\n",
    "    def func1(self):\n",
    "        print(\"This is function1\")\n",
    "\n",
    "class Child(Parent):\n",
    "    def func2(self):\n",
    "        super().func1()\n",
    "        print(\"This is child class object\")\n",
    "        \n",
    "ob = Child()\n",
    "ob.func2()"
   ]
  },
  {
   "cell_type": "markdown",
   "id": "54cd5417",
   "metadata": {},
   "source": [
    "## Method Overriding "
   ]
  },
  {
   "cell_type": "code",
   "execution_count": 20,
   "id": "501c585a",
   "metadata": {},
   "outputs": [
    {
     "data": {
      "text/plain": [
       "0"
      ]
     },
     "execution_count": 20,
     "metadata": {},
     "output_type": "execute_result"
    }
   ],
   "source": [
    "class Parent:\n",
    "    def func1(self):\n",
    "        print('this is function1')\n",
    "        \n",
    "class Child(Parent):\n",
    "    def func1(self):\n",
    "        print(\"This is function2\")\n",
    "       \n",
    "        \n",
    "ob=Child()\n",
    "ob.func1()"
   ]
  },
  {
   "cell_type": "markdown",
   "id": "20fce51b",
   "metadata": {},
   "source": [
    "# Exception\n"
   ]
  },
  {
   "cell_type": "code",
   "execution_count": 3,
   "id": "3d9f1c83",
   "metadata": {},
   "outputs": [
    {
     "ename": "AssertionError",
     "evalue": "This code runs on linux only.",
     "output_type": "error",
     "traceback": [
      "\u001b[1;31m---------------------------------------------------------------------------\u001b[0m",
      "\u001b[1;31mAssertionError\u001b[0m                            Traceback (most recent call last)",
      "\u001b[1;32m<ipython-input-3-528c20764ebd>\u001b[0m in \u001b[0;36m<module>\u001b[1;34m\u001b[0m\n\u001b[0;32m      1\u001b[0m \u001b[1;32mimport\u001b[0m \u001b[0msys\u001b[0m\u001b[1;33m\u001b[0m\u001b[1;33m\u001b[0m\u001b[0m\n\u001b[1;32m----> 2\u001b[1;33m \u001b[1;32massert\u001b[0m\u001b[1;33m(\u001b[0m\u001b[1;34m\"linux\"\u001b[0m \u001b[1;32min\u001b[0m \u001b[0msys\u001b[0m\u001b[1;33m.\u001b[0m\u001b[0mplatform\u001b[0m\u001b[1;33m)\u001b[0m\u001b[1;33m,\u001b[0m\u001b[1;34m\"This code runs on linux only.\"\u001b[0m\u001b[1;33m\u001b[0m\u001b[1;33m\u001b[0m\u001b[0m\n\u001b[0m",
      "\u001b[1;31mAssertionError\u001b[0m: This code runs on linux only."
     ]
    }
   ],
   "source": [
    "import sys\n",
    "assert(\"linux\" in sys.platform),\"This code runs on linux only.\""
   ]
  },
  {
   "cell_type": "code",
   "execution_count": 6,
   "id": "e9bc64af",
   "metadata": {},
   "outputs": [
    {
     "ename": "AssertionError",
     "evalue": "This code runs on linux only.",
     "output_type": "error",
     "traceback": [
      "\u001b[1;31m---------------------------------------------------------------------------\u001b[0m",
      "\u001b[1;31mAssertionError\u001b[0m                            Traceback (most recent call last)",
      "\u001b[1;32m<ipython-input-6-991af37d4fc5>\u001b[0m in \u001b[0;36m<module>\u001b[1;34m\u001b[0m\n\u001b[0;32m      1\u001b[0m \u001b[1;32mimport\u001b[0m \u001b[0msys\u001b[0m\u001b[1;33m\u001b[0m\u001b[1;33m\u001b[0m\u001b[0m\n\u001b[1;32m----> 2\u001b[1;33m \u001b[1;32massert\u001b[0m\u001b[1;33m(\u001b[0m\u001b[1;34m\"linux\"\u001b[0m \u001b[1;32min\u001b[0m \u001b[0msys\u001b[0m\u001b[1;33m.\u001b[0m\u001b[0mplatform\u001b[0m\u001b[1;33m)\u001b[0m\u001b[1;33m,\u001b[0m\u001b[1;34m\"This code runs on linux only.\"\u001b[0m\u001b[1;33m\u001b[0m\u001b[1;33m\u001b[0m\u001b[0m\n\u001b[0m\u001b[0;32m      3\u001b[0m \u001b[1;32mtry\u001b[0m\u001b[1;33m:\u001b[0m\u001b[1;33m\u001b[0m\u001b[1;33m\u001b[0m\u001b[0m\n\u001b[0;32m      4\u001b[0m     \u001b[0mlinux_interaction\u001b[0m\u001b[1;33m(\u001b[0m\u001b[1;33m)\u001b[0m\u001b[1;33m\u001b[0m\u001b[1;33m\u001b[0m\u001b[0m\n\u001b[0;32m      5\u001b[0m \u001b[1;32mexcept\u001b[0m \u001b[0mAssertionError\u001b[0m \u001b[1;32mas\u001b[0m \u001b[0merror\u001b[0m\u001b[1;33m:\u001b[0m\u001b[1;33m\u001b[0m\u001b[1;33m\u001b[0m\u001b[0m\n",
      "\u001b[1;31mAssertionError\u001b[0m: This code runs on linux only."
     ]
    }
   ],
   "source": [
    "import sys\n",
    "assert(\"linux\" in sys.platform),\"This code runs on linux only.\"\n",
    "try:\n",
    "    linux_interaction()\n",
    "except AssertionError as error:\n",
    "    print(error)\n",
    "    print(\"The linux_interaction() function was not executed\")"
   ]
  },
  {
   "cell_type": "code",
   "execution_count": null,
   "id": "c30a8ba5",
   "metadata": {},
   "outputs": [],
   "source": [
    "import sys\n",
    "try:\n",
    "    linux_interaction()\n",
    "except AssertionError as error:\n",
    "    print(error)\n",
    "else:\n",
    "    print('Executing the else clause.')\n",
    "    \n",
    "finally:\n",
    "    print('Cleaning up, irrespective of any exception')"
   ]
  },
  {
   "cell_type": "markdown",
   "id": "251f6827",
   "metadata": {},
   "source": [
    "# Python Module"
   ]
  },
  {
   "cell_type": "code",
   "execution_count": 10,
   "id": "8b7017a0",
   "metadata": {},
   "outputs": [
    {
     "name": "stdout",
     "output_type": "stream",
     "text": [
      "\n",
      "Please wait a moment while I gather a list of all available modules...\n",
      "\n"
     ]
    },
    {
     "name": "stderr",
     "output_type": "stream",
     "text": [
      "C:\\Users\\LENOVO\\anaconda3\\lib\\site-packages\\IPython\\kernel\\__init__.py:12: ShimWarning: The `IPython.kernel` package has been deprecated since IPython 4.0.You should import from ipykernel or jupyter_client instead.\n",
      "  warn(\"The `IPython.kernel` package has been deprecated since IPython 4.0.\"\n",
      "WARNING: AstropyDeprecationWarning: The private astropy._erfa module has been made into its own package, pyerfa, which is a dependency of astropy and can be imported directly using \"import erfa\" [astropy._erfa]\n",
      "C:\\Users\\LENOVO\\anaconda3\\lib\\pkgutil.py:92: MatplotlibDeprecationWarning: \n",
      "The matplotlib.compat module was deprecated in Matplotlib 3.3 and will be removed two minor releases later.\n",
      "  __import__(info.name)\n",
      "C:\\Users\\LENOVO\\anaconda3\\lib\\site-packages\\nltk\\twitter\\__init__.py:21: UserWarning: The twython library has not been installed. Some functionality from the twitter package will not be available.\n",
      "  warnings.warn(\n",
      "C:\\Users\\LENOVO\\anaconda3\\lib\\site-packages\\skimage\\viewer\\utils\\__init__.py:1: UserWarning: Recommended matplotlib backend is `Agg` for full skimage.viewer functionality.\n",
      "  from .core import *\n"
     ]
    },
    {
     "name": "stdout",
     "output_type": "stream",
     "text": [
      "Update LANGUAGE_CODES (inside config/base.py) if a new translation has been added to Spyder\n"
     ]
    },
    {
     "name": "stderr",
     "output_type": "stream",
     "text": [
      "C:\\Users\\LENOVO\\anaconda3\\lib\\site-packages\\qtawesome\\iconic_font.py:313: UserWarning: You need to have a running QApplication to use QtAwesome!\n",
      "  warnings.warn(\"You need to have a running \"\n",
      "C:\\Users\\LENOVO\\anaconda3\\lib\\pkgutil.py:107: VisibleDeprecationWarning: zmq.eventloop.minitornado is deprecated in pyzmq 14.0 and will be removed.\n",
      "    Install tornado itself to use zmq with the tornado IOLoop.\n",
      "    \n",
      "  yield from walk_packages(path, info.name+'.', onerror)\n"
     ]
    },
    {
     "name": "stdout",
     "output_type": "stream",
     "text": [
      "Cython              brain_re            mailbox             sniffio\n",
      "IPython             brain_responses     mailcap             snowballstemmer\n",
      "OpenSSL             brain_scipy_signal  markupsafe          socket\n",
      "PIL                 brain_six           marshal             socketserver\n",
      "PyQt5               brain_sqlalchemy    math                socks\n",
      "__future__          brain_ssl           matplotlib          sockshandler\n",
      "_abc                brain_subprocess    mccabe              sortedcollections\n",
      "_ast                brain_threading     menuinst            sortedcontainers\n",
      "_asyncio            brain_type          mimetypes           soupsieve\n",
      "_bisect             brain_typing        mistune             sphinx\n",
      "_black_version      brain_uuid          mkl                 sphinxcontrib\n",
      "_blake2             brotli              mkl_fft             spyder\n",
      "_bootlocale         bs4                 mkl_random          spyder_kernels\n",
      "_bz2                builtins            mmap                sqlalchemy\n",
      "_cffi_backend       bz2                 mmapfile            sqlite3\n",
      "_codecs             cProfile            mmsystem            sre_compile\n",
      "_codecs_cn          calendar            mock                sre_constants\n",
      "_codecs_hk          certifi             modulefinder        sre_parse\n",
      "_codecs_iso2022     cffi                more_itertools      ssl\n",
      "_codecs_jp          cgi                 mpmath              sspi\n",
      "_codecs_kr          cgitb               msgpack             sspicon\n",
      "_codecs_tw          chardet             msilib              stat\n",
      "_collections        chunk               msvcrt              statistics\n",
      "_collections_abc    click               multipledispatch    statsmodels\n",
      "_compat_pickle      cloudpickle         multiprocessing     storemagic\n",
      "_compression        clyent              mypy_extensions     string\n",
      "_contextvars        cmath               nacl                stringprep\n",
      "_csv                cmd                 navigator_updater   struct\n",
      "_ctypes             code                nbclassic           subprocess\n",
      "_ctypes_test        codecs              nbclient            sunau\n",
      "_datetime           codeop              nbconvert           symbol\n",
      "_decimal            collections         nbformat            sympy\n",
      "_distutils_hack     colorama            nest_asyncio        sympyprinting\n",
      "_dummy_thread       colorsys            netbios             symtable\n",
      "_elementtree        commctrl            netrc               sys\n",
      "_functools          compileall          networkx            sysconfig\n",
      "_hashlib            comtypes            nltk                tables\n",
      "_heapq              concurrent          nntplib             tabnanny\n",
      "_imp                conda               nose                tarfile\n",
      "_io                 conda_build         notebook            tblib\n",
      "_json               conda_content_trust nt                  telnetlib\n",
      "_locale             conda_env           ntpath              tempfile\n",
      "_lsprof             conda_package_handling ntsecuritycon       terminado\n",
      "_lzma               conda_token         nturl2path          test\n",
      "_markupbase         conda_verify        numba               test_data\n",
      "_md5                configparser        numbers             test_pycosat\n",
      "_msi                contextlib          numexpr             testpath\n",
      "_multibytecodec     contextlib2         numpy               tests\n",
      "_multiprocessing    contextvars         numpydoc            textdistance\n",
      "_nsis               copy                odbc                textwrap\n",
      "_opcode             copyreg             olefile             this\n",
      "_operator           crypt               opcode              threading\n",
      "_osx_support        cryptography        openpyxl            threadpoolctl\n",
      "_overlapped         csv                 operator            three_merge\n",
      "_pickle             ctypes              optparse            tifffile\n",
      "_py_abc             curl                os                  time\n",
      "_pydecimal          curses              packaging           timeit\n",
      "_pyio               cwp                 pandas              timer\n",
      "_pyrsistent_version cycler              pandocfilters       tkinter\n",
      "_pytest             cython              paramiko            tlz\n",
      "_queue              cythonmagic         parser              token\n",
      "_random             cytoolz             parso               tokenize\n",
      "_sha1               dask                partd               toml\n",
      "_sha256             dataclasses         past                toolz\n",
      "_sha3               datetime            path                tornado\n",
      "_sha512             dateutil            pathlib             tqdm\n",
      "_signal             dbi                 pathlib2            trace\n",
      "_sitebuiltins       dbm                 pathspec            traceback\n",
      "_socket             dde                 patsy               tracemalloc\n",
      "_sqlite3            decimal             pdb                 traitlets\n",
      "_sre                decorator           pep8                tty\n",
      "_ssl                defusedxml          perfmon             turtle\n",
      "_stat               diff_match_patch    pexpect             turtledemo\n",
      "_statistics         difflib             pickle              typed_ast\n",
      "_string             dis                 pickleshare         types\n",
      "_strptime           distributed         pickletools         typing\n",
      "_struct             distutils           pip                 typing_extensions\n",
      "_symtable           doctest             pipes               ujson\n",
      "_system_path        docutils            pkg_resources       unicodecsv\n",
      "_testbuffer         dummy_threading     pkginfo             unicodedata\n",
      "_testcapi           email               pkgutil             unittest\n",
      "_testconsole        encodings           platform            urllib\n",
      "_testimportmultiple ensurepip           plistlib            urllib3\n",
      "_testinternalcapi   entrypoints         pluggy              uu\n",
      "_testmultiphase     enum                ply                 uuid\n",
      "_thread             erfa                poplib              venv\n",
      "_threading_local    errno               posixpath           warnings\n",
      "_tkinter            et_xmlfile          pprint              watchdog\n",
      "_tracemalloc        fastcache           profile             wave\n",
      "_warnings           faulthandler        prometheus_client   wcwidth\n",
      "_weakref            filecmp             prompt_toolkit      weakref\n",
      "_weakrefset         fileinput           pstats              webbrowser\n",
      "_win32sysloader     filelock            psutil              webencodings\n",
      "_winapi             flake8              pty                 werkzeug\n",
      "_winxptheme         flask               ptyprocess          wheel\n",
      "_xxsubinterpreters  fnmatch             pvectorc            widgetsnbextension\n",
      "_yaml               formatter           py                  win2kras\n",
      "abc                 fractions           py_compile          win32api\n",
      "adodbapi            fsspec              pyclbr              win32clipboard\n",
      "afxres              ftplib              pycodestyle         win32com\n",
      "aifc                functools           pycosat             win32con\n",
      "alabaster           future              pycparser           win32console\n",
      "anaconda_navigator  gc                  pycurl              win32cred\n",
      "anaconda_project    genericpath         pydoc               win32crypt\n",
      "antigravity         getopt              pydoc_data          win32cryptcon\n",
      "anyio               getpass             pydocstyle          win32ctypes\n",
      "appdirs             gettext             pyexpat             win32event\n",
      "argh                gevent              pyflakes            win32evtlog\n",
      "argon2              glob                pygments            win32evtlogutil\n",
      "argparse            glob2               pylab               win32file\n",
      "array               greenlet            pylint              win32gui\n",
      "asn1crypto          gzip                pyls                win32gui_struct\n",
      "ast                 h5py                pyls_black          win32help\n",
      "astroid             hashlib             pyls_jsonrpc        win32inet\n",
      "astropy             heapdict            pyls_spyder         win32inetcon\n",
      "async_generator     heapq               pyodbc              win32job\n",
      "asynchat            hmac                pyparsing           win32lz\n",
      "asyncio             html                pyreadline          win32net\n",
      "asyncore            html5lib            pyrsistent          win32netcon\n",
      "atexit              http                pytest              win32pdh\n",
      "atomicwrites        idlelib             pythoncom           win32pdhquery\n",
      "attr                idna                pytz                win32pdhutil\n",
      "audioop             imagecodecs         pywin               win32pipe\n",
      "autopep8            imageio             pywin32_bootstrap   win32print\n",
      "autoreload          imagesize           pywin32_testutil    win32process\n",
      "babel               imaplib             pywintypes          win32profile\n",
      "backcall            imghdr              pywt                win32ras\n",
      "backports           imp                 pyximport           win32rcparser\n",
      "base64              importlib           qdarkstyle          win32security\n",
      "bcrypt              importlib_metadata  qtawesome           win32service\n",
      "bdb                 iniconfig           qtconsole           win32serviceutil\n",
      "binascii            inspect             qtpy                win32timezone\n",
      "binhex              intervaltree        queue               win32trace\n",
      "binstar_client      io                  quopri              win32traceutil\n",
      "bisect              ipaddress           random              win32transaction\n",
      "bitarray            ipykernel           rasutil             win32ts\n",
      "bkcharts            ipykernel_launcher  re                  win32ui\n",
      "black               ipython_genutils    readline            win32uiole\n",
      "blackd              ipywidgets          regcheck            win32verstamp\n",
      "bleach              isapi               regex               win32wnet\n",
      "blib2to3            isort               regutil             win_inet_pton\n",
      "bokeh               isympy              repo_cli            win_unicode_console\n",
      "boto                itertools           reprlib             wincertstore\n",
      "bottleneck          itsdangerous        requests            winerror\n",
      "brain_argparse      jdcal               rlcompleter         winioctlcon\n",
      "brain_attrs         jedi                rmagic              winnt\n",
      "brain_boto3         jinja2              rope                winperf\n",
      "brain_builtin_inference joblib              rtree               winpty\n",
      "brain_collections   json                ruamel_yaml         winreg\n",
      "brain_crypt         json5               run                 winsound\n",
      "brain_curses        jsonschema          runpy               winxpgui\n",
      "brain_dataclasses   jupyter             sched               winxptheme\n",
      "brain_dateutil      jupyter_client      scipy               wrapt\n",
      "brain_fstrings      jupyter_console     scripts             wsgiref\n",
      "brain_functools     jupyter_core        seaborn             xdrlib\n",
      "brain_gi            jupyter_packaging   secrets             xlrd\n",
      "brain_hashlib       jupyter_server      select              xlsxwriter\n",
      "brain_http          jupyterlab          selectors           xlwings\n",
      "brain_hypothesis    jupyterlab_pygments send2trash          xlwt\n",
      "brain_io            jupyterlab_server   servicemanager      xml\n",
      "brain_mechanize     jupyterlab_widgets  setuptools          xmlrpc\n",
      "brain_multiprocessing keyring             shelve              xmltodict\n",
      "brain_namedtuple_enum keyword             shlex               xxsubtype\n",
      "brain_nose          kiwisolver          shutil              yaml\n",
      "brain_numpy_core_fromnumeric lazy_object_proxy   signal              yapf\n",
      "brain_numpy_core_function_base lib2to3             simplegeneric       yapftests\n",
      "brain_numpy_core_multiarray libarchive          singledispatch      zict\n",
      "brain_numpy_core_numeric libfuturize         sip                 zipapp\n",
      "brain_numpy_core_numerictypes libpasteurize       sipconfig           zipfile\n",
      "brain_numpy_core_umath lief                sipdistutils        zipimport\n",
      "brain_numpy_ndarray linecache           site                zipp\n",
      "brain_numpy_random_mtrand llvmlite            six                 zlib\n",
      "brain_numpy_utils   locale              skimage             zmq\n",
      "brain_pkg_resources locket              sklearn             zope\n",
      "brain_pytest        logging             smtpd               \n",
      "brain_qt            lxml                smtplib             \n",
      "brain_random        lzma                sndhdr              \n",
      "\n",
      "Enter any module name to get more help.  Or, type \"modules spam\" to search\n",
      "for modules whose name or summary contain the string \"spam\".\n",
      "\n"
     ]
    }
   ],
   "source": [
    "def add(a,b):\n",
    "    return a+b\n",
    "def sub(a,b):\n",
    "    return a-b\n",
    "def mul(a,b):\n",
    "    return a*b\n",
    "def div(a,b):\n",
    "    return a/b\n",
    "help(\"modules\")"
   ]
  },
  {
   "cell_type": "code",
   "execution_count": 11,
   "id": "87ef011a",
   "metadata": {},
   "outputs": [
    {
     "name": "stdout",
     "output_type": "stream",
     "text": [
      "['Annotation', 'Arrow', 'Artist', 'AutoLocator', 'Axes', 'Button', 'Circle', 'Figure', 'FigureCanvasBase', 'FixedFormatter', 'FixedLocator', 'FormatStrFormatter', 'Formatter', 'FuncFormatter', 'GridSpec', 'IndexLocator', 'Line2D', 'LinearLocator', 'Locator', 'LogFormatter', 'LogFormatterExponent', 'LogFormatterMathtext', 'LogLocator', 'MaxNLocator', 'MouseButton', 'MultipleLocator', 'Normalize', 'NullFormatter', 'NullLocator', 'Number', 'PolarAxes', 'Polygon', 'Rectangle', 'ScalarFormatter', 'Slider', 'Subplot', 'SubplotTool', 'Text', 'TickHelper', 'Widget', '_INSTALL_FIG_OBSERVER', '_IP_REGISTERED', '__builtins__', '__cached__', '__doc__', '__file__', '__loader__', '__name__', '__package__', '__spec__', '_auto_draw_if_interactive', '_backend_mod', '_code_objs', '_copy_docstring_and_deprecators', '_get_required_interactive_framework', '_interactive_bk', '_log', '_pylab_helpers', '_setup_pyplot_info_docstrings', '_warn_if_gui_out_of_main_thread', '_xkcd', 'acorr', 'angle_spectrum', 'annotate', 'arrow', 'autoscale', 'autumn', 'axes', 'axhline', 'axhspan', 'axis', 'axline', 'axvline', 'axvspan', 'bar', 'barbs', 'barh', 'bone', 'box', 'boxplot', 'broken_barh', 'cbook', 'cla', 'clabel', 'clf', 'clim', 'close', 'cm', 'cohere', 'colorbar', 'colormaps', 'connect', 'contour', 'contourf', 'cool', 'copper', 'csd', 'cycler', 'delaxes', 'disconnect', 'docstring', 'draw', 'draw_all', 'draw_if_interactive', 'errorbar', 'eventplot', 'figaspect', 'figimage', 'figlegend', 'fignum_exists', 'figtext', 'figure', 'fill', 'fill_between', 'fill_betweenx', 'findobj', 'flag', 'functools', 'gca', 'gcf', 'gci', 'get', 'get_backend', 'get_cmap', 'get_current_fig_manager', 'get_figlabels', 'get_fignums', 'get_plot_commands', 'get_scale_names', 'getp', 'ginput', 'gray', 'grid', 'hexbin', 'hist', 'hist2d', 'hlines', 'hot', 'hsv', 'importlib', 'imread', 'imsave', 'imshow', 'inferno', 'inspect', 'install_repl_displayhook', 'interactive', 'ioff', 'ion', 'isinteractive', 'jet', 'legend', 'locator_params', 'logging', 'loglog', 'magma', 'magnitude_spectrum', 'margins', 'matplotlib', 'matshow', 'minorticks_off', 'minorticks_on', 'mlab', 'new_figure_manager', 'nipy_spectral', 'np', 'pause', 'pcolor', 'pcolormesh', 'phase_spectrum', 'pie', 'pink', 'plasma', 'plot', 'plot_date', 'plotting', 'polar', 'prism', 'psd', 'quiver', 'quiverkey', 'rc', 'rcParams', 'rcParamsDefault', 'rcParamsOrig', 'rc_context', 'rcdefaults', 'rcsetup', 're', 'register_cmap', 'rgrids', 'savefig', 'sca', 'scatter', 'sci', 'semilogx', 'semilogy', 'set_cmap', 'set_loglevel', 'setp', 'show', 'specgram', 'spring', 'spy', 'stackplot', 'stem', 'step', 'streamplot', 'style', 'subplot', 'subplot2grid', 'subplot_mosaic', 'subplot_tool', 'subplots', 'subplots_adjust', 'summer', 'suptitle', 'switch_backend', 'sys', 'table', 'text', 'thetagrids', 'threading', 'tick_params', 'ticklabel_format', 'tight_layout', 'time', 'title', 'tricontour', 'tricontourf', 'tripcolor', 'triplot', 'twinx', 'twiny', 'uninstall_repl_displayhook', 'violinplot', 'viridis', 'vlines', 'waitforbuttonpress', 'winter', 'xcorr', 'xkcd', 'xlabel', 'xlim', 'xscale', 'xticks', 'ylabel', 'ylim', 'yscale', 'yticks']\n"
     ]
    }
   ],
   "source": [
    "from matplotlib import pyplot\n",
    "print(dir(pyplot))"
   ]
  },
  {
   "cell_type": "code",
   "execution_count": 16,
   "id": "e0da7eb7",
   "metadata": {},
   "outputs": [
    {
     "name": "stdout",
     "output_type": "stream",
     "text": [
      "2021-09-25\n",
      "00:00:00\n"
     ]
    }
   ],
   "source": [
    "import datetime\n",
    "print(datetime.date.today())\n",
    "print(datetime.time())"
   ]
  },
  {
   "cell_type": "markdown",
   "id": "2d7e75da",
   "metadata": {},
   "source": [
    "# Time Module"
   ]
  },
  {
   "cell_type": "code",
   "execution_count": 17,
   "id": "1e5d5e29",
   "metadata": {},
   "outputs": [
    {
     "data": {
      "text/plain": [
       "1632572171.201652"
      ]
     },
     "execution_count": 17,
     "metadata": {},
     "output_type": "execute_result"
    }
   ],
   "source": [
    "import time\n",
    "time.time()"
   ]
  },
  {
   "cell_type": "code",
   "execution_count": 18,
   "id": "50c47c03",
   "metadata": {},
   "outputs": [
    {
     "data": {
      "text/plain": [
       "'Sat Sep 25 17:46:24 2021'"
      ]
     },
     "execution_count": 18,
     "metadata": {},
     "output_type": "execute_result"
    }
   ],
   "source": [
    "time.ctime()"
   ]
  },
  {
   "cell_type": "code",
   "execution_count": 19,
   "id": "6161e318",
   "metadata": {},
   "outputs": [
    {
     "name": "stdout",
     "output_type": "stream",
     "text": [
      "Help on built-in function time in module time:\n",
      "\n",
      "time(...)\n",
      "    time() -> floating point number\n",
      "    \n",
      "    Return the current time in seconds since the Epoch.\n",
      "    Fractions of a second may be present if the system clock provides them.\n",
      "\n"
     ]
    }
   ],
   "source": [
    "help(time.time)"
   ]
  },
  {
   "cell_type": "code",
   "execution_count": 20,
   "id": "a4bb5aa4",
   "metadata": {},
   "outputs": [
    {
     "data": {
      "text/plain": [
       "time.struct_time(tm_year=2021, tm_mon=9, tm_mday=25, tm_hour=17, tm_min=47, tm_sec=44, tm_wday=5, tm_yday=268, tm_isdst=0)"
      ]
     },
     "execution_count": 20,
     "metadata": {},
     "output_type": "execute_result"
    }
   ],
   "source": [
    "time.localtime()"
   ]
  },
  {
   "cell_type": "code",
   "execution_count": 23,
   "id": "84fa8544",
   "metadata": {},
   "outputs": [
    {
     "name": "stdout",
     "output_type": "stream",
     "text": [
      "1632572453.0\n"
     ]
    }
   ],
   "source": [
    "a=time.localtime()\n",
    "b=time.mktime(a)\n",
    "print(b)"
   ]
  },
  {
   "cell_type": "code",
   "execution_count": 22,
   "id": "eb84d445",
   "metadata": {},
   "outputs": [],
   "source": [
    "c=time.asctime(a)"
   ]
  },
  {
   "cell_type": "code",
   "execution_count": 24,
   "id": "f7d153c1",
   "metadata": {},
   "outputs": [
    {
     "name": "stdout",
     "output_type": "stream",
     "text": [
      "Sat Sep 25 17:50:24 2021\n"
     ]
    }
   ],
   "source": [
    "print(c)"
   ]
  },
  {
   "cell_type": "code",
   "execution_count": 29,
   "id": "b2cbc973",
   "metadata": {},
   "outputs": [
    {
     "name": "stdout",
     "output_type": "stream",
     "text": [
      "Help on built-in function strftime in module time:\n",
      "\n",
      "strftime(...)\n",
      "    strftime(format[, tuple]) -> string\n",
      "    \n",
      "    Convert a time tuple to a string according to a format specification.\n",
      "    See the library reference manual for formatting codes. When the time tuple\n",
      "    is not present, current time as returned by localtime() is used.\n",
      "    \n",
      "    Commonly used format codes:\n",
      "    \n",
      "    %Y  Year with century as a decimal number.\n",
      "    %m  Month as a decimal number [01,12].\n",
      "    %d  Day of the month as a decimal number [01,31].\n",
      "    %H  Hour (24-hour clock) as a decimal number [00,23].\n",
      "    %M  Minute as a decimal number [00,59].\n",
      "    %S  Second as a decimal number [00,61].\n",
      "    %z  Time zone offset from UTC.\n",
      "    %a  Locale's abbreviated weekday name.\n",
      "    %A  Locale's full weekday name.\n",
      "    %b  Locale's abbreviated month name.\n",
      "    %B  Locale's full month name.\n",
      "    %c  Locale's appropriate date and time representation.\n",
      "    %I  Hour (12-hour clock) as a decimal number [01,12].\n",
      "    %p  Locale's equivalent of either AM or PM.\n",
      "    \n",
      "    Other codes may be available on your platform.  See documentation for\n",
      "    the C library strftime function.\n",
      "\n"
     ]
    }
   ],
   "source": [
    "help(time.strftime)"
   ]
  },
  {
   "cell_type": "code",
   "execution_count": 31,
   "id": "f1ad7b6e",
   "metadata": {
    "scrolled": true
   },
   "outputs": [
    {
     "ename": "NameError",
     "evalue": "name 'y' is not defined",
     "output_type": "error",
     "traceback": [
      "\u001b[1;31m---------------------------------------------------------------------------\u001b[0m",
      "\u001b[1;31mNameError\u001b[0m                                 Traceback (most recent call last)",
      "\u001b[1;32m<ipython-input-31-399750b7e921>\u001b[0m in \u001b[0;36m<module>\u001b[1;34m\u001b[0m\n\u001b[1;32m----> 1\u001b[1;33m \u001b[0mx\u001b[0m\u001b[1;33m=\u001b[0m\u001b[0mtime\u001b[0m\u001b[1;33m.\u001b[0m\u001b[0mstruct_time\u001b[0m\u001b[1;33m(\u001b[0m\u001b[0my\u001b[0m\u001b[1;33m,\u001b[0m\u001b[1;34m\"%d %m %y\"\u001b[0m\u001b[1;33m)\u001b[0m\u001b[1;33m\u001b[0m\u001b[1;33m\u001b[0m\u001b[0m\n\u001b[0m\u001b[0;32m      2\u001b[0m \u001b[0mprint\u001b[0m\u001b[1;33m(\u001b[0m\u001b[0ms\u001b[0m\u001b[1;33m)\u001b[0m\u001b[1;33m\u001b[0m\u001b[1;33m\u001b[0m\u001b[0m\n",
      "\u001b[1;31mNameError\u001b[0m: name 'y' is not defined"
     ]
    }
   ],
   "source": [
    "x=time.struct_time(y,\"%d %m %y\")\n",
    "print(s)"
   ]
  },
  {
   "cell_type": "code",
   "execution_count": 34,
   "id": "85352cce",
   "metadata": {},
   "outputs": [
    {
     "name": "stdout",
     "output_type": "stream",
     "text": [
      "09/25/21\n"
     ]
    }
   ],
   "source": [
    "x=time.strftime(\"%m/%d/%y\")\n",
    "print(x)"
   ]
  },
  {
   "cell_type": "code",
   "execution_count": 30,
   "id": "617a1da5",
   "metadata": {},
   "outputs": [
    {
     "name": "stdout",
     "output_type": "stream",
     "text": [
      "time.struct_time(tm_year=2021, tm_mon=9, tm_mday=25, tm_hour=17, tm_min=50, tm_sec=53, tm_wday=5, tm_yday=268, tm_isdst=0)\n"
     ]
    }
   ],
   "source": [
    "print(a)"
   ]
  },
  {
   "cell_type": "code",
   "execution_count": 37,
   "id": "38b838ba",
   "metadata": {},
   "outputs": [
    {
     "ename": "TypeError",
     "evalue": "constructor requires a sequence",
     "output_type": "error",
     "traceback": [
      "\u001b[1;31m---------------------------------------------------------------------------\u001b[0m",
      "\u001b[1;31mTypeError\u001b[0m                                 Traceback (most recent call last)",
      "\u001b[1;32m<ipython-input-37-011054820a39>\u001b[0m in \u001b[0;36m<module>\u001b[1;34m\u001b[0m\n\u001b[0;32m      1\u001b[0m \u001b[0my\u001b[0m\u001b[1;33m=\u001b[0m\u001b[1;36m9\u001b[0m\u001b[1;33m/\u001b[0m\u001b[1;36m25\u001b[0m\u001b[1;33m/\u001b[0m\u001b[1;36m21\u001b[0m\u001b[1;33m\u001b[0m\u001b[1;33m\u001b[0m\u001b[0m\n\u001b[1;32m----> 2\u001b[1;33m \u001b[0mx\u001b[0m\u001b[1;33m=\u001b[0m\u001b[0mtime\u001b[0m\u001b[1;33m.\u001b[0m\u001b[0mstruct_time\u001b[0m\u001b[1;33m(\u001b[0m\u001b[0my\u001b[0m\u001b[1;33m,\u001b[0m\u001b[1;34m\"%d %m %y\"\u001b[0m\u001b[1;33m)\u001b[0m\u001b[1;33m\u001b[0m\u001b[1;33m\u001b[0m\u001b[0m\n\u001b[0m\u001b[0;32m      3\u001b[0m \u001b[0mprint\u001b[0m\u001b[1;33m(\u001b[0m\u001b[0ms\u001b[0m\u001b[1;33m)\u001b[0m\u001b[1;33m\u001b[0m\u001b[1;33m\u001b[0m\u001b[0m\n",
      "\u001b[1;31mTypeError\u001b[0m: constructor requires a sequence"
     ]
    }
   ],
   "source": [
    "y=9/25/21\n",
    "x=time.struct_time(y,\"%d %m %y\")\n",
    "print(s)"
   ]
  },
  {
   "cell_type": "code",
   "execution_count": 38,
   "id": "b710f826",
   "metadata": {},
   "outputs": [
    {
     "name": "stdout",
     "output_type": "stream",
     "text": [
      "time.struct_time(tm_year=2021, tm_mon=9, tm_mday=25, tm_hour=0, tm_min=0, tm_sec=0, tm_wday=5, tm_yday=268, tm_isdst=-1)\n"
     ]
    }
   ],
   "source": [
    "y=\"25 September 2021\"\n",
    "s=time.strptime(y,\"%d %B %Y\")\n",
    "print(s)"
   ]
  },
  {
   "cell_type": "markdown",
   "id": "1fadd2ac",
   "metadata": {},
   "source": [
    "# datetime"
   ]
  },
  {
   "cell_type": "code",
   "execution_count": 39,
   "id": "5b8bd557",
   "metadata": {},
   "outputs": [
    {
     "name": "stdout",
     "output_type": "stream",
     "text": [
      "2021-06-07 04:30:54.000678\n"
     ]
    }
   ],
   "source": [
    "import datetime\n",
    "print(datetime.datetime(2021,6,7,4,30,54,678))"
   ]
  },
  {
   "cell_type": "code",
   "execution_count": 40,
   "id": "2079e307",
   "metadata": {},
   "outputs": [
    {
     "data": {
      "text/plain": [
       "datetime.datetime(2021, 9, 25, 18, 7, 10, 642382)"
      ]
     },
     "execution_count": 40,
     "metadata": {},
     "output_type": "execute_result"
    }
   ],
   "source": [
    "datetime.datetime.today()"
   ]
  },
  {
   "cell_type": "code",
   "execution_count": 41,
   "id": "1b252c10",
   "metadata": {},
   "outputs": [
    {
     "name": "stdout",
     "output_type": "stream",
     "text": [
      "9\n",
      "2021\n"
     ]
    }
   ],
   "source": [
    "v=datetime.datetime.today()\n",
    "print(v.month)\n",
    "print(v.year)"
   ]
  },
  {
   "cell_type": "code",
   "execution_count": 42,
   "id": "df65a54a",
   "metadata": {},
   "outputs": [
    {
     "data": {
      "text/plain": [
       "datetime.date(2021, 9, 25)"
      ]
     },
     "execution_count": 42,
     "metadata": {},
     "output_type": "execute_result"
    }
   ],
   "source": [
    "datetime.date(2021,9,25)"
   ]
  },
  {
   "cell_type": "code",
   "execution_count": 43,
   "id": "3db9fd7b",
   "metadata": {},
   "outputs": [
    {
     "data": {
      "text/plain": [
       "datetime.time(3, 45, 39)"
      ]
     },
     "execution_count": 43,
     "metadata": {},
     "output_type": "execute_result"
    }
   ],
   "source": [
    "datetime.time(3,45,39)"
   ]
  },
  {
   "cell_type": "code",
   "execution_count": 45,
   "id": "358f98d6",
   "metadata": {},
   "outputs": [
    {
     "name": "stdout",
     "output_type": "stream",
     "text": [
      "-20 days, 0:00:00\n",
      "<class 'datetime.timedelta'>\n"
     ]
    }
   ],
   "source": [
    "b1=datetime.timedelta(days=20)\n",
    "b2=datetime.timedelta(days=40)\n",
    "b3=b1-b2\n",
    "print(b3)\n",
    "print(type(b3))"
   ]
  },
  {
   "cell_type": "markdown",
   "id": "e766c373",
   "metadata": {},
   "source": [
    "# Numpy"
   ]
  },
  {
   "cell_type": "code",
   "execution_count": 46,
   "id": "adbeacac",
   "metadata": {},
   "outputs": [
    {
     "name": "stdout",
     "output_type": "stream",
     "text": [
      "[[1 2 3]\n",
      " [4 5 6]]\n"
     ]
    }
   ],
   "source": [
    "import numpy as np\n",
    "a=np.array([(1,2,3),(4,5,6)])\n",
    "\n",
    "print(a)"
   ]
  },
  {
   "cell_type": "code",
   "execution_count": 49,
   "id": "b52d11a7",
   "metadata": {},
   "outputs": [
    {
     "name": "stdout",
     "output_type": "stream",
     "text": [
      "1048\n"
     ]
    }
   ],
   "source": [
    "import numpy as np\n",
    "import time\n",
    "import sys\n",
    "\n",
    "S=range(1000)\n",
    "print(sys.getsizeof(S)+len(S))\n"
   ]
  },
  {
   "cell_type": "code",
   "execution_count": 51,
   "id": "d3e8a019",
   "metadata": {},
   "outputs": [
    {
     "name": "stdout",
     "output_type": "stream",
     "text": [
      "[(0, 0), (1, 1), (2, 2), (3, 3), (4, 4), (5, 5), (6, 6), (7, 7), (8, 8), (9, 9)]\n"
     ]
    }
   ],
   "source": [
    "import numpy as np\n",
    "import time\n",
    "import sys\n",
    "\n",
    "SIZE=10\n",
    "L1=range(SIZE)\n",
    "L2=range(SIZE)\n",
    "A1=np.arange(SIZE)\n",
    "A2=np.arange(SIZE)\n",
    "start =time.time()\n",
    "\n",
    "result=[(x,y) for x,y in zip(L1,L2)]\n",
    "print(result)"
   ]
  },
  {
   "cell_type": "code",
   "execution_count": 52,
   "id": "c92dd16d",
   "metadata": {},
   "outputs": [
    {
     "name": "stdout",
     "output_type": "stream",
     "text": [
      "0.9992122650146484\n",
      "14.9993896484375\n"
     ]
    }
   ],
   "source": [
    "import numpy as np\n",
    "import time\n",
    "import sys\n",
    "\n",
    "SIZE=10\n",
    "L1=range(SIZE)\n",
    "L2=range(SIZE)\n",
    "A1=np.arange(SIZE)\n",
    "A2=np.arange(SIZE)\n",
    "start =time.time()\n",
    "\n",
    "result=[(x,y) for x,y in zip(L1,L2)]\n",
    "\n",
    "print((time.time() -start)*1000)\n",
    "start = time.time()\n",
    "result=A1+A2\n",
    "print((time.time() -start)*1000)"
   ]
  },
  {
   "cell_type": "code",
   "execution_count": 53,
   "id": "19fc96da",
   "metadata": {},
   "outputs": [
    {
     "name": "stdout",
     "output_type": "stream",
     "text": [
      "1\n",
      "4\n",
      "int32\n"
     ]
    }
   ],
   "source": [
    "import numpy as np\n",
    "\n",
    "a=np.array([1,2,3])\n",
    "print(a.ndim)\n",
    "print(a.itemsize)\n",
    "print(a.dtype)"
   ]
  },
  {
   "cell_type": "code",
   "execution_count": 59,
   "id": "f8077dd4",
   "metadata": {},
   "outputs": [
    {
     "name": "stdout",
     "output_type": "stream",
     "text": [
      "12\n",
      "(3, 4)\n"
     ]
    }
   ],
   "source": [
    "import numpy as np\n",
    "\n",
    "a=np.array([(1,2,3,4),(2,4,6,8),(3,6,9,12)])\n",
    "print(a.size)\n",
    "print(a.shape)\n"
   ]
  },
  {
   "cell_type": "code",
   "execution_count": 66,
   "id": "1c616e48",
   "metadata": {},
   "outputs": [
    {
     "name": "stdout",
     "output_type": "stream",
     "text": [
      "[[ 1  2  3]\n",
      " [ 4  2  4]\n",
      " [ 6  8  3]\n",
      " [ 6  9 12]]\n",
      "[[ 1  2  3]\n",
      " [ 4  2  4]\n",
      " [ 6  8  3]\n",
      " [ 6  9 12]]\n",
      "[2 2]\n"
     ]
    }
   ],
   "source": [
    "print(a)\n",
    "a=a.reshape(4,3)\n",
    "print(a)\n",
    "\n",
    "print(a[0:2,1])"
   ]
  },
  {
   "cell_type": "code",
   "execution_count": 69,
   "id": "d3b75004",
   "metadata": {},
   "outputs": [
    {
     "name": "stdout",
     "output_type": "stream",
     "text": [
      "6\n",
      "3\n",
      "1\n"
     ]
    }
   ],
   "source": [
    "import numpy as np\n",
    "\n",
    "a=np.array([1,2,3])\n",
    "print(a.sum())\n",
    "print(a.max())\n",
    "print(a.min())"
   ]
  },
  {
   "cell_type": "code",
   "execution_count": 68,
   "id": "dd258f95",
   "metadata": {},
   "outputs": [
    {
     "name": "stdout",
     "output_type": "stream",
     "text": [
      "[ 1.          2.55555556  4.11111111  5.66666667  7.22222222  8.77777778\n",
      " 10.33333333 11.88888889 13.44444444 15.        ]\n"
     ]
    }
   ],
   "source": [
    "import numpy as np\n",
    "\n",
    "a=np.linspace(1,15,10)\n",
    "print(a)"
   ]
  },
  {
   "cell_type": "code",
   "execution_count": 71,
   "id": "56f02960",
   "metadata": {},
   "outputs": [
    {
     "name": "stdout",
     "output_type": "stream",
     "text": [
      "[10 13 16]\n"
     ]
    }
   ],
   "source": [
    "import numpy as np\n",
    "\n",
    "a=np.array([(1,2,3),(3,4,5),(6,7,8)])\n",
    "print(a.sum(axis=0))"
   ]
  },
  {
   "cell_type": "code",
   "execution_count": 3,
   "id": "3f7a1ee5",
   "metadata": {},
   "outputs": [
    {
     "name": "stdout",
     "output_type": "stream",
     "text": [
      "[ 6 12]\n"
     ]
    }
   ],
   "source": [
    "import numpy as np\n",
    "\n",
    "a= np.array([(1,2,3),(2,4,6)])\n",
    "print(a.sum(axis=1))"
   ]
  },
  {
   "cell_type": "code",
   "execution_count": 6,
   "id": "a3d204fd",
   "metadata": {},
   "outputs": [
    {
     "name": "stdout",
     "output_type": "stream",
     "text": [
      "[[ 3  6  9]\n",
      " [12 15 18]]\n",
      "[[-1 -2 -3]\n",
      " [-4 -5 -6]]\n",
      "[[ 2  8 18]\n",
      " [32 50 72]]\n",
      "[[0.5 0.5 0.5]\n",
      " [0.5 0.5 0.5]]\n"
     ]
    }
   ],
   "source": [
    "import numpy as np\n",
    "a=np.array([(1,2,3),(4,5,6)])\n",
    "b=np.array([(2,4,6),(8,10,12)])\n",
    "print(a+b) \n",
    "print(a-b)\n",
    "print(a*b)\n",
    "print(a/b)"
   ]
  },
  {
   "cell_type": "code",
   "execution_count": 5,
   "id": "7e9a4524",
   "metadata": {},
   "outputs": [
    {
     "name": "stdout",
     "output_type": "stream",
     "text": [
      "[1.         1.41421356 1.73205081 2.         2.23606798 2.44948974]\n",
      "1.707825127659933\n"
     ]
    }
   ],
   "source": [
    "import numpy as np\n",
    "a=np.array([1,2,3,4,5,6])\n",
    "print(np.sqrt(a))\n",
    "print(np.std(a))"
   ]
  },
  {
   "cell_type": "code",
   "execution_count": 8,
   "id": "525a8df5",
   "metadata": {},
   "outputs": [
    {
     "name": "stdout",
     "output_type": "stream",
     "text": [
      "[[ 3  6  9]\n",
      " [12 15 18]]\n",
      "[ 3  6  9 12 15 18]\n"
     ]
    }
   ],
   "source": [
    "import numpy as np\n",
    "a=np.array([(1,2,3),(4,5,6)])\n",
    "b=np.array([(2,4,6),(8,10,12)])\n",
    "print(np.vstack(a+b))\n",
    "print(np.hstack(a+b))"
   ]
  },
  {
   "cell_type": "markdown",
   "id": "f8703e80",
   "metadata": {},
   "source": [
    "# Special Functions"
   ]
  },
  {
   "cell_type": "code",
   "execution_count": 13,
   "id": "47fd4a8b",
   "metadata": {},
   "outputs": [
    {
     "data": {
      "image/png": "[encoded data removed]",
      "text/plain": [
       "<Figure size 432x288 with 1 Axes>"
      ]
     },
     "metadata": {
      "needs_background": "light"
     },
     "output_type": "display_data"
    }
   ],
   "source": [
    "import numpy as np\n",
    "import matplotlib.pyplot as plt\n",
    "\n",
    "x=np.arange(0,3*np.pi,0.1)\n",
    "y=np.sin(x)\n",
    "plt.plot(x,y)\n",
    "plt.show()"
   ]
  },
  {
   "cell_type": "code",
   "execution_count": 14,
   "id": "6758b835",
   "metadata": {},
   "outputs": [
    {
     "name": "stdout",
     "output_type": "stream",
     "text": [
      "[ 2.71828183  7.3890561  20.08553692]\n"
     ]
    }
   ],
   "source": [
    "a=np.array([1,2,3])\n",
    "print(np.exp(a))"
   ]
  },
  {
   "cell_type": "code",
   "execution_count": 15,
   "id": "f43136f5",
   "metadata": {},
   "outputs": [
    {
     "name": "stdout",
     "output_type": "stream",
     "text": [
      "[0.         0.69314718 1.09861229]\n",
      "[0.         0.30103    0.47712125]\n"
     ]
    }
   ],
   "source": [
    "a=np.array([1,2,3])\n",
    "print(np.log(a))\n",
    "print(np.log10(a))\n"
   ]
  },
  {
   "cell_type": "code",
   "execution_count": 12,
   "id": "f45176a7",
   "metadata": {},
   "outputs": [
    {
     "name": "stdout",
     "output_type": "stream",
     "text": [
      "{'Student': {'Joe': {'Python': 86, 'C++': 79, 'Java': 66, 'AI': 92}, 'Lobo': {'Python': 66, 'C++': 99, 'Java': 56, 'AI': 42}, 'Phoebe': {'Python': 96, 'C++': 59, 'Java': 46, 'AI': 95}, 'Roy': {'Python': 46, 'C++': 79, 'Java': 86, 'AI': 62}, 'Ricki': {'Python': 42, 'C++': 79, 'Java': 78, 'AI': 66}}}\n",
      "        Joe  Lobo  Phoebe  Roy  Ricki\n",
      "Python   86    66      96   46     42\n",
      "C++      79    99      59   79     79\n",
      "Java     66    56      46   86     78\n",
      "AI       92    42      95   62     66\n"
     ]
    },
    {
     "ename": "TypeError",
     "evalue": "unhashable type: 'dict'",
     "output_type": "error",
     "traceback": [
      "\u001b[1;31m---------------------------------------------------------------------------\u001b[0m",
      "\u001b[1;31mTypeError\u001b[0m                                 Traceback (most recent call last)",
      "\u001b[1;32m<ipython-input-12-56a18bc9a975>\u001b[0m in \u001b[0;36m<module>\u001b[1;34m\u001b[0m\n\u001b[0;32m      9\u001b[0m     \u001b[0mmarks\u001b[0m\u001b[1;33m=\u001b[0m\u001b[1;36m0\u001b[0m\u001b[1;33m\u001b[0m\u001b[1;33m\u001b[0m\u001b[0m\n\u001b[0;32m     10\u001b[0m     \u001b[1;32mfor\u001b[0m \u001b[0mj\u001b[0m \u001b[1;32min\u001b[0m \u001b[0mstudent\u001b[0m\u001b[1;33m.\u001b[0m\u001b[0mvalues\u001b[0m\u001b[1;33m(\u001b[0m\u001b[1;33m)\u001b[0m\u001b[1;33m:\u001b[0m\u001b[1;33m\u001b[0m\u001b[1;33m\u001b[0m\u001b[0m\n\u001b[1;32m---> 11\u001b[1;33m         \u001b[0mmarks\u001b[0m\u001b[1;33m+=\u001b[0m\u001b[0mstudent\u001b[0m\u001b[1;33m[\u001b[0m\u001b[0mj\u001b[0m\u001b[1;33m]\u001b[0m\u001b[1;33m\u001b[0m\u001b[1;33m\u001b[0m\u001b[0m\n\u001b[0m\u001b[0;32m     12\u001b[0m     \u001b[0mprint\u001b[0m\u001b[1;33m(\u001b[0m\u001b[0mmarks\u001b[0m\u001b[1;33m)\u001b[0m\u001b[1;33m\u001b[0m\u001b[1;33m\u001b[0m\u001b[0m\n\u001b[0;32m     13\u001b[0m \u001b[1;33m\u001b[0m\u001b[0m\n",
      "\u001b[1;31mTypeError\u001b[0m: unhashable type: 'dict'"
     ]
    }
   ],
   "source": [
    "import pandas as pd\n",
    "student={\"Student\": {\"Joe\":{\"Python\":86,\"C++\":79,\"Java\":66,\"AI\":92},\"Lobo\":{\"Python\":66,\"C++\":99,\"Java\":56,\"AI\":42},\"Phoebe\":{\"Python\":96,\"C++\":59,\"Java\":46,\"AI\":95},\"Roy\":{\"Python\":46,\"C++\":79,\"Java\":86,\"AI\":62},\"Ricki\":{\"Python\":42,\"C++\":79,\"Java\":78,\"AI\":66}}}\n",
    "print(student)\n",
    "\n",
    "df=pd.DataFrame(student['Student'])\n",
    "print(df)\n",
    "\n",
    "for i in student:\n",
    "    marks=0\n",
    "    for j in student.values():\n",
    "        marks+=student[j]\n",
    "    print(marks)\n",
    "    "
   ]
  },
  {
   "cell_type": "code",
   "execution_count": 6,
   "id": "7ee954ae",
   "metadata": {},
   "outputs": [
    {
     "ename": "ValueError",
     "evalue": "too many values to unpack (expected 2)",
     "output_type": "error",
     "traceback": [
      "\u001b[1;31m---------------------------------------------------------------------------\u001b[0m",
      "\u001b[1;31mValueError\u001b[0m                                Traceback (most recent call last)",
      "\u001b[1;32m<ipython-input-6-d5bc22d01f22>\u001b[0m in \u001b[0;36m<module>\u001b[1;34m\u001b[0m\n\u001b[1;32m----> 1\u001b[1;33m \u001b[1;32mfor\u001b[0m \u001b[0mi\u001b[0m\u001b[1;33m,\u001b[0m\u001b[0mj\u001b[0m \u001b[1;32min\u001b[0m \u001b[0mstudent\u001b[0m\u001b[1;33m:\u001b[0m\u001b[1;33m\u001b[0m\u001b[1;33m\u001b[0m\u001b[0m\n\u001b[0m\u001b[0;32m      2\u001b[0m     \u001b[0mmarks\u001b[0m\u001b[1;33m+=\u001b[0m\u001b[0mvalue\u001b[0m\u001b[1;33m(\u001b[0m\u001b[0mi\u001b[0m\u001b[1;33m,\u001b[0m\u001b[0mj\u001b[0m\u001b[1;33m)\u001b[0m\u001b[1;33m\u001b[0m\u001b[1;33m\u001b[0m\u001b[0m\n\u001b[0;32m      3\u001b[0m \u001b[0mprint\u001b[0m\u001b[1;33m(\u001b[0m\u001b[0mmarks\u001b[0m\u001b[1;33m)\u001b[0m\u001b[1;33m\u001b[0m\u001b[1;33m\u001b[0m\u001b[0m\n",
      "\u001b[1;31mValueError\u001b[0m: too many values to unpack (expected 2)"
     ]
    }
   ],
   "source": [
    "for i,j in student:\n",
    "    marks+=value(i,j)\n",
    "print(marks)    "
   ]
  },
  {
   "cell_type": "code",
   "execution_count": 2,
   "id": "e6d87ca4",
   "metadata": {},
   "outputs": [
    {
     "name": "stdout",
     "output_type": "stream",
     "text": [
      "Frineds\n"
     ]
    }
   ],
   "source": [
    "Tv = {'BreakingBad':100, 'GameOfThrones':1292, 'TMKOC' : 88,'Friends':4460}\n",
    " \n",
    "Keymax = max(zip(Tv.values(), Tv.keys()))[1]\n",
    "print(Keymax)"
   ]
  },
  {
   "cell_type": "code",
   "execution_count": 1,
   "id": "9ae047e8",
   "metadata": {},
   "outputs": [
    {
     "name": "stdout",
     "output_type": "stream",
     "text": [
      "5\n",
      "jeery\n",
      "35\n",
      "herr\n",
      "34\n",
      "hurr\n",
      "33\n",
      "juk\n",
      "34\n",
      "yup\n",
      "32\n",
      "hurr\n"
     ]
    }
   ],
   "source": [
    "    l1=[]\n",
    "    for _ in range(int(input())):\n",
    "        name = input()\n",
    "        score = float(input())\n",
    "        l=[name,score]\n",
    "        l1.append(l)\n",
    "    \n",
    "    l1.sort()\n",
    "    min_mark = l1[0][0]\n",
    "    count = 0\n",
    "    for i in range(len(l1)):\n",
    "        if min_mark == l1[i][0]:\n",
    "            count = count+1\n",
    "    if count >= 1:\n",
    "        for j in range(count):\n",
    "            l1.pop(0)\n",
    "    nd_min_mark = l1[0][0]\n",
    "    for i in range(len(l1)):\n",
    "        if nd_min_mark == l1[i][0]:\n",
    "            print(l1[i][0])"
   ]
  },
  {
   "cell_type": "markdown",
   "id": "f802a5d5",
   "metadata": {},
   "source": [
    "# SCIPY\n"
   ]
  },
  {
   "cell_type": "code",
   "execution_count": 2,
   "id": "659e1b73",
   "metadata": {},
   "outputs": [
    {
     "name": "stdout",
     "output_type": "stream",
     "text": [
      "Help on package scipy.cluster in scipy:\n",
      "\n",
      "NAME\n",
      "    scipy.cluster\n",
      "\n",
      "DESCRIPTION\n",
      "    =========================================\n",
      "    Clustering package (:mod:`scipy.cluster`)\n",
      "    =========================================\n",
      "    \n",
      "    .. currentmodule:: scipy.cluster\n",
      "    \n",
      "    :mod:`scipy.cluster.vq`\n",
      "    \n",
      "    Clustering algorithms are useful in information theory, target detection,\n",
      "    communications, compression, and other areas. The `vq` module only\n",
      "    supports vector quantization and the k-means algorithms.\n",
      "    \n",
      "    :mod:`scipy.cluster.hierarchy`\n",
      "    \n",
      "    The `hierarchy` module provides functions for hierarchical and\n",
      "    agglomerative clustering.  Its features include generating hierarchical\n",
      "    clusters from distance matrices,\n",
      "    calculating statistics on clusters, cutting linkages\n",
      "    to generate flat clusters, and visualizing clusters with dendrograms.\n",
      "\n",
      "PACKAGE CONTENTS\n",
      "    _hierarchy\n",
      "    _optimal_leaf_ordering\n",
      "    _vq\n",
      "    hierarchy\n",
      "    setup\n",
      "    tests (package)\n",
      "    vq\n",
      "\n",
      "DATA\n",
      "    __all__ = ['vq', 'hierarchy']\n",
      "\n",
      "FILE\n",
      "    c:\\users\\lenovo\\anaconda3\\lib\\site-packages\\scipy\\cluster\\__init__.py\n",
      "\n",
      "\n"
     ]
    }
   ],
   "source": [
    "from scipy import cluster\n",
    "help(cluster)"
   ]
  },
  {
   "cell_type": "code",
   "execution_count": 3,
   "id": "29274cd1",
   "metadata": {},
   "outputs": [
    {
     "name": "stdout",
     "output_type": "stream",
     "text": [
      "\n",
      "Welcome to Python 3.8's help utility!\n",
      "\n",
      "If this is your first time using Python, you should definitely check out\n",
      "the tutorial on the Internet at https://docs.python.org/3.8/tutorial/.\n",
      "\n",
      "Enter the name of any module, keyword, or topic to get help on writing\n",
      "Python programs and using Python modules.  To quit this help utility and\n",
      "return to the interpreter, just type \"quit\".\n",
      "\n",
      "To get a list of available modules, keywords, symbols, or topics, type\n",
      "\"modules\", \"keywords\", \"symbols\", or \"topics\".  Each module also comes\n",
      "with a one-line summary of what it does; to list the modules whose name\n",
      "or summary contain a given string such as \"spam\", type \"modules spam\".\n",
      "\n",
      "help> cluster\n",
      "No Python documentation found for 'cluster'.\n",
      "Use help() to get the interactive help utility.\n",
      "Use help(str) for help on the str class.\n",
      "\n",
      "help> quit\n",
      "\n",
      "You are now leaving help and returning to the Python interpreter.\n",
      "If you want to ask for help on a particular object directly from the\n",
      "interpreter, you can type \"help(object)\".  Executing \"help('string')\"\n",
      "has the same effect as typing a particular string at the help> prompt.\n"
     ]
    }
   ],
   "source": [
    "help()"
   ]
  },
  {
   "cell_type": "code",
   "execution_count": 6,
   "id": "1150163a",
   "metadata": {},
   "outputs": [
    {
     "name": "stdout",
     "output_type": "stream",
     "text": [
      "=========================================\n",
      "Clustering package (:mod:`scipy.cluster`)\n",
      "=========================================\n",
      "\n",
      ".. currentmodule:: scipy.cluster\n",
      "\n",
      ":mod:`scipy.cluster.vq`\n",
      "\n",
      "Clustering algorithms are useful in information theory, target detection,\n",
      "communications, compression, and other areas. The `vq` module only\n",
      "supports vector quantization and the k-means algorithms.\n",
      "\n",
      ":mod:`scipy.cluster.hierarchy`\n",
      "\n",
      "The `hierarchy` module provides functions for hierarchical and\n",
      "agglomerative clustering.  Its features include generating hierarchical\n",
      "clusters from distance matrices,\n",
      "calculating statistics on clusters, cutting linkages\n",
      "to generate flat clusters, and visualizing clusters with dendrograms.\n"
     ]
    },
    {
     "name": "stderr",
     "output_type": "stream",
     "text": [
      "<ipython-input-6-ef44e9371b0d>:2: DeprecationWarning: scipy.info is deprecated and will be removed in SciPy 2.0.0, use numpy.info instead\n",
      "  scipy.info(cluster)\n"
     ]
    }
   ],
   "source": [
    "import scipy\n",
    "scipy.info(cluster)"
   ]
  },
  {
   "cell_type": "code",
   "execution_count": 7,
   "id": "a567d3ca",
   "metadata": {},
   "outputs": [
    {
     "name": "stdout",
     "output_type": "stream",
     "text": [
      "In file: C:\\Users\\LENOVO\\anaconda3\\lib\\site-packages\\scipy\\cluster\\__init__.py\n",
      "\n",
      "\"\"\"\n",
      "=========================================\n",
      "Clustering package (:mod:`scipy.cluster`)\n",
      "=========================================\n",
      "\n",
      ".. currentmodule:: scipy.cluster\n",
      "\n",
      ":mod:`scipy.cluster.vq`\n",
      "\n",
      "Clustering algorithms are useful in information theory, target detection,\n",
      "communications, compression, and other areas. The `vq` module only\n",
      "supports vector quantization and the k-means algorithms.\n",
      "\n",
      ":mod:`scipy.cluster.hierarchy`\n",
      "\n",
      "The `hierarchy` module provides functions for hierarchical and\n",
      "agglomerative clustering.  Its features include generating hierarchical\n",
      "clusters from distance matrices,\n",
      "calculating statistics on clusters, cutting linkages\n",
      "to generate flat clusters, and visualizing clusters with dendrograms.\n",
      "\n",
      "\"\"\"\n",
      "__all__ = ['vq', 'hierarchy']\n",
      "\n",
      "from . import vq, hierarchy\n",
      "\n",
      "from scipy._lib._testutils import PytestTester\n",
      "test = PytestTester(__name__)\n",
      "del PytestTester\n",
      "\n"
     ]
    },
    {
     "name": "stderr",
     "output_type": "stream",
     "text": [
      "<ipython-input-7-7c3327541f9e>:1: DeprecationWarning: scipy.source is deprecated and will be removed in SciPy 2.0.0, use numpy.source instead\n",
      "  scipy.source(cluster)\n"
     ]
    }
   ],
   "source": [
    "scipy.source(cluster)"
   ]
  },
  {
   "cell_type": "markdown",
   "id": "d087341f",
   "metadata": {},
   "source": [
    "## Special"
   ]
  },
  {
   "cell_type": "code",
   "execution_count": 8,
   "id": "fb332db6",
   "metadata": {},
   "outputs": [
    {
     "data": {
      "text/plain": [
       "100.0"
      ]
     },
     "execution_count": 8,
     "metadata": {},
     "output_type": "execute_result"
    }
   ],
   "source": [
    "from scipy import special\n",
    "a=special.exp10(2);\n",
    "a"
   ]
  },
  {
   "cell_type": "code",
   "execution_count": 12,
   "id": "f2581321",
   "metadata": {},
   "outputs": [
    {
     "data": {
      "text/plain": [
       "8.0"
      ]
     },
     "execution_count": 12,
     "metadata": {},
     "output_type": "execute_result"
    }
   ],
   "source": [
    "\n",
    "b=special.exp2(3);\n",
    "b"
   ]
  },
  {
   "cell_type": "code",
   "execution_count": 14,
   "id": "683083bc",
   "metadata": {},
   "outputs": [
    {
     "data": {
      "text/plain": [
       "4.0"
      ]
     },
     "execution_count": 14,
     "metadata": {},
     "output_type": "execute_result"
    }
   ],
   "source": [
    "c=special.exp2(2);\n",
    "c"
   ]
  },
  {
   "cell_type": "code",
   "execution_count": 15,
   "id": "dc53c6b9",
   "metadata": {},
   "outputs": [
    {
     "data": {
      "text/plain": [
       "1.0"
      ]
     },
     "execution_count": 15,
     "metadata": {},
     "output_type": "execute_result"
    }
   ],
   "source": [
    "d=special.sindg(90);\n",
    "d"
   ]
  },
  {
   "cell_type": "code",
   "execution_count": 17,
   "id": "90319381",
   "metadata": {},
   "outputs": [
    {
     "data": {
      "text/plain": [
       "-1.0"
      ]
     },
     "execution_count": 17,
     "metadata": {},
     "output_type": "execute_result"
    }
   ],
   "source": [
    "e=special.cosdg(180)\n",
    "e"
   ]
  },
  {
   "cell_type": "code",
   "execution_count": 18,
   "id": "9264d64a",
   "metadata": {},
   "outputs": [
    {
     "data": {
      "text/plain": [
       "inf"
      ]
     },
     "execution_count": 18,
     "metadata": {},
     "output_type": "execute_result"
    }
   ],
   "source": [
    "f=special.tandg(90)\n",
    "f"
   ]
  },
  {
   "cell_type": "markdown",
   "id": "f7a9f125",
   "metadata": {},
   "source": [
    "## Integration Functions"
   ]
  },
  {
   "cell_type": "code",
   "execution_count": 22,
   "id": "81b9ea76",
   "metadata": {},
   "outputs": [
    {
     "name": "stdout",
     "output_type": "stream",
     "text": [
      "(42.99515370842193, 4.773420959438771e-13)\n"
     ]
    }
   ],
   "source": [
    "from scipy import integrate\n",
    "i=scipy.integrate.quad(lambda x:special.exp10(x),0,2)\n",
    "print(i)"
   ]
  },
  {
   "cell_type": "code",
   "execution_count": 23,
   "id": "9fc714ed",
   "metadata": {},
   "outputs": [
    {
     "data": {
      "text/plain": [
       "(-0.0, 4.405142707569776e-14)"
      ]
     },
     "execution_count": 23,
     "metadata": {},
     "output_type": "execute_result"
    }
   ],
   "source": [
    "e=lambda x,y:x*y**2\n",
    "f=lambda x:1\n",
    "g=lambda x:-1\n",
    "integrate.dblquad(e,0,2,f,g)"
   ]
  },
  {
   "cell_type": "markdown",
   "id": "eb6afd0f",
   "metadata": {},
   "source": [
    "## Fourier Transform "
   ]
  },
  {
   "cell_type": "code",
   "execution_count": 4,
   "id": "b4624ba1",
   "metadata": {},
   "outputs": [
    {
     "name": "stdout",
     "output_type": "stream",
     "text": [
      "[ 6. -0.j        -1.5+0.8660254j -1.5-0.8660254j]\n",
      "[ 2. -0.j         -0.5-0.28867513j -0.5+0.28867513j]\n"
     ]
    }
   ],
   "source": [
    "from scipy.fftpack import fft,ifft\n",
    "import numpy as np\n",
    "a=np.array([1,2,3])\n",
    "b=fft(a)\n",
    "c=ifft(a)\n",
    "print(b)\n",
    "print(c)"
   ]
  },
  {
   "cell_type": "markdown",
   "id": "91bebbe9",
   "metadata": {},
   "source": [
    "## Linear algebra"
   ]
  },
  {
   "cell_type": "code",
   "execution_count": 8,
   "id": "fc8d060f",
   "metadata": {},
   "outputs": [
    {
     "name": "stdout",
     "output_type": "stream",
     "text": [
      "[[-2.   1.   8. ]\n",
      " [ 1.5 -0.5 -6.5]\n",
      " [ 0.   0.   1. ]]\n"
     ]
    }
   ],
   "source": [
    "from scipy import linalg\n",
    "import numpy as np\n",
    "a=np.array([[1,2,5],[3,4,2],[0,0,1]])\n",
    "b=linalg.inv(a)\n",
    "print(b)\n"
   ]
  },
  {
   "cell_type": "markdown",
   "id": "7c6ccc97",
   "metadata": {},
   "source": [
    "## Interpolation Functions "
   ]
  },
  {
   "cell_type": "code",
   "execution_count": 21,
   "id": "794ed50f",
   "metadata": {},
   "outputs": [
    {
     "ename": "AttributeError",
     "evalue": "module 'scipy.interpolate' has no attribute 'interpld'",
     "output_type": "error",
     "traceback": [
      "\u001b[1;31m---------------------------------------------------------------------------\u001b[0m",
      "\u001b[1;31mAttributeError\u001b[0m                            Traceback (most recent call last)",
      "\u001b[1;32m<ipython-input-21-a6f5ef066c9e>\u001b[0m in \u001b[0;36m<module>\u001b[1;34m\u001b[0m\n\u001b[0;32m      3\u001b[0m \u001b[0mx\u001b[0m\u001b[1;33m=\u001b[0m\u001b[0mnp\u001b[0m\u001b[1;33m.\u001b[0m\u001b[0marange\u001b[0m\u001b[1;33m(\u001b[0m\u001b[1;36m5\u001b[0m\u001b[1;33m,\u001b[0m\u001b[1;36m20\u001b[0m\u001b[1;33m)\u001b[0m\u001b[1;33m\u001b[0m\u001b[1;33m\u001b[0m\u001b[0m\n\u001b[0;32m      4\u001b[0m \u001b[0my\u001b[0m\u001b[1;33m=\u001b[0m\u001b[0mnp\u001b[0m\u001b[1;33m.\u001b[0m\u001b[0mexp\u001b[0m\u001b[1;33m(\u001b[0m\u001b[0mx\u001b[0m\u001b[1;33m/\u001b[0m\u001b[1;36m3.0\u001b[0m\u001b[1;33m)\u001b[0m\u001b[1;33m\u001b[0m\u001b[1;33m\u001b[0m\u001b[0m\n\u001b[1;32m----> 5\u001b[1;33m \u001b[0mf\u001b[0m\u001b[1;33m=\u001b[0m\u001b[0minterpolate\u001b[0m\u001b[1;33m.\u001b[0m\u001b[0minterpld\u001b[0m\u001b[1;33m(\u001b[0m\u001b[0mx\u001b[0m\u001b[1;33m,\u001b[0m\u001b[0my\u001b[0m\u001b[1;33m)\u001b[0m\u001b[1;33m\u001b[0m\u001b[1;33m\u001b[0m\u001b[0m\n\u001b[0m\u001b[0;32m      6\u001b[0m \u001b[0mx1\u001b[0m\u001b[1;33m=\u001b[0m\u001b[0mnp\u001b[0m\u001b[1;33m.\u001b[0m\u001b[0marange\u001b[0m\u001b[1;33m(\u001b[0m\u001b[1;36m6\u001b[0m\u001b[1;33m,\u001b[0m\u001b[1;36m12\u001b[0m\u001b[1;33m)\u001b[0m\u001b[1;33m\u001b[0m\u001b[1;33m\u001b[0m\u001b[0m\n\u001b[0;32m      7\u001b[0m \u001b[0my1\u001b[0m\u001b[1;33m=\u001b[0m\u001b[0mf\u001b[0m\u001b[1;33m(\u001b[0m\u001b[0mx1\u001b[0m\u001b[1;33m)\u001b[0m\u001b[1;33m\u001b[0m\u001b[1;33m\u001b[0m\u001b[0m\n",
      "\u001b[1;31mAttributeError\u001b[0m: module 'scipy.interpolate' has no attribute 'interpld'"
     ]
    }
   ],
   "source": [
    "import matplotlib.pyplot as plt\n",
    "from scipy import interpolate\n",
    "x=np.arange(5,20)\n",
    "y=np.exp(x/3.0)\n",
    "f=interpolate.interpld(x,y)\n",
    "x1=np.arange(6,12)\n",
    "y1=f(x1)\n",
    "plt.plot(x,y,'o',x1,y1,'--')\n",
    "plt.show()"
   ]
  },
  {
   "cell_type": "markdown",
   "id": "351ab69e",
   "metadata": {},
   "source": [
    "# Pandas"
   ]
  },
  {
   "cell_type": "code",
   "execution_count": 25,
   "id": "d12d0bd3",
   "metadata": {},
   "outputs": [
    {
     "name": "stdout",
     "output_type": "stream",
     "text": [
      "   Days  Visits  Bounce_rate\n",
      "0     1    1000           20\n",
      "1     2     200           12\n",
      "2     3    6000           24\n",
      "3     4     400           45\n",
      "4     5     500           50\n",
      "5     6     790           55\n",
      "   Days  Visits  Bounce_rate\n",
      "0     1    1000           20\n",
      "1     2     200           12\n"
     ]
    }
   ],
   "source": [
    "import pandas as pd\n",
    "web_dict={'Days':[1,2,3,4,5,6],'Visits':[1000,200,6000,400,500,790],'Bounce_rate':[20,12,24,45,50,55]}\n",
    "df=pd.DataFrame(web_dict)\n",
    "print(df)\n",
    "\n"
   ]
  },
  {
   "cell_type": "code",
   "execution_count": 26,
   "id": "4d2da87b",
   "metadata": {},
   "outputs": [
    {
     "name": "stdout",
     "output_type": "stream",
     "text": [
      "   Days  Visits  Bounce_rate\n",
      "0     1    1000           20\n",
      "1     2     200           12\n"
     ]
    }
   ],
   "source": [
    "print(df.head(2))"
   ]
  },
  {
   "cell_type": "code",
   "execution_count": 27,
   "id": "8a6d63fd",
   "metadata": {},
   "outputs": [
    {
     "name": "stdout",
     "output_type": "stream",
     "text": [
      "   Days  Visits  Bounce_rate\n",
      "3     4     400           45\n",
      "4     5     500           50\n",
      "5     6     790           55\n"
     ]
    }
   ],
   "source": [
    "print(df.tail(3))"
   ]
  },
  {
   "cell_type": "code",
   "execution_count": 40,
   "id": "2bb3fbeb",
   "metadata": {},
   "outputs": [
    {
     "name": "stdout",
     "output_type": "stream",
     "text": [
      "   HPI_x  Int_rate  IND_GDP_x  index_x  HPI_y  IND_GDP_y  index_y\n",
      "0     80         2         50     2001     80         50     2005\n",
      "1     80         2         50     2001     70         40     2007\n",
      "2     70         2         40     2003     80         50     2005\n",
      "3     70         2         40     2003     70         40     2007\n",
      "4     90         1         45     2002     90         45     2006\n",
      "5     60         3         30     2004     60         30     2008\n"
     ]
    }
   ],
   "source": [
    "import pandas as pd\n",
    "df1=pd.DataFrame({'HPI':[80,90,70,60],'Int_rate':[2,1,2,3],\"IND_GDP\":[50,45,40,30],'index':[2001,2002,2003,2004]})\n",
    "df2=pd.DataFrame({'HPI':[80,90,70,60],'Int_rate':[2,1,2,3],\"IND_GDP\":[50,45,40,30],'index':[2005,2006,2007,2008]})\n",
    "merge=pd.merge(df1,df2,on='Int_rate'and'HPI'and'IND_GDP')\n",
    "print(merge)"
   ]
  },
  {
   "cell_type": "code",
   "execution_count": 6,
   "id": "a859fc05",
   "metadata": {},
   "outputs": [
    {
     "name": "stdout",
     "output_type": "stream",
     "text": [
      "      HPI  Int_rate  Lower_HPI  Unemployment\n",
      "2001   80         2       20.0           1.0\n",
      "2003   90         1       40.0           3.0\n",
      "2009   70         2        NaN           NaN\n",
      "2004   60         3       50.0           5.0\n"
     ]
    }
   ],
   "source": [
    "import pandas as pd\n",
    "df1=pd.DataFrame({'HPI':[80,90,70,60],'Int_rate':[2,1,2,3]},index=[2001,2003,2009,2004])\n",
    "df2=pd.DataFrame({'Lower_HPI':[20,30,40,50],\"Unemployment\":[1,2,3,5]},index=[2001,2006,2003,2004])\n",
    "joined=df1.join(df2)\n",
    "print(joined)"
   ]
  },
  {
   "cell_type": "code",
   "execution_count": 19,
   "id": "8f7b8dd6",
   "metadata": {},
   "outputs": [
    {
     "name": "stdout",
     "output_type": "stream",
     "text": [
      "   Day  Visitors  Bounce_rate\n",
      "0    1       200           12\n",
      "1    2       300           33\n",
      "2    3       256           45\n",
      "3    4       399           21\n",
      "     Visitors  Bounce_rate\n",
      "Day                       \n",
      "1         200           12\n",
      "2         300           33\n",
      "3         256           45\n",
      "4         399           21\n"
     ]
    },
    {
     "data": {
      "image/png": "[encoded data removed]",
      "text/plain": [
       "<Figure size 432x288 with 1 Axes>"
      ]
     },
     "metadata": {},
     "output_type": "display_data"
    },
    {
     "name": "stdout",
     "output_type": "stream",
     "text": [
      "     Users  Bounce_rate\n",
      "Day                    \n",
      "1      200           12\n",
      "2      300           33\n",
      "3      256           45\n",
      "4      399           21\n"
     ]
    }
   ],
   "source": [
    "import pandas as pd\n",
    "import matplotlib.pyplot as plt\n",
    "from matplotlib import style\n",
    "style.use(\"fivethirtyeight\")\n",
    "df=pd.DataFrame({\"Day\":[1,2,3,4],\"Visitors\":[200,300,256,399],\"Bounce_rate\":[12,33,45,21]})\n",
    "print(df)\n",
    "df.set_index(\"Day\",inplace=True)\n",
    "\n",
    "print(df)\n",
    "df.plot()\n",
    "plt.show()\n",
    "\n",
    "df=df.rename(columns={\"Visitors\":\"Users\"})\n",
    "print(df)"
   ]
  },
  {
   "cell_type": "code",
   "execution_count": 24,
   "id": "8e0554f7",
   "metadata": {},
   "outputs": [
    {
     "name": "stdout",
     "output_type": "stream",
     "text": [
      "      HPI  Int_rate  IND_GDP\n",
      "2001   80         2       50\n",
      "2002   90         1       45\n",
      "2003   70         2       40\n",
      "2004   60         3       30\n",
      "2005   80         2       50\n",
      "2006   90         1       45\n",
      "2007   70         2       40\n",
      "2008   60         3       30\n"
     ]
    }
   ],
   "source": [
    "import pandas as pd\n",
    "df1=pd.DataFrame({'HPI':[80,90,70,60],'Int_rate':[2,1,2,3],\"IND_GDP\":[50,45,40,30]},index=[2001,2002,2003,2004])\n",
    "df2=pd.DataFrame({'HPI':[80,90,70,60],'Int_rate':[2,1,2,3],\"IND_GDP\":[50,45,40,30]},index=[2005,2006,2007,2008])\n",
    "concat=pd.concat([df1,df2])\n",
    "print(concat)"
   ]
  },
  {
   "cell_type": "code",
   "execution_count": 26,
   "id": "c48ea162",
   "metadata": {},
   "outputs": [
    {
     "name": "stdout",
     "output_type": "stream",
     "text": [
      "2.4444444444444446\n"
     ]
    }
   ],
   "source": [
    "from statistics import mean\n",
    "mean=mean([1,1,1,2,3,3,4,2,5])\n",
    "print(mean)\n"
   ]
  },
  {
   "cell_type": "code",
   "execution_count": 27,
   "id": "0a50e6cd",
   "metadata": {},
   "outputs": [
    {
     "name": "stdout",
     "output_type": "stream",
     "text": [
      "2.0\n"
     ]
    }
   ],
   "source": [
    "from statistics import median\n",
    "median=median([1,1,2,3,4,2,2,2])\n",
    "print(median)"
   ]
  },
  {
   "cell_type": "code",
   "execution_count": 29,
   "id": "1253aaac",
   "metadata": {},
   "outputs": [
    {
     "name": "stdout",
     "output_type": "stream",
     "text": [
      "1\n"
     ]
    }
   ],
   "source": [
    "from statistics import mode\n",
    "mode=mode([1,1,2,3,4,5])\n",
    "print(mode)"
   ]
  },
  {
   "cell_type": "code",
   "execution_count": 31,
   "id": "a6882d2f",
   "metadata": {},
   "outputs": [
    {
     "name": "stdout",
     "output_type": "stream",
     "text": [
      "2.238095238095238\n"
     ]
    }
   ],
   "source": [
    "from statistics import variance\n",
    "var=variance([1,2,3,1,3,4,5])\n",
    "print(var)"
   ]
  },
  {
   "cell_type": "code",
   "execution_count": 33,
   "id": "ba35ad08",
   "metadata": {},
   "outputs": [
    {
     "data": {
      "image/png": "[encoded data removed]",
      "text/plain": [
       "<Figure size 432x288 with 1 Axes>"
      ]
     },
     "metadata": {},
     "output_type": "display_data"
    }
   ],
   "source": [
    "import matplotlib.pyplot as plt\n",
    "import numpy as np\n",
    "a=[10,30,40,50,60]\n",
    "b=[230,340,550,670,800]\n",
    "plt.plot(a,b)\n",
    "plt.show()"
   ]
  },
  {
   "cell_type": "code",
   "execution_count": 8,
   "id": "3e9c576e",
   "metadata": {},
   "outputs": [
    {
     "data": {
      "image/png": "[encoded data removed]",
      "text/plain": [
       "<Figure size 432x288 with 1 Axes>"
      ]
     },
     "metadata": {},
     "output_type": "display_data"
    }
   ],
   "source": [
    "import matplotlib.pyplot as plt\n",
    "from matplotlib import style\n",
    "style.use(\"ggplot\")\n",
    "x=[21,33,56,67]\n",
    "y=[10,20,30,40]\n",
    "x1=[22,30,40,80]\n",
    "y1=[20,30,45,56]\n",
    "\n",
    "plt.plot(x,y,\"g\",label=\"Line-1\",linewidth=5,linestyle=\"dotted\")\n",
    "plt.plot(x1,y1,\"y\",label=\"Line-2\",linewidth=5)\n",
    "plt.title(\"Info\")\n",
    "plt.ylabel(\"Y-axis\")\n",
    "plt.xlabel(\"X-axis\")\n",
    "plt.legend()\n",
    "plt.grid(True,color=\"k\")\n",
    "plt.show()\n"
   ]
  },
  {
   "cell_type": "code",
   "execution_count": 12,
   "id": "de7c1e9c",
   "metadata": {},
   "outputs": [
    {
     "data": {
      "image/png": "[encoded data removed]",
      "text/plain": [
       "<Figure size 432x288 with 1 Axes>"
      ]
     },
     "metadata": {},
     "output_type": "display_data"
    }
   ],
   "source": [
    "import matplotlib.pyplot as plt\n",
    "from matplotlib import style\n",
    "\n",
    "x=[10,20,30,40]\n",
    "y=[20,30,40,50]\n",
    "x1=[15,25,35,45]\n",
    "y1=[25,35,45,55]\n",
    "plt.bar(x,y,label=\"Example-1\")\n",
    "plt.bar(x1,y1,label=\"Example-2\")\n",
    "plt.legend()\n",
    "plt.title(\"Bar Graph\")\n",
    "plt.xlabel(\"Bar number\")\n",
    "plt.ylabel(\"Bar height\")\n",
    "plt.show()\n",
    "\n"
   ]
  },
  {
   "cell_type": "code",
   "execution_count": 16,
   "id": "23ddfe72",
   "metadata": {},
   "outputs": [
    {
     "data": {
      "image/png": "[encoded data removed]",
      "text/plain": [
       "<Figure size 432x288 with 1 Axes>"
      ]
     },
     "metadata": {},
     "output_type": "display_data"
    }
   ],
   "source": [
    "import matplotlib.pyplot as plt\n",
    "population_ages=[22,33,45,56,67,44,43,22,11,33,67,89,90,77,64,33,23,33,32,35,66,89,90,78,76,75,34,23,1224,56,90,99,91,92,77]\n",
    "bins=[0,10,20,30,40,50,60,70,80,90,100]\n",
    "plt.hist(population_ages,bins,histtype=\"bar\",rwidth=0.5,color=\"b\")\n",
    "plt.xlabel('x')\n",
    "plt.ylabel('y')\n",
    "plt.title(\"Population\")\n",
    "#plt.legend()\n",
    "plt.show()\n"
   ]
  },
  {
   "cell_type": "code",
   "execution_count": 22,
   "id": "fccabd09",
   "metadata": {},
   "outputs": [
    {
     "data": {
      "image/png": "[encoded data removed]",
      "text/plain": [
       "<Figure size 432x288 with 1 Axes>"
      ]
     },
     "metadata": {},
     "output_type": "display_data"
    }
   ],
   "source": [
    "import matplotlib.pyplot as plt\n",
    "x=[12,23,34,45,67,78,90]\n",
    "y=[10,20,30,40,50,60,70]\n",
    "plt.scatter(x,y,label=\"skitscat\",color='k',s=25,marker=\"d\")\n",
    "plt.xlabel('x')\n",
    "plt.ylabel('y')\n",
    "plt.title(\"Scatter plot\")\n",
    "plt.legend()\n",
    "plt.show()"
   ]
  },
  {
   "cell_type": "code",
   "execution_count": 13,
   "id": "21274c21",
   "metadata": {},
   "outputs": [
    {
     "data": {
      "image/png": "[encoded data removed]",
      "text/plain": [
       "<Figure size 432x288 with 1 Axes>"
      ]
     },
     "metadata": {
      "needs_background": "light"
     },
     "output_type": "display_data"
    }
   ],
   "source": [
    "import matplotlib.pyplot as plt\n",
    "days=[1,2,3,4,5]\n",
    "sleeping=[7,8,6,11,7]\n",
    "eating=[2,3,4,3,2]\n",
    "working=[7,8,7,2,2]\n",
    "playing=[8,5,7,8,13]\n",
    "plt.plot([],[],color='m',label='Sleeping',linewidth=5)\n",
    "plt.plot([],[],color='c',label='Eating',linewidth=5)\n",
    "plt.plot([],[],color='r',label='Working',linewidth=5)\n",
    "plt.plot([],[],color='k',label=\"Playing\",linewidth=5)\n",
    "plt.stackplot(days,sleeping,eating,working,playing,colors=['m','c','r','k'])\n",
    "plt.xlabel('x')\n",
    "plt.ylabel('y')\n",
    "plt.title(\"Stack Plot\")\n",
    "plt.legend()\n",
    "plt.show()"
   ]
  },
  {
   "cell_type": "code",
   "execution_count": 26,
   "id": "8d51e31d",
   "metadata": {},
   "outputs": [
    {
     "data": {
      "image/png": "[encoded data removed]",
      "text/plain": [
       "<Figure size 432x288 with 1 Axes>"
      ]
     },
     "metadata": {},
     "output_type": "display_data"
    }
   ],
   "source": [
    "import matplotlib.pyplot as plt\n",
    "slices=[7,3,9,2,5,6.6]\n",
    "activities=['Sleeping','Eating','Working','playing','Exercise','Music']\n",
    "\n",
    "cols=['c','m','b','r','y','g']\n",
    "plt.pie(slices,labels=activities,colors=cols,shadow=True,explode=(0,0.2,0,0.2,0,0),autopct=\"%1.1f%%\")\n",
    "plt.title(\"Pie Chart\")\n",
    "plt.show()"
   ]
  },
  {
   "cell_type": "code",
   "execution_count": 39,
   "id": "c313af45",
   "metadata": {},
   "outputs": [
    {
     "data": {
      "image/png": "[encoded data removed]",
      "text/plain": [
       "<Figure size 432x288 with 2 Axes>"
      ]
     },
     "metadata": {
      "needs_background": "light"
     },
     "output_type": "display_data"
    }
   ],
   "source": [
    "import numpy as np\n",
    "import matplotlib.pyplot as plt\n",
    "def f(t):\n",
    "    return np.exp(-t)*np.cos(2*np.pi*t)\n",
    "\n",
    "t1=np.arange(0.0,5.0,0.1)\n",
    "t2=np.arange(0.0,5.0,0.02)\n",
    "\n",
    "plt.subplot(221)\n",
    "plt.plot(t1,f(t1),'bo',t2,f(t2))\n",
    "\n",
    "plt.subplot(222)\n",
    "plt.plot(t2,np.cos(2*np.pi*t2))\n",
    "plt.show()"
   ]
  },
  {
   "cell_type": "code",
   "execution_count": 1,
   "id": "36fad94c",
   "metadata": {},
   "outputs": [],
   "source": [
    "import numpy as np\n",
    "import pandas as pd\n",
    "import matplotlib.pyplot as plt\n",
    "import seaborn as sns\n"
   ]
  },
  {
   "cell_type": "code",
   "execution_count": 2,
   "id": "cd1404b2",
   "metadata": {},
   "outputs": [
    {
     "data": {
      "text/plain": [
       "<seaborn.axisgrid.FacetGrid at 0x2c82a39bb50>"
      ]
     },
     "execution_count": 2,
     "metadata": {},
     "output_type": "execute_result"
    },
    {
     "data": {
      "image/png": "[encoded data removed]",
      "text/plain": [
       "<Figure size 360x360 with 1 Axes>"
      ]
     },
     "metadata": {
      "needs_background": "light"
     },
     "output_type": "display_data"
    }
   ],
   "source": [
    "a=sns.load_dataset(\"flights\")\n",
    "sns.relplot(x=\"passengers\",y=\"month\",data=a)"
   ]
  },
  {
   "cell_type": "code",
   "execution_count": 3,
   "id": "0f5b9603",
   "metadata": {},
   "outputs": [
    {
     "data": {
      "text/plain": [
       "<seaborn.axisgrid.FacetGrid at 0x2c82a3ab940>"
      ]
     },
     "execution_count": 3,
     "metadata": {},
     "output_type": "execute_result"
    },
    {
     "data": {
      "image/png": "[encoded data removed]",
      "text/plain": [
       "<Figure size 421.5x360 with 1 Axes>"
      ]
     },
     "metadata": {
      "needs_background": "light"
     },
     "output_type": "display_data"
    }
   ],
   "source": [
    "a=sns.load_dataset(\"flights\")\n",
    "sns.relplot(x=\"passengers\",y=\"month\",hue=\"year\",data=a)"
   ]
  },
  {
   "cell_type": "code",
   "execution_count": 6,
   "id": "3180a967",
   "metadata": {},
   "outputs": [
    {
     "data": {
      "text/plain": [
       "<seaborn.axisgrid.FacetGrid at 0x2c82a50f910>"
      ]
     },
     "execution_count": 6,
     "metadata": {},
     "output_type": "execute_result"
    },
    {
     "data": {
      "image/png": "[encoded data removed]",
      "text/plain": [
       "<Figure size 360x360 with 1 Axes>"
      ]
     },
     "metadata": {
      "needs_background": "light"
     },
     "output_type": "display_data"
    }
   ],
   "source": [
    "b=sns.load_dataset(\"tips\")\n",
    "sns.relplot(x=\"time\",y=\"tip\",data=b,kind=\"line\")"
   ]
  },
  {
   "cell_type": "code",
   "execution_count": 7,
   "id": "8538f263",
   "metadata": {},
   "outputs": [
    {
     "data": {
      "text/plain": [
       "<seaborn.axisgrid.FacetGrid at 0x2c8266ab790>"
      ]
     },
     "execution_count": 7,
     "metadata": {},
     "output_type": "execute_result"
    },
    {
     "data": {
      "image/png": "[encoded data removed]",
      "text/plain": [
       "<Figure size 360x360 with 1 Axes>"
      ]
     },
     "metadata": {
      "needs_background": "light"
     },
     "output_type": "display_data"
    }
   ],
   "source": [
    "sns.catplot(x=\"day\",y=\"total_bill\",data=b)"
   ]
  },
  {
   "cell_type": "code",
   "execution_count": 8,
   "id": "9fbf84e3",
   "metadata": {},
   "outputs": [
    {
     "data": {
      "text/plain": [
       "<seaborn.axisgrid.FacetGrid at 0x2c82b7fe730>"
      ]
     },
     "execution_count": 8,
     "metadata": {},
     "output_type": "execute_result"
    },
    {
     "data": {
      "image/png": "[encoded data removed]",
      "text/plain": [
       "<Figure size 360x360 with 1 Axes>"
      ]
     },
     "metadata": {
      "needs_background": "light"
     },
     "output_type": "display_data"
    }
   ],
   "source": [
    "sns.catplot(x='day',y=\"total_bill\",data=b,kind=\"violin\")"
   ]
  },
  {
   "cell_type": "code",
   "execution_count": 9,
   "id": "10bdd8dc",
   "metadata": {},
   "outputs": [
    {
     "data": {
      "text/plain": [
       "<seaborn.axisgrid.FacetGrid at 0x2c82a5099a0>"
      ]
     },
     "execution_count": 9,
     "metadata": {},
     "output_type": "execute_result"
    },
    {
     "data": {
      "image/png": "[encoded data removed]",
      "text/plain": [
       "<Figure size 360x360 with 1 Axes>"
      ]
     },
     "metadata": {
      "needs_background": "light"
     },
     "output_type": "display_data"
    }
   ],
   "source": [
    "sns.catplot(x='day',y=\"total_bill\",data=b,kind=\"boxen\")"
   ]
  },
  {
   "cell_type": "code",
   "execution_count": 14,
   "id": "4ddb5a0f",
   "metadata": {},
   "outputs": [
    {
     "name": "stderr",
     "output_type": "stream",
     "text": [
      "C:\\Users\\LENOVO\\anaconda3\\lib\\site-packages\\seaborn\\distributions.py:2557: FutureWarning: `distplot` is a deprecated function and will be removed in a future version. Please adapt your code to use either `displot` (a figure-level function with similar flexibility) or `histplot` (an axes-level function for histograms).\n",
      "  warnings.warn(msg, FutureWarning)\n"
     ]
    },
    {
     "data": {
      "text/plain": [
       "<AxesSubplot:ylabel='Count'>"
      ]
     },
     "execution_count": 14,
     "metadata": {},
     "output_type": "execute_result"
    },
    {
     "data": {
      "image/png": "[encoded data removed]",
      "text/plain": [
       "<Figure size 432x288 with 1 Axes>"
      ]
     },
     "metadata": {
      "needs_background": "light"
     },
     "output_type": "display_data"
    }
   ],
   "source": [
    "from scipy import stats\n",
    "c=np.random.normal(loc=5,size=100,scale=2)\n",
    "sns.histplot(c)\n",
    "sns.distplot(c)"
   ]
  },
  {
   "cell_type": "code",
   "execution_count": 15,
   "id": "5dad7d62",
   "metadata": {},
   "outputs": [
    {
     "data": {
      "text/plain": [
       "<seaborn.axisgrid.FacetGrid at 0x2c82bbd8b20>"
      ]
     },
     "execution_count": 15,
     "metadata": {},
     "output_type": "execute_result"
    },
    {
     "data": {
      "image/png": "[encoded data removed]",
      "text/plain": [
       "<Figure size 648x216 with 3 Axes>"
      ]
     },
     "metadata": {
      "needs_background": "light"
     },
     "output_type": "display_data"
    }
   ],
   "source": [
    "a=sns.load_dataset(\"iris\")\n",
    "b=sns.FacetGrid(a,col=\"species\")\n",
    "b.map(plt.hist,\"sepal_length\")"
   ]
  },
  {
   "cell_type": "code",
   "execution_count": 17,
   "id": "7d14ceb4",
   "metadata": {},
   "outputs": [
    {
     "data": {
      "text/plain": [
       "<seaborn.axisgrid.PairGrid at 0x2c82d3e1a30>"
      ]
     },
     "execution_count": 17,
     "metadata": {},
     "output_type": "execute_result"
    },
    {
     "data": {
      "image/png": "[encoded data removed]",
      "text/plain": [
       "<Figure size 360x360 with 4 Axes>"
      ]
     },
     "metadata": {
      "needs_background": "light"
     },
     "output_type": "display_data"
    }
   ],
   "source": [
    "a=sns.load_dataset(\"flights\")\n",
    "b=sns.PairGrid(a)\n",
    "b.map(plt.scatter)\n"
   ]
  },
  {
   "cell_type": "markdown",
   "id": "c305fb4f",
   "metadata": {},
   "source": [
    "# CV Image"
   ]
  },
  {
   "cell_type": "code",
   "execution_count": 1,
   "id": "a2cffc8f",
   "metadata": {},
   "outputs": [
    {
     "ename": "ModuleNotFoundError",
     "evalue": "No module named 'CV2'",
     "output_type": "error",
     "traceback": [
      "\u001b[1;31m---------------------------------------------------------------------------\u001b[0m",
      "\u001b[1;31mModuleNotFoundError\u001b[0m                       Traceback (most recent call last)",
      "\u001b[1;32m<ipython-input-1-2293f1ea70bd>\u001b[0m in \u001b[0;36m<module>\u001b[1;34m\u001b[0m\n\u001b[1;32m----> 1\u001b[1;33m \u001b[1;32mimport\u001b[0m \u001b[0mCV2\u001b[0m\u001b[1;33m\u001b[0m\u001b[1;33m\u001b[0m\u001b[0m\n\u001b[0m\u001b[0;32m      2\u001b[0m \u001b[0mimg\u001b[0m\u001b[1;33m=\u001b[0m\u001b[0mcv2\u001b[0m\u001b[1;33m.\u001b[0m\u001b[0mimread\u001b[0m\u001b[1;33m(\u001b[0m\u001b[1;34m\"C:\\\\Users\\LENOVO\\Desktop\\Web_development\\Apna_College\\Apna_College\\img.jpeg\"\u001b[0m\u001b[1;33m)\u001b[0m\u001b[1;33m\u001b[0m\u001b[1;33m\u001b[0m\u001b[0m\n\u001b[0;32m      3\u001b[0m \u001b[0mprint\u001b[0m\u001b[1;33m(\u001b[0m\u001b[0mimg\u001b[0m\u001b[1;33m.\u001b[0m\u001b[0mshape\u001b[0m\u001b[1;33m)\u001b[0m\u001b[1;33m\u001b[0m\u001b[1;33m\u001b[0m\u001b[0m\n",
      "\u001b[1;31mModuleNotFoundError\u001b[0m: No module named 'CV2'"
     ]
    }
   ],
   "source": [
    "import \n",
    "img=cv2.imread(\"C:\\\\Users\\LENOVO\\Desktop\\Web_development\\Apna_College\\Apna_College\\img.jpeg\")\n",
    "print(img.shape)"
   ]
  },
  {
   "cell_type": "code",
   "execution_count": null,
   "id": "3b674708",
   "metadata": {},
   "outputs": [],
   "source": []
  }
 ],
 "metadata": {
  "kernelspec": {
   "display_name": "Python 3",
   "language": "python",
   "name": "python3"
  },
  "language_info": {
   "codemirror_mode": {
    "name": "ipython",
    "version": 3
   },
   "file_extension": ".py",
   "mimetype": "text/x-python",
   "name": "python",
   "nbconvert_exporter": "python",
   "pygments_lexer": "ipython3",
   "version": "3.8.8"
  }
 },
 "nbformat": 4,
 "nbformat_minor": 5
}
