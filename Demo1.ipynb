{
 "cells": [
  {
   "cell_type": "code",
   "execution_count": 1,
   "id": "88f6d274",
   "metadata": {},
   "outputs": [
    {
     "name": "stdout",
     "output_type": "stream",
     "text": [
      "32\n"
     ]
    }
   ],
   "source": [
    "a=22\n",
    "b=10\n",
    "c=a+b\n",
    "print(c)"
   ]
  },
  {
   "cell_type": "code",
   "execution_count": 7,
   "id": "92e4de79",
   "metadata": {},
   "outputs": [
    {
     "name": "stdout",
     "output_type": "stream",
     "text": [
      "Hello World\n"
     ]
    }
   ],
   "source": [
    "print(\"Hello World\")\n"
   ]
  },
  {
   "cell_type": "code",
   "execution_count": null,
   "id": "69d3c809",
   "metadata": {},
   "outputs": [],
   "source": [
    "subjects=['English','Hindi','Maths','Chem','Physics']\n",
    "total=0\n",
    "for sub in subjects:\n",
    "    marks=float(input(f'Enter marks in {sub}: '))\n",
    "    total=total+marks\n",
    "Percentage=(total/500)*100\n",
    "print(f'Percentage: {Percentage}%')"
   ]
  },
  {
   "cell_type": "code",
   "execution_count": null,
   "id": "9b6a41d8",
   "metadata": {},
   "outputs": [],
   "source": [
    "Prin=float(input('Enter Prin: '))\n",
    "time=float(input('Enter time: '))\n",
    "rate=float(input('Enter rate: '))\n",
    "SI=(Prin*time*rate)/100\n",
    "print(f'Simple Interest: {SI}')\n",
    "CI=Prin*(pow(1+(rate/100),time))\n",
    "print(f'Compund Interest: {CI}')"
   ]
  },
  {
   "cell_type": "code",
   "execution_count": null,
   "id": "d71fe13d",
   "metadata": {},
   "outputs": [],
   "source": [
    "r=float(input(f'Enter radius: '))\n",
    "h=float(input(f'Enter height: '))\n",
    "vol=(22*r**2*h)/7\n",
    "print(f'Vol of Cylinder: {vol}')\n",
    "SA=(22*r*(r+h))/7\n",
    "print(f'Surface area of cylinder: {SA}')\n"
   ]
  },
  {
   "cell_type": "code",
   "execution_count": null,
   "id": "6db919c9",
   "metadata": {},
   "outputs": [],
   "source": [
    "a=float(input(f'Enter a: '))\n",
    "b=float(input(f'Enter b: '))\n",
    "c=float(input(f'Enter c: '))\n",
    "d=(b**2)-(4*a*c)\n",
    "print(f'D = {d}')"
   ]
  },
  {
   "cell_type": "code",
   "execution_count": null,
   "id": "2b313fe8",
   "metadata": {},
   "outputs": [],
   "source": [
    "def checkLeapYear(year):\n",
    "  if year % 4 == 0 and year % 100!=0 or year % 400==0:\n",
    "     print(\"Given year is Leap year.\")\n",
    "\n",
    "  else:\n",
    "    print(\"Not a leap year.\")\n",
    "\n",
    "year=int(input('Enter the year: '))\n",
    "\n",
    "checkLeapYear(year)"
   ]
  },
  {
   "cell_type": "code",
   "execution_count": null,
   "id": "d75af173",
   "metadata": {},
   "outputs": [],
   "source": [
    "#Largest of 3 numbers\n",
    "\n",
    "def largestOfThree( a, b, c):\n",
    "    if a>=b and a>=c:\n",
    "        return 'a'\n",
    "    elif b>=a and b>=c:\n",
    "        return 'b'\n",
    "    elif c>=a and c>=b:\n",
    "        return 'c'\n",
    "    else :\n",
    "        return -1\n",
    "a=int(input('Enter a: '))\n",
    "b=int(input('Enter b: '))\n",
    "c=int(input('Enter c: '))\n",
    "d=largestOfThree(a,b,c)\n",
    "\n",
    "print(f'{d} is the largest number.')\n"
   ]
  },
  {
   "cell_type": "code",
   "execution_count": null,
   "id": "1ed66192",
   "metadata": {},
   "outputs": [],
   "source": [
    "#Largest and smallest of 4\n",
    "\n",
    "def getMax(numbers):\n",
    "    max=numbers[0]        \n",
    "    for num in numbers:\n",
    "        if num>max:\n",
    "            max=num\n",
    "    print(f'{max} is maximum')\n",
    "\n",
    "def getMin(numbers):\n",
    "    min=numbers[0]\n",
    "    for num in numbers:\n",
    "        if num<min :\n",
    "            min=num\n",
    "    print(f'{min} is minimum')    \n",
    "        \n",
    "numbers=[]\n",
    "for i in list(range(4)):\n",
    "         num=int(input(\"Enter the number: \" ))\n",
    "         numbers.append(num)   \n",
    "\n",
    "getMax(numbers)\n",
    "getMin(numbers)\n",
    "        "
   ]
  },
  {
   "cell_type": "markdown",
   "id": "0cf4a2a6",
   "metadata": {},
   "source": [
    "### "
   ]
  },
  {
   "cell_type": "markdown",
   "id": "bf409d06",
   "metadata": {},
   "source": [
    "#Wap to find coefficients of quadratic eqn\n",
    "\n"
   ]
  },
  {
   "cell_type": "code",
   "execution_count": null,
   "id": "f171619c",
   "metadata": {},
   "outputs": [],
   "source": []
  },
  {
   "cell_type": "code",
   "execution_count": null,
   "id": "cfa7d9ec",
   "metadata": {},
   "outputs": [],
   "source": [
    "#Wap to find coefficients of quadratic eqn\n",
    "\n",
    "def get\n",
    "    \n"
   ]
  },
  {
   "cell_type": "code",
   "execution_count": null,
   "id": "db20fbd4",
   "metadata": {},
   "outputs": [],
   "source": [
    "#WAP to find the grades\n",
    "def grading(marks):\n",
    "    if 91<=marks<=100:\n",
    "        return 'A1'\n",
    "    elif 81<=marks<=90:\n",
    "        return 'A2'\n",
    "    elif 71<=marks<=80:\n",
    "        return 'B1'\n",
    "    elif 61<=marks<=70:\n",
    "        return 'B2'\n",
    "    elif 51<=marks<=60:\n",
    "        return 'C1'\n",
    "    elif 41<=marks<=50:\n",
    "        return 'C2'\n",
    "    elif 33<=marks<=40:\n",
    "        return 'D'\n",
    "    \n",
    "    else: \n",
    "        return 'F'\n",
    "\n",
    "subjects=['Python','Java','C++','Html','Javascript']\n",
    "for sub in subjects:\n",
    "    marks=int(input(f'Marks in {sub}: '))\n",
    "    grades=grading(marks)\n",
    "    print(f'Grades in {sub}: {grades}')\n",
    "    \n"
   ]
  },
  {
   "cell_type": "code",
   "execution_count": null,
   "id": "c3bd7d19",
   "metadata": {},
   "outputs": [],
   "source": [
    "#WAP to find the even num upto  a range\n",
    "\n",
    "def getEven(num):\n",
    "    \n",
    "  \n",
    "    if num%2==0:\n",
    "       \n",
    "        return 1\n",
    "    else:\n",
    "       \n",
    "        return 0\n",
    "\n",
    "ran=int(input('Enter the range upto which you want to print even number: '))\n",
    "print('Even numbers: ')\n",
    "for num in range(ran+1):\n",
    "    f=getEven(num)\n",
    "    if f==1:\n",
    "        print(num, end=\" \")\n",
    "            "
   ]
  },
  {
   "cell_type": "code",
   "execution_count": null,
   "id": "87680cb5",
   "metadata": {},
   "outputs": [],
   "source": [
    "#WAP to find the odd num upto  a range\n",
    "def getOdd(num):\n",
    "    \n",
    "  \n",
    "    if num%2==0:\n",
    "       \n",
    "        return 1\n",
    "    else:\n",
    "       \n",
    "        return 0\n",
    "ran=int(input('Enter the range upto which you want to print odd number: '))    \n",
    "print(\"Odd numbers:\")            \n",
    "for num in range(ran+1):\n",
    "    f=getOdd(num)\n",
    "    if f==0:\n",
    "        print(num)"
   ]
  },
  {
   "cell_type": "code",
   "execution_count": null,
   "id": "69ea9eff",
   "metadata": {},
   "outputs": [],
   "source": [
    "#Wap to print table of a num upto a range\n",
    "\n",
    "def getTable(num,ran):\n",
    "    for i in range(1,ran+1):\n",
    "        product=num*i\n",
    "        print(f'{num} * {i} = {product}')\n",
    "\n",
    "num=int(input('Enter number: '))\n",
    "ran=int(input('Enter the range upto which you want table to print: '))\n",
    "getTable(num,ran)"
   ]
  },
  {
   "cell_type": "code",
   "execution_count": null,
   "id": "2e92adda",
   "metadata": {},
   "outputs": [],
   "source": [
    "#WAP to find fact of a num\n",
    "\n",
    "def getFact(num):\n",
    "    fact=1\n",
    "    if num==0:\n",
    "        return fact\n",
    "    else:\n",
    "       fact=num*getFact(num-1)\n",
    "       return fact\n",
    "\n",
    "num=int(input(\"Enter the number: \"))\n",
    "factorial=getFact(num)\n",
    "print(f'Factorial of a given number: {factorial}')"
   ]
  },
  {
   "cell_type": "code",
   "execution_count": null,
   "id": "173f28d1",
   "metadata": {},
   "outputs": [],
   "source": [
    "#Wap to find fibbonacci series\n",
    "\n",
    "def getFibbonacci(n):\n",
    "    if(n==0 or n==1):\n",
    "        return(n)\n",
    "    else:\n",
    "        return(getFibbonacci(n-1)+getFibbonacci(n-2))\n",
    "nterms=int(input('Enter the number of terms: '))\n",
    "if nterms < 0:\n",
    "    print(\"Plese enter a positive integer\")\n",
    "else:\n",
    "    print(\"Fibonacci sequence:\")\n",
    "    for i in range(nterms):\n",
    "        print(getFibbonacci(i))"
   ]
  },
  {
   "cell_type": "markdown",
   "id": "c76f1019",
   "metadata": {},
   "source": [
    "# ArmStrong number\n"
   ]
  },
  {
   "cell_type": "code",
   "execution_count": null,
   "id": "c6c311e5",
   "metadata": {},
   "outputs": [],
   "source": [
    "import math\n",
    "def getArmstrongnum(n):\n",
    "    if(sum==n):\n",
    "        print(\"Given number is Armstrong number\")\n",
    "    else:\n",
    "        print(\"Given number is not a ArmStrong number\")\n",
    "        \n",
    "    \n",
    "\n",
    "    "
   ]
  },
  {
   "cell_type": "markdown",
   "id": "dfeae672",
   "metadata": {},
   "source": [
    "# TextWrap"
   ]
  },
  {
   "cell_type": "code",
   "execution_count": null,
   "id": "00115a23",
   "metadata": {},
   "outputs": [],
   "source": [
    "def wrap(string1,max_width):\n",
    "    \n",
    "    \n",
    "    for i in string1:\n",
    "        wrapped=''\n",
    "        \n",
    "        for j in range(string1.index(i),max_width):\n",
    "            wrapped+=i\n",
    "            j+=1\n",
    "            \n",
    "        print(wrapped)\n",
    "string1=\"ABCDEFGHIJKLMNOPQRSTUVWXYZ\"\n",
    "wrap(string1,4)        \n",
    "            "
   ]
  },
  {
   "cell_type": "code",
   "execution_count": null,
   "id": "1bf2de0b",
   "metadata": {},
   "outputs": [],
   "source": [
    "import textwrap\n",
    "  \n",
    "value = \"\"\"ABCDEFGHIJKLMNOPQRSTUVWXYZ\"\"\"\n",
    "  \n",
    "# Wrap this text.\n",
    "def wrap(string,max_width):\n",
    "     wrapper = textwrap.TextWrapper(width=4)\n",
    "  \n",
    "     word_list = wrapper.wrap(text=value)\n",
    "  \n",
    "# Print each line.\n",
    "     s=''\n",
    "     for element in word_list:\n",
    "        s+=element+\"\\n\"\n",
    "     return(s)\n",
    "result=wrap(string,4)     \n",
    "print(result)    "
   ]
  },
  {
   "cell_type": "code",
   "execution_count": null,
   "id": "c45ef516",
   "metadata": {},
   "outputs": [],
   "source": [
    "n=int(input())\n",
    "m=int(input())\n",
    "for i in range(0,n+1):\n",
    "    for j in range(i,m):\n",
    "        print(\"-\",end='')\n",
    "    print('\\n')    \n"
   ]
  },
  {
   "cell_type": "code",
   "execution_count": null,
   "id": "7d96a43a",
   "metadata": {},
   "outputs": [],
   "source": [
    "all_freq = {}\n",
    "\n",
    "test_str=\"GeeksforGeeks\" \n",
    "\n",
    "for i in test_str:\n",
    "    if i in all_freq:\n",
    "        print(i)\n",
    "        all_freq[i] += 1\n",
    "    else:\n",
    "        print(i)\n",
    "        all_freq[i] = 1\n",
    "test_str=\"GeeksforGeeks\"\n",
    "\n",
    "print(\"Count of all characters in the string is:\\n\"+str(all_freq))"
   ]
  },
  {
   "cell_type": "code",
   "execution_count": null,
   "id": "a60b5d82",
   "metadata": {},
   "outputs": [],
   "source": [
    "print(all_freq['e'])"
   ]
  },
  {
   "cell_type": "code",
   "execution_count": null,
   "id": "1e72b79e",
   "metadata": {},
   "outputs": [],
   "source": [
    "n = int(input())\n",
    "arr = []\n",
    "for i in range(0,n):\n",
    "    arr+=int(input())\n",
    "    i+=1\n",
    "max=arr.max()\n",
    "arr.pop(max)\n",
    "max=arr[0]\n",
    "for i in arr:\n",
    "    if max<arr[i]:\n",
    "          max=arr[i]\n",
    "print(max)         "
   ]
  },
  {
   "cell_type": "markdown",
   "id": "f3edb929",
   "metadata": {},
   "source": [
    "n = int(input())\n",
    "arr = map(int, input().split())\n",
    "arr=list()\n",
    "max=max(arr)\n",
    "arr.remove(max)\n",
    "runner_up=max(arr)\n",
    "print(runner_up)"
   ]
  },
  {
   "cell_type": "code",
   "execution_count": null,
   "id": "8186e56b",
   "metadata": {},
   "outputs": [],
   "source": [
    "n = int(input())\n",
    "\n",
    "arr = map(int, input().split())\n",
    "arr=list()\n",
    "for i in range(0,n):\n",
    "    ele=int(input())\n",
    "    arr.append(ele)\n",
    "maximum=max(arr)\n",
    "arr.remove(maximum)\n",
    "runner_up=max(arr)\n",
    "print(runner_up)"
   ]
  },
  {
   "cell_type": "code",
   "execution_count": null,
   "id": "66d8b31e",
   "metadata": {},
   "outputs": [],
   "source": [
    "nums = map(int, input().split())    \n",
    "print(sorted(list(set(nums)))[-2])"
   ]
  },
  {
   "cell_type": "code",
   "execution_count": null,
   "id": "77ad5a87",
   "metadata": {},
   "outputs": [],
   "source": [
    "    x = int(input())\n",
    "    y = int(input())\n",
    "    z = int(input())\n",
    "    n = int(input())\n",
    "    list=[]\n",
    "    for i in range(0,x+1):\n",
    "        for j in range(0,y+1):\n",
    "            for k in range(0,z+1):\n",
    "                if(i+j+k==n):\n",
    "                    continue\n",
    "                ele=[i,j,k]\n",
    "                list.append(ele)\n",
    "    print(list) \n",
    "    "
   ]
  },
  {
   "cell_type": "code",
   "execution_count": null,
   "id": "edad4a1e",
   "metadata": {},
   "outputs": [],
   "source": [
    "    import math\n",
    "    n = int(input())\n",
    "   \n",
    "    student_marks = {}\n",
    "    for _ in range(n):\n",
    "        line=input().split()\n",
    "        name,scores = line[0],line[1:]\n",
    "        scores=map(float,scores)\n",
    "       \n",
    "        student_marks[name] = scores\n",
    "\n",
    "        \n",
    "    query_name = input()\n",
    "    for key in student_marks.keys():\n",
    "        marks=[]\n",
    "        if(key==query_name):\n",
    "            total=sum(student_marks.get(key))\n",
    "            \n",
    "            avg=total/3\n",
    "            format_float=\"{0:.2f}\".format(avg)\n",
    "            print(format_float)    "
   ]
  },
  {
   "cell_type": "markdown",
   "id": "84ca1b52",
   "metadata": {},
   "source": [
    "# Regex\n"
   ]
  },
  {
   "cell_type": "code",
   "execution_count": null,
   "id": "8967e39b",
   "metadata": {},
   "outputs": [],
   "source": [
    "import re\n",
    "#raw string\n",
    "\n",
    "print(\"\\tTab\")\n",
    "print(r\"\\tTab\")"
   ]
  },
  {
   "cell_type": "code",
   "execution_count": null,
   "id": "14ce3182",
   "metadata": {},
   "outputs": [],
   "source": [
    "import re\n",
    "NameAges='''\n",
    "Galena is 21 and Janice is 34\n",
    "Keith is 40 and Joey is 25\n",
    "Kim is 23\n",
    "\n",
    "'''\n",
    "\n",
    "ages=re.findall(r'\\d{1,3}',NameAges)\n",
    "names=re.findall(r'[A-Z][a-z]*',NameAges)\n",
    "\n",
    "ageDict={}\n",
    "x=0\n",
    "for eachname in names:\n",
    "    ageDict[eachname]=ages[x]\n",
    "    x+=1\n",
    "print(ageDict)    "
   ]
  },
  {
   "cell_type": "code",
   "execution_count": null,
   "id": "974257e9",
   "metadata": {},
   "outputs": [],
   "source": [
    "import re\n",
    "sentence='''inform me, I have to add this into information list'''\n",
    "\n",
    "if re.search(\"inform\",sentence):\n",
    "    print(\"There is inform\")"
   ]
  },
  {
   "cell_type": "code",
   "execution_count": null,
   "id": "8b4cccc7",
   "metadata": {},
   "outputs": [],
   "source": [
    "allinform=re.findall(\"inform\",sentence)\n",
    "\n",
    "for i in allinform:\n",
    "    print(i)"
   ]
  },
  {
   "cell_type": "code",
   "execution_count": null,
   "id": "68e3932e",
   "metadata": {},
   "outputs": [],
   "source": [
    "for i in re.finditer(\"inform\",sentence):\n",
    "    loctup=i.span()\n",
    "    print(loctup)"
   ]
  },
  {
   "cell_type": "code",
   "execution_count": null,
   "id": "8286553a",
   "metadata": {},
   "outputs": [],
   "source": [
    "str=\"Sat,hat,jat,rat,mat\"\n",
    "\n",
    "allstr=re.findall('[Shrm]at',str)\n",
    "allstr1=re.findall('[h-m]at',str)\n",
    "print(allstr,allstr1)\n"
   ]
  },
  {
   "cell_type": "code",
   "execution_count": null,
   "id": "0b42f187",
   "metadata": {},
   "outputs": [],
   "source": [
    "# ^=not\n",
    "\n",
    "allstr2=re.findall('[^h-m]at',str)\n",
    "print(allstr2)"
   ]
  },
  {
   "cell_type": "code",
   "execution_count": null,
   "id": "f90b4dea",
   "metadata": {},
   "outputs": [],
   "source": [
    "rhyming=\"Sat pat mat rat cat\"\n",
    "s1=re.compile('[r]at')\n",
    "rhyming=s1.sub(\"food\",rhyming)\n",
    "print(rhyming)"
   ]
  },
  {
   "cell_type": "code",
   "execution_count": null,
   "id": "c911fb5c",
   "metadata": {},
   "outputs": [],
   "source": [
    "s=\"this is \\\\my name\"\n",
    "print(re.search(r\"\\\\my\",s))\n",
    "print(s)"
   ]
  },
  {
   "cell_type": "code",
   "execution_count": null,
   "id": "53375355",
   "metadata": {},
   "outputs": [],
   "source": [
    "# Working with whitespaces\n",
    "\n",
    "import re\n",
    "\n",
    "randstr='''let the flag\n",
    "to fly high\n",
    "in the sky.'''\n",
    "print(randstr)\n",
    "regex=re.compile(\"\\n\")\n",
    "randstr=regex.sub(' ',randstr)\n",
    "print(randstr)\n",
    "\n",
    "#\\b: backspace\n",
    "#\\f: formfeed\n",
    "#\\r:carriage return\n",
    "#\\t:Tab\n",
    "#\\v: Vertical tab"
   ]
  },
  {
   "cell_type": "code",
   "execution_count": null,
   "id": "74dd8221",
   "metadata": {},
   "outputs": [],
   "source": [
    "randstr=\"12345ABC\"\n",
    "\n",
    "print(\"Matches:\",len(re.findall(\"\\d{3}\",randstr)))\n",
    "print(\"Matches:\",len(re.findall(\"\\d\",randstr)))\n",
    "print(\"Matches:\",len(re.findall(\"\\D\",randstr)))\n",
    "print(\"Matches:\",len(re.findall(\"\\D{'A'}\",randstr)))"
   ]
  },
  {
   "cell_type": "code",
   "execution_count": null,
   "id": "d6ba67b1",
   "metadata": {},
   "outputs": [],
   "source": [
    "import re\n",
    "num=\"12 123 1234 12345 123456 1234567\"\n",
    "print(\"Matches:\",len(re.findall(\"\\d{5,7}\",num)))"
   ]
  },
  {
   "cell_type": "code",
   "execution_count": null,
   "id": "c3226636",
   "metadata": {},
   "outputs": [],
   "source": [
    "print(\"Matches:\",len(re.findall(\"\\d{2,6}\",num)))"
   ]
  },
  {
   "cell_type": "markdown",
   "id": "60ef7de4",
   "metadata": {},
   "source": [
    "# Valid Phone number"
   ]
  },
  {
   "cell_type": "code",
   "execution_count": null,
   "id": "2d9a13ee",
   "metadata": {},
   "outputs": [],
   "source": [
    "import re\n",
    "#\\w[a-z A-Z0-9_]\n",
    "#\\W[^a-z A-Z 0-9]\n",
    "\n",
    "phn=\"412-55-1212\"\n",
    "\n",
    "if re.search(\"\\w{3}-\\w{3}-\\w{4}\",phn):\n",
    "    print(\"It is a phone number\")\n",
    "    \n",
    " "
   ]
  },
  {
   "cell_type": "code",
   "execution_count": null,
   "id": "9b01b541",
   "metadata": {},
   "outputs": [],
   "source": [
    "import re\n",
    "#\\s=[\\f\\n\\r\\v\\t]\n",
    "#\\S=[^\\f\\n\\r\\v\\t]\n",
    "name=\"Gitanjali-Mukeria\"\n",
    "if re.search(\"\\w{2,20}\\s\\w{2,20}\",\"GitanjaliMukeria\"):\n",
    "    print(\"Valid Full name\")\n",
    "else:\n",
    "    print(\"Not valid\")"
   ]
  },
  {
   "cell_type": "code",
   "execution_count": null,
   "id": "c49ecf6c",
   "metadata": {},
   "outputs": [],
   "source": [
    "import re\n",
    "\n",
    "email=\"mukeria.2002@gmail.com 88058@arsd.du.ac.in 345.com\"\n",
    "\n",
    "print(\"EmailMatches:\",len(re.findall(\"[\\w._%+-]{1,20}@[\\w,-]{2,20}.[A-Za-z]{2,3}\",email)))"
   ]
  },
  {
   "cell_type": "code",
   "execution_count": null,
   "id": "2caaf8f4",
   "metadata": {},
   "outputs": [],
   "source": [
    "import re\n",
    "regex=r'\\b[A-Za-z0-9._%+-]+@[A-Za-z0-9.-]+\\.[A-Z|a-z]{2,}\\b'\n",
    "\n",
    "def check(email):\n",
    "    if(re.fullmatch(regex,email)):\n",
    "        print(\"Valid email\")\n",
    "    else:\n",
    "        print(\"Invalid email\")\n",
    "\n",
    "email=\"ankitrai326@gmail.com\"\n",
    "check(email)\n",
    "email=\"my.ownsite@our-earth.org\"\n",
    "check(email)\n",
    "email=\"ankitrai326.com\"\n",
    "check(email)\n",
    "email=\"mukeria.2002@gmail.com\"\n",
    "check(email)\n"
   ]
  },
  {
   "cell_type": "code",
   "execution_count": null,
   "id": "76c5d1af",
   "metadata": {},
   "outputs": [],
   "source": [
    "import re\n",
    "\n",
    "text_to_search='''\n",
    "abcdefghijklmnopqrstuvwxyz\n",
    "ABCDEFGHIJKLMNOPQRSTUVWXYZ\n",
    "1234567890\n",
    "Ha HaHa\n",
    "MetaCharacters (Need to be escaped):\n",
    ". ^ $ + ? {} [] \\ | ()\n",
    "\n",
    "coreyms.com\n",
    "321-555-4321\n",
    "123.555.1234\n",
    "Mr.Schafer\n",
    "Mr Smith\n",
    "Ms Davis\n",
    "Mrs. Robinson\n",
    "Mr. T\n",
    "\n",
    "\n",
    "'''\n",
    "\n",
    "sentence=\"Start a sentence and then bring it to an end\"\n",
    "pattern=re.compile(r'\\d\\d\\d[-.]\\d\\d\\d[-.]\\d\\d\\d\\d')\n",
    "\n",
    "#matches=pattern.finditer(text_to_search)\n",
    "\n",
    "for match in matches:\n",
    "    print(match)\n",
    "print(text_to_search[1:4])    \n",
    "\n",
    "#'''with open('data.txt','r',encoding='utf-8') as f:\n",
    " #   contents=f.read()\n",
    "  #  matches=pattern.finditer(contents)\n",
    "   # for match in matches:\n",
    "    #    print(match)'''"
   ]
  },
  {
   "cell_type": "code",
   "execution_count": null,
   "id": "1d052e40",
   "metadata": {},
   "outputs": [],
   "source": [
    "#/b=Word boundary\n",
    "#/B=not a word boundary\n",
    "#^=Beginning of a string\n",
    "#$=End of a string\n",
    "#[]=Matches of \n",
    "help(re)"
   ]
  },
  {
   "cell_type": "code",
   "execution_count": null,
   "id": "e1ed30ab",
   "metadata": {},
   "outputs": [],
   "source": [
    "import re\n",
    "\n",
    "text_to_search='''\n",
    "abcdefghijklmnopqrstuvwxyz\n",
    "ABCDEFGHIJKLMNOPQRSTUVWXYZ\n",
    "1234567890\n",
    "Ha HaHa\n",
    "MetaCharacters (Need to be escaped):\n",
    ". ^ $ + ? {} [] \\ | ()\n",
    "\n",
    "coreyms.com\n",
    "321-555-4321\n",
    "123.555.1234\n",
    "Mr. Schafer\n",
    "Mr Smith\n",
    "Ms Davis\n",
    "Mrs. Robinson\n",
    "Mr. T\n",
    "\n",
    "\n",
    "'''\n",
    "\n",
    "pattern=re.compile(r'(Mr|Mrs|Ms).?\\s[A-Z]\\w*')\n",
    "matches=pattern.finditer(text_to_search)\n",
    "\n",
    "for match in matches:\n",
    "    print(match)\n",
    "\n"
   ]
  },
  {
   "cell_type": "code",
   "execution_count": null,
   "id": "f743b941",
   "metadata": {},
   "outputs": [],
   "source": [
    "import re\n",
    "emails='''\n",
    "CoreyMSchafer@gmail.com\n",
    "corey.schafer@university.edu\n",
    "corey-321-schafer@my-work.net\n",
    "88058@arsd.du.ac.in\n",
    "'''\n",
    "\n",
    "pattern=re.compile(r'[A-Za-z0-9.-]+@[a-zA-Z-]+\\.(com|edu|net|du.ac.in)')\n",
    "\n",
    "matches=pattern.finditer(emails)\n",
    "for match in matches:\n",
    "    print(match)\n",
    "    \n",
    "                   "
   ]
  },
  {
   "cell_type": "code",
   "execution_count": null,
   "id": "ed80604e",
   "metadata": {},
   "outputs": [],
   "source": [
    "import re\n",
    "\n",
    "urls='''\n",
    "https://www.google.com\n",
    "http://coreyms.com\n",
    "https://youtube.com\n",
    "https://www.nasa.gov'''\n",
    "\n",
    "pattern=re.compile(r'https?://(www\\.)?(\\w+)(\\.\\w+)')\n",
    "matches=pattern.finditer(urls)\n",
    "for match in matches:\n",
    "    print(match.group(0))\n",
    "    "
   ]
  },
  {
   "cell_type": "code",
   "execution_count": null,
   "id": "13b92efd",
   "metadata": {},
   "outputs": [],
   "source": [
    "subbed_urls=pattern.sub(r'\\2\\3\\.\\1',urls)\n",
    "\n",
    "print(subbed_urls)\n"
   ]
  },
  {
   "cell_type": "code",
   "execution_count": null,
   "id": "16cce8a9",
   "metadata": {},
   "outputs": [],
   "source": [
    "sentence='Start a sentence and then bring it to an end '\n",
    "pattern=re.compile(r'start',re.I)\n",
    "matches=pattern.search(sentence)\n",
    "print(matches)"
   ]
  },
  {
   "cell_type": "code",
   "execution_count": null,
   "id": "5277e121",
   "metadata": {},
   "outputs": [],
   "source": [
    "#Linear searching\n",
    "\n",
    "\n",
    "def linearSearch(list1,n,key):\n",
    "    for i in range(0,n):\n",
    "        if(list1[i]==key):\n",
    "            return i\n",
    "    return -1\n",
    "        \n",
    "        \n",
    "\n",
    "list1=[2,3,4,5,6,7]\n",
    "key=int(input(\"Enter the element to be found:\"))\n",
    "n=len(list1)\n",
    "pos=linearSearch(list1,n,key)\n",
    "if(pos==-1):\n",
    "    print(\"Element not found.\")\n",
    "else:\n",
    "    print(\"Element found at \",pos+1,\"position.\")\n",
    "        "
   ]
  },
  {
   "cell_type": "code",
   "execution_count": null,
   "id": "9e0d6533",
   "metadata": {},
   "outputs": [],
   "source": [
    "#Wap Largest and smallest element of list udf\n",
    "\n",
    "\n",
    "\n",
    "def getMax(list1,n):\n",
    "    max=list1[0]\n",
    "    for i in range(0,n):\n",
    "        if(list1[i]>max):\n",
    "            max=list1[i]\n",
    "    print(\"Maximum element in the list: \",max)\n",
    "def getMin(list1,n):\n",
    "    min=list1[0]\n",
    "    for i in range(0,n):\n",
    "        if(list1[i]<min):\n",
    "            min=list1[i]\n",
    "    print(\"Minimum element in the list: \",min)\n",
    "    \n",
    "    \n",
    "list1=[22,34,45,67,-9,23,80,4]\n",
    "n=len(list1)\n",
    "getMax(list1,n)\n",
    "getMin(list1,n)\n"
   ]
  },
  {
   "cell_type": "code",
   "execution_count": null,
   "id": "6311f192",
   "metadata": {},
   "outputs": [],
   "source": [
    "'''11.Write a menu-driven program to accept a list of student names and perform\n",
    "the following\n",
    "a.search an element using linear search/binarySearch.\n",
    "b.Sort the elements using bubble sort/insertion sort/selection sort.'''\n",
    "\n",
    "\n",
    "Stud_names=[\"Heer\",\"Meet\",\"yash\",\"prem\",\"nitin\",\"lata\",\"geet\"]"
   ]
  },
  {
   "cell_type": "code",
   "execution_count": 6,
   "id": "d325fdc7",
   "metadata": {},
   "outputs": [
    {
     "data": {
      "image/png": "[encoded data removed]",
      "text/plain": [
       "<Figure size 432x288 with 1 Axes>"
      ]
     },
     "metadata": {},
     "output_type": "display_data"
    }
   ],
   "source": [
    "'''12.Write a program that makes use of a function to accept a list of n integers\n",
    "and displays a histogram.'''\n",
    "import matplotlib.pyplot as plt\n",
    "from matplotlib import style\n",
    "import numpy as np\n",
    "style.use(\"ggplot\")\n",
    "def makeHist(list1,n):\n",
    "    \n",
    "    plt.hist(list1,color=\"g\",rwidth=0.8)\n",
    "    plt.xlabel(\"Age Group\")\n",
    "    plt.ylabel(\"Population\")\n",
    "    plt.title(\"Ratio\")\n",
    "    plt.grid(True)\n",
    "    plt.show()\n",
    "    \n",
    "    \n",
    "    \n",
    "list1=[22,34,56,7,8,90,12,22,21,24,45,66,78,12,30,33,45,56,34,33,30,32,31,81,83,84.5,86,112,113,114,115,115]\n",
    "n=len(list1)\n",
    "makeHist(list1,n)"
   ]
  },
  {
   "cell_type": "code",
   "execution_count": 2,
   "id": "b14ecee1",
   "metadata": {},
   "outputs": [
    {
     "data": {
      "image/png": "[encoded data removed]",
      "text/plain": [
       "<Figure size 432x288 with 1 Axes>"
      ]
     },
     "metadata": {
      "needs_background": "light"
     },
     "output_type": "display_data"
    },
    {
     "data": {
      "image/png": "[encoded data removed]",
      "text/plain": [
       "<Figure size 432x288 with 1 Axes>"
      ]
     },
     "metadata": {
      "needs_background": "light"
     },
     "output_type": "display_data"
    },
    {
     "data": {
      "image/png": "[encoded data removed]",
      "text/plain": [
       "<Figure size 432x288 with 1 Axes>"
      ]
     },
     "metadata": {
      "needs_background": "light"
     },
     "output_type": "display_data"
    },
    {
     "data": {
      "image/png": "[encoded data removed]",
      "text/plain": [
       "<Figure size 432x288 with 1 Axes>"
      ]
     },
     "metadata": {
      "needs_background": "light"
     },
     "output_type": "display_data"
    },
    {
     "data": {
      "image/png": "[encoded data removed]",
      "text/plain": [
       "<Figure size 432x288 with 1 Axes>"
      ]
     },
     "metadata": {
      "needs_background": "light"
     },
     "output_type": "display_data"
    },
    {
     "ename": "NameError",
     "evalue": "name 'linspace' is not defined",
     "output_type": "error",
     "traceback": [
      "\u001b[1;31m---------------------------------------------------------------------------\u001b[0m",
      "\u001b[1;31mNameError\u001b[0m                                 Traceback (most recent call last)",
      "\u001b[1;32m<ipython-input-2-dd3444ae3203>\u001b[0m in \u001b[0;36m<module>\u001b[1;34m\u001b[0m\n\u001b[0;32m     45\u001b[0m \u001b[0mx\u001b[0m\u001b[1;33m=\u001b[0m\u001b[0mnp\u001b[0m\u001b[1;33m.\u001b[0m\u001b[0marange\u001b[0m\u001b[1;33m(\u001b[0m\u001b[1;36m0\u001b[0m\u001b[1;33m,\u001b[0m\u001b[1;36m3\u001b[0m\u001b[1;33m*\u001b[0m\u001b[0mnp\u001b[0m\u001b[1;33m.\u001b[0m\u001b[0mpi\u001b[0m\u001b[1;33m,\u001b[0m\u001b[1;36m0.1\u001b[0m\u001b[1;33m)\u001b[0m\u001b[1;33m\u001b[0m\u001b[1;33m\u001b[0m\u001b[0m\n\u001b[0;32m     46\u001b[0m \u001b[0mCurves\u001b[0m\u001b[1;33m(\u001b[0m\u001b[0mx\u001b[0m\u001b[1;33m)\u001b[0m\u001b[1;33m\u001b[0m\u001b[1;33m\u001b[0m\u001b[0m\n\u001b[1;32m---> 47\u001b[1;33m \u001b[0mhelp\u001b[0m\u001b[1;33m(\u001b[0m\u001b[0mlinspace\u001b[0m\u001b[1;33m)\u001b[0m\u001b[1;33m\u001b[0m\u001b[1;33m\u001b[0m\u001b[0m\n\u001b[0m",
      "\u001b[1;31mNameError\u001b[0m: name 'linspace' is not defined"
     ]
    }
   ],
   "source": [
    "'''13.Write a program that makes use of a function to display sine,cosine,\n",
    "polynomial and exponential curves.'''\n",
    "\n",
    "import matplotlib.pyplot as plt\n",
    "import numpy as np\n",
    "def Curves(x):\n",
    "    # Sin curve\n",
    "    y=np.sin(x)\n",
    "    plt.xlabel(\"X\")\n",
    "    plt.ylabel(\"sinx\")\n",
    "    plt.title(\"Sin curve\")\n",
    "    plt.plot(x,y,\"g\")\n",
    "    plt.show()\n",
    "    \n",
    "    # Cosine curve\n",
    "    y=np.cos(x)\n",
    "    plt.plot(x,y,\"r\")\n",
    "    plt.xlabel(\"X\")\n",
    "    plt.ylabel(\"cosx\")\n",
    "    plt.title(\"Cos curve\")\n",
    "    plt.show()\n",
    "    # Tan curve\n",
    "    y=np.tan(x)    \n",
    "    plt.plot(x,y,\"y\")\n",
    "    plt.xlabel(\"X\")\n",
    "    plt.ylabel(\"tanx\")\n",
    "    plt.title(\"Tan curve\")\n",
    "    plt.show()\n",
    "    # Exponential curve\n",
    "    x=np.linspace(0,2,100)\n",
    "    y=np.exp(x)\n",
    "    plt.plot(x,y,\"b\")\n",
    "    plt.xlabel(\"x\")\n",
    "    plt.ylabel(\"exp(x)\")\n",
    "    plt.title(\"Exponential curve \")\n",
    "    plt.show()\n",
    "    # Exponential curve\n",
    "    a=np.exp(-x)\n",
    "    plt.title(\"Exponential curve \")\n",
    "    plt.xlabel(\"-x\")\n",
    "    plt.ylabel(\"-exp(-x)\")\n",
    "    plt.plot(x,-a,\"y\")\n",
    "    plt.show()\n",
    "    \n",
    "x=np.arange(0,3*np.pi,0.1)   \n",
    "Curves(x)\n"
   ]
  },
  {
   "cell_type": "code",
   "execution_count": null,
   "id": "5c9319e3",
   "metadata": {},
   "outputs": [],
   "source": [
    "#Write a function that reads a file file1 and copies only alternative lines to\n",
    "#another file\n",
    "#file2. Alternative lines copied should be the odd numbered lines.UseException.\n",
    "\n",
    "\n"
   ]
  },
  {
   "cell_type": "code",
   "execution_count": null,
   "id": "eac949cb",
   "metadata": {},
   "outputs": [],
   "source": [
    "list1=[1,2,3]\n",
    "n=int(input())\n",
    "if(n==1):\n",
    "    e=int(input())\n",
    "    i=int(input())\n",
    "    list1.insert(i,e)\n",
    "elif(n==2):\n",
    "          print(list1)\n",
    "elif(n==3):\n",
    "          e=int(input())\n",
    "          list1.remove(e)\n",
    "elif(n==4):\n",
    "          e=int(input())\n",
    "          list1.append(e)\n",
    "elif(n==5):\n",
    "          list1.sort()\n",
    "elif(n==6):\n",
    "          list1.pop()\n",
    "elif(n==7):\n",
    "          list1.reverse()\n",
    "          \n",
    "          "
   ]
  },
  {
   "cell_type": "code",
   "execution_count": null,
   "id": "1bdca34f",
   "metadata": {},
   "outputs": [],
   "source": [
    "if __name__ == '__main__':\n",
    "    N = int(input())\n",
    "    # Lists in Python - Hacker Rank Solution START\n",
    "    Output = [];\n",
    "    for i in range(0,N):\n",
    "        ip = input().split();\n",
    "        if ip[0] == \"print\":\n",
    "            print(Output)\n",
    "        elif ip[0] == \"insert\":\n",
    "            Output.insert(int(ip[1]),int(ip[2]))\n",
    "        elif ip[0] == \"remove\":\n",
    "            Output.remove(int(ip[1]))\n",
    "        elif ip[0] == \"pop\":\n",
    "            Output.pop();\n",
    "        elif ip[0] == \"append\":\n",
    "            Output.append(int(ip[1]))\n",
    "        elif ip[0] == \"sort\":\n",
    "            Output.sort();\n",
    "        else:\n",
    "            Output.reverse();"
   ]
  },
  {
   "cell_type": "code",
   "execution_count": 1,
   "id": "f1b91f95",
   "metadata": {},
   "outputs": [
    {
     "name": "stdout",
     "output_type": "stream",
     "text": [
      "file1 content-- \n",
      "This is line 1.\n",
      "This is line 2.\n",
      "This is line 3.\n",
      "This is line 4.\n",
      "This is line 5.\n",
      "file2 content-- \n",
      "This is line 2.\n",
      "This is line 4.\n",
      "\n",
      "Copied successfully!\n"
     ]
    }
   ],
   "source": [
    "try:\n",
    "    file1=open('file1.txt','r')\n",
    "    file2=open('file2.txt','w')\n",
    "    lines=file1.readlines()\n",
    "    type(lines)\n",
    "    for i in range(0,len(lines)):\n",
    "        if(i%2!=0):\n",
    "            file2.write(lines[i])\n",
    "    file1.close()\n",
    "    file2.close()\n",
    "    file1=open('file1.txt','r')\n",
    "    file2=open(\"file2.txt\",'r')\n",
    "    print(\"file1 content-- \" )\n",
    "    print(file1.read())\n",
    "    print(\"file2 content-- \")\n",
    "    print(file2.read())\n",
    "    file1.close()\n",
    "    file2.close()\n",
    "    \n",
    "except FileNotFoundError:\n",
    "        print(\"Error: can't find the file.\")\n",
    "else:\n",
    "    print(\"Copied successfully!\")"
   ]
  },
  {
   "cell_type": "code",
   "execution_count": null,
   "id": "b31b97e4",
   "metadata": {},
   "outputs": [],
   "source": [
    "Write a menu-driven program to accept a list of student names and perform\n",
    "the following\n",
    "a.search an element using linearsearch/binarysearch.\n",
    "b.Sort the elements using bubblesort/insertionsort/selectionsort."
   ]
  },
  {
   "cell_type": "code",
   "execution_count": null,
   "id": "1addb8e3",
   "metadata": {
    "scrolled": true
   },
   "outputs": [],
   "source": [
    "def linearSearch( lst1):\n",
    "    print(\"Applying Linear Search-\")\n",
    "    ele=input(\"Enter the student to find: \")\n",
    "    for i in lst1:\n",
    "        if(ele==i):\n",
    "            print(\"Student found at index\", lst1.index(i))\n",
    "            return;\n",
    "    else:\n",
    "        print(\"Student not found.\")\n",
    "\n",
    "def binarySearch(lst1,low,high,ele):\n",
    "    \n",
    "    mid=int((high+low)/2)\n",
    "    while(low<=high):\n",
    "        if(ele==lst1[mid]):\n",
    "            return mid+1\n",
    "        elif(ele<lst1[mid]):\n",
    "            return binarySearch(lst1,low,mid-1,ele)\n",
    "        else:\n",
    "            return binarySearch(lst1,mid+1,high,ele)\n",
    "    return -1     \n",
    "    \n",
    "def bubbleSort(lst1):\n",
    "    for i in range(len(lst1)):\n",
    "        for j in range(0,len(lst1)-i-1):\n",
    "            if(lst1[j]>lst1[j+1]):\n",
    "                temp=lst1[j]\n",
    "                lst1[j]=lst1[j+1]\n",
    "                lst1[j+1]=temp\n",
    "    print(\"After sorting with bubble sort: \",lst1)            \n",
    "    \n",
    "def selectionSort(lst1):\n",
    "    size=len(lst1)\n",
    "    for i in range(size):\n",
    "        min_idx=i\n",
    "        for j in range(i+1,size):\n",
    "            if(lst1[j]<lst1[min_idx]):\n",
    "                min_idx=j\n",
    "        (lst1[i],lst1[min_idx])=(lst1[min_idx],lst1[i])        \n",
    "    print(\"Sorted list after selection sort:\",lst1)\n",
    "def insertionSort(lst1):\n",
    "    for i in range(1,len(lst1)):\n",
    "        key=lst1[i]\n",
    "        j=i-1\n",
    "        while(j>=0 and key<lst1[j]):\n",
    "            lst1[j+1]=lst1[j]\n",
    "            j=j-1\n",
    "        lst1[j+1]=key\n",
    "    print(\"Sorted list after insertion sort:\",lst1)      \n",
    "    \n",
    "lst1=[]\n",
    "n= int(input(\"Enter num of students: \"))\n",
    "for i in range(0,n):\n",
    "    st=input(\"Enter student \")\n",
    "    lst1.append(st)\n",
    "linearSearch(lst1) \n",
    "print(\"Using Binary Search-\")\n",
    "ele=input(\"Enter the student to find: \")\n",
    "res=binarySearch(lst1,0,len(lst1)-1,ele)\n",
    "if(res==-1):\n",
    "    print(\"Element not found\")\n",
    "else:\n",
    "    print(\"Element found at index\",res)\n",
    "ch=int(input(\"Enter the choice to choose in which way list be sorted:\")) \n",
    "if(ch==1):\n",
    "    bubbleSort(lst1)\n",
    "elif(ch==2):    \n",
    "    selectionSort(lst1)\n",
    "elif(ch==3):\n",
    "    \n",
    "     insertionSort(lst1)\n",
    "else:\n",
    "    print(\"Wrong choice.\")"
   ]
  },
  {
   "cell_type": "markdown",
   "id": "d6a5f5ca",
   "metadata": {},
   "source": [
    "# Linear Regression\n"
   ]
  },
  {
   "cell_type": "code",
   "execution_count": 3,
   "id": "836d7e05",
   "metadata": {},
   "outputs": [
    {
     "name": "stdout",
     "output_type": "stream",
     "text": [
      "(237, 4)\n"
     ]
    },
    {
     "data": {
      "text/html": [
       "<div>\n",
       "<style scoped>\n",
       "    .dataframe tbody tr th:only-of-type {\n",
       "        vertical-align: middle;\n",
       "    }\n",
       "\n",
       "    .dataframe tbody tr th {\n",
       "        vertical-align: top;\n",
       "    }\n",
       "\n",
       "    .dataframe thead th {\n",
       "        text-align: right;\n",
       "    }\n",
       "</style>\n",
       "<table border=\"1\" class=\"dataframe\">\n",
       "  <thead>\n",
       "    <tr style=\"text-align: right;\">\n",
       "      <th></th>\n",
       "      <th>Gender</th>\n",
       "      <th>Age Range</th>\n",
       "      <th>Head Size(cm^3)</th>\n",
       "      <th>Brain Weight(grams)</th>\n",
       "    </tr>\n",
       "  </thead>\n",
       "  <tbody>\n",
       "    <tr>\n",
       "      <th>0</th>\n",
       "      <td>1</td>\n",
       "      <td>1</td>\n",
       "      <td>4512</td>\n",
       "      <td>1530</td>\n",
       "    </tr>\n",
       "    <tr>\n",
       "      <th>1</th>\n",
       "      <td>1</td>\n",
       "      <td>1</td>\n",
       "      <td>3738</td>\n",
       "      <td>1297</td>\n",
       "    </tr>\n",
       "    <tr>\n",
       "      <th>2</th>\n",
       "      <td>1</td>\n",
       "      <td>1</td>\n",
       "      <td>4261</td>\n",
       "      <td>1335</td>\n",
       "    </tr>\n",
       "    <tr>\n",
       "      <th>3</th>\n",
       "      <td>1</td>\n",
       "      <td>1</td>\n",
       "      <td>3777</td>\n",
       "      <td>1282</td>\n",
       "    </tr>\n",
       "    <tr>\n",
       "      <th>4</th>\n",
       "      <td>1</td>\n",
       "      <td>1</td>\n",
       "      <td>4177</td>\n",
       "      <td>1590</td>\n",
       "    </tr>\n",
       "  </tbody>\n",
       "</table>\n",
       "</div>"
      ],
      "text/plain": [
       "   Gender  Age Range  Head Size(cm^3)  Brain Weight(grams)\n",
       "0       1          1             4512                 1530\n",
       "1       1          1             3738                 1297\n",
       "2       1          1             4261                 1335\n",
       "3       1          1             3777                 1282\n",
       "4       1          1             4177                 1590"
      ]
     },
     "execution_count": 3,
     "metadata": {},
     "output_type": "execute_result"
    }
   ],
   "source": [
    "%matplotlib inline\n",
    "import numpy as np\n",
    "import pandas as pd\n",
    "import matplotlib.pyplot as plt\n",
    "plt.rcParams[\"figure.figsize\"]=(20.0,10.0)\n",
    "data=pd.read_csv('headbrain.csv')\n",
    "print(data.shape)\n",
    "data.head()"
   ]
  },
  {
   "cell_type": "code",
   "execution_count": 4,
   "id": "66bc3abf",
   "metadata": {},
   "outputs": [],
   "source": [
    "#Collecting X and Y\n",
    "X=data['Head Size(cm^3)'].values\n",
    "Y=data['Brain Weight(grams)'].values\n"
   ]
  },
  {
   "cell_type": "code",
   "execution_count": 5,
   "id": "fb357ac2",
   "metadata": {},
   "outputs": [
    {
     "name": "stdout",
     "output_type": "stream",
     "text": [
      "0.26342933948939945 325.57342104944223\n"
     ]
    }
   ],
   "source": [
    "# Mean X and Y\n",
    "mean_x=np.mean(X)\n",
    "mean_y=np.mean(Y)\n",
    "#Total number of values\n",
    "n=len(X)\n",
    "#Using the formula to calculate b1 and b2\n",
    "numer=0\n",
    "denom=0\n",
    "for i in range(n):\n",
    "    numer+=(X[i]- mean_x)*(Y[i]-mean_y)\n",
    "    denom+=(X[i]-mean_x)**2\n",
    "b1=numer/denom\n",
    "b0=mean_y-(b1*mean_x)\n",
    "#Print Coefficients\n",
    "print(b1,b0)\n",
    "\n",
    "    \n",
    "    \n",
    "    \n",
    "    "
   ]
  },
  {
   "cell_type": "code",
   "execution_count": 9,
   "id": "a058337b",
   "metadata": {},
   "outputs": [
    {
     "name": "stdout",
     "output_type": "stream",
     "text": [
      "[<matplotlib.lines.Line2D object at 0x0000012FFC0A8430>]\n"
     ]
    },
    {
     "data": {
      "image/png": "[encoded data removed]",
      "text/plain": [
       "<Figure size 1440x720 with 1 Axes>"
      ]
     },
     "metadata": {
      "needs_background": "light"
     },
     "output_type": "display_data"
    }
   ],
   "source": [
    "#Plotting values and Regression line\n",
    "max_x=np.max(X)+100\n",
    "min_x=np.min(X)-100\n",
    "# Calculating line values x and y\n",
    "x=np.linspace(min_x, max_x,1000)\n",
    "y=b0+b1*x\n",
    "# Plotting line\n",
    "plt.plot(x,y,color='r',label=\"Regression Line\")\n",
    "# Plotting Scatter Points\n",
    "plt.scatter(X,Y,c=\"k\",label=\"Scatter Plot\")\n",
    "plt.xlabel(\"Head Size in cm^3\")\n",
    "plt.ylabel(\"Brain weight in grams\")\n",
    "plt.legend()\n",
    "plt.show()"
   ]
  },
  {
   "cell_type": "code",
   "execution_count": 10,
   "id": "d7a1ae30",
   "metadata": {},
   "outputs": [
    {
     "name": "stdout",
     "output_type": "stream",
     "text": [
      "0.6393117199570003\n"
     ]
    }
   ],
   "source": [
    "ss_t=0\n",
    "ss_r=0\n",
    "for i in range(n):\n",
    "    y_pred=b0+b1*X[i]\n",
    "    ss_t+=(Y[i]-mean_y)**2\n",
    "    ss_r+=(Y[i]-y_pred)**2\n",
    "r2=1-(ss_r/ss_t)\n",
    "print(r2)"
   ]
  },
  {
   "cell_type": "code",
   "execution_count": 11,
   "id": "df8299be",
   "metadata": {},
   "outputs": [
    {
     "name": "stdout",
     "output_type": "stream",
     "text": [
      "0.639311719957\n"
     ]
    }
   ],
   "source": [
    "from sklearn.linear_model import LinearRegression\n",
    "from sklearn.metrics import mean_squared_error\n",
    "#Cannot use rank 1 matrix in scikit learn\n",
    "X=X.reshape((n,1))\n",
    "# Creating Model\n",
    "reg=LinearRegression()\n",
    "# Fitting training data\n",
    "reg=reg.fit(X,Y)\n",
    "# Y Prediction \n",
    "Y_pred=reg.predict(X)\n",
    "#Calculating RMSE and R2 Score\n",
    "mse=mean_squared_error(Y,Y_pred)\n",
    "rmse=np.sqrt(mse)\n",
    "r2_score=reg.score(X,Y)\n",
    "print(r2_score)\n"
   ]
  },
  {
   "cell_type": "markdown",
   "id": "a762e189",
   "metadata": {},
   "source": [
    "# SimpliLearn"
   ]
  },
  {
   "cell_type": "code",
   "execution_count": 21,
   "id": "e181f0cd",
   "metadata": {},
   "outputs": [],
   "source": [
    "import numpy as np\n",
    "import matplotlib.pyplot as plt\n",
    "import pandas as pd\n",
    "import seaborn as sns\n",
    "%matplotlib inline"
   ]
  },
  {
   "cell_type": "code",
   "execution_count": 22,
   "id": "2f2b4098",
   "metadata": {},
   "outputs": [
    {
     "data": {
      "text/html": [
       "<div>\n",
       "<style scoped>\n",
       "    .dataframe tbody tr th:only-of-type {\n",
       "        vertical-align: middle;\n",
       "    }\n",
       "\n",
       "    .dataframe tbody tr th {\n",
       "        vertical-align: top;\n",
       "    }\n",
       "\n",
       "    .dataframe thead th {\n",
       "        text-align: right;\n",
       "    }\n",
       "</style>\n",
       "<table border=\"1\" class=\"dataframe\">\n",
       "  <thead>\n",
       "    <tr style=\"text-align: right;\">\n",
       "      <th></th>\n",
       "      <th>area</th>\n",
       "      <th>price</th>\n",
       "    </tr>\n",
       "  </thead>\n",
       "  <tbody>\n",
       "    <tr>\n",
       "      <th>0</th>\n",
       "      <td>2600</td>\n",
       "      <td>550000</td>\n",
       "    </tr>\n",
       "    <tr>\n",
       "      <th>1</th>\n",
       "      <td>3000</td>\n",
       "      <td>565000</td>\n",
       "    </tr>\n",
       "    <tr>\n",
       "      <th>2</th>\n",
       "      <td>3200</td>\n",
       "      <td>610000</td>\n",
       "    </tr>\n",
       "    <tr>\n",
       "      <th>3</th>\n",
       "      <td>3600</td>\n",
       "      <td>680000</td>\n",
       "    </tr>\n",
       "    <tr>\n",
       "      <th>4</th>\n",
       "      <td>4000</td>\n",
       "      <td>725000</td>\n",
       "    </tr>\n",
       "  </tbody>\n",
       "</table>\n",
       "</div>"
      ],
      "text/plain": [
       "   area   price\n",
       "0  2600  550000\n",
       "1  3000  565000\n",
       "2  3200  610000\n",
       "3  3600  680000\n",
       "4  4000  725000"
      ]
     },
     "execution_count": 22,
     "metadata": {},
     "output_type": "execute_result"
    }
   ],
   "source": [
    "# Importing the dataset and Extracting the Independent and Dependent variables\n",
    "\n",
    "companies=pd.read_csv(\"Homeprice.csv\")\n",
    "X=companies.iloc[:,:2].values\n",
    "y=companies.iloc[:,:3].values\n",
    "\n",
    "companies.head()"
   ]
  },
  {
   "cell_type": "code",
   "execution_count": 23,
   "id": "4cd362f0",
   "metadata": {},
   "outputs": [
    {
     "data": {
      "text/plain": [
       "<AxesSubplot:>"
      ]
     },
     "execution_count": 23,
     "metadata": {},
     "output_type": "execute_result"
    },
    {
     "data": {
      "image/png": "[encoded data removed]",
      "text/plain": [
       "<Figure size 432x288 with 2 Axes>"
      ]
     },
     "metadata": {
      "needs_background": "light"
     },
     "output_type": "display_data"
    }
   ],
   "source": [
    "# Data Visualization\n",
    "# Building the Correlation matrix\n",
    "sns.heatmap(companies.corr())"
   ]
  },
  {
   "cell_type": "code",
   "execution_count": 26,
   "id": "53d572f6",
   "metadata": {},
   "outputs": [
    {
     "ename": "ValueError",
     "evalue": "y should be a 1d array, got an array of shape (5, 2) instead.",
     "output_type": "error",
     "traceback": [
      "\u001b[1;31m---------------------------------------------------------------------------\u001b[0m",
      "\u001b[1;31mValueError\u001b[0m                                Traceback (most recent call last)",
      "\u001b[1;32m<ipython-input-26-ee52b63df287>\u001b[0m in \u001b[0;36m<module>\u001b[1;34m\u001b[0m\n\u001b[0;32m      1\u001b[0m \u001b[1;32mfrom\u001b[0m \u001b[0msklearn\u001b[0m\u001b[1;33m.\u001b[0m\u001b[0mpreprocessing\u001b[0m \u001b[1;32mimport\u001b[0m \u001b[0mLabelEncoder\u001b[0m\u001b[1;33m,\u001b[0m \u001b[0mOneHotEncoder\u001b[0m\u001b[1;33m\u001b[0m\u001b[1;33m\u001b[0m\u001b[0m\n\u001b[0;32m      2\u001b[0m \u001b[0mlabelencoder\u001b[0m\u001b[1;33m=\u001b[0m\u001b[0mLabelEncoder\u001b[0m\u001b[1;33m(\u001b[0m\u001b[1;33m)\u001b[0m\u001b[1;33m\u001b[0m\u001b[1;33m\u001b[0m\u001b[0m\n\u001b[1;32m----> 3\u001b[1;33m \u001b[0mX\u001b[0m\u001b[1;33m[\u001b[0m\u001b[1;36m5\u001b[0m\u001b[1;33m:\u001b[0m\u001b[1;33m,\u001b[0m\u001b[1;33m:\u001b[0m\u001b[1;36m2\u001b[0m\u001b[1;33m]\u001b[0m\u001b[1;33m=\u001b[0m\u001b[0mlabelencoder\u001b[0m\u001b[1;33m.\u001b[0m\u001b[0mfit_transform\u001b[0m\u001b[1;33m(\u001b[0m\u001b[0mX\u001b[0m\u001b[1;33m[\u001b[0m\u001b[1;33m:\u001b[0m\u001b[1;33m,\u001b[0m\u001b[1;33m:\u001b[0m\u001b[1;36m2\u001b[0m\u001b[1;33m]\u001b[0m\u001b[1;33m)\u001b[0m\u001b[1;33m\u001b[0m\u001b[1;33m\u001b[0m\u001b[0m\n\u001b[0m\u001b[0;32m      4\u001b[0m \u001b[0monehotencoder\u001b[0m \u001b[1;33m=\u001b[0m \u001b[0mOneHotEncoder\u001b[0m\u001b[1;33m(\u001b[0m\u001b[0mcategorical_features\u001b[0m\u001b[1;33m=\u001b[0m\u001b[1;33m[\u001b[0m\u001b[1;33m]\u001b[0m\u001b[1;33m)\u001b[0m\u001b[1;33m\u001b[0m\u001b[1;33m\u001b[0m\u001b[0m\n\u001b[0;32m      5\u001b[0m \u001b[0mX\u001b[0m\u001b[1;33m=\u001b[0m\u001b[0monehotencoder\u001b[0m\u001b[1;33m.\u001b[0m\u001b[0mfit_transform\u001b[0m\u001b[1;33m(\u001b[0m\u001b[0mX\u001b[0m\u001b[1;33m)\u001b[0m\u001b[1;33m.\u001b[0m\u001b[0mtoarray\u001b[0m\u001b[1;33m(\u001b[0m\u001b[1;33m)\u001b[0m\u001b[1;33m\u001b[0m\u001b[1;33m\u001b[0m\u001b[0m\n",
      "\u001b[1;32m~\\anaconda3\\lib\\site-packages\\sklearn\\preprocessing\\_label.py\u001b[0m in \u001b[0;36mfit_transform\u001b[1;34m(self, y)\u001b[0m\n\u001b[0;32m    114\u001b[0m         \u001b[0my\u001b[0m \u001b[1;33m:\u001b[0m \u001b[0marray\u001b[0m\u001b[1;33m-\u001b[0m\u001b[0mlike\u001b[0m \u001b[0mof\u001b[0m \u001b[0mshape\u001b[0m \u001b[1;33m(\u001b[0m\u001b[0mn_samples\u001b[0m\u001b[1;33m,\u001b[0m\u001b[1;33m)\u001b[0m\u001b[1;33m\u001b[0m\u001b[1;33m\u001b[0m\u001b[0m\n\u001b[0;32m    115\u001b[0m         \"\"\"\n\u001b[1;32m--> 116\u001b[1;33m         \u001b[0my\u001b[0m \u001b[1;33m=\u001b[0m \u001b[0mcolumn_or_1d\u001b[0m\u001b[1;33m(\u001b[0m\u001b[0my\u001b[0m\u001b[1;33m,\u001b[0m \u001b[0mwarn\u001b[0m\u001b[1;33m=\u001b[0m\u001b[1;32mTrue\u001b[0m\u001b[1;33m)\u001b[0m\u001b[1;33m\u001b[0m\u001b[1;33m\u001b[0m\u001b[0m\n\u001b[0m\u001b[0;32m    117\u001b[0m         \u001b[0mself\u001b[0m\u001b[1;33m.\u001b[0m\u001b[0mclasses_\u001b[0m\u001b[1;33m,\u001b[0m \u001b[0my\u001b[0m \u001b[1;33m=\u001b[0m \u001b[0m_unique\u001b[0m\u001b[1;33m(\u001b[0m\u001b[0my\u001b[0m\u001b[1;33m,\u001b[0m \u001b[0mreturn_inverse\u001b[0m\u001b[1;33m=\u001b[0m\u001b[1;32mTrue\u001b[0m\u001b[1;33m)\u001b[0m\u001b[1;33m\u001b[0m\u001b[1;33m\u001b[0m\u001b[0m\n\u001b[0;32m    118\u001b[0m         \u001b[1;32mreturn\u001b[0m \u001b[0my\u001b[0m\u001b[1;33m\u001b[0m\u001b[1;33m\u001b[0m\u001b[0m\n",
      "\u001b[1;32m~\\anaconda3\\lib\\site-packages\\sklearn\\utils\\validation.py\u001b[0m in \u001b[0;36minner_f\u001b[1;34m(*args, **kwargs)\u001b[0m\n\u001b[0;32m     61\u001b[0m             \u001b[0mextra_args\u001b[0m \u001b[1;33m=\u001b[0m \u001b[0mlen\u001b[0m\u001b[1;33m(\u001b[0m\u001b[0margs\u001b[0m\u001b[1;33m)\u001b[0m \u001b[1;33m-\u001b[0m \u001b[0mlen\u001b[0m\u001b[1;33m(\u001b[0m\u001b[0mall_args\u001b[0m\u001b[1;33m)\u001b[0m\u001b[1;33m\u001b[0m\u001b[1;33m\u001b[0m\u001b[0m\n\u001b[0;32m     62\u001b[0m             \u001b[1;32mif\u001b[0m \u001b[0mextra_args\u001b[0m \u001b[1;33m<=\u001b[0m \u001b[1;36m0\u001b[0m\u001b[1;33m:\u001b[0m\u001b[1;33m\u001b[0m\u001b[1;33m\u001b[0m\u001b[0m\n\u001b[1;32m---> 63\u001b[1;33m                 \u001b[1;32mreturn\u001b[0m \u001b[0mf\u001b[0m\u001b[1;33m(\u001b[0m\u001b[1;33m*\u001b[0m\u001b[0margs\u001b[0m\u001b[1;33m,\u001b[0m \u001b[1;33m**\u001b[0m\u001b[0mkwargs\u001b[0m\u001b[1;33m)\u001b[0m\u001b[1;33m\u001b[0m\u001b[1;33m\u001b[0m\u001b[0m\n\u001b[0m\u001b[0;32m     64\u001b[0m \u001b[1;33m\u001b[0m\u001b[0m\n\u001b[0;32m     65\u001b[0m             \u001b[1;31m# extra_args > 0\u001b[0m\u001b[1;33m\u001b[0m\u001b[1;33m\u001b[0m\u001b[1;33m\u001b[0m\u001b[0m\n",
      "\u001b[1;32m~\\anaconda3\\lib\\site-packages\\sklearn\\utils\\validation.py\u001b[0m in \u001b[0;36mcolumn_or_1d\u001b[1;34m(y, warn)\u001b[0m\n\u001b[0;32m    862\u001b[0m         \u001b[1;32mreturn\u001b[0m \u001b[0mnp\u001b[0m\u001b[1;33m.\u001b[0m\u001b[0mravel\u001b[0m\u001b[1;33m(\u001b[0m\u001b[0my\u001b[0m\u001b[1;33m)\u001b[0m\u001b[1;33m\u001b[0m\u001b[1;33m\u001b[0m\u001b[0m\n\u001b[0;32m    863\u001b[0m \u001b[1;33m\u001b[0m\u001b[0m\n\u001b[1;32m--> 864\u001b[1;33m     raise ValueError(\n\u001b[0m\u001b[0;32m    865\u001b[0m         \u001b[1;34m\"y should be a 1d array, \"\u001b[0m\u001b[1;33m\u001b[0m\u001b[1;33m\u001b[0m\u001b[0m\n\u001b[0;32m    866\u001b[0m         \"got an array of shape {} instead.\".format(shape))\n",
      "\u001b[1;31mValueError\u001b[0m: y should be a 1d array, got an array of shape (5, 2) instead."
     ]
    }
   ],
   "source": [
    "from sklearn.preprocessing import LabelEncoder, OneHotEncoder\n",
    "labelencoder=LabelEncoder()\n",
    "X[:,:2]=labelencoder.fit_transform(X[:,:2])\n",
    "onehotencoder = OneHotEncoder(categorical_features=[3])\n",
    "X=onehotencoder.fit_transform(X).toarray()\n"
   ]
  },
  {
   "cell_type": "code",
   "execution_count": 28,
   "id": "41cac65a",
   "metadata": {},
   "outputs": [],
   "source": [
    "X=X[:,1:]\n"
   ]
  },
  {
   "cell_type": "markdown",
   "id": "5be8e902",
   "metadata": {},
   "source": [
    "# Linear Regression Codeblocks"
   ]
  },
  {
   "cell_type": "code",
   "execution_count": 52,
   "id": "cbd0170e",
   "metadata": {},
   "outputs": [],
   "source": [
    "import pandas as pd\n",
    "import numpy as np\n",
    "import matplotlib.pyplot as plt\n",
    "import nltk\n",
    "import sklearn\n",
    "from sklearn import linear_model\n"
   ]
  },
  {
   "cell_type": "code",
   "execution_count": 53,
   "id": "c98af274",
   "metadata": {},
   "outputs": [
    {
     "data": {
      "text/html": [
       "<div>\n",
       "<style scoped>\n",
       "    .dataframe tbody tr th:only-of-type {\n",
       "        vertical-align: middle;\n",
       "    }\n",
       "\n",
       "    .dataframe tbody tr th {\n",
       "        vertical-align: top;\n",
       "    }\n",
       "\n",
       "    .dataframe thead th {\n",
       "        text-align: right;\n",
       "    }\n",
       "</style>\n",
       "<table border=\"1\" class=\"dataframe\">\n",
       "  <thead>\n",
       "    <tr style=\"text-align: right;\">\n",
       "      <th></th>\n",
       "      <th>area</th>\n",
       "      <th>price</th>\n",
       "    </tr>\n",
       "  </thead>\n",
       "  <tbody>\n",
       "    <tr>\n",
       "      <th>0</th>\n",
       "      <td>2600</td>\n",
       "      <td>550000</td>\n",
       "    </tr>\n",
       "    <tr>\n",
       "      <th>1</th>\n",
       "      <td>3000</td>\n",
       "      <td>565000</td>\n",
       "    </tr>\n",
       "    <tr>\n",
       "      <th>2</th>\n",
       "      <td>3200</td>\n",
       "      <td>610000</td>\n",
       "    </tr>\n",
       "    <tr>\n",
       "      <th>3</th>\n",
       "      <td>3600</td>\n",
       "      <td>680000</td>\n",
       "    </tr>\n",
       "    <tr>\n",
       "      <th>4</th>\n",
       "      <td>4000</td>\n",
       "      <td>725000</td>\n",
       "    </tr>\n",
       "  </tbody>\n",
       "</table>\n",
       "</div>"
      ],
      "text/plain": [
       "   area   price\n",
       "0  2600  550000\n",
       "1  3000  565000\n",
       "2  3200  610000\n",
       "3  3600  680000\n",
       "4  4000  725000"
      ]
     },
     "execution_count": 53,
     "metadata": {},
     "output_type": "execute_result"
    }
   ],
   "source": [
    "df=pd.read_csv(\"Homeprice.csv\")\n",
    "df"
   ]
  },
  {
   "cell_type": "code",
   "execution_count": 54,
   "id": "7af2e77e",
   "metadata": {},
   "outputs": [
    {
     "data": {
      "text/plain": [
       "<matplotlib.collections.PathCollection at 0x12fffacb580>"
      ]
     },
     "execution_count": 54,
     "metadata": {},
     "output_type": "execute_result"
    },
    {
     "data": {
      "image/png": "[encoded data removed]",
      "text/plain": [
       "<Figure size 432x288 with 1 Axes>"
      ]
     },
     "metadata": {
      "needs_background": "light"
     },
     "output_type": "display_data"
    }
   ],
   "source": [
    "%matplotlib inline\n",
    "plt.scatter(df.area,df.price)\n",
    "#plt.plot(df.area,reg.predict(df[['area']]))"
   ]
  },
  {
   "cell_type": "code",
   "execution_count": 55,
   "id": "5c121268",
   "metadata": {},
   "outputs": [
    {
     "data": {
      "text/plain": [
       "LinearRegression()"
      ]
     },
     "execution_count": 55,
     "metadata": {},
     "output_type": "execute_result"
    }
   ],
   "source": [
    "reg=linear_model.LinearRegression()\n",
    "reg.fit(df[['area']],df.price)"
   ]
  },
  {
   "cell_type": "code",
   "execution_count": 56,
   "id": "0fbcd4b8",
   "metadata": {},
   "outputs": [
    {
     "data": {
      "text/plain": [
       "array([723767.12328767])"
      ]
     },
     "execution_count": 56,
     "metadata": {},
     "output_type": "execute_result"
    }
   ],
   "source": [
    "reg.predict([[4000]])"
   ]
  },
  {
   "cell_type": "code",
   "execution_count": 57,
   "id": "d9bfb821",
   "metadata": {},
   "outputs": [
    {
     "data": {
      "text/plain": [
       "array([135.78767123])"
      ]
     },
     "execution_count": 57,
     "metadata": {},
     "output_type": "execute_result"
    }
   ],
   "source": [
    "reg.coef_"
   ]
  },
  {
   "cell_type": "code",
   "execution_count": 58,
   "id": "6190f37e",
   "metadata": {},
   "outputs": [
    {
     "data": {
      "text/plain": [
       "180616.43835616432"
      ]
     },
     "execution_count": 58,
     "metadata": {},
     "output_type": "execute_result"
    }
   ],
   "source": [
    "reg.intercept_"
   ]
  },
  {
   "cell_type": "code",
   "execution_count": 59,
   "id": "684b3a2f",
   "metadata": {},
   "outputs": [
    {
     "data": {
      "text/plain": [
       "628715.7534151643"
      ]
     },
     "execution_count": 59,
     "metadata": {},
     "output_type": "execute_result"
    }
   ],
   "source": [
    "#y=mx+c\n",
    "3300*135.78767123+180616.43835616432"
   ]
  },
  {
   "cell_type": "code",
   "execution_count": 62,
   "id": "fe52c191",
   "metadata": {},
   "outputs": [
    {
     "data": {
      "text/html": [
       "<div>\n",
       "<style scoped>\n",
       "    .dataframe tbody tr th:only-of-type {\n",
       "        vertical-align: middle;\n",
       "    }\n",
       "\n",
       "    .dataframe tbody tr th {\n",
       "        vertical-align: top;\n",
       "    }\n",
       "\n",
       "    .dataframe thead th {\n",
       "        text-align: right;\n",
       "    }\n",
       "</style>\n",
       "<table border=\"1\" class=\"dataframe\">\n",
       "  <thead>\n",
       "    <tr style=\"text-align: right;\">\n",
       "      <th></th>\n",
       "      <th>Unnamed: 0</th>\n",
       "      <th>area</th>\n",
       "      <th>price</th>\n",
       "      <th>prices</th>\n",
       "    </tr>\n",
       "  </thead>\n",
       "  <tbody>\n",
       "    <tr>\n",
       "      <th>0</th>\n",
       "      <td>0</td>\n",
       "      <td>2600</td>\n",
       "      <td>550000</td>\n",
       "      <td>533664.383562</td>\n",
       "    </tr>\n",
       "    <tr>\n",
       "      <th>1</th>\n",
       "      <td>1</td>\n",
       "      <td>3000</td>\n",
       "      <td>565000</td>\n",
       "      <td>587979.452055</td>\n",
       "    </tr>\n",
       "    <tr>\n",
       "      <th>2</th>\n",
       "      <td>2</td>\n",
       "      <td>3200</td>\n",
       "      <td>610000</td>\n",
       "      <td>615136.986301</td>\n",
       "    </tr>\n",
       "  </tbody>\n",
       "</table>\n",
       "</div>"
      ],
      "text/plain": [
       "   Unnamed: 0  area   price         prices\n",
       "0           0  2600  550000  533664.383562\n",
       "1           1  3000  565000  587979.452055\n",
       "2           2  3200  610000  615136.986301"
      ]
     },
     "execution_count": 62,
     "metadata": {},
     "output_type": "execute_result"
    }
   ],
   "source": [
    "d=pd.read_csv(\"Area.csv\")\n",
    "d=d.head(3)\n",
    "d"
   ]
  },
  {
   "cell_type": "code",
   "execution_count": 63,
   "id": "4622f691",
   "metadata": {},
   "outputs": [
    {
     "name": "stdout",
     "output_type": "stream",
     "text": [
      "[533664.38356164 587979.45205479 615136.98630137]\n"
     ]
    }
   ],
   "source": [
    "p=reg.predict(d[['area']])\n",
    "print(p)"
   ]
  },
  {
   "cell_type": "code",
   "execution_count": 66,
   "id": "8243b0ef",
   "metadata": {},
   "outputs": [],
   "source": [
    "d['prices']=p"
   ]
  },
  {
   "cell_type": "code",
   "execution_count": 67,
   "id": "550e96c4",
   "metadata": {},
   "outputs": [
    {
     "data": {
      "text/html": [
       "<div>\n",
       "<style scoped>\n",
       "    .dataframe tbody tr th:only-of-type {\n",
       "        vertical-align: middle;\n",
       "    }\n",
       "\n",
       "    .dataframe tbody tr th {\n",
       "        vertical-align: top;\n",
       "    }\n",
       "\n",
       "    .dataframe thead th {\n",
       "        text-align: right;\n",
       "    }\n",
       "</style>\n",
       "<table border=\"1\" class=\"dataframe\">\n",
       "  <thead>\n",
       "    <tr style=\"text-align: right;\">\n",
       "      <th></th>\n",
       "      <th>Unnamed: 0</th>\n",
       "      <th>area</th>\n",
       "      <th>price</th>\n",
       "      <th>prices</th>\n",
       "    </tr>\n",
       "  </thead>\n",
       "  <tbody>\n",
       "    <tr>\n",
       "      <th>0</th>\n",
       "      <td>0</td>\n",
       "      <td>2600</td>\n",
       "      <td>550000</td>\n",
       "      <td>533664.383562</td>\n",
       "    </tr>\n",
       "    <tr>\n",
       "      <th>1</th>\n",
       "      <td>1</td>\n",
       "      <td>3000</td>\n",
       "      <td>565000</td>\n",
       "      <td>587979.452055</td>\n",
       "    </tr>\n",
       "    <tr>\n",
       "      <th>2</th>\n",
       "      <td>2</td>\n",
       "      <td>3200</td>\n",
       "      <td>610000</td>\n",
       "      <td>615136.986301</td>\n",
       "    </tr>\n",
       "  </tbody>\n",
       "</table>\n",
       "</div>"
      ],
      "text/plain": [
       "   Unnamed: 0  area   price         prices\n",
       "0           0  2600  550000  533664.383562\n",
       "1           1  3000  565000  587979.452055\n",
       "2           2  3200  610000  615136.986301"
      ]
     },
     "execution_count": 67,
     "metadata": {},
     "output_type": "execute_result"
    }
   ],
   "source": [
    "d"
   ]
  },
  {
   "cell_type": "code",
   "execution_count": 69,
   "id": "314c3e47",
   "metadata": {},
   "outputs": [],
   "source": [
    "d.to_csv(\"Area.csv\")"
   ]
  },
  {
   "cell_type": "code",
   "execution_count": 70,
   "id": "4bb90bb5",
   "metadata": {},
   "outputs": [
    {
     "data": {
      "text/plain": [
       "[<matplotlib.lines.Line2D at 0x12fffb39730>]"
      ]
     },
     "execution_count": 70,
     "metadata": {},
     "output_type": "execute_result"
    },
    {
     "data": {
      "image/png": "[encoded data removed]",
      "text/plain": [
       "<Figure size 432x288 with 1 Axes>"
      ]
     },
     "metadata": {
      "needs_background": "light"
     },
     "output_type": "display_data"
    }
   ],
   "source": [
    "%matplotlib inline\n",
    "plt.xlabel('area',fontsize=20)\n",
    "plt.ylabel('price',fontsize=20)\n",
    "plt.scatter(df.area,df.price,color='red',marker=\"+\")\n",
    "plt.plot(df.area,reg.predict(df[['area']]),color=\"blue\")"
   ]
  },
  {
   "cell_type": "code",
   "execution_count": 71,
   "id": "a015307a",
   "metadata": {},
   "outputs": [
    {
     "data": {
      "text/plain": [
       "[<matplotlib.lines.Line2D at 0x12fffb97e80>]"
      ]
     },
     "execution_count": 71,
     "metadata": {},
     "output_type": "execute_result"
    },
    {
     "data": {
      "image/png": "[encoded data removed]",
      "text/plain": [
       "<Figure size 432x288 with 1 Axes>"
      ]
     },
     "metadata": {
      "needs_background": "light"
     },
     "output_type": "display_data"
    }
   ],
   "source": [
    "%matplotlib inline\n",
    "plt.xlabel('area',fontsize=20)\n",
    "plt.ylabel('price',fontsize=20)\n",
    "plt.scatter(d.area,d.prices,color='red',marker=\"+\")\n",
    "plt.plot(d.area,reg.predict(d[['area']]),color=\"blue\")"
   ]
  },
  {
   "cell_type": "markdown",
   "id": "ad46a7de",
   "metadata": {},
   "source": [
    "# World Population"
   ]
  },
  {
   "cell_type": "code",
   "execution_count": 72,
   "id": "07f5cfbf",
   "metadata": {},
   "outputs": [],
   "source": [
    "import pandas as pd\n",
    "import numpy as np\n",
    "import matplotlib.pyplot as plt\n",
    "import sklearn\n",
    "from sklearn import linear_model"
   ]
  },
  {
   "cell_type": "code",
   "execution_count": 73,
   "id": "2d2fb87c",
   "metadata": {},
   "outputs": [
    {
     "data": {
      "text/html": [
       "<div>\n",
       "<style scoped>\n",
       "    .dataframe tbody tr th:only-of-type {\n",
       "        vertical-align: middle;\n",
       "    }\n",
       "\n",
       "    .dataframe tbody tr th {\n",
       "        vertical-align: top;\n",
       "    }\n",
       "\n",
       "    .dataframe thead th {\n",
       "        text-align: right;\n",
       "    }\n",
       "</style>\n",
       "<table border=\"1\" class=\"dataframe\">\n",
       "  <thead>\n",
       "    <tr style=\"text-align: right;\">\n",
       "      <th></th>\n",
       "      <th>Year</th>\n",
       "      <th>Population</th>\n",
       "      <th>ChangePerc</th>\n",
       "      <th>NetChange</th>\n",
       "      <th>Density</th>\n",
       "      <th>Urban</th>\n",
       "      <th>UrbanPerc</th>\n",
       "    </tr>\n",
       "  </thead>\n",
       "  <tbody>\n",
       "    <tr>\n",
       "      <th>0</th>\n",
       "      <td>2020</td>\n",
       "      <td>7794798739</td>\n",
       "      <td>1.05</td>\n",
       "      <td>81330639</td>\n",
       "      <td>52</td>\n",
       "      <td>4378993944</td>\n",
       "      <td>56</td>\n",
       "    </tr>\n",
       "    <tr>\n",
       "      <th>1</th>\n",
       "      <td>2019</td>\n",
       "      <td>7713468100</td>\n",
       "      <td>1.08</td>\n",
       "      <td>82377060</td>\n",
       "      <td>52</td>\n",
       "      <td>4299438618</td>\n",
       "      <td>56</td>\n",
       "    </tr>\n",
       "    <tr>\n",
       "      <th>2</th>\n",
       "      <td>2018</td>\n",
       "      <td>7631091040</td>\n",
       "      <td>1.10</td>\n",
       "      <td>83232115</td>\n",
       "      <td>51</td>\n",
       "      <td>4219817318</td>\n",
       "      <td>55</td>\n",
       "    </tr>\n",
       "    <tr>\n",
       "      <th>3</th>\n",
       "      <td>2017</td>\n",
       "      <td>7547858925</td>\n",
       "      <td>1.12</td>\n",
       "      <td>83836876</td>\n",
       "      <td>51</td>\n",
       "      <td>4140188594</td>\n",
       "      <td>55</td>\n",
       "    </tr>\n",
       "    <tr>\n",
       "      <th>4</th>\n",
       "      <td>2016</td>\n",
       "      <td>7464022049</td>\n",
       "      <td>1.14</td>\n",
       "      <td>84224910</td>\n",
       "      <td>50</td>\n",
       "      <td>4060652683</td>\n",
       "      <td>54</td>\n",
       "    </tr>\n",
       "    <tr>\n",
       "      <th>...</th>\n",
       "      <td>...</td>\n",
       "      <td>...</td>\n",
       "      <td>...</td>\n",
       "      <td>...</td>\n",
       "      <td>...</td>\n",
       "      <td>...</td>\n",
       "      <td>...</td>\n",
       "    </tr>\n",
       "    <tr>\n",
       "      <th>65</th>\n",
       "      <td>1955</td>\n",
       "      <td>2773019936</td>\n",
       "      <td>1.77</td>\n",
       "      <td>48173195</td>\n",
       "      <td>19</td>\n",
       "      <td>877008842</td>\n",
       "      <td>32</td>\n",
       "    </tr>\n",
       "    <tr>\n",
       "      <th>66</th>\n",
       "      <td>1954</td>\n",
       "      <td>2724846741</td>\n",
       "      <td>1.76</td>\n",
       "      <td>47237781</td>\n",
       "      <td>18</td>\n",
       "      <td>850179106</td>\n",
       "      <td>31</td>\n",
       "    </tr>\n",
       "    <tr>\n",
       "      <th>67</th>\n",
       "      <td>1953</td>\n",
       "      <td>2677608960</td>\n",
       "      <td>1.78</td>\n",
       "      <td>46747398</td>\n",
       "      <td>18</td>\n",
       "      <td>824289989</td>\n",
       "      <td>31</td>\n",
       "    </tr>\n",
       "    <tr>\n",
       "      <th>68</th>\n",
       "      <td>1952</td>\n",
       "      <td>2630861562</td>\n",
       "      <td>1.81</td>\n",
       "      <td>46827301</td>\n",
       "      <td>18</td>\n",
       "      <td>799282533</td>\n",
       "      <td>30</td>\n",
       "    </tr>\n",
       "    <tr>\n",
       "      <th>69</th>\n",
       "      <td>1951</td>\n",
       "      <td>2584034261</td>\n",
       "      <td>1.88</td>\n",
       "      <td>47603112</td>\n",
       "      <td>17</td>\n",
       "      <td>775067697</td>\n",
       "      <td>30</td>\n",
       "    </tr>\n",
       "  </tbody>\n",
       "</table>\n",
       "<p>70 rows × 7 columns</p>\n",
       "</div>"
      ],
      "text/plain": [
       "    Year  Population  ChangePerc  NetChange  Density       Urban  UrbanPerc\n",
       "0   2020  7794798739        1.05   81330639       52  4378993944         56\n",
       "1   2019  7713468100        1.08   82377060       52  4299438618         56\n",
       "2   2018  7631091040        1.10   83232115       51  4219817318         55\n",
       "3   2017  7547858925        1.12   83836876       51  4140188594         55\n",
       "4   2016  7464022049        1.14   84224910       50  4060652683         54\n",
       "..   ...         ...         ...        ...      ...         ...        ...\n",
       "65  1955  2773019936        1.77   48173195       19   877008842         32\n",
       "66  1954  2724846741        1.76   47237781       18   850179106         31\n",
       "67  1953  2677608960        1.78   46747398       18   824289989         31\n",
       "68  1952  2630861562        1.81   46827301       18   799282533         30\n",
       "69  1951  2584034261        1.88   47603112       17   775067697         30\n",
       "\n",
       "[70 rows x 7 columns]"
      ]
     },
     "execution_count": 73,
     "metadata": {},
     "output_type": "execute_result"
    }
   ],
   "source": [
    "df=pd.read_csv(\"WorldPopulation.csv\")\n",
    "df"
   ]
  },
  {
   "cell_type": "code",
   "execution_count": 74,
   "id": "8d66ae56",
   "metadata": {},
   "outputs": [
    {
     "data": {
      "text/plain": [
       "<matplotlib.collections.PathCollection at 0x12fffc00b50>"
      ]
     },
     "execution_count": 74,
     "metadata": {},
     "output_type": "execute_result"
    },
    {
     "data": {
      "image/png": "[encoded data removed]",
      "text/plain": [
       "<Figure size 432x288 with 1 Axes>"
      ]
     },
     "metadata": {
      "needs_background": "light"
     },
     "output_type": "display_data"
    }
   ],
   "source": [
    "plt.plot(df.Year,df.Population,color='red')\n",
    "plt.scatter(df.Year,df.Population,color='blue',marker=\"+\")"
   ]
  },
  {
   "cell_type": "code",
   "execution_count": 75,
   "id": "87c48f64",
   "metadata": {},
   "outputs": [
    {
     "data": {
      "text/plain": [
       "LinearRegression()"
      ]
     },
     "execution_count": 75,
     "metadata": {},
     "output_type": "execute_result"
    }
   ],
   "source": [
    "reg=linear_model.LinearRegression()\n",
    "reg.fit(df[['Year']],df.Population)"
   ]
  },
  {
   "cell_type": "code",
   "execution_count": 77,
   "id": "736dd014",
   "metadata": {},
   "outputs": [
    {
     "data": {
      "text/plain": [
       "array([7.77963704e+09])"
      ]
     },
     "execution_count": 77,
     "metadata": {},
     "output_type": "execute_result"
    }
   ],
   "source": [
    "reg.predict([[2021]])"
   ]
  },
  {
   "cell_type": "code",
   "execution_count": 78,
   "id": "5bc1e02a",
   "metadata": {},
   "outputs": [
    {
     "data": {
      "text/plain": [
       "array([78243020.52145916])"
      ]
     },
     "execution_count": 78,
     "metadata": {},
     "output_type": "execute_result"
    }
   ],
   "source": [
    "reg.coef_"
   ]
  },
  {
   "cell_type": "code",
   "execution_count": 79,
   "id": "3217ef97",
   "metadata": {},
   "outputs": [
    {
     "data": {
      "text/plain": [
       "-150349507435.5572"
      ]
     },
     "execution_count": 79,
     "metadata": {},
     "output_type": "execute_result"
    }
   ],
   "source": [
    "reg.intercept_"
   ]
  },
  {
   "cell_type": "code",
   "execution_count": 80,
   "id": "63dbc68c",
   "metadata": {},
   "outputs": [
    {
     "data": {
      "text/plain": [
       "7779637038.311768"
      ]
     },
     "execution_count": 80,
     "metadata": {},
     "output_type": "execute_result"
    }
   ],
   "source": [
    "78243020.52145916*2021+(-150349507435.5572)"
   ]
  },
  {
   "cell_type": "code",
   "execution_count": 81,
   "id": "ff8811c6",
   "metadata": {},
   "outputs": [
    {
     "data": {
      "text/html": [
       "<div>\n",
       "<style scoped>\n",
       "    .dataframe tbody tr th:only-of-type {\n",
       "        vertical-align: middle;\n",
       "    }\n",
       "\n",
       "    .dataframe tbody tr th {\n",
       "        vertical-align: top;\n",
       "    }\n",
       "\n",
       "    .dataframe thead th {\n",
       "        text-align: right;\n",
       "    }\n",
       "</style>\n",
       "<table border=\"1\" class=\"dataframe\">\n",
       "  <thead>\n",
       "    <tr style=\"text-align: right;\">\n",
       "      <th></th>\n",
       "      <th>Year</th>\n",
       "      <th>Population</th>\n",
       "    </tr>\n",
       "  </thead>\n",
       "  <tbody>\n",
       "    <tr>\n",
       "      <th>0</th>\n",
       "      <td>2025</td>\n",
       "      <td>NaN</td>\n",
       "    </tr>\n",
       "    <tr>\n",
       "      <th>1</th>\n",
       "      <td>2030</td>\n",
       "      <td>NaN</td>\n",
       "    </tr>\n",
       "    <tr>\n",
       "      <th>2</th>\n",
       "      <td>2035</td>\n",
       "      <td>NaN</td>\n",
       "    </tr>\n",
       "    <tr>\n",
       "      <th>3</th>\n",
       "      <td>2040</td>\n",
       "      <td>NaN</td>\n",
       "    </tr>\n",
       "    <tr>\n",
       "      <th>4</th>\n",
       "      <td>2045</td>\n",
       "      <td>NaN</td>\n",
       "    </tr>\n",
       "    <tr>\n",
       "      <th>5</th>\n",
       "      <td>2050</td>\n",
       "      <td>NaN</td>\n",
       "    </tr>\n",
       "    <tr>\n",
       "      <th>6</th>\n",
       "      <td>2060</td>\n",
       "      <td>NaN</td>\n",
       "    </tr>\n",
       "  </tbody>\n",
       "</table>\n",
       "</div>"
      ],
      "text/plain": [
       "   Year  Population\n",
       "0  2025         NaN\n",
       "1  2030         NaN\n",
       "2  2035         NaN\n",
       "3  2040         NaN\n",
       "4  2045         NaN\n",
       "5  2050         NaN\n",
       "6  2060         NaN"
      ]
     },
     "execution_count": 81,
     "metadata": {},
     "output_type": "execute_result"
    }
   ],
   "source": [
    "d=pd.read_csv(\"PredictionPopulation.csv\")\n",
    "d"
   ]
  },
  {
   "cell_type": "code",
   "execution_count": 83,
   "id": "09855d2d",
   "metadata": {},
   "outputs": [],
   "source": [
    "p=reg.predict(d[['Year']])"
   ]
  },
  {
   "cell_type": "code",
   "execution_count": 84,
   "id": "bec29cd4",
   "metadata": {},
   "outputs": [
    {
     "data": {
      "text/html": [
       "<div>\n",
       "<style scoped>\n",
       "    .dataframe tbody tr th:only-of-type {\n",
       "        vertical-align: middle;\n",
       "    }\n",
       "\n",
       "    .dataframe tbody tr th {\n",
       "        vertical-align: top;\n",
       "    }\n",
       "\n",
       "    .dataframe thead th {\n",
       "        text-align: right;\n",
       "    }\n",
       "</style>\n",
       "<table border=\"1\" class=\"dataframe\">\n",
       "  <thead>\n",
       "    <tr style=\"text-align: right;\">\n",
       "      <th></th>\n",
       "      <th>Year</th>\n",
       "      <th>Population</th>\n",
       "    </tr>\n",
       "  </thead>\n",
       "  <tbody>\n",
       "    <tr>\n",
       "      <th>0</th>\n",
       "      <td>2025</td>\n",
       "      <td>8.092609e+09</td>\n",
       "    </tr>\n",
       "    <tr>\n",
       "      <th>1</th>\n",
       "      <td>2030</td>\n",
       "      <td>8.483824e+09</td>\n",
       "    </tr>\n",
       "    <tr>\n",
       "      <th>2</th>\n",
       "      <td>2035</td>\n",
       "      <td>8.875039e+09</td>\n",
       "    </tr>\n",
       "    <tr>\n",
       "      <th>3</th>\n",
       "      <td>2040</td>\n",
       "      <td>9.266254e+09</td>\n",
       "    </tr>\n",
       "    <tr>\n",
       "      <th>4</th>\n",
       "      <td>2045</td>\n",
       "      <td>9.657470e+09</td>\n",
       "    </tr>\n",
       "    <tr>\n",
       "      <th>5</th>\n",
       "      <td>2050</td>\n",
       "      <td>1.004868e+10</td>\n",
       "    </tr>\n",
       "    <tr>\n",
       "      <th>6</th>\n",
       "      <td>2060</td>\n",
       "      <td>1.083111e+10</td>\n",
       "    </tr>\n",
       "  </tbody>\n",
       "</table>\n",
       "</div>"
      ],
      "text/plain": [
       "   Year    Population\n",
       "0  2025  8.092609e+09\n",
       "1  2030  8.483824e+09\n",
       "2  2035  8.875039e+09\n",
       "3  2040  9.266254e+09\n",
       "4  2045  9.657470e+09\n",
       "5  2050  1.004868e+10\n",
       "6  2060  1.083111e+10"
      ]
     },
     "execution_count": 84,
     "metadata": {},
     "output_type": "execute_result"
    }
   ],
   "source": [
    "d['Population']=p\n",
    "d"
   ]
  },
  {
   "cell_type": "code",
   "execution_count": 87,
   "id": "473b8036",
   "metadata": {},
   "outputs": [
    {
     "data": {
      "text/plain": [
       "[<matplotlib.lines.Line2D at 0x12fffd14c40>]"
      ]
     },
     "execution_count": 87,
     "metadata": {},
     "output_type": "execute_result"
    },
    {
     "data": {
      "image/png": "[encoded data removed]",
      "text/plain": [
       "<Figure size 432x288 with 1 Axes>"
      ]
     },
     "metadata": {
      "needs_background": "light"
     },
     "output_type": "display_data"
    }
   ],
   "source": [
    "plt.scatter(d.Year,d.Population,color='red',marker='+')\n",
    "plt.plot(d.Year,d.Population,color=\"blue\")"
   ]
  },
  {
   "cell_type": "code",
   "execution_count": 94,
   "id": "f26e1b46",
   "metadata": {},
   "outputs": [
    {
     "ename": "KeyError",
     "evalue": "\"None of [Int64Index([2035], dtype='int64')] are in the [columns]\"",
     "output_type": "error",
     "traceback": [
      "\u001b[1;31m---------------------------------------------------------------------------\u001b[0m",
      "\u001b[1;31mKeyError\u001b[0m                                  Traceback (most recent call last)",
      "\u001b[1;32m<ipython-input-94-730c5d624651>\u001b[0m in \u001b[0;36m<module>\u001b[1;34m\u001b[0m\n\u001b[1;32m----> 1\u001b[1;33m \u001b[0mreg\u001b[0m\u001b[1;33m.\u001b[0m\u001b[0mpredict\u001b[0m\u001b[1;33m(\u001b[0m\u001b[0md\u001b[0m\u001b[1;33m[\u001b[0m\u001b[1;33m[\u001b[0m\u001b[1;36m2035\u001b[0m\u001b[1;33m]\u001b[0m\u001b[1;33m]\u001b[0m\u001b[1;33m)\u001b[0m\u001b[1;33m\u001b[0m\u001b[1;33m\u001b[0m\u001b[0m\n\u001b[0m",
      "\u001b[1;32m~\\anaconda3\\lib\\site-packages\\pandas\\core\\frame.py\u001b[0m in \u001b[0;36m__getitem__\u001b[1;34m(self, key)\u001b[0m\n\u001b[0;32m   3028\u001b[0m             \u001b[1;32mif\u001b[0m \u001b[0mis_iterator\u001b[0m\u001b[1;33m(\u001b[0m\u001b[0mkey\u001b[0m\u001b[1;33m)\u001b[0m\u001b[1;33m:\u001b[0m\u001b[1;33m\u001b[0m\u001b[1;33m\u001b[0m\u001b[0m\n\u001b[0;32m   3029\u001b[0m                 \u001b[0mkey\u001b[0m \u001b[1;33m=\u001b[0m \u001b[0mlist\u001b[0m\u001b[1;33m(\u001b[0m\u001b[0mkey\u001b[0m\u001b[1;33m)\u001b[0m\u001b[1;33m\u001b[0m\u001b[1;33m\u001b[0m\u001b[0m\n\u001b[1;32m-> 3030\u001b[1;33m             \u001b[0mindexer\u001b[0m \u001b[1;33m=\u001b[0m \u001b[0mself\u001b[0m\u001b[1;33m.\u001b[0m\u001b[0mloc\u001b[0m\u001b[1;33m.\u001b[0m\u001b[0m_get_listlike_indexer\u001b[0m\u001b[1;33m(\u001b[0m\u001b[0mkey\u001b[0m\u001b[1;33m,\u001b[0m \u001b[0maxis\u001b[0m\u001b[1;33m=\u001b[0m\u001b[1;36m1\u001b[0m\u001b[1;33m,\u001b[0m \u001b[0mraise_missing\u001b[0m\u001b[1;33m=\u001b[0m\u001b[1;32mTrue\u001b[0m\u001b[1;33m)\u001b[0m\u001b[1;33m[\u001b[0m\u001b[1;36m1\u001b[0m\u001b[1;33m]\u001b[0m\u001b[1;33m\u001b[0m\u001b[1;33m\u001b[0m\u001b[0m\n\u001b[0m\u001b[0;32m   3031\u001b[0m \u001b[1;33m\u001b[0m\u001b[0m\n\u001b[0;32m   3032\u001b[0m         \u001b[1;31m# take() does not accept boolean indexers\u001b[0m\u001b[1;33m\u001b[0m\u001b[1;33m\u001b[0m\u001b[1;33m\u001b[0m\u001b[0m\n",
      "\u001b[1;32m~\\anaconda3\\lib\\site-packages\\pandas\\core\\indexing.py\u001b[0m in \u001b[0;36m_get_listlike_indexer\u001b[1;34m(self, key, axis, raise_missing)\u001b[0m\n\u001b[0;32m   1264\u001b[0m             \u001b[0mkeyarr\u001b[0m\u001b[1;33m,\u001b[0m \u001b[0mindexer\u001b[0m\u001b[1;33m,\u001b[0m \u001b[0mnew_indexer\u001b[0m \u001b[1;33m=\u001b[0m \u001b[0max\u001b[0m\u001b[1;33m.\u001b[0m\u001b[0m_reindex_non_unique\u001b[0m\u001b[1;33m(\u001b[0m\u001b[0mkeyarr\u001b[0m\u001b[1;33m)\u001b[0m\u001b[1;33m\u001b[0m\u001b[1;33m\u001b[0m\u001b[0m\n\u001b[0;32m   1265\u001b[0m \u001b[1;33m\u001b[0m\u001b[0m\n\u001b[1;32m-> 1266\u001b[1;33m         \u001b[0mself\u001b[0m\u001b[1;33m.\u001b[0m\u001b[0m_validate_read_indexer\u001b[0m\u001b[1;33m(\u001b[0m\u001b[0mkeyarr\u001b[0m\u001b[1;33m,\u001b[0m \u001b[0mindexer\u001b[0m\u001b[1;33m,\u001b[0m \u001b[0maxis\u001b[0m\u001b[1;33m,\u001b[0m \u001b[0mraise_missing\u001b[0m\u001b[1;33m=\u001b[0m\u001b[0mraise_missing\u001b[0m\u001b[1;33m)\u001b[0m\u001b[1;33m\u001b[0m\u001b[1;33m\u001b[0m\u001b[0m\n\u001b[0m\u001b[0;32m   1267\u001b[0m         \u001b[1;32mreturn\u001b[0m \u001b[0mkeyarr\u001b[0m\u001b[1;33m,\u001b[0m \u001b[0mindexer\u001b[0m\u001b[1;33m\u001b[0m\u001b[1;33m\u001b[0m\u001b[0m\n\u001b[0;32m   1268\u001b[0m \u001b[1;33m\u001b[0m\u001b[0m\n",
      "\u001b[1;32m~\\anaconda3\\lib\\site-packages\\pandas\\core\\indexing.py\u001b[0m in \u001b[0;36m_validate_read_indexer\u001b[1;34m(self, key, indexer, axis, raise_missing)\u001b[0m\n\u001b[0;32m   1306\u001b[0m             \u001b[1;32mif\u001b[0m \u001b[0mmissing\u001b[0m \u001b[1;33m==\u001b[0m \u001b[0mlen\u001b[0m\u001b[1;33m(\u001b[0m\u001b[0mindexer\u001b[0m\u001b[1;33m)\u001b[0m\u001b[1;33m:\u001b[0m\u001b[1;33m\u001b[0m\u001b[1;33m\u001b[0m\u001b[0m\n\u001b[0;32m   1307\u001b[0m                 \u001b[0maxis_name\u001b[0m \u001b[1;33m=\u001b[0m \u001b[0mself\u001b[0m\u001b[1;33m.\u001b[0m\u001b[0mobj\u001b[0m\u001b[1;33m.\u001b[0m\u001b[0m_get_axis_name\u001b[0m\u001b[1;33m(\u001b[0m\u001b[0maxis\u001b[0m\u001b[1;33m)\u001b[0m\u001b[1;33m\u001b[0m\u001b[1;33m\u001b[0m\u001b[0m\n\u001b[1;32m-> 1308\u001b[1;33m                 \u001b[1;32mraise\u001b[0m \u001b[0mKeyError\u001b[0m\u001b[1;33m(\u001b[0m\u001b[1;34mf\"None of [{key}] are in the [{axis_name}]\"\u001b[0m\u001b[1;33m)\u001b[0m\u001b[1;33m\u001b[0m\u001b[1;33m\u001b[0m\u001b[0m\n\u001b[0m\u001b[0;32m   1309\u001b[0m \u001b[1;33m\u001b[0m\u001b[0m\n\u001b[0;32m   1310\u001b[0m             \u001b[0max\u001b[0m \u001b[1;33m=\u001b[0m \u001b[0mself\u001b[0m\u001b[1;33m.\u001b[0m\u001b[0mobj\u001b[0m\u001b[1;33m.\u001b[0m\u001b[0m_get_axis\u001b[0m\u001b[1;33m(\u001b[0m\u001b[0maxis\u001b[0m\u001b[1;33m)\u001b[0m\u001b[1;33m\u001b[0m\u001b[1;33m\u001b[0m\u001b[0m\n",
      "\u001b[1;31mKeyError\u001b[0m: \"None of [Int64Index([2035], dtype='int64')] are in the [columns]\""
     ]
    }
   ],
   "source": [
    "reg.predict(d[[2035]])"
   ]
  },
  {
   "cell_type": "code",
   "execution_count": 95,
   "id": "f9fa4252",
   "metadata": {},
   "outputs": [],
   "source": [
    "d.to_csv('Prediction_csv')"
   ]
  },
  {
   "cell_type": "markdown",
   "id": "d508964d",
   "metadata": {},
   "source": [
    "# Multi Variable"
   ]
  },
  {
   "cell_type": "code",
   "execution_count": 96,
   "id": "2292041c",
   "metadata": {},
   "outputs": [],
   "source": [
    "import numpy as np\n",
    "import pandas as pd\n",
    "import matplotlib.pyplot as plt\n",
    "from sklearn import linear_model\n"
   ]
  },
  {
   "cell_type": "code",
   "execution_count": 97,
   "id": "881b13fd",
   "metadata": {},
   "outputs": [
    {
     "data": {
      "text/html": [
       "<div>\n",
       "<style scoped>\n",
       "    .dataframe tbody tr th:only-of-type {\n",
       "        vertical-align: middle;\n",
       "    }\n",
       "\n",
       "    .dataframe tbody tr th {\n",
       "        vertical-align: top;\n",
       "    }\n",
       "\n",
       "    .dataframe thead th {\n",
       "        text-align: right;\n",
       "    }\n",
       "</style>\n",
       "<table border=\"1\" class=\"dataframe\">\n",
       "  <thead>\n",
       "    <tr style=\"text-align: right;\">\n",
       "      <th></th>\n",
       "      <th>area</th>\n",
       "      <th>bedrooms</th>\n",
       "      <th>age</th>\n",
       "      <th>price</th>\n",
       "    </tr>\n",
       "  </thead>\n",
       "  <tbody>\n",
       "    <tr>\n",
       "      <th>0</th>\n",
       "      <td>2600</td>\n",
       "      <td>3.0</td>\n",
       "      <td>20</td>\n",
       "      <td>550000</td>\n",
       "    </tr>\n",
       "    <tr>\n",
       "      <th>1</th>\n",
       "      <td>3000</td>\n",
       "      <td>4.0</td>\n",
       "      <td>15</td>\n",
       "      <td>565000</td>\n",
       "    </tr>\n",
       "    <tr>\n",
       "      <th>2</th>\n",
       "      <td>3200</td>\n",
       "      <td>NaN</td>\n",
       "      <td>18</td>\n",
       "      <td>610000</td>\n",
       "    </tr>\n",
       "    <tr>\n",
       "      <th>3</th>\n",
       "      <td>3600</td>\n",
       "      <td>3.0</td>\n",
       "      <td>30</td>\n",
       "      <td>595000</td>\n",
       "    </tr>\n",
       "    <tr>\n",
       "      <th>4</th>\n",
       "      <td>4000</td>\n",
       "      <td>5.0</td>\n",
       "      <td>8</td>\n",
       "      <td>760000</td>\n",
       "    </tr>\n",
       "    <tr>\n",
       "      <th>5</th>\n",
       "      <td>4100</td>\n",
       "      <td>6.0</td>\n",
       "      <td>8</td>\n",
       "      <td>810000</td>\n",
       "    </tr>\n",
       "  </tbody>\n",
       "</table>\n",
       "</div>"
      ],
      "text/plain": [
       "   area  bedrooms  age   price\n",
       "0  2600       3.0   20  550000\n",
       "1  3000       4.0   15  565000\n",
       "2  3200       NaN   18  610000\n",
       "3  3600       3.0   30  595000\n",
       "4  4000       5.0    8  760000\n",
       "5  4100       6.0    8  810000"
      ]
     },
     "execution_count": 97,
     "metadata": {},
     "output_type": "execute_result"
    }
   ],
   "source": [
    "df=pd.read_csv(\"Area(Multi).csv\")\n",
    "df"
   ]
  },
  {
   "cell_type": "code",
   "execution_count": 99,
   "id": "3b84d0d7",
   "metadata": {},
   "outputs": [
    {
     "data": {
      "text/html": [
       "<div>\n",
       "<style scoped>\n",
       "    .dataframe tbody tr th:only-of-type {\n",
       "        vertical-align: middle;\n",
       "    }\n",
       "\n",
       "    .dataframe tbody tr th {\n",
       "        vertical-align: top;\n",
       "    }\n",
       "\n",
       "    .dataframe thead th {\n",
       "        text-align: right;\n",
       "    }\n",
       "</style>\n",
       "<table border=\"1\" class=\"dataframe\">\n",
       "  <thead>\n",
       "    <tr style=\"text-align: right;\">\n",
       "      <th></th>\n",
       "      <th>area</th>\n",
       "      <th>bedrooms</th>\n",
       "      <th>age</th>\n",
       "      <th>price</th>\n",
       "    </tr>\n",
       "  </thead>\n",
       "  <tbody>\n",
       "    <tr>\n",
       "      <th>0</th>\n",
       "      <td>2600</td>\n",
       "      <td>3.0</td>\n",
       "      <td>20</td>\n",
       "      <td>550000</td>\n",
       "    </tr>\n",
       "    <tr>\n",
       "      <th>1</th>\n",
       "      <td>3000</td>\n",
       "      <td>4.0</td>\n",
       "      <td>15</td>\n",
       "      <td>565000</td>\n",
       "    </tr>\n",
       "    <tr>\n",
       "      <th>2</th>\n",
       "      <td>3200</td>\n",
       "      <td>NaN</td>\n",
       "      <td>18</td>\n",
       "      <td>610000</td>\n",
       "    </tr>\n",
       "    <tr>\n",
       "      <th>3</th>\n",
       "      <td>3600</td>\n",
       "      <td>3.0</td>\n",
       "      <td>30</td>\n",
       "      <td>595000</td>\n",
       "    </tr>\n",
       "    <tr>\n",
       "      <th>4</th>\n",
       "      <td>4000</td>\n",
       "      <td>5.0</td>\n",
       "      <td>8</td>\n",
       "      <td>760000</td>\n",
       "    </tr>\n",
       "    <tr>\n",
       "      <th>5</th>\n",
       "      <td>4100</td>\n",
       "      <td>6.0</td>\n",
       "      <td>8</td>\n",
       "      <td>810000</td>\n",
       "    </tr>\n",
       "  </tbody>\n",
       "</table>\n",
       "</div>"
      ],
      "text/plain": [
       "   area  bedrooms  age   price\n",
       "0  2600       3.0   20  550000\n",
       "1  3000       4.0   15  565000\n",
       "2  3200       NaN   18  610000\n",
       "3  3600       3.0   30  595000\n",
       "4  4000       5.0    8  760000\n",
       "5  4100       6.0    8  810000"
      ]
     },
     "execution_count": 99,
     "metadata": {},
     "output_type": "execute_result"
    }
   ],
   "source": [
    "import math\n",
    "median_bedrooms=math.floor(df.bedrooms.median())\n",
    "median_bedrooms\n",
    "df"
   ]
  },
  {
   "cell_type": "code",
   "execution_count": 100,
   "id": "5b18b70e",
   "metadata": {},
   "outputs": [],
   "source": [
    "df.bedrooms=df.bedrooms.fillna(median_bedrooms)"
   ]
  },
  {
   "cell_type": "code",
   "execution_count": 101,
   "id": "590afe02",
   "metadata": {},
   "outputs": [
    {
     "data": {
      "text/html": [
       "<div>\n",
       "<style scoped>\n",
       "    .dataframe tbody tr th:only-of-type {\n",
       "        vertical-align: middle;\n",
       "    }\n",
       "\n",
       "    .dataframe tbody tr th {\n",
       "        vertical-align: top;\n",
       "    }\n",
       "\n",
       "    .dataframe thead th {\n",
       "        text-align: right;\n",
       "    }\n",
       "</style>\n",
       "<table border=\"1\" class=\"dataframe\">\n",
       "  <thead>\n",
       "    <tr style=\"text-align: right;\">\n",
       "      <th></th>\n",
       "      <th>area</th>\n",
       "      <th>bedrooms</th>\n",
       "      <th>age</th>\n",
       "      <th>price</th>\n",
       "    </tr>\n",
       "  </thead>\n",
       "  <tbody>\n",
       "    <tr>\n",
       "      <th>0</th>\n",
       "      <td>2600</td>\n",
       "      <td>3.0</td>\n",
       "      <td>20</td>\n",
       "      <td>550000</td>\n",
       "    </tr>\n",
       "    <tr>\n",
       "      <th>1</th>\n",
       "      <td>3000</td>\n",
       "      <td>4.0</td>\n",
       "      <td>15</td>\n",
       "      <td>565000</td>\n",
       "    </tr>\n",
       "    <tr>\n",
       "      <th>2</th>\n",
       "      <td>3200</td>\n",
       "      <td>4.0</td>\n",
       "      <td>18</td>\n",
       "      <td>610000</td>\n",
       "    </tr>\n",
       "    <tr>\n",
       "      <th>3</th>\n",
       "      <td>3600</td>\n",
       "      <td>3.0</td>\n",
       "      <td>30</td>\n",
       "      <td>595000</td>\n",
       "    </tr>\n",
       "    <tr>\n",
       "      <th>4</th>\n",
       "      <td>4000</td>\n",
       "      <td>5.0</td>\n",
       "      <td>8</td>\n",
       "      <td>760000</td>\n",
       "    </tr>\n",
       "    <tr>\n",
       "      <th>5</th>\n",
       "      <td>4100</td>\n",
       "      <td>6.0</td>\n",
       "      <td>8</td>\n",
       "      <td>810000</td>\n",
       "    </tr>\n",
       "  </tbody>\n",
       "</table>\n",
       "</div>"
      ],
      "text/plain": [
       "   area  bedrooms  age   price\n",
       "0  2600       3.0   20  550000\n",
       "1  3000       4.0   15  565000\n",
       "2  3200       4.0   18  610000\n",
       "3  3600       3.0   30  595000\n",
       "4  4000       5.0    8  760000\n",
       "5  4100       6.0    8  810000"
      ]
     },
     "execution_count": 101,
     "metadata": {},
     "output_type": "execute_result"
    }
   ],
   "source": [
    "df"
   ]
  },
  {
   "cell_type": "code",
   "execution_count": 102,
   "id": "6083dda5",
   "metadata": {},
   "outputs": [
    {
     "data": {
      "text/plain": [
       "LinearRegression()"
      ]
     },
     "execution_count": 102,
     "metadata": {},
     "output_type": "execute_result"
    }
   ],
   "source": [
    "reg=linear_model.LinearRegression()\n",
    "reg.fit(df[['area','bedrooms','age']],df.price)"
   ]
  },
  {
   "cell_type": "code",
   "execution_count": 103,
   "id": "a0f3aee2",
   "metadata": {},
   "outputs": [
    {
     "data": {
      "text/plain": [
       "array([  112.06244194, 23388.88007794, -3231.71790863])"
      ]
     },
     "execution_count": 103,
     "metadata": {},
     "output_type": "execute_result"
    }
   ],
   "source": [
    "reg.coef_"
   ]
  },
  {
   "cell_type": "code",
   "execution_count": 104,
   "id": "83358cf9",
   "metadata": {},
   "outputs": [
    {
     "data": {
      "text/plain": [
       "221323.0018654043"
      ]
     },
     "execution_count": 104,
     "metadata": {},
     "output_type": "execute_result"
    }
   ],
   "source": [
    "reg.intercept_"
   ]
  },
  {
   "cell_type": "code",
   "execution_count": 105,
   "id": "910bb0eb",
   "metadata": {},
   "outputs": [
    {
     "data": {
      "text/plain": [
       "array([612819.93187877])"
      ]
     },
     "execution_count": 105,
     "metadata": {},
     "output_type": "execute_result"
    }
   ],
   "source": [
    "reg.predict([[3300,3,15]])"
   ]
  },
  {
   "cell_type": "code",
   "execution_count": 106,
   "id": "dca94be7",
   "metadata": {},
   "outputs": [
    {
     "data": {
      "text/plain": [
       "923523.9141693199"
      ]
     },
     "execution_count": 106,
     "metadata": {},
     "output_type": "execute_result"
    }
   ],
   "source": [
    "(112.06244194*3300+23388.88007794*3-3231.71790863*15)+532026.98416295"
   ]
  },
  {
   "cell_type": "code",
   "execution_count": 107,
   "id": "1823d2f6",
   "metadata": {},
   "outputs": [
    {
     "data": {
      "text/plain": [
       "[<matplotlib.lines.Line2D at 0x12fffd87760>]"
      ]
     },
     "execution_count": 107,
     "metadata": {},
     "output_type": "execute_result"
    },
    {
     "data": {
      "image/png": "[encoded data removed]",
      "text/plain": [
       "<Figure size 432x288 with 1 Axes>"
      ]
     },
     "metadata": {
      "needs_background": "light"
     },
     "output_type": "display_data"
    }
   ],
   "source": [
    "plt.scatter(df.area,df.price,color=\"crimson\",marker=\"*\")\n",
    "plt.plot(df.area,df.price,color='green')\n"
   ]
  },
  {
   "cell_type": "code",
   "execution_count": 108,
   "id": "06e21bdb",
   "metadata": {},
   "outputs": [
    {
     "data": {
      "text/plain": [
       "[<matplotlib.lines.Line2D at 0x12fffde2ca0>]"
      ]
     },
     "execution_count": 108,
     "metadata": {},
     "output_type": "execute_result"
    },
    {
     "data": {
      "image/png": "[encoded data removed]",
      "text/plain": [
       "<Figure size 432x288 with 1 Axes>"
      ]
     },
     "metadata": {
      "needs_background": "light"
     },
     "output_type": "display_data"
    }
   ],
   "source": [
    "plt.scatter(df.bedrooms,df.price,color='blue',marker=\"*\")\n",
    "plt.plot(df.bedrooms,df.price,color='green')"
   ]
  },
  {
   "cell_type": "code",
   "execution_count": 109,
   "id": "2f57ab50",
   "metadata": {},
   "outputs": [
    {
     "data": {
      "text/plain": [
       "[<matplotlib.lines.Line2D at 0x12fffe3fdf0>]"
      ]
     },
     "execution_count": 109,
     "metadata": {},
     "output_type": "execute_result"
    },
    {
     "data": {
      "image/png": "[encoded data removed]",
      "text/plain": [
       "<Figure size 432x288 with 1 Axes>"
      ]
     },
     "metadata": {
      "needs_background": "light"
     },
     "output_type": "display_data"
    }
   ],
   "source": [
    "plt.scatter(df.age,df.price,color='brown',marker=\"*\")\n",
    "plt.plot(df.age,df.price,color='yellow')"
   ]
  },
  {
   "cell_type": "code",
   "execution_count": 1,
   "id": "0ffcae7e",
   "metadata": {},
   "outputs": [],
   "source": [
    "import numpy as np\n",
    "import pandas as pd\n",
    "import matplotlib.pyplot as plt\n",
    "from sklearn import linear_model"
   ]
  },
  {
   "cell_type": "code",
   "execution_count": 2,
   "id": "f143d18e",
   "metadata": {},
   "outputs": [
    {
     "data": {
      "text/html": [
       "<div>\n",
       "<style scoped>\n",
       "    .dataframe tbody tr th:only-of-type {\n",
       "        vertical-align: middle;\n",
       "    }\n",
       "\n",
       "    .dataframe tbody tr th {\n",
       "        vertical-align: top;\n",
       "    }\n",
       "\n",
       "    .dataframe thead th {\n",
       "        text-align: right;\n",
       "    }\n",
       "</style>\n",
       "<table border=\"1\" class=\"dataframe\">\n",
       "  <thead>\n",
       "    <tr style=\"text-align: right;\">\n",
       "      <th></th>\n",
       "      <th>experience</th>\n",
       "      <th>test_score</th>\n",
       "      <th>inv_score</th>\n",
       "      <th>sal</th>\n",
       "    </tr>\n",
       "  </thead>\n",
       "  <tbody>\n",
       "    <tr>\n",
       "      <th>0</th>\n",
       "      <td>NaN</td>\n",
       "      <td>8.0</td>\n",
       "      <td>9</td>\n",
       "      <td>50000</td>\n",
       "    </tr>\n",
       "    <tr>\n",
       "      <th>1</th>\n",
       "      <td>NaN</td>\n",
       "      <td>8.0</td>\n",
       "      <td>6</td>\n",
       "      <td>45000</td>\n",
       "    </tr>\n",
       "    <tr>\n",
       "      <th>2</th>\n",
       "      <td>five</td>\n",
       "      <td>6.0</td>\n",
       "      <td>7</td>\n",
       "      <td>60000</td>\n",
       "    </tr>\n",
       "    <tr>\n",
       "      <th>3</th>\n",
       "      <td>two</td>\n",
       "      <td>10.0</td>\n",
       "      <td>10</td>\n",
       "      <td>65000</td>\n",
       "    </tr>\n",
       "    <tr>\n",
       "      <th>4</th>\n",
       "      <td>seven</td>\n",
       "      <td>9.0</td>\n",
       "      <td>6</td>\n",
       "      <td>70000</td>\n",
       "    </tr>\n",
       "    <tr>\n",
       "      <th>5</th>\n",
       "      <td>three</td>\n",
       "      <td>7.0</td>\n",
       "      <td>10</td>\n",
       "      <td>62000</td>\n",
       "    </tr>\n",
       "    <tr>\n",
       "      <th>6</th>\n",
       "      <td>ten</td>\n",
       "      <td>NaN</td>\n",
       "      <td>7</td>\n",
       "      <td>72000</td>\n",
       "    </tr>\n",
       "    <tr>\n",
       "      <th>7</th>\n",
       "      <td>eleven</td>\n",
       "      <td>7.0</td>\n",
       "      <td>8</td>\n",
       "      <td>80000</td>\n",
       "    </tr>\n",
       "  </tbody>\n",
       "</table>\n",
       "</div>"
      ],
      "text/plain": [
       "  experience  test_score  inv_score    sal\n",
       "0        NaN         8.0          9  50000\n",
       "1        NaN         8.0          6  45000\n",
       "2       five         6.0          7  60000\n",
       "3        two        10.0         10  65000\n",
       "4      seven         9.0          6  70000\n",
       "5      three         7.0         10  62000\n",
       "6        ten         NaN          7  72000\n",
       "7     eleven         7.0          8  80000"
      ]
     },
     "execution_count": 2,
     "metadata": {},
     "output_type": "execute_result"
    }
   ],
   "source": [
    "d=pd.read_csv(\"Test(Multi).csv\")\n",
    "d"
   ]
  },
  {
   "cell_type": "code",
   "execution_count": 3,
   "id": "77d40c0e",
   "metadata": {},
   "outputs": [
    {
     "data": {
      "text/html": [
       "<div>\n",
       "<style scoped>\n",
       "    .dataframe tbody tr th:only-of-type {\n",
       "        vertical-align: middle;\n",
       "    }\n",
       "\n",
       "    .dataframe tbody tr th {\n",
       "        vertical-align: top;\n",
       "    }\n",
       "\n",
       "    .dataframe thead th {\n",
       "        text-align: right;\n",
       "    }\n",
       "</style>\n",
       "<table border=\"1\" class=\"dataframe\">\n",
       "  <thead>\n",
       "    <tr style=\"text-align: right;\">\n",
       "      <th></th>\n",
       "      <th>experience</th>\n",
       "      <th>test_score</th>\n",
       "      <th>inv_score</th>\n",
       "      <th>sal</th>\n",
       "    </tr>\n",
       "  </thead>\n",
       "  <tbody>\n",
       "    <tr>\n",
       "      <th>0</th>\n",
       "      <td>zero</td>\n",
       "      <td>8.0</td>\n",
       "      <td>9</td>\n",
       "      <td>50000</td>\n",
       "    </tr>\n",
       "    <tr>\n",
       "      <th>1</th>\n",
       "      <td>zero</td>\n",
       "      <td>8.0</td>\n",
       "      <td>6</td>\n",
       "      <td>45000</td>\n",
       "    </tr>\n",
       "    <tr>\n",
       "      <th>2</th>\n",
       "      <td>five</td>\n",
       "      <td>6.0</td>\n",
       "      <td>7</td>\n",
       "      <td>60000</td>\n",
       "    </tr>\n",
       "    <tr>\n",
       "      <th>3</th>\n",
       "      <td>two</td>\n",
       "      <td>10.0</td>\n",
       "      <td>10</td>\n",
       "      <td>65000</td>\n",
       "    </tr>\n",
       "    <tr>\n",
       "      <th>4</th>\n",
       "      <td>seven</td>\n",
       "      <td>9.0</td>\n",
       "      <td>6</td>\n",
       "      <td>70000</td>\n",
       "    </tr>\n",
       "    <tr>\n",
       "      <th>5</th>\n",
       "      <td>three</td>\n",
       "      <td>7.0</td>\n",
       "      <td>10</td>\n",
       "      <td>62000</td>\n",
       "    </tr>\n",
       "    <tr>\n",
       "      <th>6</th>\n",
       "      <td>ten</td>\n",
       "      <td>NaN</td>\n",
       "      <td>7</td>\n",
       "      <td>72000</td>\n",
       "    </tr>\n",
       "    <tr>\n",
       "      <th>7</th>\n",
       "      <td>eleven</td>\n",
       "      <td>7.0</td>\n",
       "      <td>8</td>\n",
       "      <td>80000</td>\n",
       "    </tr>\n",
       "  </tbody>\n",
       "</table>\n",
       "</div>"
      ],
      "text/plain": [
       "  experience  test_score  inv_score    sal\n",
       "0       zero         8.0          9  50000\n",
       "1       zero         8.0          6  45000\n",
       "2       five         6.0          7  60000\n",
       "3        two        10.0         10  65000\n",
       "4      seven         9.0          6  70000\n",
       "5      three         7.0         10  62000\n",
       "6        ten         NaN          7  72000\n",
       "7     eleven         7.0          8  80000"
      ]
     },
     "execution_count": 3,
     "metadata": {},
     "output_type": "execute_result"
    }
   ],
   "source": [
    "d.experience=d.experience.fillna('zero')\n",
    "d"
   ]
  },
  {
   "cell_type": "code",
   "execution_count": 58,
   "id": "28a054f9",
   "metadata": {},
   "outputs": [
    {
     "data": {
      "text/html": [
       "<div>\n",
       "<style scoped>\n",
       "    .dataframe tbody tr th:only-of-type {\n",
       "        vertical-align: middle;\n",
       "    }\n",
       "\n",
       "    .dataframe tbody tr th {\n",
       "        vertical-align: top;\n",
       "    }\n",
       "\n",
       "    .dataframe thead th {\n",
       "        text-align: right;\n",
       "    }\n",
       "</style>\n",
       "<table border=\"1\" class=\"dataframe\">\n",
       "  <thead>\n",
       "    <tr style=\"text-align: right;\">\n",
       "      <th></th>\n",
       "      <th>experience</th>\n",
       "      <th>test_score</th>\n",
       "      <th>inv_score</th>\n",
       "      <th>sal</th>\n",
       "    </tr>\n",
       "  </thead>\n",
       "  <tbody>\n",
       "    <tr>\n",
       "      <th>0</th>\n",
       "      <td>0</td>\n",
       "      <td>8.0</td>\n",
       "      <td>9</td>\n",
       "      <td>50000</td>\n",
       "    </tr>\n",
       "    <tr>\n",
       "      <th>1</th>\n",
       "      <td>0</td>\n",
       "      <td>8.0</td>\n",
       "      <td>6</td>\n",
       "      <td>45000</td>\n",
       "    </tr>\n",
       "    <tr>\n",
       "      <th>2</th>\n",
       "      <td>5</td>\n",
       "      <td>6.0</td>\n",
       "      <td>7</td>\n",
       "      <td>60000</td>\n",
       "    </tr>\n",
       "    <tr>\n",
       "      <th>3</th>\n",
       "      <td>2</td>\n",
       "      <td>10.0</td>\n",
       "      <td>10</td>\n",
       "      <td>65000</td>\n",
       "    </tr>\n",
       "    <tr>\n",
       "      <th>4</th>\n",
       "      <td>7</td>\n",
       "      <td>9.0</td>\n",
       "      <td>6</td>\n",
       "      <td>70000</td>\n",
       "    </tr>\n",
       "    <tr>\n",
       "      <th>5</th>\n",
       "      <td>3</td>\n",
       "      <td>7.0</td>\n",
       "      <td>10</td>\n",
       "      <td>62000</td>\n",
       "    </tr>\n",
       "    <tr>\n",
       "      <th>6</th>\n",
       "      <td>10</td>\n",
       "      <td>8.0</td>\n",
       "      <td>7</td>\n",
       "      <td>72000</td>\n",
       "    </tr>\n",
       "    <tr>\n",
       "      <th>7</th>\n",
       "      <td>11</td>\n",
       "      <td>7.0</td>\n",
       "      <td>8</td>\n",
       "      <td>80000</td>\n",
       "    </tr>\n",
       "  </tbody>\n",
       "</table>\n",
       "</div>"
      ],
      "text/plain": [
       "   experience  test_score  inv_score    sal\n",
       "0           0         8.0          9  50000\n",
       "1           0         8.0          6  45000\n",
       "2           5         6.0          7  60000\n",
       "3           2        10.0         10  65000\n",
       "4           7         9.0          6  70000\n",
       "5           3         7.0         10  62000\n",
       "6          10         8.0          7  72000\n",
       "7          11         7.0          8  80000"
      ]
     },
     "execution_count": 58,
     "metadata": {},
     "output_type": "execute_result"
    }
   ],
   "source": [
    "import math\n",
    "median_test_score=math.floor(d.test_score.median())\n",
    "d.test_score=d.test_score.fillna(median_test_score)\n",
    "d"
   ]
  },
  {
   "cell_type": "code",
   "execution_count": 56,
   "id": "3123c065",
   "metadata": {},
   "outputs": [],
   "source": [
    "from word2number import w2n"
   ]
  },
  {
   "cell_type": "code",
   "execution_count": 57,
   "id": "558f7c3f",
   "metadata": {},
   "outputs": [
    {
     "ename": "ValueError",
     "evalue": "Type of input is not string! Please enter a valid number word (eg. 'two million twenty three thousand and forty nine')",
     "output_type": "error",
     "traceback": [
      "\u001b[1;31m---------------------------------------------------------------------------\u001b[0m",
      "\u001b[1;31mValueError\u001b[0m                                Traceback (most recent call last)",
      "\u001b[1;32m<ipython-input-57-24808ae9066c>\u001b[0m in \u001b[0;36m<module>\u001b[1;34m\u001b[0m\n\u001b[1;32m----> 1\u001b[1;33m \u001b[0md\u001b[0m\u001b[1;33m.\u001b[0m\u001b[0mexperience\u001b[0m\u001b[1;33m=\u001b[0m\u001b[0md\u001b[0m\u001b[1;33m.\u001b[0m\u001b[0mexperience\u001b[0m\u001b[1;33m.\u001b[0m\u001b[0mapply\u001b[0m\u001b[1;33m(\u001b[0m\u001b[0mw2n\u001b[0m\u001b[1;33m.\u001b[0m\u001b[0mword_to_num\u001b[0m\u001b[1;33m)\u001b[0m\u001b[1;33m\u001b[0m\u001b[1;33m\u001b[0m\u001b[0m\n\u001b[0m",
      "\u001b[1;32m~\\anaconda3\\lib\\site-packages\\pandas\\core\\series.py\u001b[0m in \u001b[0;36mapply\u001b[1;34m(self, func, convert_dtype, args, **kwds)\u001b[0m\n\u001b[0;32m   4136\u001b[0m             \u001b[1;32melse\u001b[0m\u001b[1;33m:\u001b[0m\u001b[1;33m\u001b[0m\u001b[1;33m\u001b[0m\u001b[0m\n\u001b[0;32m   4137\u001b[0m                 \u001b[0mvalues\u001b[0m \u001b[1;33m=\u001b[0m \u001b[0mself\u001b[0m\u001b[1;33m.\u001b[0m\u001b[0mastype\u001b[0m\u001b[1;33m(\u001b[0m\u001b[0mobject\u001b[0m\u001b[1;33m)\u001b[0m\u001b[1;33m.\u001b[0m\u001b[0m_values\u001b[0m\u001b[1;33m\u001b[0m\u001b[1;33m\u001b[0m\u001b[0m\n\u001b[1;32m-> 4138\u001b[1;33m                 \u001b[0mmapped\u001b[0m \u001b[1;33m=\u001b[0m \u001b[0mlib\u001b[0m\u001b[1;33m.\u001b[0m\u001b[0mmap_infer\u001b[0m\u001b[1;33m(\u001b[0m\u001b[0mvalues\u001b[0m\u001b[1;33m,\u001b[0m \u001b[0mf\u001b[0m\u001b[1;33m,\u001b[0m \u001b[0mconvert\u001b[0m\u001b[1;33m=\u001b[0m\u001b[0mconvert_dtype\u001b[0m\u001b[1;33m)\u001b[0m\u001b[1;33m\u001b[0m\u001b[1;33m\u001b[0m\u001b[0m\n\u001b[0m\u001b[0;32m   4139\u001b[0m \u001b[1;33m\u001b[0m\u001b[0m\n\u001b[0;32m   4140\u001b[0m         \u001b[1;32mif\u001b[0m \u001b[0mlen\u001b[0m\u001b[1;33m(\u001b[0m\u001b[0mmapped\u001b[0m\u001b[1;33m)\u001b[0m \u001b[1;32mand\u001b[0m \u001b[0misinstance\u001b[0m\u001b[1;33m(\u001b[0m\u001b[0mmapped\u001b[0m\u001b[1;33m[\u001b[0m\u001b[1;36m0\u001b[0m\u001b[1;33m]\u001b[0m\u001b[1;33m,\u001b[0m \u001b[0mSeries\u001b[0m\u001b[1;33m)\u001b[0m\u001b[1;33m:\u001b[0m\u001b[1;33m\u001b[0m\u001b[1;33m\u001b[0m\u001b[0m\n",
      "\u001b[1;32mpandas\\_libs\\lib.pyx\u001b[0m in \u001b[0;36mpandas._libs.lib.map_infer\u001b[1;34m()\u001b[0m\n",
      "\u001b[1;32m~\\anaconda3\\lib\\site-packages\\word2number\\w2n.py\u001b[0m in \u001b[0;36mword_to_num\u001b[1;34m(number_sentence)\u001b[0m\n\u001b[0;32m    132\u001b[0m \u001b[1;32mdef\u001b[0m \u001b[0mword_to_num\u001b[0m\u001b[1;33m(\u001b[0m\u001b[0mnumber_sentence\u001b[0m\u001b[1;33m)\u001b[0m\u001b[1;33m:\u001b[0m\u001b[1;33m\u001b[0m\u001b[1;33m\u001b[0m\u001b[0m\n\u001b[0;32m    133\u001b[0m     \u001b[1;32mif\u001b[0m \u001b[0mtype\u001b[0m\u001b[1;33m(\u001b[0m\u001b[0mnumber_sentence\u001b[0m\u001b[1;33m)\u001b[0m \u001b[1;32mis\u001b[0m \u001b[1;32mnot\u001b[0m \u001b[0mstr\u001b[0m\u001b[1;33m:\u001b[0m\u001b[1;33m\u001b[0m\u001b[1;33m\u001b[0m\u001b[0m\n\u001b[1;32m--> 134\u001b[1;33m         \u001b[1;32mraise\u001b[0m \u001b[0mValueError\u001b[0m\u001b[1;33m(\u001b[0m\u001b[1;34m\"Type of input is not string! Please enter a valid number word (eg. \\'two million twenty three thousand and forty nine\\')\"\u001b[0m\u001b[1;33m)\u001b[0m\u001b[1;33m\u001b[0m\u001b[1;33m\u001b[0m\u001b[0m\n\u001b[0m\u001b[0;32m    135\u001b[0m \u001b[1;33m\u001b[0m\u001b[0m\n\u001b[0;32m    136\u001b[0m     \u001b[0mnumber_sentence\u001b[0m \u001b[1;33m=\u001b[0m \u001b[0mnumber_sentence\u001b[0m\u001b[1;33m.\u001b[0m\u001b[0mreplace\u001b[0m\u001b[1;33m(\u001b[0m\u001b[1;34m'-'\u001b[0m\u001b[1;33m,\u001b[0m \u001b[1;34m' '\u001b[0m\u001b[1;33m)\u001b[0m\u001b[1;33m\u001b[0m\u001b[1;33m\u001b[0m\u001b[0m\n",
      "\u001b[1;31mValueError\u001b[0m: Type of input is not string! Please enter a valid number word (eg. 'two million twenty three thousand and forty nine')"
     ]
    }
   ],
   "source": [
    "d.experience=d.experience.apply(w2n.word_to_num)\n"
   ]
  },
  {
   "cell_type": "code",
   "execution_count": 10,
   "id": "5f0bc01f",
   "metadata": {},
   "outputs": [
    {
     "data": {
      "text/plain": [
       "LinearRegression()"
      ]
     },
     "execution_count": 10,
     "metadata": {},
     "output_type": "execute_result"
    }
   ],
   "source": [
    "reg=linear_model.LinearRegression()\n",
    "reg.fit(d[['experience','test_score','inv_score']],d.sal)"
   ]
  },
  {
   "cell_type": "code",
   "execution_count": 11,
   "id": "08bdb25d",
   "metadata": {},
   "outputs": [
    {
     "data": {
      "text/plain": [
       "array([53205.96797671])"
      ]
     },
     "execution_count": 11,
     "metadata": {},
     "output_type": "execute_result"
    }
   ],
   "source": [
    "reg.predict([[2,9,6]])"
   ]
  },
  {
   "cell_type": "code",
   "execution_count": 12,
   "id": "2f402c3d",
   "metadata": {},
   "outputs": [
    {
     "data": {
      "text/plain": [
       "array([92002.18340611])"
      ]
     },
     "execution_count": 12,
     "metadata": {},
     "output_type": "execute_result"
    }
   ],
   "source": [
    "reg.predict([[12,10,10]])"
   ]
  },
  {
   "cell_type": "markdown",
   "id": "2060d27c",
   "metadata": {},
   "source": [
    "# Gradient cost"
   ]
  },
  {
   "cell_type": "code",
   "execution_count": 13,
   "id": "bfe2929b",
   "metadata": {},
   "outputs": [
    {
     "name": "stdout",
     "output_type": "stream",
     "text": [
      "m0.062,b0.018000000000000002,iteration0\n",
      "m0.122528,b0.035592000000000006,iteration1\n",
      "m0.181618832,b0.052785648000000004,iteration2\n",
      "m0.239306503808,b0.069590363712,iteration3\n",
      "m0.29562421854195203,b0.086015343961728,iteration4\n",
      "m0.35060439367025875,b0.10206956796255283,iteration5\n",
      "m0.40427867960173774,b0.11776180246460617,iteration6\n",
      "m0.4566779778357119,b0.13310060678206653,iteration7\n",
      "m0.5078324586826338,b0.14809433770148814,iteration8\n",
      "m0.5577715785654069,b0.16275115427398937,iteration9\n",
      "m0.606524096911324,b0.17707902249404894,iteration10\n",
      "m0.6541180926443106,b0.1910857198675929,iteration11\n",
      "m0.7005809802869303,b0.20477883987199186,iteration12\n",
      "m0.7459395256813859,b0.2181657963105263,iteration13\n",
      "m0.7902198613385323,b0.23125382756381693,iteration14\n",
      "m0.8334475014237017,b0.2440500007406581,iteration15\n",
      "m0.8756473563879363,b0.25656121573063456,iteration16\n",
      "m0.916843747253018,b0.2687942091608457,iteration17\n",
      "m0.9570604195584865,b0.2807555582590059,iteration18\n",
      "m0.9963205569786457,b0.29245168462513693,iteration19\n",
      "m1.0346467946173648,b0.30388885791401476,iteration20\n",
      "m1.0720612319882987,b0.31507319943048256,iteration21\n",
      "m1.1085854456879733,b0.3260106856396918,iteration22\n",
      "m1.1442405017689998,b0.3367071515942846,iteration23\n",
      "m1.1790469678205162,b0.347168294280482,iteration24\n",
      "m1.213024924762782,b0.35739967588499794,iteration25\n",
      "m1.2461939783626907,b0.36740672698465127,iteration26\n",
      "m1.2785732704768036,b0.3771947496605058,iteration27\n",
      "m1.3101814900283508,b0.38676892053832396,iteration28\n",
      "m1.3410368837244973,b0.3961342937570772,iteration29\n",
      "m1.3711572665200158,b0.4052958038672161,iteration30\n",
      "m1.4005600318333722,b0.4142582686603616,iteration31\n",
      "m1.4292621615210759,b0.4230263919320406,iteration32\n",
      "m1.45728023561602,b0.4316047661790501,iteration33\n",
      "m1.4846304418353933,b0.4399978752329959,iteration34\n",
      "m1.5113285848636167,b0.4482100968315175,iteration35\n",
      "m1.5373900954156279,b0.4562457051286728,iteration36\n",
      "m1.562830039085712,b0.4641088731459217,iteration37\n",
      "m1.5876631249869508,b0.47180367516511557,iteration38\n",
      "m1.6119037141862471,b0.47933408906486363,iteration39\n",
      "m1.6355658279397605,b0.48670399860161645,iteration40\n",
      "m1.6586631557334761,b0.49391719563677466,iteration41\n",
      "m1.681209063133519,b0.5009773823111002,iteration42\n",
      "m1.703216599450715,b0.5078881731676769,iteration43\n",
      "m1.724698505223793,b0.5146530972246373,iteration44\n",
      "m1.7456672195255218,b0.5212755999988452,iteration45\n",
      "m1.7661348870959672,b0.5277590454816944,iteration46\n",
      "m1.7861133653069659,b0.5341067180681552,iteration47\n",
      "m1.8056142309618037,b0.5403218244401772,iteration48\n",
      "m1.824648786934003,b0.546407495405526,iteration49\n",
      "m1.8432280686490217,b0.552366787693111,iteration50\n",
      "m1.8613628504125845,b0.5582026857058306,iteration51\n",
      "m1.8790636515892727,b0.5639181032319435,iteration52\n",
      "m1.896340742634917,b0.569515885115944,iteration53\n",
      "m1.9132041509862532,b0.5749988088899026,iteration54\n",
      "m1.9296636668112161,b0.5803695863662053,iteration55\n",
      "m1.945728848623172,b0.5856308651926055,iteration56\n",
      "m1.9614090287623067,b0.5907852303704813,iteration57\n",
      "m1.9767133187473132,b0.5958352057371664,iteration58\n",
      "m1.9916506145004493,b0.6007832554132082,iteration59\n",
      "m2.0062296014489602,b0.6056317852153791,iteration60\n",
      "m2.020458759505791,b0.6103831440362546,iteration61\n",
      "m2.034346367932446,b0.6150396251911473,iteration62\n",
      "m2.0479005100867855,b0.6196034677331703,iteration63\n",
      "m2.0611290780584772,b0.6240768577371832,iteration64\n",
      "m2.0740397771947676,b0.628461929553358,iteration65\n",
      "m2.0866401305191626,b0.6327607670310826,iteration66\n",
      "m2.0989374830455545,b0.6369754047139055,iteration67\n",
      "m2.110939005990269,b0.6411078290062043,iteration68\n",
      "m2.122651700884446,b0.6451599793122503,iteration69\n",
      "m2.1340824035891144,b0.6491337491483191,iteration70\n",
      "m2.145237788215264,b0.6530309872284878,iteration71\n",
      "m2.156124370951157,b0.6568534985247393,iteration72\n",
      "m2.166748513799083,b0.6606030453019829,iteration73\n",
      "m2.1771164282236914,b0.6642813481285844,iteration74\n",
      "m2.187234178713999,b0.6678900868629851,iteration75\n",
      "m2.1971076862611127,b0.6714309016169752,iteration76\n",
      "m2.2067427317536663,b0.6749053936961745,iteration77\n",
      "m2.2161449592929086,b0.6783151265182602,iteration78\n",
      "m2.225319879429355,b0.6816616265094663,iteration79\n",
      "m2.2342728723228524,b0.6849463839798712,iteration80\n",
      "m2.2430091908278706,b0.6881708539779743,iteration81\n",
      "m2.2515339635057896,b0.6913364571250511,iteration82\n",
      "m2.259852197565912,b0.6944445804297663,iteration83\n",
      "m2.2679687817368834,b0.6974965780835113,iteration84\n",
      "m2.2758884890701707,b0.700493772236923,iteration85\n",
      "m2.2836159796772053,b0.7034374537580281,iteration86\n",
      "m2.2911558034017587,b0.7063288829724489,iteration87\n",
      "m2.2985124024290853,b0.7091692903860934,iteration88\n",
      "m2.305690113833329,b0.7119598773907467,iteration89\n",
      "m2.312693172064651,b0.7147018169529653,iteration90\n",
      "m2.3195257113775107,b0.7173962542866714,iteration91\n",
      "m2.3261917682014857,b0.7200443075098331,iteration92\n",
      "m2.332695283455994,b0.7226470682856044,iteration93\n",
      "m2.3390401048102483,b0.7252056024482972,iteration94\n",
      "m2.345229988889733,b0.7277209506145391,iteration95\n",
      "m2.3512686034304715,b0.7301941287799717,iteration96\n",
      "m2.3571595293823213,b0.7326261289018289,iteration97\n",
      "m2.362906262962499,b0.7350179194677313,iteration98\n",
      "m2.3685122176605176,b0.7373704460510209,iteration99\n",
      "m2.37398072619568,b0.7396846318529557,iteration100\n",
      "m2.3793150424282574,b0.7419613782320758,iteration101\n",
      "m2.384518343225443,b0.7442015652210421,iteration102\n",
      "m2.389593730283157,b0.7464060520312473,iteration103\n",
      "m2.39454423190474,b0.7485756775454859,iteration104\n",
      "m2.399372804737563,b0.7507112607989666,iteration105\n",
      "m2.4040823354685426,b0.7528136014489433,iteration106\n",
      "m2.408675642479541,b0.7548834802332341,iteration107\n",
      "m2.4131554774635915,b0.7569216594178905,iteration108\n",
      "m2.417524527002885,b0.7589288832342731,iteration109\n",
      "m2.421785414109416,b0.7609058783057873,iteration110\n",
      "m2.425940699729174,b0.7628533540645192,iteration111\n",
      "m2.429992884210745,b0.7647720031580151,iteration112\n",
      "m2.4339444087391606,b0.7666625018464346,iteration113\n",
      "m2.4377976567358206,b0.7685255103903067,iteration114\n",
      "m2.441554955225291,b0.7703616734291112,iteration115\n",
      "m2.44521857616976,b0.7721716203509013,iteration116\n",
      "m2.44879073777192,b0.7739559656531809,iteration117\n",
      "m2.4522736057470187,b0.775715309295243,iteration118\n",
      "m2.455669294564813,b0.7774502370421704,iteration119\n",
      "m2.458979868662134,b0.7791613208006972,iteration120\n",
      "m2.462207343626763,b0.780849118947123,iteration121\n",
      "m2.4653536873532915,b0.7825141766474683,iteration122\n",
      "m2.4684208211716343,b0.7841570261700536,iteration123\n",
      "m2.4714106209488382,b0.7857781871906836,iteration124\n",
      "m2.4743249181648195,b0.7873781670906091,iteration125\n",
      "m2.47716550096265,b0.788957461247439,iteration126\n",
      "m2.479934115173987,b0.7905165533191683,iteration127\n",
      "m2.4826324653202443,b0.792055915521486,iteration128\n",
      "m2.48526221559007,b0.7935760088985215,iteration129\n",
      "m2.487824990793697,b0.7950772835871841,iteration130\n",
      "m2.4903223772947127,b0.7965601790752476,iteration131\n",
      "m2.4927559239197774,b0.7980251244533287,iteration132\n",
      "m2.4951271428468225,b0.7994725386609034,iteration133\n",
      "m2.497437510472227,b0.8009028307265007,iteration134\n",
      "m2.499688468257479,b0.8023164000022144,iteration135\n",
      "m2.501881423555801,b0.8037136363926651,iteration136\n",
      "m2.5040177504192176,b0.805094920578545,iteration137\n",
      "m2.5060987903865235,b0.8064606242348726,iteration138\n",
      "m2.508125853252611,b0.8078111102440837,iteration139\n",
      "m2.510100217819589,b0.8091467329040799,iteration140\n",
      "m2.5120231326301337,b0.8104678381313543,iteration141\n",
      "m2.5138958166834824,b0.8117747636593108,iteration142\n",
      "m2.51571946013449,b0.8130678392318913,iteration143\n",
      "m2.5174952249761398,b0.8143473867926205,iteration144\n",
      "m2.519224245705909,b0.8156137206691785,iteration145\n",
      "m2.5209076299763638,b0.8168671477536047,iteration146\n",
      "m2.522546459230362,b0.8181079676782393,iteration147\n",
      "m2.5241417893212246,b0.8193364729875007,iteration148\n",
      "m2.5256946511182328,b0.8205529493055983,iteration149\n",
      "m2.527206051097798,b0.8217576755002777,iteration150\n",
      "m2.528676971920645,b0.8229509238426903,iteration151\n",
      "m2.5301083729953344,b0.824132960163481,iteration152\n",
      "m2.531501191028456,b0.8253040440051821,iteration153\n",
      "m2.532856340561799,b0.826464428771001,iteration154\n",
      "m2.5341747144968134,b0.8276143618700882,iteration155\n",
      "m2.535457184606663,b0.8287540848593671,iteration156\n",
      "m2.5367046020361603,b0.8298838335820083,iteration157\n",
      "m2.5379177977898726,b0.8310038383026274,iteration158\n",
      "m2.5390975832086795,b0.8321143238392829,iteration159\n",
      "m2.5402447504350527,b0.8332155096923523,iteration160\n",
      "m2.5413600728673273,b0.8343076101703573,iteration161\n",
      "m2.542444305603224,b0.8353908345128126,iteration162\n",
      "m2.5434981858728762,b0.8364653870101676,iteration163\n",
      "m2.544522433461612,b0.83753146712091,iteration164\n",
      "m2.5455177511227314,b0.8385892695858985,iteration165\n",
      "m2.546484824980516,b0.8396389845399903,iteration166\n",
      "m2.5474243249237047,b0.8406807976210272,iteration167\n",
      "m2.548336904989657,b0.8417148900762429,iteration168\n",
      "m2.549223203739427,b0.8427414388661525,iteration169\n",
      "m2.5500838446239626,b0.8437606167659836,iteration170\n",
      "m2.5509194363416396,b0.8447725924647078,iteration171\n",
      "m2.5517305731873354,b0.8457775306617286,iteration172\n",
      "m2.552517835393244,b0.8467755921612811,iteration173\n",
      "m2.5532817894616247,b0.847766933964599,iteration174\n",
      "m2.5540229884896815,b0.8487517093599001,iteration175\n",
      "m2.5547419724867493,b0.8497300680102422,iteration176\n",
      "m2.5554392686839793,b0.8507021560393012,iteration177\n",
      "m2.556115391836696,b0.8516681161151187,iteration178\n",
      "m2.556770844519598,b0.8526280875318684,iteration179\n",
      "m2.557406117414976,b0.8535822062896871,iteration180\n",
      "m2.558021689594108,b0.8545306051726178,iteration181\n",
      "m2.558618028792002,b0.8554734138247079,iteration182\n",
      "m2.5591955916756297,b0.8564107588243064,iteration183\n",
      "m2.55975482410582,b0.857342763756604,iteration184\n",
      "m2.560296161392952,b0.8582695492844559,iteration185\n",
      "m2.5608200285466003,b0.8591912332175292,iteration186\n",
      "m2.56132684051927,b0.8601079305798146,iteration187\n",
      "m2.561817002444367,b0.8610197536755394,iteration188\n",
      "m2.562290909868538,b0.8619268121535221,iteration189\n",
      "m2.5627489489785087,b0.8628292130700038,iteration190\n",
      "m2.5631914968225615,b0.8637270609499927,iteration191\n",
      "m2.563618921526765,b0.8646204578471574,iteration192\n",
      "m2.564031582506093,b0.8655095034023025,iteration193\n",
      "m2.5644298306705453,b0.8663942949004613,iteration194\n",
      "m2.5648140086263904,b0.867274927326637,iteration195\n",
      "m2.56518445087265,b0.8681514934202255,iteration196\n",
      "m2.5655414839929302,b0.8690240837281491,iteration197\n",
      "m2.565885426842717,b0.8698927866567352,iteration198\n",
      "m2.5662165907322367,b0.8707576885223655,iteration199\n",
      "m2.5665352796049934,b0.8716188736009273,iteration200\n",
      "m2.566841790212078,b0.8724764241760955,iteration201\n",
      "m2.567136412282356,b0.8733304205864708,iteration202\n",
      "m2.567419428688625,b0.8741809412716037,iteration203\n",
      "m2.5676911156098456,b0.8750280628169288,iteration204\n",
      "m2.5679517426895275,b0.8758718599976358,iteration205\n",
      "m2.5682015731903722,b0.8767124058215034,iteration206\n",
      "m2.568440864145255,b0.8775497715707182,iteration207\n",
      "m2.5686698665046355,b0.8783840268427052,iteration208\n",
      "m2.568888825280477,b0.879215239589992,iteration209\n",
      "m2.5690979796867666,b0.8800434761591291,iteration210\n",
      "m2.569297563276703,b0.8808688013286903,iteration211\n",
      "m2.569487804076643,b0.8816912783463727,iteration212\n",
      "m2.5696689247168787,b0.8825109689652201,iteration213\n",
      "m2.569841142559316,b0.8833279334789884,iteration214\n",
      "m2.5700046698221373,b0.8841422307566745,iteration215\n",
      "m2.57015971370151,b0.8849539182762284,iteration216\n",
      "m2.5703064764904195,b0.8857630521574669,iteration217\n",
      "m2.5704451556946855,b0.8865696871942094,iteration218\n",
      "m2.570575944146237,b0.8873738768856528,iteration219\n",
      "m2.570699030113706,b0.8881756734670041,iteration220\n",
      "m2.5708145974104024,b0.8889751279393878,iteration221\n",
      "m2.5709228254997374,b0.8897722900990467,iteration222\n",
      "m2.5710238895981488,b0.8905672085658501,iteration223\n",
      "m2.5711179607755943,b0.8913599308111295,iteration224\n",
      "m2.5712052060536643,b0.8921505031848537,iteration225\n",
      "m2.5712857885013745,b0.892938970942162,iteration226\n",
      "m2.5713598673286913,b0.8937253782692695,iteration227\n",
      "m2.5714275979778445,b0.8945097683087587,iteration228\n",
      "m2.5714891322124793,b0.8952921831842742,iteration229\n",
      "m2.5715446182046993,b0.8960726640246307,iteration230\n",
      "m2.5715942006200483,b0.8968512509873533,iteration231\n",
      "m2.571638020700483,b0.8976279832816583,iteration232\n",
      "m2.5716762163453826,b0.898402899190892,iteration233\n",
      "m2.5717089221906386,b0.899176036094438,iteration234\n",
      "m2.571736269685878,b0.8999474304891053,iteration235\n",
      "m2.571758387169854,b0.9007171180100119,iteration236\n",
      "m2.571775399944057,b0.9014851334509727,iteration237\n",
      "m2.5717874303445822,b0.9022515107844065,iteration238\n",
      "m2.571794597812295,b0.9030162831807702,iteration239\n",
      "m2.5717970189613397,b0.9037794830275349,iteration240\n",
      "m2.571794807646025,b0.9045411419477117,iteration241\n",
      "m2.571788075026126,b0.9053012908179402,iteration242\n",
      "m2.5717769296306434,b0.9060599597861475,iteration243\n",
      "m2.5717614774200523,b0.9068171782887914,iteration244\n",
      "m2.5717418218470782,b0.9075729750676935,iteration245\n",
      "m2.571718063916036,b0.9083273781864757,iteration246\n",
      "m2.5716903022407647,b0.9090804150466065,iteration247\n",
      "m2.571658633101188,b0.9098321124030687,iteration248\n",
      "m2.5716231504985436,b0.9105824963796555,iteration249\n",
      "m2.5715839462092975,b0.9113315924839049,iteration250\n",
      "m2.5715411098377894,b0.9120794256216813,iteration251\n",
      "m2.571494728867628,b0.9128260201114112,iteration252\n",
      "m2.5714448887118717,b0.9135713996979826,iteration253\n",
      "m2.5713916727620227,b0.9143155875663155,iteration254\n",
      "m2.5713351624358602,b0.9150586063546107,iteration255\n",
      "m2.5712754372241435,b0.9158004781672863,iteration256\n",
      "m2.5712125747362085,b0.9165412245876068,iteration257\n",
      "m2.5711466507444865,b0.9172808666900143,iteration258\n",
      "m2.5710777392279676,b0.9180194250521674,iteration259\n",
      "m2.5710059124146394,b0.9187569197666953,iteration260\n",
      "m2.570931240822917,b0.9194933704526741,iteration261\n",
      "m2.570853793302097,b0.9202287962668313,iteration262\n",
      "m2.57077363707185,b0.920963215914485,iteration263\n",
      "m2.5706908377607824,b0.921696647660225,iteration264\n",
      "m2.5706054594440837,b0.9224291093383398,iteration265\n",
      "m2.570517564680284,b0.9231606183629986,iteration266\n",
      "m2.5704272145471396,b0.9238911917381909,iteration267\n",
      "m2.5703344686766734,b0.9246208460674317,iteration268\n",
      "m2.570239385289382,b0.9253495975632368,iteration269\n",
      "m2.5701420212276362,b0.926077462056374,iteration270\n",
      "m2.57004243198829,b0.9268044550048954,iteration271\n",
      "m2.569940671754518,b0.9275305915029559,iteration272\n",
      "m2.569836793426901,b0.9282558862894229,iteration273\n",
      "m2.569730848653773,b0.9289803537562826,iteration274\n",
      "m2.5696228878608522,b0.9297040079568474,iteration275\n",
      "m2.5695129602801723,b0.9304268626137686,iteration276\n",
      "m2.569401113978326,b0.93114893112686,iteration277\n",
      "m2.5692873958840416,b0.9318702265807364,iteration278\n",
      "m2.569171851815108,b0.9325907617522706,iteration279\n",
      "m2.569054526504662,b0.9333105491178755,iteration280\n",
      "m2.568935463626852,b0.9340296008606117,iteration281\n",
      "m2.568814705821898,b0.9347479288771293,iteration282\n",
      "m2.5686922947205533,b0.9354655447844437,iteration283\n",
      "m2.5685682709679942,b0.9361824599265515,iteration284\n",
      "m2.568442674247139,b0.9368986853808904,iteration285\n",
      "m2.568315543301417,b0.9376142319646458,iteration286\n",
      "m2.5681869159569977,b0.9383291102409079,iteration287\n",
      "m2.5680568291444983,b0.9390433305246841,iteration288\n",
      "m2.5679253189201714,b0.9397569028887678,iteration289\n",
      "m2.567792420486595,b0.9404698371694692,iteration290\n",
      "m2.567658168212873,b0.9411821429722107,iteration291\n",
      "m2.567522595654357,b0.9418938296769891,iteration292\n",
      "m2.567385735571899,b0.942604906443709,iteration293\n",
      "m2.5672476199506553,b0.9433153822173902,iteration294\n",
      "m2.5671082800184366,b0.9440252657332515,iteration295\n",
      "m2.5669677462636313,b0.9447345655216743,iteration296\n",
      "m2.5668260484527012,b0.9454432899130492,iteration297\n",
      "m2.5666832156472634,b0.9461514470425069,iteration298\n",
      "m2.5665392762207686,b0.9468590448545383,iteration299\n",
      "m2.5663942578747845,b0.9475660911075047,iteration300\n",
      "m2.566248187654894,b0.9482725933780409,iteration301\n",
      "m2.5661010919662184,b0.9489785590653554,iteration302\n",
      "m2.5659529965885692,b0.9496839953954275,iteration303\n",
      "m2.565803926691248,b0.9503889094251052,iteration304\n",
      "m2.5656539068474897,b0.9510933080461076,iteration305\n",
      "m2.5655029610485682,b0.9517971979889305,iteration306\n",
      "m2.565351112717566,b0.9525005858266612,iteration307\n",
      "m2.5651983847228195,b0.9532034779787025,iteration308\n",
      "m2.5650447993910452,b0.9539058807144082,iteration309\n",
      "m2.564890378520156,b0.954607800156633,iteration310\n",
      "m2.5647351433917724,b0.9553092422851989,iteration311\n",
      "m2.5645791147834425,b0.9560102129402779,iteration312\n",
      "m2.564422312980565,b0.9567107178256967,iteration313\n",
      "m2.564264757788038,b0.957410762512162,iteration314\n",
      "m2.5641064685416284,b0.9581103524404094,iteration315\n",
      "m2.56394746411907,b0.9588094929242789,iteration316\n",
      "m2.5637877629509047,b0.9595081891537158,iteration317\n",
      "m2.5636273830310623,b0.960206446197703,iteration318\n",
      "m2.563466341927193,b0.9609042690071212,iteration319\n",
      "m2.563304656790752,b0.9616016624175439,iteration320\n",
      "m2.56314234436685,b0.9622986311519642,iteration321\n",
      "m2.5629794210038677,b0.9629951798234592,iteration322\n",
      "m2.562815902662842,b0.9636913129377891,iteration323\n",
      "m2.5626518049266327,b0.9643870348959365,iteration324\n",
      "m2.5624871430088714,b0.9650823499965848,iteration325\n",
      "m2.5623219317626966,b0.9657772624385385,iteration326\n",
      "m2.562156185689286,b0.9664717763230852,iteration327\n",
      "m2.561989918946183,b0.9671658956563033,iteration328\n",
      "m2.5618231453554294,b0.9678596243513136,iteration329\n",
      "m2.561655878411502,b0.9685529662304784,iteration330\n",
      "m2.5614881312890665,b0.9692459250275484,iteration331\n",
      "m2.561319916850542,b0.9699385043897588,iteration332\n",
      "m2.5611512476534912,b0.970630707879876,iteration333\n",
      "m2.5609821359578353,b0.9713225389781953,iteration334\n",
      "m2.560812593732894,b0.9720140010844919,iteration335\n",
      "m2.5606426326642633,b0.9727050975199255,iteration336\n",
      "m2.5604722641605298,b0.9733958315289001,iteration337\n",
      "m2.5603014993598245,b0.974086206280879,iteration338\n",
      "m2.560130349136223,b0.9747762248721583,iteration339\n",
      "m2.559958824105993,b0.9754658903275967,iteration340\n",
      "m2.5597869346336957,b0.9761552056023055,iteration341\n",
      "m2.5596146908381407,b0.9768441735832987,iteration342\n",
      "m2.5594421025982017,b0.9775327970911032,iteration343\n",
      "m2.5592691795584948,b0.9782210788813318,iteration344\n",
      "m2.55909593113492,b0.9789090216462182,iteration345\n",
      "m2.558922366520074,b0.9795966280161162,iteration346\n",
      "m2.558748494688536,b0.9802839005609636,iteration347\n",
      "m2.5585743244020223,b0.9809708417917105,iteration348\n",
      "m2.5583998642144277,b0.9816574541617149,iteration349\n",
      "m2.55822512247674,b0.9823437400681049,iteration350\n",
      "m2.558050107341843,b0.9830297018531082,iteration351\n",
      "m2.5578748267692037,b0.9837153418053509,iteration352\n",
      "m2.557699288529449,b0.984400662161125,iteration353\n",
      "m2.5575235002088346,b0.985085665105626,iteration354\n",
      "m2.5573474692136067,b0.9857703527741617,iteration355\n",
      "m2.557171202774262,b0.9864547272533317,iteration356\n",
      "m2.556994707949708,b0.9871387905821795,iteration357\n",
      "m2.5568179916313216,b0.9878225447533169,iteration358\n",
      "m2.5566410605469128,b0.9885059917140223,iteration359\n",
      "m2.5564639212645965,b0.9891891333673128,iteration360\n",
      "m2.5562865801965717,b0.9898719715729907,iteration361\n",
      "m2.556109043602809,b0.9905545081486653,iteration362\n",
      "m2.555931317594655,b0.9912367448707511,iteration363\n",
      "m2.555753408138348,b0.9919186834754417,iteration364\n",
      "m2.555575321058452,b0.9926003256596607,iteration365\n",
      "m2.555397062041208,b0.9932816730819907,iteration366\n",
      "m2.555218636637809,b0.9939627273635795,iteration367\n",
      "m2.555040050267596,b0.9946434900890255,iteration368\n",
      "m2.5548613082211746,b0.9953239628072419,iteration369\n",
      "m2.5546824156634655,b0.9960041470323003,iteration370\n",
      "m2.5545033776366757,b0.9966840442442549,iteration371\n",
      "m2.554324199063203,b0.9973636558899464,iteration372\n",
      "m2.554144884748473,b0.9980429833837873,iteration373\n",
      "m2.553965439383704,b0.9987220281085288,iteration374\n",
      "m2.553785867548611,b0.9994007914160096,iteration375\n",
      "m2.5536061737140456,b1.000079274627886,iteration376\n",
      "m2.5534263622445694,b1.0007574790363458,iteration377\n",
      "m2.5532464374009707,b1.0014354059048056,iteration378\n",
      "m2.5530664033427204,b1.0021130564685903,iteration379\n",
      "m2.552886264130369,b1.0027904319355967,iteration380\n",
      "m2.5527060237278874,b1.0034675334869432,iteration381\n",
      "m2.552525686004952,b1.004144362277602,iteration382\n",
      "m2.5523452547391776,b1.0048209194370172,iteration383\n",
      "m2.5521647336182935,b1.005497206069708,iteration384\n",
      "m2.5519841262422727,b1.006173223255859,iteration385\n",
      "m2.5518034361254074,b1.0068489720518936,iteration386\n",
      "m2.551622666698337,b1.0075244534910375,iteration387\n",
      "m2.5514418213100276,b1.0081996685838654,iteration388\n",
      "m2.551260903229704,b1.0088746183188375,iteration389\n",
      "m2.5510799156487374,b1.0095493036628216,iteration390\n",
      "m2.550898861682488,b1.0102237255616036,iteration391\n",
      "m2.5507177443721036,b1.0108978849403853,iteration392\n",
      "m2.550536566686275,b1.011571782704272,iteration393\n",
      "m2.5503553315229515,b1.0122454197387458,iteration394\n",
      "m2.550174041711014,b1.0129187969101305,iteration395\n",
      "m2.5499927000119107,b1.0135919150660442,iteration396\n",
      "m2.549811309121252,b1.0142647750358407,iteration397\n",
      "m2.5496298716703696,b1.0149373776310415,iteration398\n",
      "m2.5494483902278353,b1.0156097236457573,iteration399\n",
      "m2.549266867300948,b1.0162818138570988,iteration400\n",
      "m2.5490853053371847,b1.0169536490255788,iteration401\n",
      "m2.5489037067256133,b1.0176252298955046,iteration402\n",
      "m2.548722073798277,b1.01829655719536,iteration403\n",
      "m2.548540408831543,b1.0189676316381795,iteration404\n",
      "m2.5483587140474198,b1.0196384539219139,iteration405\n",
      "m2.548176991614845,b1.0203090247297855,iteration406\n",
      "m2.5479952436509397,b1.0209793447306368,iteration407\n",
      "m2.547813472222235,b1.0216494145792698,iteration408\n",
      "m2.54763167934587,b1.0223192349167778,iteration409\n",
      "m2.5474498669907604,b1.022988806370869,iteration410\n",
      "m2.5472680370787386,b1.0236581295561826,iteration411\n",
      "m2.5470861914856693,b1.0243272050745977,iteration412\n",
      "m2.546904332042537,b1.0249960335155346,iteration413\n",
      "m2.546722460536508,b1.0256646154562483,iteration414\n",
      "m2.5465405787119675,b1.0263329514621167,iteration415\n",
      "m2.5463586882715314,b1.0270010420869207,iteration416\n",
      "m2.5461767908770363,b1.0276688878731177,iteration417\n",
      "m2.545994888150503,b1.0283364893521092,iteration418\n",
      "m2.545812981675079,b1.029003847044502,iteration419\n",
      "m2.5456310729959606,b1.0296709614603625,iteration420\n",
      "m2.5454491636212873,b1.0303378330994661,iteration421\n",
      "m2.545267255023022,b1.0310044624515395,iteration422\n",
      "m2.5450853486378064,b1.0316708499964984,iteration423\n",
      "m2.5449034458677957,b1.0323369962046784,iteration424\n",
      "m2.544721548081476,b1.0330029015370623,iteration425\n",
      "m2.5445396566144614,b1.0336685664454994,iteration426\n",
      "m2.54435777277027,b1.0343339913729217,iteration427\n",
      "m2.544175897821087,b1.0349991767535542,iteration428\n",
      "m2.543994033008502,b1.0356641230131207,iteration429\n",
      "m2.543812179544236,b1.0363288305690435,iteration430\n",
      "m2.5436303386108485,b1.03699329983064,iteration431\n",
      "m2.543448511362426,b1.0376575311993135,iteration432\n",
      "m2.543266698925257,b1.0383215250687403,iteration433\n",
      "m2.5430849023984887,b1.0389852818250513,iteration434\n",
      "m2.5429031228547716,b1.0396488018470103,iteration435\n",
      "m2.5427213613408846,b1.0403120855061876,iteration436\n",
      "m2.542539618878348,b1.04097513316713,iteration437\n",
      "m2.542357896464021,b1.0416379451875257,iteration438\n",
      "m2.5421761950706876,b1.0423005219183665,iteration439\n",
      "m2.5419945156476222,b1.0429628637041057,iteration440\n",
      "m2.54181285912115,b1.0436249708828118,iteration441\n",
      "m2.5416312263951877,b1.0442868437863193,iteration442\n",
      "m2.5414496183517756,b1.0449484827403754,iteration443\n",
      "m2.541268035851594,b1.045609888064784,iteration444\n",
      "m2.5410864797344703,b1.0462710600735448,iteration445\n",
      "m2.5409049508198707,b1.0469319990749908,iteration446\n",
      "m2.5407234499073836,b1.0475927053719216,iteration447\n",
      "m2.5405419777771896,b1.0482531792617336,iteration448\n",
      "m2.540360535190521,b1.048913421036547,iteration449\n",
      "m2.5401791228901103,b1.0495734309833307,iteration450\n",
      "m2.539997741600628,b1.0502332093840234,iteration451\n",
      "m2.53981639202911,b1.0508927565156516,iteration452\n",
      "m2.5396350748653758,b1.0515520726504457,iteration453\n",
      "m2.5394537907824346,b1.0522111580559526,iteration454\n",
      "m2.5392725404368854,b1.052870012995146,iteration455\n",
      "m2.539091324469303,b1.0535286377265345,iteration456\n",
      "m2.5389101435046193,b1.0541870325042657,iteration457\n",
      "m2.538728998152492,b1.0548451975782294,iteration458\n",
      "m2.538547889007668,b1.055503133194158,iteration459\n",
      "m2.5383668166503344,b1.0561608395937236,iteration460\n",
      "m2.538185781646465,b1.0568183170146341,iteration461\n",
      "m2.538004784548155,b1.057475565690726,iteration462\n",
      "m2.537823825893951,b1.0581325858520556,iteration463\n",
      "m2.5376429062091717,b1.0587893777249877,iteration464\n",
      "m2.53746202600622,b1.0594459415322828,iteration465\n",
      "m2.5372811857848894,b1.060102277493181,iteration466\n",
      "m2.537100386032663,b1.0607583858234853,iteration467\n",
      "m2.536919627225003,b1.0614142667356423,iteration468\n",
      "m2.5367389098256394,b1.062069920438821,iteration469\n",
      "m2.5365582342868422,b1.0627253471389897,iteration470\n",
      "m2.536377601049698,b1.0633805470389908,iteration471\n",
      "m2.5361970105443707,b1.0640355203386147,iteration472\n",
      "m2.536016463190363,b1.0646902672346712,iteration473\n",
      "m2.535835959396767,b1.0653447879210596,iteration474\n",
      "m2.5356554995625116,b1.0659990825888368,iteration475\n",
      "m2.5354750840766034,b1.066653151426284,iteration476\n",
      "m2.5352947133183603,b1.067306994618972,iteration477\n",
      "m2.5351143876576425,b1.0679606123498238,iteration478\n",
      "m2.5349341074550753,b1.0686140047991783,iteration479\n",
      "m2.5347538730622685,b1.0692671721448495,iteration480\n",
      "m2.5345736848220297,b1.0699201145621862,iteration481\n",
      "m2.534393543068572,b1.0705728322241297,iteration482\n",
      "m2.5342134481277188,b1.07122532530127,iteration483\n",
      "m2.5340334003171012,b1.0718775939619012,iteration484\n",
      "m2.5338533999463535,b1.0725296383720748,iteration485\n",
      "m2.5336734473173013,b1.0731814586956525,iteration486\n",
      "m2.5334935427241465,b1.0738330550943573,iteration487\n",
      "m2.533313686453649,b1.0744844277278238,iteration488\n",
      "m2.533133878785302,b1.0751355767536463,iteration489\n",
      "m2.5329541199915035,b1.0757865023274273,iteration490\n",
      "m2.532774410337726,b1.0764372046028234,iteration491\n",
      "m2.532594750082679,b1.0770876837315915,iteration492\n",
      "m2.5324151394784704,b1.0777379398636322,iteration493\n",
      "m2.5322355787707624,b1.078387973147034,iteration494\n",
      "m2.5320560681989233,b1.0790377837281153,iteration495\n",
      "m2.5318766079961783,b1.0796873717514655,iteration496\n",
      "m2.5316971983897534,b1.0803367373599855,iteration497\n",
      "m2.531517839601019,b1.080985880694927,iteration498\n",
      "m2.531338531845627,b1.0816348018959312,iteration499\n",
      "m2.5311592753336476,b1.0822835011010656,iteration500\n",
      "m2.530980070269701,b1.0829319784468616,iteration501\n",
      "m2.5308009168530865,b1.0835802340683496,iteration502\n",
      "m2.5306218152779083,b1.0842282680990944,iteration503\n",
      "m2.5304427657332,b1.0848760806712288,iteration504\n",
      "m2.5302637684030422,b1.085523671915487,iteration505\n",
      "m2.5300848234666824,b1.0861710419612378,iteration506\n",
      "m2.529905931098648,b1.0868181909365153,iteration507\n",
      "m2.5297270914688585,b1.0874651189680504,iteration508\n",
      "m2.529548304742735,b1.0881118261813012,iteration509\n",
      "m2.529369571081307,b1.0887583127004823,iteration510\n",
      "m2.5291908906413156,b1.0894045786485935,iteration511\n",
      "m2.529012263575315,b1.0900506241474484,iteration512\n",
      "m2.5288336900317736,b1.0906964493177016,iteration513\n",
      "m2.5286551701551683,b1.0913420542788757,iteration514\n",
      "m2.5284767040860814,b1.091987439149387,iteration515\n",
      "m2.528298291961291,b1.0926326040465717,iteration516\n",
      "m2.5281199339138634,b1.0932775490867108,iteration517\n",
      "m2.5279416300732382,b1.0939222743850543,iteration518\n",
      "m2.527763380565317,b1.0945667800558447,iteration519\n",
      "m2.5275851855125446,b1.095211066212341,iteration520\n",
      "m2.5274070450339945,b1.0958551329668411,iteration521\n",
      "m2.5272289592454458,b1.0964989804307035,iteration522\n",
      "m2.5270509282594618,b1.0971426087143694,iteration523\n",
      "m2.5268729521854674,b1.097786017927384,iteration524\n",
      "m2.526695031129823,b1.0984292081784164,iteration525\n",
      "m2.526517165195896,b1.0990721795752807,iteration526\n",
      "m2.5263393544841346,b1.0997149322249549,iteration527\n",
      "m2.526161599092134,b1.1003574662336002,iteration528\n",
      "m2.5259838991147054,b1.1009997817065802,iteration529\n",
      "m2.5258062546439426,b1.1016418787484787,iteration530\n",
      "m2.525628665769285,b1.1022837574631181,iteration531\n",
      "m2.5254511325775817,b1.1029254179535761,iteration532\n",
      "m2.5252736551531534,b1.1035668603222035,iteration533\n",
      "m2.525096233577851,b1.1042080846706401,iteration534\n",
      "m2.524918867931114,b1.1048490910998316,iteration535\n",
      "m2.5247415582900308,b1.1054898797100452,iteration536\n",
      "m2.52456430472939,b1.1061304506008849,iteration537\n",
      "m2.524387107321738,b1.1067708038713069,iteration538\n",
      "m2.524209966137432,b1.1074109396196339,iteration539\n",
      "m2.524032881244691,b1.10805085794357,iteration540\n",
      "m2.5238558527096466,b1.1086905589402147,iteration541\n",
      "m2.523678880596393,b1.1093300427060764,iteration542\n",
      "m2.523501964967036,b1.109969309337086,iteration543\n",
      "m2.5233251058817388,b1.1106083589286095,iteration544\n",
      "m2.5231483033987687,b1.1112471915754618,iteration545\n",
      "m2.522971557574543,b1.1118858073719182,iteration546\n",
      "m2.5227948684636714,b1.1125242064117271,iteration547\n",
      "m2.5226182361190004,b1.1131623887881217,iteration548\n",
      "m2.5224416605916535,b1.1138003545938315,iteration549\n",
      "m2.522265141931074,b1.114438103921094,iteration550\n",
      "m2.522088680185064,b1.1150756368616654,iteration551\n",
      "m2.5219122753998224,b1.1157129535068318,iteration552\n",
      "m2.5217359276199853,b1.1163500539474192,iteration553\n",
      "m2.5215596368886612,b1.1169869382738045,iteration554\n",
      "m2.521383403247468,b1.1176236065759249,iteration555\n",
      "m2.521207226736568,b1.1182600589432883,iteration556\n",
      "m2.521031107394704,b1.1188962954649824,iteration557\n",
      "m2.5208550452592307,b1.1195323162296842,iteration558\n",
      "m2.5206790403661494,b1.1201681213256693,iteration559\n",
      "m2.52050309275014,b1.120803710840821,iteration560\n",
      "m2.520327202444592,b1.1214390848626385,iteration561\n",
      "m2.5201513694816353,b1.1220742434782458,iteration562\n",
      "m2.5199755938921697,b1.1227091867743995,iteration563\n",
      "m2.5197998757058957,b1.1233439148374977,iteration564\n",
      "m2.519624214951341,b1.1239784277535874,iteration565\n",
      "m2.51944861165589,b1.1246127256083722,iteration566\n",
      "m2.5192730658458102,b1.12524680848722,iteration567\n",
      "m2.519097577546279,b1.1258806764751708,iteration568\n",
      "m2.51892214678141,b1.1265143296569426,iteration569\n",
      "m2.5187467735742772,b1.1271477681169404,iteration570\n",
      "m2.5185714579469414,b1.127780991939261,iteration571\n",
      "m2.518396199920473,b1.1284140012077009,iteration572\n",
      "m2.5182209995149765,b1.1290467960057626,iteration573\n",
      "m2.5180458567496125,b1.1296793764166613,iteration574\n",
      "m2.517870771642621,b1.1303117425233302,iteration575\n",
      "m2.5176957442113435,b1.1309438944084278,iteration576\n",
      "m2.5175207744722434,b1.131575832154343,iteration577\n",
      "m2.517345862440928,b1.1322075558432008,iteration578\n",
      "m2.5171710081321685,b1.1328390655568688,iteration579\n",
      "m2.5169962115599196,b1.133470361376962,iteration580\n",
      "m2.5168214727373397,b1.1341014433848486,iteration581\n",
      "m2.516646791676809,b1.134732311661655,iteration582\n",
      "m2.5164721683899494,b1.135362966288271,iteration583\n",
      "m2.516297602887641,b1.1359934073453546,iteration584\n",
      "m2.5161230951800406,b1.136623634913338,iteration585\n",
      "m2.5159486452765996,b1.1372536490724312,iteration586\n",
      "m2.5157742531860796,b1.1378834499026267,iteration587\n",
      "m2.5155999189165703,b1.138513037483705,iteration588\n",
      "m2.5154256424755035,b1.139142411895238,iteration589\n",
      "m2.515251423869671,b1.1397715732165945,iteration590\n",
      "m2.5150772631052387,b1.1404005215269433,iteration591\n",
      "m2.5149031601877616,b1.141029256905258,iteration592\n",
      "m2.5147291151221993,b1.1416577794303209,iteration593\n",
      "m2.514555127912929,b1.142286089180727,iteration594\n",
      "m2.51438119856376,b1.142914186234888,iteration595\n",
      "m2.5142073270779477,b1.1435420706710355,iteration596\n",
      "m2.5140335134582066,b1.1441697425672257,iteration597\n",
      "m2.5138597577067228,b1.144797202001342,iteration598\n",
      "m2.513686059825167,b1.145424449051099,iteration599\n",
      "m2.5135124198147065,b1.1460514837940459,iteration600\n",
      "m2.513338837676019,b1.1466783063075696,iteration601\n",
      "m2.513165313409301,b1.1473049166688984,iteration602\n",
      "m2.512991847014283,b1.147931314955105,iteration603\n",
      "m2.512818438490238,b1.148557501243109,iteration604\n",
      "m2.512645087835994,b1.1491834756096815,iteration605\n",
      "m2.5124717950499442,b1.1498092381314462,iteration606\n",
      "m2.512298560130057,b1.1504347888848836,iteration607\n",
      "m2.5121253830738866,b1.1510601279463335,iteration608\n",
      "m2.511952263878583,b1.1516852553919976,iteration609\n",
      "m2.511779202540902,b1.1523101712979422,iteration610\n",
      "m2.5116061990572147,b1.152934875740101,iteration611\n",
      "m2.5114332534235153,b1.1535593687942776,iteration612\n",
      "m2.511260365635432,b1.154183650536148,iteration613\n",
      "m2.511087535688236,b1.154807721041263,iteration614\n",
      "m2.510914763576847,b1.1554315803850512,iteration615\n",
      "m2.510742049295846,b1.15605522864282,iteration616\n",
      "m2.5105693928394808,b1.1566786658897594,iteration617\n",
      "m2.510396794201674,b1.157301892200943,iteration618\n",
      "m2.5102242533760313,b1.1579249076513312,iteration619\n",
      "m2.5100517703558505,b1.1585477123157724,iteration620\n",
      "m2.5098793451341272,b1.1591703062690057,iteration621\n",
      "m2.5097069777035625,b1.159792689585663,iteration622\n",
      "m2.50953466805657,b1.1604148623402704,iteration623\n",
      "m2.509362416185284,b1.1610368246072504,iteration624\n",
      "m2.509190222081564,b1.1616585764609242,iteration625\n",
      "m2.509018085737004,b1.162280117975513,iteration626\n",
      "m2.5088460071429366,b1.16290144922514,iteration627\n",
      "m2.5086739862904412,b1.163522570283832,iteration628\n",
      "m2.5085020231703488,b1.1641434812255218,iteration629\n",
      "m2.508330117773248,b1.1647641821240486,iteration630\n",
      "m2.5081582700894924,b1.165384673053161,iteration631\n",
      "m2.5079864801092047,b1.1660049540865176,iteration632\n",
      "m2.507814747822283,b1.1666250252976893,iteration633\n",
      "m2.5076430732184067,b1.1672448867601601,iteration634\n",
      "m2.507471456287041,b1.1678645385473294,iteration635\n",
      "m2.507299897017442,b1.1684839807325125,iteration636\n",
      "m2.507128395398663,b1.1691032133889427,iteration637\n",
      "m2.506956951419559,b1.1697222365897728,iteration638\n",
      "m2.50678556506879,b1.170341050408076,iteration639\n",
      "m2.506614236334828,b1.170959654916847,iteration640\n",
      "m2.5064429652059608,b1.1715780501890043,iteration641\n",
      "m2.5062717516702957,b1.1721962362973906,iteration642\n",
      "m2.5061005957157647,b1.172814213314774,iteration643\n",
      "m2.505929497330129,b1.1734319813138498,iteration644\n",
      "m2.5057584565009834,b1.1740495403672413,iteration645\n",
      "m2.5055874732157584,b1.1746668905475008,iteration646\n",
      "m2.5054165474617265,b1.1752840319271114,iteration647\n",
      "m2.505245679226006,b1.1759009645784868,iteration648\n",
      "m2.505074868495563,b1.1765176885739739,iteration649\n",
      "m2.504904115257217,b1.1771342039858526,iteration650\n",
      "m2.504733419497643,b1.1777505108863375,iteration651\n",
      "m2.504562781203377,b1.178366609347579,iteration652\n",
      "m2.5043922003608174,b1.1789824994416636,iteration653\n",
      "m2.5042216769562295,b1.1795981812406153,iteration654\n",
      "m2.504051210975749,b1.1802136548163966,iteration655\n",
      "m2.503880802405384,b1.1808289202409092,iteration656\n",
      "m2.50371045123102,b1.181443977585995,iteration657\n",
      "m2.5035401574384215,b1.182058826923437,iteration658\n",
      "m2.5033699210132356,b1.1826734683249596,iteration659\n",
      "m2.503199741940995,b1.1832879018622302,iteration660\n",
      "m2.5030296202071196,b1.1839021276068598,iteration661\n",
      "m2.5028595557969218,b1.1845161456304034,iteration662\n",
      "m2.502689548695607,b1.185129956004361,iteration663\n",
      "m2.5025195988882776,b1.1857435588001788,iteration664\n",
      "m2.5023497063599343,b1.1863569540892487,iteration665\n",
      "m2.50217987109548,b1.1869701419429106,iteration666\n",
      "m2.502010093079722,b1.187583122432452,iteration667\n",
      "m2.5018403722973734,b1.1881958956291088,iteration668\n",
      "m2.5016707087330565,b1.1888084616040664,iteration669\n",
      "m2.501501102371305,b1.18942082042846,iteration670\n",
      "m2.5013315531965654,b1.1900329721733753,iteration671\n",
      "m2.5011620611932006,b1.1906449169098492,iteration672\n",
      "m2.500992626345491,b1.1912566547088703,iteration673\n",
      "m2.500823248637637,b1.1918681856413795,iteration674\n",
      "m2.5006539280537607,b1.192479509778271,iteration675\n",
      "m2.5004846645779084,b1.1930906271903918,iteration676\n",
      "m2.500315458194052,b1.1937015379485436,iteration677\n",
      "m2.500146308886092,b1.1943122421234822,iteration678\n",
      "m2.499977216637857,b1.1949227397859188,iteration679\n",
      "m2.4998081814331083,b1.1955330310065198,iteration680\n",
      "m2.499639203255541,b1.1961431158559082,iteration681\n",
      "m2.4994702820887835,b1.196752994404663,iteration682\n",
      "m2.4993014179164024,b1.197362666723321,iteration683\n",
      "m2.4991326107219014,b1.197972132882376,iteration684\n",
      "m2.4989638604887254,b1.19858139295228,iteration685\n",
      "m2.4987951672002597,b1.1991904470034431,iteration686\n",
      "m2.498626530839833,b1.1997992951062346,iteration687\n",
      "m2.4984579513907197,b1.200407937330983,iteration688\n",
      "m2.498289428836138,b1.2010163737479769,iteration689\n",
      "m2.498120963159255,b1.201624604427464,iteration690\n",
      "m2.4979525543431866,b1.2022326294396537,iteration691\n",
      "m2.4977842023709984,b1.2028404488547153,iteration692\n",
      "m2.497615907225708,b1.20344806274278,iteration693\n",
      "m2.4974476688902856,b1.2040554711739402,iteration694\n",
      "m2.497279487347656,b1.2046626742182507,iteration695\n",
      "m2.4971113625806978,b1.2052696719457283,iteration696\n",
      "m2.496943294572248,b1.2058764644263527,iteration697\n",
      "m2.4967752833051002,b1.2064830517300664,iteration698\n",
      "m2.4966073287620074,b1.2070894339267757,iteration699\n",
      "m2.4964394309256828,b1.2076956110863502,iteration700\n",
      "m2.4962715897787997,b1.2083015832786232,iteration701\n",
      "m2.4961038053039943,b1.2089073505733932,iteration702\n",
      "m2.495936077483866,b1.2095129130404223,iteration703\n",
      "m2.495768406300978,b1.2101182707494382,iteration704\n",
      "m2.49560079173786,b1.2107234237701334,iteration705\n",
      "m2.4954332337770064,b1.211328372172166,iteration706\n",
      "m2.4952657324008793,b1.2119331160251596,iteration707\n",
      "m2.495098287591909,b1.212537655398704,iteration708\n",
      "m2.494930899332495,b1.213141990362355,iteration709\n",
      "m2.494763567605006,b1.2137461209856353,iteration710\n",
      "m2.494596292391782,b1.214350047338034,iteration711\n",
      "m2.4944290736751347,b1.2149537694890071,iteration712\n",
      "m2.4942619114373477,b1.2155572875079783,iteration713\n",
      "m2.494094805660678,b1.2161606014643382,iteration714\n",
      "m2.4939277563273574,b1.2167637114274454,iteration715\n",
      "m2.493760763419591,b1.2173666174666264,iteration716\n",
      "m2.49359382691956,b1.2179693196511756,iteration717\n",
      "m2.493426946809423,b1.218571818050356,iteration718\n",
      "m2.4932601230713134,b1.2191741127333988,iteration719\n",
      "m2.493093355687344,b1.2197762037695041,iteration720\n",
      "m2.4929266446396054,b1.220378091227841,iteration721\n",
      "m2.492759989910167,b1.2209797751775477,iteration722\n",
      "m2.492593391481078,b1.2215812556877317,iteration723\n",
      "m2.4924268493343678,b1.2221825328274698,iteration724\n",
      "m2.492260363452047,b1.2227836066658087,iteration725\n",
      "m2.492093933816107,b1.2233844772717648,iteration726\n",
      "m2.4919275604085223,b1.2239851447143246,iteration727\n",
      "m2.491761243211249,b1.2245856090624447,iteration728\n",
      "m2.4915949822062267,b1.2251858703850524,iteration729\n",
      "m2.491428777375379,b1.225785928751045,iteration730\n",
      "m2.4912626287006145,b1.2263857842292907,iteration731\n",
      "m2.491096536163825,b1.2269854368886284,iteration732\n",
      "m2.4909304997468893,b1.2275848867978683,iteration733\n",
      "m2.4907645194316705,b1.2281841340257913,iteration734\n",
      "m2.490598595200019,b1.2287831786411496,iteration735\n",
      "m2.4904327270337716,b1.2293820207126671,iteration736\n",
      "m2.4902669149147525,b1.229980660309039,iteration737\n",
      "m2.490101158824774,b1.2305790974989326,iteration738\n",
      "m2.4899354587456353,b1.231177332350986,iteration739\n",
      "m2.4897698146591254,b1.2317753649338103,iteration740\n",
      "m2.489604226547022,b1.232373195315988,iteration741\n",
      "m2.4894386943910916,b1.232970823566074,iteration742\n",
      "m2.489273218173091,b1.2335682497525953,iteration743\n",
      "m2.4891077978747673,b1.2341654739440515,iteration744\n",
      "m2.4889424334778583,b1.2347624962089148,iteration745\n",
      "m2.4887771249640918,b1.2353593166156298,iteration746\n",
      "m2.4886118723151878,b1.235955935232614,iteration747\n",
      "m2.488446675512858,b1.2365523521282575,iteration748\n",
      "m2.4882815345388054,b1.237148567370924,iteration749\n",
      "m2.488116449374726,b1.2377445810289494,iteration750\n",
      "m2.4879514200023083,b1.2383403931706432,iteration751\n",
      "m2.4877864464032338,b1.238936003864288,iteration752\n",
      "m2.4876215285591767,b1.23953141317814,iteration753\n",
      "m2.487456666451806,b1.2401266211804287,iteration754\n",
      "m2.4872918600627836,b1.240721627939357,iteration755\n",
      "m2.487127109373766,b1.2413164335231015,iteration756\n",
      "m2.486962414366405,b1.2419110379998126,iteration757\n",
      "m2.486797775022345,b1.2425054414376147,iteration758\n",
      "m2.486633191323228,b1.2430996439046054,iteration759\n",
      "m2.486468663250689,b1.2436936454688567,iteration760\n",
      "m2.4863041907863606,b1.2442874461984148,iteration761\n",
      "m2.4861397739118702,b1.2448810461612998,iteration762\n",
      "m2.485975412608841,b1.245474445425506,iteration763\n",
      "m2.4858111068588937,b1.246067644059002,iteration764\n",
      "m2.485646856643644,b1.2466606421297306,iteration765\n",
      "m2.4854826619447055,b1.2472534397056092,iteration766\n",
      "m2.4853185227436883,b1.2478460368545297,iteration767\n",
      "m2.4851544390222,b1.2484384336443586,iteration768\n",
      "m2.4849904107618457,b1.2490306301429366,iteration769\n",
      "m2.4848264379442275,b1.2496226264180796,iteration770\n",
      "m2.484662520550946,b1.2502144225375782,iteration771\n",
      "m2.4844986585636,b1.2508060185691974,iteration772\n",
      "m2.484334851963786,b1.2513974145806774,iteration773\n",
      "m2.484171100733098,b1.2519886106397333,iteration774\n",
      "m2.4840074048531315,b1.2525796068140553,iteration775\n",
      "m2.4838437643054783,b1.2531704031713085,iteration776\n",
      "m2.48368017907173,b1.253760999779133,iteration777\n",
      "m2.483516649133477,b1.2543513967051443,iteration778\n",
      "m2.4833531744723096,b1.254941594016933,iteration779\n",
      "m2.483189755069817,b1.2555315917820653,iteration780\n",
      "m2.4830263909075887,b1.2561213900680823,iteration781\n",
      "m2.482863081967213,b1.2567109889425006,iteration782\n",
      "m2.4826998282302792,b1.2573003884728122,iteration783\n",
      "m2.482536629678376,b1.257889588726485,iteration784\n",
      "m2.482373486293093,b1.2584785897709616,iteration785\n",
      "m2.482210398056019,b1.2590673916736612,iteration786\n",
      "m2.4820473649487447,b1.2596559945019778,iteration787\n",
      "m2.4818843869528604,b1.2602443983232814,iteration788\n",
      "m2.481721464049958,b1.2608326032049177,iteration789\n",
      "m2.481558596221629,b1.2614206092142082,iteration790\n",
      "m2.481395783449468,b1.26200841641845,iteration791\n",
      "m2.481233025715069,b1.2625960248849162,iteration792\n",
      "m2.4810703230000284,b1.263183434680856,iteration793\n",
      "m2.4809076752859425,b1.263770645873494,iteration794\n",
      "m2.4807450825544106,b1.2643576585300313,iteration795\n",
      "m2.4805825447870333,b1.2649444727176449,iteration796\n",
      "m2.480420061965413,b1.2655310885034874,iteration797\n",
      "m2.480257634071153,b1.2661175059546879,iteration798\n",
      "m2.4800952610858595,b1.2667037251383515,iteration799\n",
      "m2.4799329429911405,b1.2672897461215595,iteration800\n",
      "m2.479770679768606,b1.2678755689713697,iteration801\n",
      "m2.4796084713998687,b1.2684611937548154,iteration802\n",
      "m2.4794463178665427,b1.2690466205389066,iteration803\n",
      "m2.4792842191502453,b1.2696318493906296,iteration804\n",
      "m2.4791221752325963,b1.270216880376947,iteration805\n",
      "m2.4789601860952173,b1.2708017135647975,iteration806\n",
      "m2.478798251719734,b1.2713863490210966,iteration807\n",
      "m2.478636372087773,b1.271970786812736,iteration808\n",
      "m2.4784745471809653,b1.2725550270065837,iteration809\n",
      "m2.4783127769809443,b1.2731390696694849,iteration810\n",
      "m2.4781510614693465,b1.2737229148682603,iteration811\n",
      "m2.4779894006278114,b1.2743065626697077,iteration812\n",
      "m2.477827794437981,b1.2748900131406014,iteration813\n",
      "m2.477666242881502,b1.2754732663476922,iteration814\n",
      "m2.477504745940023,b1.2760563223577077,iteration815\n",
      "m2.477343303595196,b1.276639181237352,iteration816\n",
      "m2.4771819158286776,b1.2772218430533062,iteration817\n",
      "m2.477020582622127,b1.2778043078722274,iteration818\n",
      "m2.4768593039572067,b1.2783865757607502,iteration819\n",
      "m2.4766980798155838,b1.2789686467854855,iteration820\n",
      "m2.476536910178928,b1.279550521013021,iteration821\n",
      "m2.4763757950289134,b1.2801321985099212,iteration822\n",
      "m2.476214734347218,b1.2807136793427278,iteration823\n",
      "m2.476053728115523,b1.2812949635779591,iteration824\n",
      "m2.4758927763155136,b1.2818760512821101,iteration825\n",
      "m2.4757318789288796,b1.2824569425216528,iteration826\n",
      "m2.4755710359373144,b1.283037637363036,iteration827\n",
      "m2.4754102473225155,b1.2836181358726861,iteration828\n",
      "m2.475249513066184,b1.2841984381170057,iteration829\n",
      "m2.475088833150026,b1.2847785441623747,iteration830\n",
      "m2.474928207555751,b1.2853584540751497,iteration831\n",
      "m2.4747676362650735,b1.2859381679216648,iteration832\n",
      "m2.4746071192597117,b1.286517685768231,iteration833\n",
      "m2.4744466565213887,b1.2870970076811363,iteration834\n",
      "m2.4742862480318313,b1.2876761337266458,iteration835\n",
      "m2.4741258937727713,b1.2882550639710015,iteration836\n",
      "m2.473965593725944,b1.288833798480423,iteration837\n",
      "m2.473805347873091,b1.2894123373211066,iteration838\n",
      "m2.473645156195956,b1.2899906805592258,iteration839\n",
      "m2.4734850186762896,b1.2905688282609316,iteration840\n",
      "m2.4733249352958455,b1.291146780492352,iteration841\n",
      "m2.473164906036383,b1.2917245373195922,iteration842\n",
      "m2.473004930879665,b1.2923020988087348,iteration843\n",
      "m2.4728450098074597,b1.2928794650258393,iteration844\n",
      "m2.4726851428015406,b1.2934566360369428,iteration845\n",
      "m2.472525329843685,b1.2940336119080598,iteration846\n",
      "m2.4723655709156755,b1.2946103927051815,iteration847\n",
      "m2.4722058659992996,b1.295186978494277,iteration848\n",
      "m2.4720462150763494,b1.2957633693412927,iteration849\n",
      "m2.471886618128622,b1.2963395653121519,iteration850\n",
      "m2.4717270751379194,b1.2969155664727559,iteration851\n",
      "m2.471567586086049,b1.2974913728889828,iteration852\n",
      "m2.471408150954822,b1.2980669846266886,iteration853\n",
      "m2.4712487697260554,b1.2986424017517062,iteration854\n",
      "m2.471089442381572,b1.2992176243298466,iteration855\n",
      "m2.470930168903198,b1.2997926524268975,iteration856\n",
      "m2.4707709492727665,b1.3003674861086245,iteration857\n",
      "m2.4706117834721137,b1.3009421254407707,iteration858\n",
      "m2.470452671483083,b1.3015165704890566,iteration859\n",
      "m2.4702936132875206,b1.30209082131918,iteration860\n",
      "m2.47013460886728,b1.3026648779968164,iteration861\n",
      "m2.469975658204219,b1.3032387405876191,iteration862\n",
      "m2.4698167612802004,b1.3038124091572185,iteration863\n",
      "m2.469657918077093,b1.3043858837712228,iteration864\n",
      "m2.4694991285767696,b1.3049591644952179,iteration865\n",
      "m2.4693403927611093,b1.305532251394767,iteration866\n",
      "m2.469181710611996,b1.3061051445354108,iteration867\n",
      "m2.46902308211132,b1.306677843982668,iteration868\n",
      "m2.468864507240975,b1.307250349802035,iteration869\n",
      "m2.4687059859828615,b1.307822662058985,iteration870\n",
      "m2.4685475183188847,b1.3083947808189698,iteration871\n",
      "m2.4683891042309556,b1.3089667061474186,iteration872\n",
      "m2.4682307437009903,b1.3095384381097381,iteration873\n",
      "m2.46807243671091,b1.3101099767713127,iteration874\n",
      "m2.467914183242642,b1.3106813221975047,iteration875\n",
      "m2.467755983278119,b1.3112524744536538,iteration876\n",
      "m2.4675978367992784,b1.3118234336050778,iteration877\n",
      "m2.4674397437880637,b1.312394199717072,iteration878\n",
      "m2.467281704226424,b1.3129647728549094,iteration879\n",
      "m2.4671237180963135,b1.313535153083841,iteration880\n",
      "m2.4669657853796916,b1.3141053404690954,iteration881\n",
      "m2.466807906058524,b1.314675335075879,iteration882\n",
      "m2.466650080114781,b1.3152451369693763,iteration883\n",
      "m2.4664923075304395,b1.315814746214749,iteration884\n",
      "m2.466334588287481,b1.3163841628771369,iteration885\n",
      "m2.466176922367894,b1.3169533870216577,iteration886\n",
      "m2.4660193097536705,b1.317522418713407,iteration887\n",
      "m2.4658617504268094,b1.3180912580174582,iteration888\n",
      "m2.4657042443693147,b1.3186599049988623,iteration889\n",
      "m2.4655467915631966,b1.3192283597226486,iteration890\n",
      "m2.4653893919904704,b1.3197966222538242,iteration891\n",
      "m2.465232045633157,b1.3203646926573738,iteration892\n",
      "m2.4650747524732832,b1.32093257099826,iteration893\n"
     ]
    },
    {
     "name": "stdout",
     "output_type": "stream",
     "text": [
      "m2.4649175124928813,b1.3215002573414238,iteration894\n",
      "m2.464760325673989,b1.3220677517517838,iteration895\n",
      "m2.4646031919986506,b1.3226350542942362,iteration896\n",
      "m2.464446111448915,b1.3232021650336558,iteration897\n",
      "m2.464289084006837,b1.323769084034895,iteration898\n",
      "m2.4641321096544773,b1.324335811362784,iteration899\n",
      "m2.4639751883739023,b1.3249023470821317,iteration900\n",
      "m2.4638183201471837,b1.325468691257724,iteration901\n",
      "m2.4636615049563995,b1.3260348439543255,iteration902\n",
      "m2.4635047427836327,b1.3266008052366784,iteration903\n",
      "m2.4633480336109725,b1.3271665751695032,iteration904\n",
      "m2.463191377420514,b1.3277321538174984,iteration905\n",
      "m2.463034774194358,b1.3282975412453404,iteration906\n",
      "m2.46287822391461,b1.3288627375176836,iteration907\n",
      "m2.4627217265633825,b1.3294277426991605,iteration908\n",
      "m2.4625652821227932,b1.329992556854382,iteration909\n",
      "m2.4624088905749657,b1.3305571800479365,iteration910\n",
      "m2.462252551902029,b1.331121612344391,iteration911\n",
      "m2.462096266086118,b1.33168585380829,iteration912\n",
      "m2.4619400331093737,b1.3322499045041567,iteration913\n",
      "m2.4617838529539426,b1.3328137644964921,iteration914\n",
      "m2.4616277256019767,b1.3333774338497755,iteration915\n",
      "m2.4614716510356347,b1.333940912628464,iteration916\n",
      "m2.46131562923708,b1.3345042008969934,iteration917\n",
      "m2.4611596601884824,b1.335067298719777,iteration918\n",
      "m2.461003743872017,b1.3356302061612064,iteration919\n",
      "m2.4608478802698657,b1.336192923285652,iteration920\n",
      "m2.4606920693642147,b1.3367554501574614,iteration921\n",
      "m2.460536311137257,b1.3373177868409611,iteration922\n",
      "m2.4603806055711916,b1.3378799334004556,iteration923\n",
      "m2.4602249526482227,b1.3384418899002275,iteration924\n",
      "m2.4600693523505606,b1.3390036564045378,iteration925\n",
      "m2.459913804660421,b1.3395652329776253,iteration926\n",
      "m2.4597583095600264,b1.3401266196837076,iteration927\n",
      "m2.4596028670316037,b1.34068781658698,iteration928\n",
      "m2.4594474770573864,b1.3412488237516165,iteration929\n",
      "m2.459292139619614,b1.3418096412417688,iteration930\n",
      "m2.459136854700532,b1.3423702691215675,iteration931\n",
      "m2.458981622282391,b1.342930707455121,iteration932\n",
      "m2.4588264423474477,b1.3434909563065165,iteration933\n",
      "m2.458671314877965,b1.3440510157398187,iteration934\n",
      "m2.458516239856211,b1.3446108858190713,iteration935\n",
      "m2.4583612172644598,b1.3451705666082958,iteration936\n",
      "m2.4582062470849917,b1.3457300581714924,iteration937\n",
      "m2.4580513293000927,b1.3462893605726394,iteration938\n",
      "m2.457896463892055,b1.3468484738756936,iteration939\n",
      "m2.4577416508431753,b1.34740739814459,iteration940\n",
      "m2.457586890135758,b1.3479661334432418,iteration941\n",
      "m2.457432181752112,b1.3485246798355408,iteration942\n",
      "m2.4572775256745523,b1.349083037385357,iteration943\n",
      "m2.4571229218854,b1.349641206156539,iteration944\n",
      "m2.456968370366982,b1.3501991862129135,iteration945\n",
      "m2.4568138711016307,b1.3507569776182857,iteration946\n",
      "m2.456659424071685,b1.3513145804364393,iteration947\n",
      "m2.4565050292594894,b1.3518719947311362,iteration948\n",
      "m2.4563506866473936,b1.352429220566117,iteration949\n",
      "m2.4561963962177544,b1.3529862580051004,iteration950\n",
      "m2.456042157952933,b1.3535431071117836,iteration951\n",
      "m2.4558879718352977,b1.3540997679498425,iteration952\n",
      "m2.455733837847222,b1.354656240582931,iteration953\n",
      "m2.455579755971086,b1.3552125250746818,iteration954\n",
      "m2.455425726189274,b1.355768621488706,iteration955\n",
      "m2.455271748484178,b1.3563245298885929,iteration956\n",
      "m2.4551178228381945,b1.3568802503379107,iteration957\n",
      "m2.4549639492337265,b1.3574357829002057,iteration958\n",
      "m2.4548101276531833,b1.3579911276390029,iteration959\n",
      "m2.4546563580789793,b1.3585462846178058,iteration960\n",
      "m2.454502640493535,b1.3591012539000964,iteration961\n",
      "m2.4543489748792764,b1.359656035549335,iteration962\n",
      "m2.4541953612186362,b1.3602106296289607,iteration963\n",
      "m2.4540417994940524,b1.3607650362023909,iteration964\n",
      "m2.453888289687969,b1.3613192553330218,iteration965\n",
      "m2.4537348317828354,b1.3618732870842278,iteration966\n",
      "m2.4535814257611075,b1.3624271315193623,iteration967\n",
      "m2.453428071605247,b1.3629807887017569,iteration968\n",
      "m2.453274769297721,b1.363534258694722,iteration969\n",
      "m2.453121518821003,b1.364087541561546,iteration970\n",
      "m2.4529683201575714,b1.364640637365497,iteration971\n",
      "m2.452815173289912,b1.3651935461698206,iteration972\n",
      "m2.452662078200515,b1.3657462680377415,iteration973\n",
      "m2.4525090348718774,b1.366298803032463,iteration974\n",
      "m2.4523560432865015,b1.3668511512171668,iteration975\n",
      "m2.4522031034268954,b1.3674033126550136,iteration976\n",
      "m2.4520502152755737,b1.367955287409142,iteration977\n",
      "m2.451897378815056,b1.3685070755426703,iteration978\n",
      "m2.451744594027869,b1.3690586771186946,iteration979\n",
      "m2.4515918608965435,b1.36961009220029,iteration980\n",
      "m2.451439179403618,b1.3701613208505101,iteration981\n",
      "m2.4512865495316354,b1.3707123631323874,iteration982\n",
      "m2.451133971263145,b1.371263219108933,iteration983\n",
      "m2.450981444580702,b1.3718138888431362,iteration984\n",
      "m2.4508289694668677,b1.3723643723979657,iteration985\n",
      "m2.4506765459042086,b1.3729146698363686,iteration986\n",
      "m2.450524173875298,b1.3734647812212706,iteration987\n",
      "m2.450371853362714,b1.3740147066155763,iteration988\n",
      "m2.450219584349041,b1.3745644460821689,iteration989\n",
      "m2.450067366816869,b1.3751139996839103,iteration990\n",
      "m2.4499152007487943,b1.3756633674836414,iteration991\n",
      "m2.449763086127419,b1.3762125495441813,iteration992\n",
      "m2.4496110229353505,b1.3767615459283284,iteration993\n",
      "m2.4494590111552026,b1.3773103566988596,iteration994\n",
      "m2.449307050769595,b1.3778589819185307,iteration995\n",
      "m2.449155141761153,b1.3784074216500761,iteration996\n",
      "m2.449003284112507,b1.3789556759562092,iteration997\n",
      "m2.448851477806295,b1.3795037448996217,iteration998\n",
      "m2.448699722825159,b1.3800516285429847,iteration999\n"
     ]
    }
   ],
   "source": [
    "import numpy as np\n",
    "def gradient_descent(x,y):\n",
    "    m_curr=b_curr=0\n",
    "    iterations=1000\n",
    "    n=len(x)\n",
    "    learning_rate=0.001\n",
    "    for i in range(iterations):\n",
    "        y_predicted=m_curr*x+b_curr\n",
    "        cost=(1/n)+sum([val**2 for val in (y-y_predicted)])\n",
    "        md=-(2/n)*sum(x*(y-y_predicted))\n",
    "        bd=-(2/n)*sum(y-y_predicted)\n",
    "        m_curr=m_curr-learning_rate*md\n",
    "        b_curr=b_curr-learning_rate*bd\n",
    "        print(\"m{},b{},iteration{}\".format(m_curr,b_curr,i))\n",
    "x=np.array([1,2,3,4,5])\n",
    "y=np.array([5,7,9,11,13])\n",
    "gradient_descent(x,y)\n"
   ]
  },
  {
   "cell_type": "code",
   "execution_count": 14,
   "id": "a637e07a",
   "metadata": {},
   "outputs": [
    {
     "name": "stdout",
     "output_type": "stream",
     "text": [
      "     name  math  cs\n",
      "0   david    92  98\n",
      "1   laura    56  68\n",
      "2  sanjay    88  81\n",
      "3     wei    70  80\n",
      "4    jeff    80  83\n",
      "5   aamir    49  52\n",
      "6  venkat    65  66\n",
      "7   virat    35  30\n",
      "8  arthur    66  68\n",
      "9    paul    67  73\n",
      "Using sk_learn function: Coef[1.01773624] Intercept1.9152193111569318\n",
      "Using gradient descent function: Coef0.9891800000000002 Intercept0.013980000000000001\n"
     ]
    }
   ],
   "source": [
    "import numpy as np\n",
    "import pandas as pd\n",
    "import matplotlib.pyplot as plt\n",
    "from sklearn import linear_model\n",
    "\n",
    "def predict_from_sklearn(df):\n",
    "    reg=linear_model.LinearRegression()\n",
    "    reg.fit(df[['math']],df.cs)\n",
    "    return reg.coef_,reg.intercept_\n",
    "\n",
    "def from_gradient(df,x,y):\n",
    "    m_curr=b_curr=0\n",
    "    iterations=1000\n",
    "    n=len(x)\n",
    "    learning_rate=0.0001\n",
    "    for i in range(iterations):\n",
    "        y_predicted=m_curr*x+b_curr\n",
    "        cost=(1/n)+sum([val**2 for val in (y-y_predicted)])\n",
    "        md=-(2/n)*sum(x*(y-y_predicted))\n",
    "        bd=-(2/n)*sum(y-y_predicted)\n",
    "        m_curr=m_curr-learning_rate*md\n",
    "        b_curr=b_curr-learning_rate*bd\n",
    "        return m_curr,b_curr\n",
    "df=pd.read_csv('Class(Gradient).csv')\n",
    "print(df)\n",
    "x=np.array(df.math)\n",
    "y=np.array(df.cs)\n",
    "m_sklearn,b_sklearn=predict_from_sklearn(df)\n",
    "print('Using sk_learn function: Coef{} Intercept{}'.format(m_sklearn,b_sklearn))\n",
    "\n",
    "m,b=from_gradient(df,x,y)\n",
    "print('Using gradient descent function: Coef{} Intercept{}'.format(m,b))\n"
   ]
  },
  {
   "cell_type": "markdown",
   "id": "7ffc403c",
   "metadata": {},
   "source": [
    "# Save File to model (Pickle and joblib)\n"
   ]
  },
  {
   "cell_type": "code",
   "execution_count": 51,
   "id": "418a1969",
   "metadata": {},
   "outputs": [
    {
     "data": {
      "text/html": [
       "<div>\n",
       "<style scoped>\n",
       "    .dataframe tbody tr th:only-of-type {\n",
       "        vertical-align: middle;\n",
       "    }\n",
       "\n",
       "    .dataframe tbody tr th {\n",
       "        vertical-align: top;\n",
       "    }\n",
       "\n",
       "    .dataframe thead th {\n",
       "        text-align: right;\n",
       "    }\n",
       "</style>\n",
       "<table border=\"1\" class=\"dataframe\">\n",
       "  <thead>\n",
       "    <tr style=\"text-align: right;\">\n",
       "      <th></th>\n",
       "      <th>Unnamed: 0</th>\n",
       "      <th>Unnamed: 0.1</th>\n",
       "      <th>area</th>\n",
       "      <th>price</th>\n",
       "      <th>prices</th>\n",
       "    </tr>\n",
       "  </thead>\n",
       "  <tbody>\n",
       "    <tr>\n",
       "      <th>0</th>\n",
       "      <td>0</td>\n",
       "      <td>0</td>\n",
       "      <td>2600</td>\n",
       "      <td>550000</td>\n",
       "      <td>533664.383562</td>\n",
       "    </tr>\n",
       "    <tr>\n",
       "      <th>1</th>\n",
       "      <td>1</td>\n",
       "      <td>1</td>\n",
       "      <td>3000</td>\n",
       "      <td>565000</td>\n",
       "      <td>587979.452055</td>\n",
       "    </tr>\n",
       "    <tr>\n",
       "      <th>2</th>\n",
       "      <td>2</td>\n",
       "      <td>2</td>\n",
       "      <td>3200</td>\n",
       "      <td>610000</td>\n",
       "      <td>615136.986301</td>\n",
       "    </tr>\n",
       "  </tbody>\n",
       "</table>\n",
       "</div>"
      ],
      "text/plain": [
       "   Unnamed: 0  Unnamed: 0.1  area   price         prices\n",
       "0           0             0  2600  550000  533664.383562\n",
       "1           1             1  3000  565000  587979.452055\n",
       "2           2             2  3200  610000  615136.986301"
      ]
     },
     "execution_count": 51,
     "metadata": {},
     "output_type": "execute_result"
    }
   ],
   "source": [
    "import pandas as pd\n",
    "from sklearn import linear_model\n",
    "df=pd.read_csv(\"Area.csv\")\n",
    "df"
   ]
  },
  {
   "cell_type": "code",
   "execution_count": 52,
   "id": "f063b501",
   "metadata": {},
   "outputs": [
    {
     "data": {
      "text/plain": [
       "LinearRegression()"
      ]
     },
     "execution_count": 52,
     "metadata": {},
     "output_type": "execute_result"
    }
   ],
   "source": [
    "reg=linear_model.LinearRegression()\n",
    "reg.fit(df[['area']],df.price)"
   ]
  },
  {
   "cell_type": "code",
   "execution_count": 34,
   "id": "b4fd2f6d",
   "metadata": {},
   "outputs": [
    {
     "data": {
      "text/plain": [
       "array([815270.69072806])"
      ]
     },
     "execution_count": 34,
     "metadata": {},
     "output_type": "execute_result"
    }
   ],
   "source": [
    "reg.predict([[5000]])"
   ]
  },
  {
   "cell_type": "code",
   "execution_count": 46,
   "id": "081fd7c8",
   "metadata": {},
   "outputs": [],
   "source": [
    "import pickle\n",
    "with open('model_pickle','wb') as file:\n",
    "    pickle.dump(model,file)\n",
    " "
   ]
  },
  {
   "cell_type": "code",
   "execution_count": 47,
   "id": "11ad86b1",
   "metadata": {},
   "outputs": [],
   "source": [
    "with open('model_pickle','rb') as f:\n",
    "    mp=pickle.load(f)"
   ]
  },
  {
   "cell_type": "code",
   "execution_count": 48,
   "id": "d538d0db",
   "metadata": {},
   "outputs": [
    {
     "data": {
      "text/plain": [
       "['model_joblib']"
      ]
     },
     "execution_count": 48,
     "metadata": {},
     "output_type": "execute_result"
    }
   ],
   "source": [
    "import joblib\n",
    "joblib.dump(model,'model_joblib')"
   ]
  },
  {
   "cell_type": "code",
   "execution_count": 49,
   "id": "1094905e",
   "metadata": {},
   "outputs": [],
   "source": [
    "mj=joblib.load('model_joblib')"
   ]
  },
  {
   "cell_type": "code",
   "execution_count": 60,
   "id": "7414d3dc",
   "metadata": {},
   "outputs": [
    {
     "ename": "NotFittedError",
     "evalue": "This LinearRegression instance is not fitted yet. Call 'fit' with appropriate arguments before using this estimator.",
     "output_type": "error",
     "traceback": [
      "\u001b[1;31m---------------------------------------------------------------------------\u001b[0m",
      "\u001b[1;31mNotFittedError\u001b[0m                            Traceback (most recent call last)",
      "\u001b[1;32m<ipython-input-60-cff9722486f4>\u001b[0m in \u001b[0;36m<module>\u001b[1;34m\u001b[0m\n\u001b[0;32m      1\u001b[0m \u001b[0mreg\u001b[0m\u001b[1;33m.\u001b[0m\u001b[0mfit\u001b[0m\u001b[1;33m(\u001b[0m\u001b[0mdf\u001b[0m\u001b[1;33m[\u001b[0m\u001b[1;33m[\u001b[0m\u001b[1;34m'area'\u001b[0m\u001b[1;33m]\u001b[0m\u001b[1;33m]\u001b[0m\u001b[1;33m,\u001b[0m\u001b[0mdf\u001b[0m\u001b[1;33m.\u001b[0m\u001b[0mprice\u001b[0m\u001b[1;33m)\u001b[0m\u001b[1;33m\u001b[0m\u001b[1;33m\u001b[0m\u001b[0m\n\u001b[1;32m----> 2\u001b[1;33m \u001b[0mmj\u001b[0m\u001b[1;33m.\u001b[0m\u001b[0mpredict\u001b[0m\u001b[1;33m(\u001b[0m\u001b[1;36m1000\u001b[0m\u001b[1;33m)\u001b[0m\u001b[1;33m\u001b[0m\u001b[1;33m\u001b[0m\u001b[0m\n\u001b[0m",
      "\u001b[1;32m~\\anaconda3\\lib\\site-packages\\sklearn\\linear_model\\_base.py\u001b[0m in \u001b[0;36mpredict\u001b[1;34m(self, X)\u001b[0m\n\u001b[0;32m    236\u001b[0m             \u001b[0mReturns\u001b[0m \u001b[0mpredicted\u001b[0m \u001b[0mvalues\u001b[0m\u001b[1;33m.\u001b[0m\u001b[1;33m\u001b[0m\u001b[1;33m\u001b[0m\u001b[0m\n\u001b[0;32m    237\u001b[0m         \"\"\"\n\u001b[1;32m--> 238\u001b[1;33m         \u001b[1;32mreturn\u001b[0m \u001b[0mself\u001b[0m\u001b[1;33m.\u001b[0m\u001b[0m_decision_function\u001b[0m\u001b[1;33m(\u001b[0m\u001b[0mX\u001b[0m\u001b[1;33m)\u001b[0m\u001b[1;33m\u001b[0m\u001b[1;33m\u001b[0m\u001b[0m\n\u001b[0m\u001b[0;32m    239\u001b[0m \u001b[1;33m\u001b[0m\u001b[0m\n\u001b[0;32m    240\u001b[0m     \u001b[0m_preprocess_data\u001b[0m \u001b[1;33m=\u001b[0m \u001b[0mstaticmethod\u001b[0m\u001b[1;33m(\u001b[0m\u001b[0m_preprocess_data\u001b[0m\u001b[1;33m)\u001b[0m\u001b[1;33m\u001b[0m\u001b[1;33m\u001b[0m\u001b[0m\n",
      "\u001b[1;32m~\\anaconda3\\lib\\site-packages\\sklearn\\linear_model\\_base.py\u001b[0m in \u001b[0;36m_decision_function\u001b[1;34m(self, X)\u001b[0m\n\u001b[0;32m    216\u001b[0m \u001b[1;33m\u001b[0m\u001b[0m\n\u001b[0;32m    217\u001b[0m     \u001b[1;32mdef\u001b[0m \u001b[0m_decision_function\u001b[0m\u001b[1;33m(\u001b[0m\u001b[0mself\u001b[0m\u001b[1;33m,\u001b[0m \u001b[0mX\u001b[0m\u001b[1;33m)\u001b[0m\u001b[1;33m:\u001b[0m\u001b[1;33m\u001b[0m\u001b[1;33m\u001b[0m\u001b[0m\n\u001b[1;32m--> 218\u001b[1;33m         \u001b[0mcheck_is_fitted\u001b[0m\u001b[1;33m(\u001b[0m\u001b[0mself\u001b[0m\u001b[1;33m)\u001b[0m\u001b[1;33m\u001b[0m\u001b[1;33m\u001b[0m\u001b[0m\n\u001b[0m\u001b[0;32m    219\u001b[0m \u001b[1;33m\u001b[0m\u001b[0m\n\u001b[0;32m    220\u001b[0m         \u001b[0mX\u001b[0m \u001b[1;33m=\u001b[0m \u001b[0mcheck_array\u001b[0m\u001b[1;33m(\u001b[0m\u001b[0mX\u001b[0m\u001b[1;33m,\u001b[0m \u001b[0maccept_sparse\u001b[0m\u001b[1;33m=\u001b[0m\u001b[1;33m[\u001b[0m\u001b[1;34m'csr'\u001b[0m\u001b[1;33m,\u001b[0m \u001b[1;34m'csc'\u001b[0m\u001b[1;33m,\u001b[0m \u001b[1;34m'coo'\u001b[0m\u001b[1;33m]\u001b[0m\u001b[1;33m)\u001b[0m\u001b[1;33m\u001b[0m\u001b[1;33m\u001b[0m\u001b[0m\n",
      "\u001b[1;32m~\\anaconda3\\lib\\site-packages\\sklearn\\utils\\validation.py\u001b[0m in \u001b[0;36minner_f\u001b[1;34m(*args, **kwargs)\u001b[0m\n\u001b[0;32m     61\u001b[0m             \u001b[0mextra_args\u001b[0m \u001b[1;33m=\u001b[0m \u001b[0mlen\u001b[0m\u001b[1;33m(\u001b[0m\u001b[0margs\u001b[0m\u001b[1;33m)\u001b[0m \u001b[1;33m-\u001b[0m \u001b[0mlen\u001b[0m\u001b[1;33m(\u001b[0m\u001b[0mall_args\u001b[0m\u001b[1;33m)\u001b[0m\u001b[1;33m\u001b[0m\u001b[1;33m\u001b[0m\u001b[0m\n\u001b[0;32m     62\u001b[0m             \u001b[1;32mif\u001b[0m \u001b[0mextra_args\u001b[0m \u001b[1;33m<=\u001b[0m \u001b[1;36m0\u001b[0m\u001b[1;33m:\u001b[0m\u001b[1;33m\u001b[0m\u001b[1;33m\u001b[0m\u001b[0m\n\u001b[1;32m---> 63\u001b[1;33m                 \u001b[1;32mreturn\u001b[0m \u001b[0mf\u001b[0m\u001b[1;33m(\u001b[0m\u001b[1;33m*\u001b[0m\u001b[0margs\u001b[0m\u001b[1;33m,\u001b[0m \u001b[1;33m**\u001b[0m\u001b[0mkwargs\u001b[0m\u001b[1;33m)\u001b[0m\u001b[1;33m\u001b[0m\u001b[1;33m\u001b[0m\u001b[0m\n\u001b[0m\u001b[0;32m     64\u001b[0m \u001b[1;33m\u001b[0m\u001b[0m\n\u001b[0;32m     65\u001b[0m             \u001b[1;31m# extra_args > 0\u001b[0m\u001b[1;33m\u001b[0m\u001b[1;33m\u001b[0m\u001b[1;33m\u001b[0m\u001b[0m\n",
      "\u001b[1;32m~\\anaconda3\\lib\\site-packages\\sklearn\\utils\\validation.py\u001b[0m in \u001b[0;36mcheck_is_fitted\u001b[1;34m(estimator, attributes, msg, all_or_any)\u001b[0m\n\u001b[0;32m   1039\u001b[0m \u001b[1;33m\u001b[0m\u001b[0m\n\u001b[0;32m   1040\u001b[0m     \u001b[1;32mif\u001b[0m \u001b[1;32mnot\u001b[0m \u001b[0mattrs\u001b[0m\u001b[1;33m:\u001b[0m\u001b[1;33m\u001b[0m\u001b[1;33m\u001b[0m\u001b[0m\n\u001b[1;32m-> 1041\u001b[1;33m         \u001b[1;32mraise\u001b[0m \u001b[0mNotFittedError\u001b[0m\u001b[1;33m(\u001b[0m\u001b[0mmsg\u001b[0m \u001b[1;33m%\u001b[0m \u001b[1;33m{\u001b[0m\u001b[1;34m'name'\u001b[0m\u001b[1;33m:\u001b[0m \u001b[0mtype\u001b[0m\u001b[1;33m(\u001b[0m\u001b[0mestimator\u001b[0m\u001b[1;33m)\u001b[0m\u001b[1;33m.\u001b[0m\u001b[0m__name__\u001b[0m\u001b[1;33m}\u001b[0m\u001b[1;33m)\u001b[0m\u001b[1;33m\u001b[0m\u001b[1;33m\u001b[0m\u001b[0m\n\u001b[0m\u001b[0;32m   1042\u001b[0m \u001b[1;33m\u001b[0m\u001b[0m\n\u001b[0;32m   1043\u001b[0m \u001b[1;33m\u001b[0m\u001b[0m\n",
      "\u001b[1;31mNotFittedError\u001b[0m: This LinearRegression instance is not fitted yet. Call 'fit' with appropriate arguments before using this estimator."
     ]
    }
   ],
   "source": [
    "reg.fit(df[['area']],df.price)\n",
    "mj.predict(1000)"
   ]
  },
  {
   "cell_type": "markdown",
   "id": "006f04a5",
   "metadata": {},
   "source": [
    "# Dummy Variables & One Hot Encoding"
   ]
  },
  {
   "cell_type": "code",
   "execution_count": 2,
   "id": "a18991a1",
   "metadata": {},
   "outputs": [],
   "source": [
    "import matplotlib.pyplot as plt\n",
    "import numpy as np\n",
    "from sklearn import linear_model\n",
    "import pandas as pd"
   ]
  },
  {
   "cell_type": "code",
   "execution_count": 3,
   "id": "df420454",
   "metadata": {},
   "outputs": [
    {
     "data": {
      "text/html": [
       "<div>\n",
       "<style scoped>\n",
       "    .dataframe tbody tr th:only-of-type {\n",
       "        vertical-align: middle;\n",
       "    }\n",
       "\n",
       "    .dataframe tbody tr th {\n",
       "        vertical-align: top;\n",
       "    }\n",
       "\n",
       "    .dataframe thead th {\n",
       "        text-align: right;\n",
       "    }\n",
       "</style>\n",
       "<table border=\"1\" class=\"dataframe\">\n",
       "  <thead>\n",
       "    <tr style=\"text-align: right;\">\n",
       "      <th></th>\n",
       "      <th>town</th>\n",
       "      <th>area</th>\n",
       "      <th>price</th>\n",
       "    </tr>\n",
       "  </thead>\n",
       "  <tbody>\n",
       "    <tr>\n",
       "      <th>0</th>\n",
       "      <td>monroe</td>\n",
       "      <td>2600</td>\n",
       "      <td>650000</td>\n",
       "    </tr>\n",
       "    <tr>\n",
       "      <th>1</th>\n",
       "      <td>monroe</td>\n",
       "      <td>3000</td>\n",
       "      <td>565000</td>\n",
       "    </tr>\n",
       "    <tr>\n",
       "      <th>2</th>\n",
       "      <td>monroe</td>\n",
       "      <td>3200</td>\n",
       "      <td>610000</td>\n",
       "    </tr>\n",
       "    <tr>\n",
       "      <th>3</th>\n",
       "      <td>monroe</td>\n",
       "      <td>3600</td>\n",
       "      <td>680000</td>\n",
       "    </tr>\n",
       "    <tr>\n",
       "      <th>4</th>\n",
       "      <td>monroe</td>\n",
       "      <td>4000</td>\n",
       "      <td>725000</td>\n",
       "    </tr>\n",
       "    <tr>\n",
       "      <th>5</th>\n",
       "      <td>west windser</td>\n",
       "      <td>2600</td>\n",
       "      <td>585000</td>\n",
       "    </tr>\n",
       "    <tr>\n",
       "      <th>6</th>\n",
       "      <td>west windser</td>\n",
       "      <td>2800</td>\n",
       "      <td>615000</td>\n",
       "    </tr>\n",
       "    <tr>\n",
       "      <th>7</th>\n",
       "      <td>west windser</td>\n",
       "      <td>3300</td>\n",
       "      <td>650000</td>\n",
       "    </tr>\n",
       "    <tr>\n",
       "      <th>8</th>\n",
       "      <td>west windser</td>\n",
       "      <td>3600</td>\n",
       "      <td>710000</td>\n",
       "    </tr>\n",
       "    <tr>\n",
       "      <th>9</th>\n",
       "      <td>robinsville</td>\n",
       "      <td>2600</td>\n",
       "      <td>575000</td>\n",
       "    </tr>\n",
       "    <tr>\n",
       "      <th>10</th>\n",
       "      <td>robinsville</td>\n",
       "      <td>2900</td>\n",
       "      <td>600000</td>\n",
       "    </tr>\n",
       "    <tr>\n",
       "      <th>11</th>\n",
       "      <td>robinsville</td>\n",
       "      <td>3100</td>\n",
       "      <td>620000</td>\n",
       "    </tr>\n",
       "    <tr>\n",
       "      <th>12</th>\n",
       "      <td>robinsville</td>\n",
       "      <td>3600</td>\n",
       "      <td>695000</td>\n",
       "    </tr>\n",
       "  </tbody>\n",
       "</table>\n",
       "</div>"
      ],
      "text/plain": [
       "            town  area   price\n",
       "0         monroe  2600  650000\n",
       "1         monroe  3000  565000\n",
       "2         monroe  3200  610000\n",
       "3         monroe  3600  680000\n",
       "4         monroe  4000  725000\n",
       "5   west windser  2600  585000\n",
       "6   west windser  2800  615000\n",
       "7   west windser  3300  650000\n",
       "8   west windser  3600  710000\n",
       "9    robinsville  2600  575000\n",
       "10   robinsville  2900  600000\n",
       "11   robinsville  3100  620000\n",
       "12   robinsville  3600  695000"
      ]
     },
     "execution_count": 3,
     "metadata": {},
     "output_type": "execute_result"
    }
   ],
   "source": [
    "df=pd.read_csv('Hometown.csv')\n",
    "df"
   ]
  },
  {
   "cell_type": "code",
   "execution_count": 4,
   "id": "72075425",
   "metadata": {},
   "outputs": [
    {
     "data": {
      "text/html": [
       "<div>\n",
       "<style scoped>\n",
       "    .dataframe tbody tr th:only-of-type {\n",
       "        vertical-align: middle;\n",
       "    }\n",
       "\n",
       "    .dataframe tbody tr th {\n",
       "        vertical-align: top;\n",
       "    }\n",
       "\n",
       "    .dataframe thead th {\n",
       "        text-align: right;\n",
       "    }\n",
       "</style>\n",
       "<table border=\"1\" class=\"dataframe\">\n",
       "  <thead>\n",
       "    <tr style=\"text-align: right;\">\n",
       "      <th></th>\n",
       "      <th>monroe</th>\n",
       "      <th>robinsville</th>\n",
       "      <th>west windser</th>\n",
       "    </tr>\n",
       "  </thead>\n",
       "  <tbody>\n",
       "    <tr>\n",
       "      <th>0</th>\n",
       "      <td>1</td>\n",
       "      <td>0</td>\n",
       "      <td>0</td>\n",
       "    </tr>\n",
       "    <tr>\n",
       "      <th>1</th>\n",
       "      <td>1</td>\n",
       "      <td>0</td>\n",
       "      <td>0</td>\n",
       "    </tr>\n",
       "    <tr>\n",
       "      <th>2</th>\n",
       "      <td>1</td>\n",
       "      <td>0</td>\n",
       "      <td>0</td>\n",
       "    </tr>\n",
       "    <tr>\n",
       "      <th>3</th>\n",
       "      <td>1</td>\n",
       "      <td>0</td>\n",
       "      <td>0</td>\n",
       "    </tr>\n",
       "    <tr>\n",
       "      <th>4</th>\n",
       "      <td>1</td>\n",
       "      <td>0</td>\n",
       "      <td>0</td>\n",
       "    </tr>\n",
       "    <tr>\n",
       "      <th>5</th>\n",
       "      <td>0</td>\n",
       "      <td>0</td>\n",
       "      <td>1</td>\n",
       "    </tr>\n",
       "    <tr>\n",
       "      <th>6</th>\n",
       "      <td>0</td>\n",
       "      <td>0</td>\n",
       "      <td>1</td>\n",
       "    </tr>\n",
       "    <tr>\n",
       "      <th>7</th>\n",
       "      <td>0</td>\n",
       "      <td>0</td>\n",
       "      <td>1</td>\n",
       "    </tr>\n",
       "    <tr>\n",
       "      <th>8</th>\n",
       "      <td>0</td>\n",
       "      <td>0</td>\n",
       "      <td>1</td>\n",
       "    </tr>\n",
       "    <tr>\n",
       "      <th>9</th>\n",
       "      <td>0</td>\n",
       "      <td>1</td>\n",
       "      <td>0</td>\n",
       "    </tr>\n",
       "    <tr>\n",
       "      <th>10</th>\n",
       "      <td>0</td>\n",
       "      <td>1</td>\n",
       "      <td>0</td>\n",
       "    </tr>\n",
       "    <tr>\n",
       "      <th>11</th>\n",
       "      <td>0</td>\n",
       "      <td>1</td>\n",
       "      <td>0</td>\n",
       "    </tr>\n",
       "    <tr>\n",
       "      <th>12</th>\n",
       "      <td>0</td>\n",
       "      <td>1</td>\n",
       "      <td>0</td>\n",
       "    </tr>\n",
       "  </tbody>\n",
       "</table>\n",
       "</div>"
      ],
      "text/plain": [
       "    monroe  robinsville  west windser\n",
       "0        1            0             0\n",
       "1        1            0             0\n",
       "2        1            0             0\n",
       "3        1            0             0\n",
       "4        1            0             0\n",
       "5        0            0             1\n",
       "6        0            0             1\n",
       "7        0            0             1\n",
       "8        0            0             1\n",
       "9        0            1             0\n",
       "10       0            1             0\n",
       "11       0            1             0\n",
       "12       0            1             0"
      ]
     },
     "execution_count": 4,
     "metadata": {},
     "output_type": "execute_result"
    }
   ],
   "source": [
    "dummies=pd.get_dummies(df.town)\n",
    "dummies\n"
   ]
  },
  {
   "cell_type": "code",
   "execution_count": 5,
   "id": "66ba07c7",
   "metadata": {},
   "outputs": [
    {
     "data": {
      "text/html": [
       "<div>\n",
       "<style scoped>\n",
       "    .dataframe tbody tr th:only-of-type {\n",
       "        vertical-align: middle;\n",
       "    }\n",
       "\n",
       "    .dataframe tbody tr th {\n",
       "        vertical-align: top;\n",
       "    }\n",
       "\n",
       "    .dataframe thead th {\n",
       "        text-align: right;\n",
       "    }\n",
       "</style>\n",
       "<table border=\"1\" class=\"dataframe\">\n",
       "  <thead>\n",
       "    <tr style=\"text-align: right;\">\n",
       "      <th></th>\n",
       "      <th>town</th>\n",
       "      <th>area</th>\n",
       "      <th>price</th>\n",
       "      <th>monroe</th>\n",
       "      <th>robinsville</th>\n",
       "      <th>west windser</th>\n",
       "    </tr>\n",
       "  </thead>\n",
       "  <tbody>\n",
       "    <tr>\n",
       "      <th>0</th>\n",
       "      <td>monroe</td>\n",
       "      <td>2600</td>\n",
       "      <td>650000</td>\n",
       "      <td>1</td>\n",
       "      <td>0</td>\n",
       "      <td>0</td>\n",
       "    </tr>\n",
       "    <tr>\n",
       "      <th>1</th>\n",
       "      <td>monroe</td>\n",
       "      <td>3000</td>\n",
       "      <td>565000</td>\n",
       "      <td>1</td>\n",
       "      <td>0</td>\n",
       "      <td>0</td>\n",
       "    </tr>\n",
       "    <tr>\n",
       "      <th>2</th>\n",
       "      <td>monroe</td>\n",
       "      <td>3200</td>\n",
       "      <td>610000</td>\n",
       "      <td>1</td>\n",
       "      <td>0</td>\n",
       "      <td>0</td>\n",
       "    </tr>\n",
       "    <tr>\n",
       "      <th>3</th>\n",
       "      <td>monroe</td>\n",
       "      <td>3600</td>\n",
       "      <td>680000</td>\n",
       "      <td>1</td>\n",
       "      <td>0</td>\n",
       "      <td>0</td>\n",
       "    </tr>\n",
       "    <tr>\n",
       "      <th>4</th>\n",
       "      <td>monroe</td>\n",
       "      <td>4000</td>\n",
       "      <td>725000</td>\n",
       "      <td>1</td>\n",
       "      <td>0</td>\n",
       "      <td>0</td>\n",
       "    </tr>\n",
       "    <tr>\n",
       "      <th>5</th>\n",
       "      <td>west windser</td>\n",
       "      <td>2600</td>\n",
       "      <td>585000</td>\n",
       "      <td>0</td>\n",
       "      <td>0</td>\n",
       "      <td>1</td>\n",
       "    </tr>\n",
       "    <tr>\n",
       "      <th>6</th>\n",
       "      <td>west windser</td>\n",
       "      <td>2800</td>\n",
       "      <td>615000</td>\n",
       "      <td>0</td>\n",
       "      <td>0</td>\n",
       "      <td>1</td>\n",
       "    </tr>\n",
       "    <tr>\n",
       "      <th>7</th>\n",
       "      <td>west windser</td>\n",
       "      <td>3300</td>\n",
       "      <td>650000</td>\n",
       "      <td>0</td>\n",
       "      <td>0</td>\n",
       "      <td>1</td>\n",
       "    </tr>\n",
       "    <tr>\n",
       "      <th>8</th>\n",
       "      <td>west windser</td>\n",
       "      <td>3600</td>\n",
       "      <td>710000</td>\n",
       "      <td>0</td>\n",
       "      <td>0</td>\n",
       "      <td>1</td>\n",
       "    </tr>\n",
       "    <tr>\n",
       "      <th>9</th>\n",
       "      <td>robinsville</td>\n",
       "      <td>2600</td>\n",
       "      <td>575000</td>\n",
       "      <td>0</td>\n",
       "      <td>1</td>\n",
       "      <td>0</td>\n",
       "    </tr>\n",
       "    <tr>\n",
       "      <th>10</th>\n",
       "      <td>robinsville</td>\n",
       "      <td>2900</td>\n",
       "      <td>600000</td>\n",
       "      <td>0</td>\n",
       "      <td>1</td>\n",
       "      <td>0</td>\n",
       "    </tr>\n",
       "    <tr>\n",
       "      <th>11</th>\n",
       "      <td>robinsville</td>\n",
       "      <td>3100</td>\n",
       "      <td>620000</td>\n",
       "      <td>0</td>\n",
       "      <td>1</td>\n",
       "      <td>0</td>\n",
       "    </tr>\n",
       "    <tr>\n",
       "      <th>12</th>\n",
       "      <td>robinsville</td>\n",
       "      <td>3600</td>\n",
       "      <td>695000</td>\n",
       "      <td>0</td>\n",
       "      <td>1</td>\n",
       "      <td>0</td>\n",
       "    </tr>\n",
       "  </tbody>\n",
       "</table>\n",
       "</div>"
      ],
      "text/plain": [
       "            town  area   price  monroe  robinsville  west windser\n",
       "0         monroe  2600  650000       1            0             0\n",
       "1         monroe  3000  565000       1            0             0\n",
       "2         monroe  3200  610000       1            0             0\n",
       "3         monroe  3600  680000       1            0             0\n",
       "4         monroe  4000  725000       1            0             0\n",
       "5   west windser  2600  585000       0            0             1\n",
       "6   west windser  2800  615000       0            0             1\n",
       "7   west windser  3300  650000       0            0             1\n",
       "8   west windser  3600  710000       0            0             1\n",
       "9    robinsville  2600  575000       0            1             0\n",
       "10   robinsville  2900  600000       0            1             0\n",
       "11   robinsville  3100  620000       0            1             0\n",
       "12   robinsville  3600  695000       0            1             0"
      ]
     },
     "execution_count": 5,
     "metadata": {},
     "output_type": "execute_result"
    }
   ],
   "source": [
    "merged=pd.concat([df,dummies],axis='columns')\n",
    "merged"
   ]
  },
  {
   "cell_type": "code",
   "execution_count": 6,
   "id": "acc48577",
   "metadata": {},
   "outputs": [
    {
     "data": {
      "text/html": [
       "<div>\n",
       "<style scoped>\n",
       "    .dataframe tbody tr th:only-of-type {\n",
       "        vertical-align: middle;\n",
       "    }\n",
       "\n",
       "    .dataframe tbody tr th {\n",
       "        vertical-align: top;\n",
       "    }\n",
       "\n",
       "    .dataframe thead th {\n",
       "        text-align: right;\n",
       "    }\n",
       "</style>\n",
       "<table border=\"1\" class=\"dataframe\">\n",
       "  <thead>\n",
       "    <tr style=\"text-align: right;\">\n",
       "      <th></th>\n",
       "      <th>area</th>\n",
       "      <th>price</th>\n",
       "      <th>monroe</th>\n",
       "      <th>robinsville</th>\n",
       "    </tr>\n",
       "  </thead>\n",
       "  <tbody>\n",
       "    <tr>\n",
       "      <th>0</th>\n",
       "      <td>2600</td>\n",
       "      <td>650000</td>\n",
       "      <td>1</td>\n",
       "      <td>0</td>\n",
       "    </tr>\n",
       "    <tr>\n",
       "      <th>1</th>\n",
       "      <td>3000</td>\n",
       "      <td>565000</td>\n",
       "      <td>1</td>\n",
       "      <td>0</td>\n",
       "    </tr>\n",
       "    <tr>\n",
       "      <th>2</th>\n",
       "      <td>3200</td>\n",
       "      <td>610000</td>\n",
       "      <td>1</td>\n",
       "      <td>0</td>\n",
       "    </tr>\n",
       "    <tr>\n",
       "      <th>3</th>\n",
       "      <td>3600</td>\n",
       "      <td>680000</td>\n",
       "      <td>1</td>\n",
       "      <td>0</td>\n",
       "    </tr>\n",
       "    <tr>\n",
       "      <th>4</th>\n",
       "      <td>4000</td>\n",
       "      <td>725000</td>\n",
       "      <td>1</td>\n",
       "      <td>0</td>\n",
       "    </tr>\n",
       "    <tr>\n",
       "      <th>5</th>\n",
       "      <td>2600</td>\n",
       "      <td>585000</td>\n",
       "      <td>0</td>\n",
       "      <td>0</td>\n",
       "    </tr>\n",
       "    <tr>\n",
       "      <th>6</th>\n",
       "      <td>2800</td>\n",
       "      <td>615000</td>\n",
       "      <td>0</td>\n",
       "      <td>0</td>\n",
       "    </tr>\n",
       "    <tr>\n",
       "      <th>7</th>\n",
       "      <td>3300</td>\n",
       "      <td>650000</td>\n",
       "      <td>0</td>\n",
       "      <td>0</td>\n",
       "    </tr>\n",
       "    <tr>\n",
       "      <th>8</th>\n",
       "      <td>3600</td>\n",
       "      <td>710000</td>\n",
       "      <td>0</td>\n",
       "      <td>0</td>\n",
       "    </tr>\n",
       "    <tr>\n",
       "      <th>9</th>\n",
       "      <td>2600</td>\n",
       "      <td>575000</td>\n",
       "      <td>0</td>\n",
       "      <td>1</td>\n",
       "    </tr>\n",
       "    <tr>\n",
       "      <th>10</th>\n",
       "      <td>2900</td>\n",
       "      <td>600000</td>\n",
       "      <td>0</td>\n",
       "      <td>1</td>\n",
       "    </tr>\n",
       "    <tr>\n",
       "      <th>11</th>\n",
       "      <td>3100</td>\n",
       "      <td>620000</td>\n",
       "      <td>0</td>\n",
       "      <td>1</td>\n",
       "    </tr>\n",
       "    <tr>\n",
       "      <th>12</th>\n",
       "      <td>3600</td>\n",
       "      <td>695000</td>\n",
       "      <td>0</td>\n",
       "      <td>1</td>\n",
       "    </tr>\n",
       "  </tbody>\n",
       "</table>\n",
       "</div>"
      ],
      "text/plain": [
       "    area   price  monroe  robinsville\n",
       "0   2600  650000       1            0\n",
       "1   3000  565000       1            0\n",
       "2   3200  610000       1            0\n",
       "3   3600  680000       1            0\n",
       "4   4000  725000       1            0\n",
       "5   2600  585000       0            0\n",
       "6   2800  615000       0            0\n",
       "7   3300  650000       0            0\n",
       "8   3600  710000       0            0\n",
       "9   2600  575000       0            1\n",
       "10  2900  600000       0            1\n",
       "11  3100  620000       0            1\n",
       "12  3600  695000       0            1"
      ]
     },
     "execution_count": 6,
     "metadata": {},
     "output_type": "execute_result"
    }
   ],
   "source": [
    "final=merged.drop(['town','west windser'],axis='columns')\n",
    "final"
   ]
  },
  {
   "cell_type": "code",
   "execution_count": 7,
   "id": "7f8dc19e",
   "metadata": {},
   "outputs": [],
   "source": [
    "from sklearn.linear_model import LinearRegression\n",
    "model=LinearRegression()"
   ]
  },
  {
   "cell_type": "code",
   "execution_count": 8,
   "id": "951dd5eb",
   "metadata": {},
   "outputs": [
    {
     "data": {
      "text/html": [
       "<div>\n",
       "<style scoped>\n",
       "    .dataframe tbody tr th:only-of-type {\n",
       "        vertical-align: middle;\n",
       "    }\n",
       "\n",
       "    .dataframe tbody tr th {\n",
       "        vertical-align: top;\n",
       "    }\n",
       "\n",
       "    .dataframe thead th {\n",
       "        text-align: right;\n",
       "    }\n",
       "</style>\n",
       "<table border=\"1\" class=\"dataframe\">\n",
       "  <thead>\n",
       "    <tr style=\"text-align: right;\">\n",
       "      <th></th>\n",
       "      <th>area</th>\n",
       "      <th>monroe</th>\n",
       "      <th>robinsville</th>\n",
       "    </tr>\n",
       "  </thead>\n",
       "  <tbody>\n",
       "    <tr>\n",
       "      <th>0</th>\n",
       "      <td>2600</td>\n",
       "      <td>1</td>\n",
       "      <td>0</td>\n",
       "    </tr>\n",
       "    <tr>\n",
       "      <th>1</th>\n",
       "      <td>3000</td>\n",
       "      <td>1</td>\n",
       "      <td>0</td>\n",
       "    </tr>\n",
       "    <tr>\n",
       "      <th>2</th>\n",
       "      <td>3200</td>\n",
       "      <td>1</td>\n",
       "      <td>0</td>\n",
       "    </tr>\n",
       "    <tr>\n",
       "      <th>3</th>\n",
       "      <td>3600</td>\n",
       "      <td>1</td>\n",
       "      <td>0</td>\n",
       "    </tr>\n",
       "    <tr>\n",
       "      <th>4</th>\n",
       "      <td>4000</td>\n",
       "      <td>1</td>\n",
       "      <td>0</td>\n",
       "    </tr>\n",
       "    <tr>\n",
       "      <th>5</th>\n",
       "      <td>2600</td>\n",
       "      <td>0</td>\n",
       "      <td>0</td>\n",
       "    </tr>\n",
       "    <tr>\n",
       "      <th>6</th>\n",
       "      <td>2800</td>\n",
       "      <td>0</td>\n",
       "      <td>0</td>\n",
       "    </tr>\n",
       "    <tr>\n",
       "      <th>7</th>\n",
       "      <td>3300</td>\n",
       "      <td>0</td>\n",
       "      <td>0</td>\n",
       "    </tr>\n",
       "    <tr>\n",
       "      <th>8</th>\n",
       "      <td>3600</td>\n",
       "      <td>0</td>\n",
       "      <td>0</td>\n",
       "    </tr>\n",
       "    <tr>\n",
       "      <th>9</th>\n",
       "      <td>2600</td>\n",
       "      <td>0</td>\n",
       "      <td>1</td>\n",
       "    </tr>\n",
       "    <tr>\n",
       "      <th>10</th>\n",
       "      <td>2900</td>\n",
       "      <td>0</td>\n",
       "      <td>1</td>\n",
       "    </tr>\n",
       "    <tr>\n",
       "      <th>11</th>\n",
       "      <td>3100</td>\n",
       "      <td>0</td>\n",
       "      <td>1</td>\n",
       "    </tr>\n",
       "    <tr>\n",
       "      <th>12</th>\n",
       "      <td>3600</td>\n",
       "      <td>0</td>\n",
       "      <td>1</td>\n",
       "    </tr>\n",
       "  </tbody>\n",
       "</table>\n",
       "</div>"
      ],
      "text/plain": [
       "    area  monroe  robinsville\n",
       "0   2600       1            0\n",
       "1   3000       1            0\n",
       "2   3200       1            0\n",
       "3   3600       1            0\n",
       "4   4000       1            0\n",
       "5   2600       0            0\n",
       "6   2800       0            0\n",
       "7   3300       0            0\n",
       "8   3600       0            0\n",
       "9   2600       0            1\n",
       "10  2900       0            1\n",
       "11  3100       0            1\n",
       "12  3600       0            1"
      ]
     },
     "execution_count": 8,
     "metadata": {},
     "output_type": "execute_result"
    }
   ],
   "source": [
    "X=final.drop('price',axis='columns')\n",
    "X"
   ]
  },
  {
   "cell_type": "code",
   "execution_count": 9,
   "id": "d3150174",
   "metadata": {},
   "outputs": [
    {
     "data": {
      "text/plain": [
       "0     650000\n",
       "1     565000\n",
       "2     610000\n",
       "3     680000\n",
       "4     725000\n",
       "5     585000\n",
       "6     615000\n",
       "7     650000\n",
       "8     710000\n",
       "9     575000\n",
       "10    600000\n",
       "11    620000\n",
       "12    695000\n",
       "Name: price, dtype: int64"
      ]
     },
     "execution_count": 9,
     "metadata": {},
     "output_type": "execute_result"
    }
   ],
   "source": [
    "Y=final.price\n",
    "Y"
   ]
  },
  {
   "cell_type": "code",
   "execution_count": 10,
   "id": "82a3ce8f",
   "metadata": {},
   "outputs": [
    {
     "data": {
      "text/plain": [
       "LinearRegression()"
      ]
     },
     "execution_count": 10,
     "metadata": {},
     "output_type": "execute_result"
    }
   ],
   "source": [
    "model.fit(X,Y)"
   ]
  },
  {
   "cell_type": "code",
   "execution_count": 11,
   "id": "1f82ccff",
   "metadata": {},
   "outputs": [
    {
     "data": {
      "text/plain": [
       "array([598085.89550634])"
      ]
     },
     "execution_count": 11,
     "metadata": {},
     "output_type": "execute_result"
    }
   ],
   "source": [
    "model.predict([[2800,0,1]])"
   ]
  },
  {
   "cell_type": "code",
   "execution_count": 12,
   "id": "281abfbc",
   "metadata": {},
   "outputs": [
    {
     "data": {
      "text/plain": [
       "array([853031.60610621])"
      ]
     },
     "execution_count": 12,
     "metadata": {},
     "output_type": "execute_result"
    }
   ],
   "source": [
    "model.predict([[5400,1,0]])"
   ]
  },
  {
   "cell_type": "code",
   "execution_count": 13,
   "id": "3eaa3206",
   "metadata": {},
   "outputs": [
    {
     "data": {
      "text/plain": [
       "0.7060447801516323"
      ]
     },
     "execution_count": 13,
     "metadata": {},
     "output_type": "execute_result"
    }
   ],
   "source": [
    "model.score(X,Y)"
   ]
  },
  {
   "cell_type": "code",
   "execution_count": 19,
   "id": "0e5ddc77",
   "metadata": {},
   "outputs": [],
   "source": [
    "from sklearn.preprocessing import LabelEncoder\n",
    "le=LabelEncoder()"
   ]
  },
  {
   "cell_type": "code",
   "execution_count": 21,
   "id": "2ac12ba0",
   "metadata": {},
   "outputs": [
    {
     "data": {
      "text/html": [
       "<div>\n",
       "<style scoped>\n",
       "    .dataframe tbody tr th:only-of-type {\n",
       "        vertical-align: middle;\n",
       "    }\n",
       "\n",
       "    .dataframe tbody tr th {\n",
       "        vertical-align: top;\n",
       "    }\n",
       "\n",
       "    .dataframe thead th {\n",
       "        text-align: right;\n",
       "    }\n",
       "</style>\n",
       "<table border=\"1\" class=\"dataframe\">\n",
       "  <thead>\n",
       "    <tr style=\"text-align: right;\">\n",
       "      <th></th>\n",
       "      <th>town</th>\n",
       "      <th>area</th>\n",
       "      <th>price</th>\n",
       "    </tr>\n",
       "  </thead>\n",
       "  <tbody>\n",
       "    <tr>\n",
       "      <th>0</th>\n",
       "      <td>0</td>\n",
       "      <td>2600</td>\n",
       "      <td>650000</td>\n",
       "    </tr>\n",
       "    <tr>\n",
       "      <th>1</th>\n",
       "      <td>0</td>\n",
       "      <td>3000</td>\n",
       "      <td>565000</td>\n",
       "    </tr>\n",
       "    <tr>\n",
       "      <th>2</th>\n",
       "      <td>0</td>\n",
       "      <td>3200</td>\n",
       "      <td>610000</td>\n",
       "    </tr>\n",
       "    <tr>\n",
       "      <th>3</th>\n",
       "      <td>0</td>\n",
       "      <td>3600</td>\n",
       "      <td>680000</td>\n",
       "    </tr>\n",
       "    <tr>\n",
       "      <th>4</th>\n",
       "      <td>0</td>\n",
       "      <td>4000</td>\n",
       "      <td>725000</td>\n",
       "    </tr>\n",
       "    <tr>\n",
       "      <th>5</th>\n",
       "      <td>2</td>\n",
       "      <td>2600</td>\n",
       "      <td>585000</td>\n",
       "    </tr>\n",
       "    <tr>\n",
       "      <th>6</th>\n",
       "      <td>2</td>\n",
       "      <td>2800</td>\n",
       "      <td>615000</td>\n",
       "    </tr>\n",
       "    <tr>\n",
       "      <th>7</th>\n",
       "      <td>2</td>\n",
       "      <td>3300</td>\n",
       "      <td>650000</td>\n",
       "    </tr>\n",
       "    <tr>\n",
       "      <th>8</th>\n",
       "      <td>2</td>\n",
       "      <td>3600</td>\n",
       "      <td>710000</td>\n",
       "    </tr>\n",
       "    <tr>\n",
       "      <th>9</th>\n",
       "      <td>1</td>\n",
       "      <td>2600</td>\n",
       "      <td>575000</td>\n",
       "    </tr>\n",
       "    <tr>\n",
       "      <th>10</th>\n",
       "      <td>1</td>\n",
       "      <td>2900</td>\n",
       "      <td>600000</td>\n",
       "    </tr>\n",
       "    <tr>\n",
       "      <th>11</th>\n",
       "      <td>1</td>\n",
       "      <td>3100</td>\n",
       "      <td>620000</td>\n",
       "    </tr>\n",
       "    <tr>\n",
       "      <th>12</th>\n",
       "      <td>1</td>\n",
       "      <td>3600</td>\n",
       "      <td>695000</td>\n",
       "    </tr>\n",
       "  </tbody>\n",
       "</table>\n",
       "</div>"
      ],
      "text/plain": [
       "    town  area   price\n",
       "0      0  2600  650000\n",
       "1      0  3000  565000\n",
       "2      0  3200  610000\n",
       "3      0  3600  680000\n",
       "4      0  4000  725000\n",
       "5      2  2600  585000\n",
       "6      2  2800  615000\n",
       "7      2  3300  650000\n",
       "8      2  3600  710000\n",
       "9      1  2600  575000\n",
       "10     1  2900  600000\n",
       "11     1  3100  620000\n",
       "12     1  3600  695000"
      ]
     },
     "execution_count": 21,
     "metadata": {},
     "output_type": "execute_result"
    }
   ],
   "source": [
    "dfle=df\n",
    "dfle.town=le.fit_transform(dfle.town)\n",
    "dfle"
   ]
  },
  {
   "cell_type": "code",
   "execution_count": 23,
   "id": "bb04ce18",
   "metadata": {},
   "outputs": [],
   "source": [
    "X=df[['town','area']].values"
   ]
  },
  {
   "cell_type": "code",
   "execution_count": 25,
   "id": "17b93caf",
   "metadata": {},
   "outputs": [
    {
     "data": {
      "text/plain": [
       "0     650000\n",
       "1     565000\n",
       "2     610000\n",
       "3     680000\n",
       "4     725000\n",
       "5     585000\n",
       "6     615000\n",
       "7     650000\n",
       "8     710000\n",
       "9     575000\n",
       "10    600000\n",
       "11    620000\n",
       "12    695000\n",
       "Name: price, dtype: int64"
      ]
     },
     "execution_count": 25,
     "metadata": {},
     "output_type": "execute_result"
    }
   ],
   "source": [
    "Y=df.price\n",
    "Y"
   ]
  },
  {
   "cell_type": "code",
   "execution_count": 78,
   "id": "762cc054",
   "metadata": {},
   "outputs": [],
   "source": [
    "import pandas as pd\n",
    "import numpy as np\n",
    "import matplotlib.pyplot as plt\n",
    "from sklearn import linear_model"
   ]
  },
  {
   "cell_type": "code",
   "execution_count": 79,
   "id": "cb9780ae",
   "metadata": {},
   "outputs": [
    {
     "data": {
      "text/html": [
       "<div>\n",
       "<style scoped>\n",
       "    .dataframe tbody tr th:only-of-type {\n",
       "        vertical-align: middle;\n",
       "    }\n",
       "\n",
       "    .dataframe tbody tr th {\n",
       "        vertical-align: top;\n",
       "    }\n",
       "\n",
       "    .dataframe thead th {\n",
       "        text-align: right;\n",
       "    }\n",
       "</style>\n",
       "<table border=\"1\" class=\"dataframe\">\n",
       "  <thead>\n",
       "    <tr style=\"text-align: right;\">\n",
       "      <th></th>\n",
       "      <th>CarModel</th>\n",
       "      <th>Mileage</th>\n",
       "      <th>Price</th>\n",
       "      <th>Age</th>\n",
       "    </tr>\n",
       "  </thead>\n",
       "  <tbody>\n",
       "    <tr>\n",
       "      <th>0</th>\n",
       "      <td>BMW x5</td>\n",
       "      <td>69000</td>\n",
       "      <td>18000</td>\n",
       "      <td>6</td>\n",
       "    </tr>\n",
       "    <tr>\n",
       "      <th>1</th>\n",
       "      <td>BMW x5</td>\n",
       "      <td>35000</td>\n",
       "      <td>34000</td>\n",
       "      <td>3</td>\n",
       "    </tr>\n",
       "    <tr>\n",
       "      <th>2</th>\n",
       "      <td>BMW x5</td>\n",
       "      <td>57000</td>\n",
       "      <td>26100</td>\n",
       "      <td>5</td>\n",
       "    </tr>\n",
       "    <tr>\n",
       "      <th>3</th>\n",
       "      <td>BMW x5</td>\n",
       "      <td>22500</td>\n",
       "      <td>40000</td>\n",
       "      <td>2</td>\n",
       "    </tr>\n",
       "    <tr>\n",
       "      <th>4</th>\n",
       "      <td>BMW x5</td>\n",
       "      <td>46000</td>\n",
       "      <td>31500</td>\n",
       "      <td>4</td>\n",
       "    </tr>\n",
       "    <tr>\n",
       "      <th>5</th>\n",
       "      <td>Audi AS</td>\n",
       "      <td>59000</td>\n",
       "      <td>29400</td>\n",
       "      <td>5</td>\n",
       "    </tr>\n",
       "    <tr>\n",
       "      <th>6</th>\n",
       "      <td>Audi AS</td>\n",
       "      <td>52000</td>\n",
       "      <td>32000</td>\n",
       "      <td>5</td>\n",
       "    </tr>\n",
       "    <tr>\n",
       "      <th>7</th>\n",
       "      <td>Audi AS</td>\n",
       "      <td>72000</td>\n",
       "      <td>19300</td>\n",
       "      <td>6</td>\n",
       "    </tr>\n",
       "    <tr>\n",
       "      <th>8</th>\n",
       "      <td>Audi AS</td>\n",
       "      <td>91000</td>\n",
       "      <td>12000</td>\n",
       "      <td>8</td>\n",
       "    </tr>\n",
       "    <tr>\n",
       "      <th>9</th>\n",
       "      <td>Mercedez</td>\n",
       "      <td>67000</td>\n",
       "      <td>22000</td>\n",
       "      <td>6</td>\n",
       "    </tr>\n",
       "    <tr>\n",
       "      <th>10</th>\n",
       "      <td>Mercedez</td>\n",
       "      <td>83000</td>\n",
       "      <td>20000</td>\n",
       "      <td>7</td>\n",
       "    </tr>\n",
       "    <tr>\n",
       "      <th>11</th>\n",
       "      <td>Mercedez</td>\n",
       "      <td>79000</td>\n",
       "      <td>21000</td>\n",
       "      <td>7</td>\n",
       "    </tr>\n",
       "    <tr>\n",
       "      <th>12</th>\n",
       "      <td>Mercedez</td>\n",
       "      <td>50000</td>\n",
       "      <td>23000</td>\n",
       "      <td>5</td>\n",
       "    </tr>\n",
       "  </tbody>\n",
       "</table>\n",
       "</div>"
      ],
      "text/plain": [
       "    CarModel  Mileage  Price  Age\n",
       "0     BMW x5    69000  18000    6\n",
       "1     BMW x5    35000  34000    3\n",
       "2     BMW x5    57000  26100    5\n",
       "3     BMW x5    22500  40000    2\n",
       "4     BMW x5    46000  31500    4\n",
       "5    Audi AS    59000  29400    5\n",
       "6    Audi AS    52000  32000    5\n",
       "7    Audi AS    72000  19300    6\n",
       "8    Audi AS    91000  12000    8\n",
       "9   Mercedez    67000  22000    6\n",
       "10  Mercedez    83000  20000    7\n",
       "11  Mercedez    79000  21000    7\n",
       "12  Mercedez    50000  23000    5"
      ]
     },
     "execution_count": 79,
     "metadata": {},
     "output_type": "execute_result"
    }
   ],
   "source": [
    "df=pd.read_csv('DummyVar.csv')\n",
    "df"
   ]
  },
  {
   "cell_type": "code",
   "execution_count": 80,
   "id": "b9def5bf",
   "metadata": {},
   "outputs": [
    {
     "data": {
      "text/html": [
       "<div>\n",
       "<style scoped>\n",
       "    .dataframe tbody tr th:only-of-type {\n",
       "        vertical-align: middle;\n",
       "    }\n",
       "\n",
       "    .dataframe tbody tr th {\n",
       "        vertical-align: top;\n",
       "    }\n",
       "\n",
       "    .dataframe thead th {\n",
       "        text-align: right;\n",
       "    }\n",
       "</style>\n",
       "<table border=\"1\" class=\"dataframe\">\n",
       "  <thead>\n",
       "    <tr style=\"text-align: right;\">\n",
       "      <th></th>\n",
       "      <th>Audi AS</th>\n",
       "      <th>BMW x5</th>\n",
       "      <th>Mercedez</th>\n",
       "    </tr>\n",
       "  </thead>\n",
       "  <tbody>\n",
       "    <tr>\n",
       "      <th>0</th>\n",
       "      <td>0</td>\n",
       "      <td>1</td>\n",
       "      <td>0</td>\n",
       "    </tr>\n",
       "    <tr>\n",
       "      <th>1</th>\n",
       "      <td>0</td>\n",
       "      <td>1</td>\n",
       "      <td>0</td>\n",
       "    </tr>\n",
       "    <tr>\n",
       "      <th>2</th>\n",
       "      <td>0</td>\n",
       "      <td>1</td>\n",
       "      <td>0</td>\n",
       "    </tr>\n",
       "    <tr>\n",
       "      <th>3</th>\n",
       "      <td>0</td>\n",
       "      <td>1</td>\n",
       "      <td>0</td>\n",
       "    </tr>\n",
       "    <tr>\n",
       "      <th>4</th>\n",
       "      <td>0</td>\n",
       "      <td>1</td>\n",
       "      <td>0</td>\n",
       "    </tr>\n",
       "    <tr>\n",
       "      <th>5</th>\n",
       "      <td>1</td>\n",
       "      <td>0</td>\n",
       "      <td>0</td>\n",
       "    </tr>\n",
       "    <tr>\n",
       "      <th>6</th>\n",
       "      <td>1</td>\n",
       "      <td>0</td>\n",
       "      <td>0</td>\n",
       "    </tr>\n",
       "    <tr>\n",
       "      <th>7</th>\n",
       "      <td>1</td>\n",
       "      <td>0</td>\n",
       "      <td>0</td>\n",
       "    </tr>\n",
       "    <tr>\n",
       "      <th>8</th>\n",
       "      <td>1</td>\n",
       "      <td>0</td>\n",
       "      <td>0</td>\n",
       "    </tr>\n",
       "    <tr>\n",
       "      <th>9</th>\n",
       "      <td>0</td>\n",
       "      <td>0</td>\n",
       "      <td>1</td>\n",
       "    </tr>\n",
       "    <tr>\n",
       "      <th>10</th>\n",
       "      <td>0</td>\n",
       "      <td>0</td>\n",
       "      <td>1</td>\n",
       "    </tr>\n",
       "    <tr>\n",
       "      <th>11</th>\n",
       "      <td>0</td>\n",
       "      <td>0</td>\n",
       "      <td>1</td>\n",
       "    </tr>\n",
       "    <tr>\n",
       "      <th>12</th>\n",
       "      <td>0</td>\n",
       "      <td>0</td>\n",
       "      <td>1</td>\n",
       "    </tr>\n",
       "  </tbody>\n",
       "</table>\n",
       "</div>"
      ],
      "text/plain": [
       "    Audi AS  BMW x5  Mercedez\n",
       "0         0       1         0\n",
       "1         0       1         0\n",
       "2         0       1         0\n",
       "3         0       1         0\n",
       "4         0       1         0\n",
       "5         1       0         0\n",
       "6         1       0         0\n",
       "7         1       0         0\n",
       "8         1       0         0\n",
       "9         0       0         1\n",
       "10        0       0         1\n",
       "11        0       0         1\n",
       "12        0       0         1"
      ]
     },
     "execution_count": 80,
     "metadata": {},
     "output_type": "execute_result"
    }
   ],
   "source": [
    "dummies=pd.get_dummies(df.CarModel)\n",
    "dummies"
   ]
  },
  {
   "cell_type": "code",
   "execution_count": 81,
   "id": "6f985306",
   "metadata": {},
   "outputs": [
    {
     "data": {
      "text/html": [
       "<div>\n",
       "<style scoped>\n",
       "    .dataframe tbody tr th:only-of-type {\n",
       "        vertical-align: middle;\n",
       "    }\n",
       "\n",
       "    .dataframe tbody tr th {\n",
       "        vertical-align: top;\n",
       "    }\n",
       "\n",
       "    .dataframe thead th {\n",
       "        text-align: right;\n",
       "    }\n",
       "</style>\n",
       "<table border=\"1\" class=\"dataframe\">\n",
       "  <thead>\n",
       "    <tr style=\"text-align: right;\">\n",
       "      <th></th>\n",
       "      <th>CarModel</th>\n",
       "      <th>Mileage</th>\n",
       "      <th>Price</th>\n",
       "      <th>Age</th>\n",
       "      <th>Audi AS</th>\n",
       "      <th>BMW x5</th>\n",
       "      <th>Mercedez</th>\n",
       "    </tr>\n",
       "  </thead>\n",
       "  <tbody>\n",
       "    <tr>\n",
       "      <th>0</th>\n",
       "      <td>BMW x5</td>\n",
       "      <td>69000</td>\n",
       "      <td>18000</td>\n",
       "      <td>6</td>\n",
       "      <td>0</td>\n",
       "      <td>1</td>\n",
       "      <td>0</td>\n",
       "    </tr>\n",
       "    <tr>\n",
       "      <th>1</th>\n",
       "      <td>BMW x5</td>\n",
       "      <td>35000</td>\n",
       "      <td>34000</td>\n",
       "      <td>3</td>\n",
       "      <td>0</td>\n",
       "      <td>1</td>\n",
       "      <td>0</td>\n",
       "    </tr>\n",
       "    <tr>\n",
       "      <th>2</th>\n",
       "      <td>BMW x5</td>\n",
       "      <td>57000</td>\n",
       "      <td>26100</td>\n",
       "      <td>5</td>\n",
       "      <td>0</td>\n",
       "      <td>1</td>\n",
       "      <td>0</td>\n",
       "    </tr>\n",
       "    <tr>\n",
       "      <th>3</th>\n",
       "      <td>BMW x5</td>\n",
       "      <td>22500</td>\n",
       "      <td>40000</td>\n",
       "      <td>2</td>\n",
       "      <td>0</td>\n",
       "      <td>1</td>\n",
       "      <td>0</td>\n",
       "    </tr>\n",
       "    <tr>\n",
       "      <th>4</th>\n",
       "      <td>BMW x5</td>\n",
       "      <td>46000</td>\n",
       "      <td>31500</td>\n",
       "      <td>4</td>\n",
       "      <td>0</td>\n",
       "      <td>1</td>\n",
       "      <td>0</td>\n",
       "    </tr>\n",
       "    <tr>\n",
       "      <th>5</th>\n",
       "      <td>Audi AS</td>\n",
       "      <td>59000</td>\n",
       "      <td>29400</td>\n",
       "      <td>5</td>\n",
       "      <td>1</td>\n",
       "      <td>0</td>\n",
       "      <td>0</td>\n",
       "    </tr>\n",
       "    <tr>\n",
       "      <th>6</th>\n",
       "      <td>Audi AS</td>\n",
       "      <td>52000</td>\n",
       "      <td>32000</td>\n",
       "      <td>5</td>\n",
       "      <td>1</td>\n",
       "      <td>0</td>\n",
       "      <td>0</td>\n",
       "    </tr>\n",
       "    <tr>\n",
       "      <th>7</th>\n",
       "      <td>Audi AS</td>\n",
       "      <td>72000</td>\n",
       "      <td>19300</td>\n",
       "      <td>6</td>\n",
       "      <td>1</td>\n",
       "      <td>0</td>\n",
       "      <td>0</td>\n",
       "    </tr>\n",
       "    <tr>\n",
       "      <th>8</th>\n",
       "      <td>Audi AS</td>\n",
       "      <td>91000</td>\n",
       "      <td>12000</td>\n",
       "      <td>8</td>\n",
       "      <td>1</td>\n",
       "      <td>0</td>\n",
       "      <td>0</td>\n",
       "    </tr>\n",
       "    <tr>\n",
       "      <th>9</th>\n",
       "      <td>Mercedez</td>\n",
       "      <td>67000</td>\n",
       "      <td>22000</td>\n",
       "      <td>6</td>\n",
       "      <td>0</td>\n",
       "      <td>0</td>\n",
       "      <td>1</td>\n",
       "    </tr>\n",
       "    <tr>\n",
       "      <th>10</th>\n",
       "      <td>Mercedez</td>\n",
       "      <td>83000</td>\n",
       "      <td>20000</td>\n",
       "      <td>7</td>\n",
       "      <td>0</td>\n",
       "      <td>0</td>\n",
       "      <td>1</td>\n",
       "    </tr>\n",
       "    <tr>\n",
       "      <th>11</th>\n",
       "      <td>Mercedez</td>\n",
       "      <td>79000</td>\n",
       "      <td>21000</td>\n",
       "      <td>7</td>\n",
       "      <td>0</td>\n",
       "      <td>0</td>\n",
       "      <td>1</td>\n",
       "    </tr>\n",
       "    <tr>\n",
       "      <th>12</th>\n",
       "      <td>Mercedez</td>\n",
       "      <td>50000</td>\n",
       "      <td>23000</td>\n",
       "      <td>5</td>\n",
       "      <td>0</td>\n",
       "      <td>0</td>\n",
       "      <td>1</td>\n",
       "    </tr>\n",
       "  </tbody>\n",
       "</table>\n",
       "</div>"
      ],
      "text/plain": [
       "    CarModel  Mileage  Price  Age  Audi AS  BMW x5  Mercedez\n",
       "0     BMW x5    69000  18000    6        0       1         0\n",
       "1     BMW x5    35000  34000    3        0       1         0\n",
       "2     BMW x5    57000  26100    5        0       1         0\n",
       "3     BMW x5    22500  40000    2        0       1         0\n",
       "4     BMW x5    46000  31500    4        0       1         0\n",
       "5    Audi AS    59000  29400    5        1       0         0\n",
       "6    Audi AS    52000  32000    5        1       0         0\n",
       "7    Audi AS    72000  19300    6        1       0         0\n",
       "8    Audi AS    91000  12000    8        1       0         0\n",
       "9   Mercedez    67000  22000    6        0       0         1\n",
       "10  Mercedez    83000  20000    7        0       0         1\n",
       "11  Mercedez    79000  21000    7        0       0         1\n",
       "12  Mercedez    50000  23000    5        0       0         1"
      ]
     },
     "execution_count": 81,
     "metadata": {},
     "output_type": "execute_result"
    }
   ],
   "source": [
    "merge=pd.concat([df,dummies],axis='columns')\n",
    "merge"
   ]
  },
  {
   "cell_type": "code",
   "execution_count": 82,
   "id": "12d386b7",
   "metadata": {},
   "outputs": [
    {
     "data": {
      "text/html": [
       "<div>\n",
       "<style scoped>\n",
       "    .dataframe tbody tr th:only-of-type {\n",
       "        vertical-align: middle;\n",
       "    }\n",
       "\n",
       "    .dataframe tbody tr th {\n",
       "        vertical-align: top;\n",
       "    }\n",
       "\n",
       "    .dataframe thead th {\n",
       "        text-align: right;\n",
       "    }\n",
       "</style>\n",
       "<table border=\"1\" class=\"dataframe\">\n",
       "  <thead>\n",
       "    <tr style=\"text-align: right;\">\n",
       "      <th></th>\n",
       "      <th>Mileage</th>\n",
       "      <th>Price</th>\n",
       "      <th>Age</th>\n",
       "      <th>Audi AS</th>\n",
       "      <th>BMW x5</th>\n",
       "    </tr>\n",
       "  </thead>\n",
       "  <tbody>\n",
       "    <tr>\n",
       "      <th>0</th>\n",
       "      <td>69000</td>\n",
       "      <td>18000</td>\n",
       "      <td>6</td>\n",
       "      <td>0</td>\n",
       "      <td>1</td>\n",
       "    </tr>\n",
       "    <tr>\n",
       "      <th>1</th>\n",
       "      <td>35000</td>\n",
       "      <td>34000</td>\n",
       "      <td>3</td>\n",
       "      <td>0</td>\n",
       "      <td>1</td>\n",
       "    </tr>\n",
       "    <tr>\n",
       "      <th>2</th>\n",
       "      <td>57000</td>\n",
       "      <td>26100</td>\n",
       "      <td>5</td>\n",
       "      <td>0</td>\n",
       "      <td>1</td>\n",
       "    </tr>\n",
       "    <tr>\n",
       "      <th>3</th>\n",
       "      <td>22500</td>\n",
       "      <td>40000</td>\n",
       "      <td>2</td>\n",
       "      <td>0</td>\n",
       "      <td>1</td>\n",
       "    </tr>\n",
       "    <tr>\n",
       "      <th>4</th>\n",
       "      <td>46000</td>\n",
       "      <td>31500</td>\n",
       "      <td>4</td>\n",
       "      <td>0</td>\n",
       "      <td>1</td>\n",
       "    </tr>\n",
       "    <tr>\n",
       "      <th>5</th>\n",
       "      <td>59000</td>\n",
       "      <td>29400</td>\n",
       "      <td>5</td>\n",
       "      <td>1</td>\n",
       "      <td>0</td>\n",
       "    </tr>\n",
       "    <tr>\n",
       "      <th>6</th>\n",
       "      <td>52000</td>\n",
       "      <td>32000</td>\n",
       "      <td>5</td>\n",
       "      <td>1</td>\n",
       "      <td>0</td>\n",
       "    </tr>\n",
       "    <tr>\n",
       "      <th>7</th>\n",
       "      <td>72000</td>\n",
       "      <td>19300</td>\n",
       "      <td>6</td>\n",
       "      <td>1</td>\n",
       "      <td>0</td>\n",
       "    </tr>\n",
       "    <tr>\n",
       "      <th>8</th>\n",
       "      <td>91000</td>\n",
       "      <td>12000</td>\n",
       "      <td>8</td>\n",
       "      <td>1</td>\n",
       "      <td>0</td>\n",
       "    </tr>\n",
       "    <tr>\n",
       "      <th>9</th>\n",
       "      <td>67000</td>\n",
       "      <td>22000</td>\n",
       "      <td>6</td>\n",
       "      <td>0</td>\n",
       "      <td>0</td>\n",
       "    </tr>\n",
       "    <tr>\n",
       "      <th>10</th>\n",
       "      <td>83000</td>\n",
       "      <td>20000</td>\n",
       "      <td>7</td>\n",
       "      <td>0</td>\n",
       "      <td>0</td>\n",
       "    </tr>\n",
       "    <tr>\n",
       "      <th>11</th>\n",
       "      <td>79000</td>\n",
       "      <td>21000</td>\n",
       "      <td>7</td>\n",
       "      <td>0</td>\n",
       "      <td>0</td>\n",
       "    </tr>\n",
       "    <tr>\n",
       "      <th>12</th>\n",
       "      <td>50000</td>\n",
       "      <td>23000</td>\n",
       "      <td>5</td>\n",
       "      <td>0</td>\n",
       "      <td>0</td>\n",
       "    </tr>\n",
       "  </tbody>\n",
       "</table>\n",
       "</div>"
      ],
      "text/plain": [
       "    Mileage  Price  Age  Audi AS  BMW x5\n",
       "0     69000  18000    6        0       1\n",
       "1     35000  34000    3        0       1\n",
       "2     57000  26100    5        0       1\n",
       "3     22500  40000    2        0       1\n",
       "4     46000  31500    4        0       1\n",
       "5     59000  29400    5        1       0\n",
       "6     52000  32000    5        1       0\n",
       "7     72000  19300    6        1       0\n",
       "8     91000  12000    8        1       0\n",
       "9     67000  22000    6        0       0\n",
       "10    83000  20000    7        0       0\n",
       "11    79000  21000    7        0       0\n",
       "12    50000  23000    5        0       0"
      ]
     },
     "execution_count": 82,
     "metadata": {},
     "output_type": "execute_result"
    }
   ],
   "source": [
    "final=merge.drop(['CarModel','Mercedez'],axis=\"columns\")\n",
    "final"
   ]
  },
  {
   "cell_type": "code",
   "execution_count": 83,
   "id": "530fd38f",
   "metadata": {},
   "outputs": [],
   "source": [
    "from sklearn.linear_model import LinearRegression"
   ]
  },
  {
   "cell_type": "code",
   "execution_count": 84,
   "id": "a623eba5",
   "metadata": {},
   "outputs": [],
   "source": [
    "model=LinearRegression()"
   ]
  },
  {
   "cell_type": "code",
   "execution_count": 85,
   "id": "6cf8b31d",
   "metadata": {},
   "outputs": [
    {
     "data": {
      "text/html": [
       "<div>\n",
       "<style scoped>\n",
       "    .dataframe tbody tr th:only-of-type {\n",
       "        vertical-align: middle;\n",
       "    }\n",
       "\n",
       "    .dataframe tbody tr th {\n",
       "        vertical-align: top;\n",
       "    }\n",
       "\n",
       "    .dataframe thead th {\n",
       "        text-align: right;\n",
       "    }\n",
       "</style>\n",
       "<table border=\"1\" class=\"dataframe\">\n",
       "  <thead>\n",
       "    <tr style=\"text-align: right;\">\n",
       "      <th></th>\n",
       "      <th>Mileage</th>\n",
       "      <th>Age</th>\n",
       "      <th>Audi AS</th>\n",
       "      <th>BMW x5</th>\n",
       "    </tr>\n",
       "  </thead>\n",
       "  <tbody>\n",
       "    <tr>\n",
       "      <th>0</th>\n",
       "      <td>69000</td>\n",
       "      <td>6</td>\n",
       "      <td>0</td>\n",
       "      <td>1</td>\n",
       "    </tr>\n",
       "    <tr>\n",
       "      <th>1</th>\n",
       "      <td>35000</td>\n",
       "      <td>3</td>\n",
       "      <td>0</td>\n",
       "      <td>1</td>\n",
       "    </tr>\n",
       "    <tr>\n",
       "      <th>2</th>\n",
       "      <td>57000</td>\n",
       "      <td>5</td>\n",
       "      <td>0</td>\n",
       "      <td>1</td>\n",
       "    </tr>\n",
       "    <tr>\n",
       "      <th>3</th>\n",
       "      <td>22500</td>\n",
       "      <td>2</td>\n",
       "      <td>0</td>\n",
       "      <td>1</td>\n",
       "    </tr>\n",
       "    <tr>\n",
       "      <th>4</th>\n",
       "      <td>46000</td>\n",
       "      <td>4</td>\n",
       "      <td>0</td>\n",
       "      <td>1</td>\n",
       "    </tr>\n",
       "    <tr>\n",
       "      <th>5</th>\n",
       "      <td>59000</td>\n",
       "      <td>5</td>\n",
       "      <td>1</td>\n",
       "      <td>0</td>\n",
       "    </tr>\n",
       "    <tr>\n",
       "      <th>6</th>\n",
       "      <td>52000</td>\n",
       "      <td>5</td>\n",
       "      <td>1</td>\n",
       "      <td>0</td>\n",
       "    </tr>\n",
       "    <tr>\n",
       "      <th>7</th>\n",
       "      <td>72000</td>\n",
       "      <td>6</td>\n",
       "      <td>1</td>\n",
       "      <td>0</td>\n",
       "    </tr>\n",
       "    <tr>\n",
       "      <th>8</th>\n",
       "      <td>91000</td>\n",
       "      <td>8</td>\n",
       "      <td>1</td>\n",
       "      <td>0</td>\n",
       "    </tr>\n",
       "    <tr>\n",
       "      <th>9</th>\n",
       "      <td>67000</td>\n",
       "      <td>6</td>\n",
       "      <td>0</td>\n",
       "      <td>0</td>\n",
       "    </tr>\n",
       "    <tr>\n",
       "      <th>10</th>\n",
       "      <td>83000</td>\n",
       "      <td>7</td>\n",
       "      <td>0</td>\n",
       "      <td>0</td>\n",
       "    </tr>\n",
       "    <tr>\n",
       "      <th>11</th>\n",
       "      <td>79000</td>\n",
       "      <td>7</td>\n",
       "      <td>0</td>\n",
       "      <td>0</td>\n",
       "    </tr>\n",
       "    <tr>\n",
       "      <th>12</th>\n",
       "      <td>50000</td>\n",
       "      <td>5</td>\n",
       "      <td>0</td>\n",
       "      <td>0</td>\n",
       "    </tr>\n",
       "  </tbody>\n",
       "</table>\n",
       "</div>"
      ],
      "text/plain": [
       "    Mileage  Age  Audi AS  BMW x5\n",
       "0     69000    6        0       1\n",
       "1     35000    3        0       1\n",
       "2     57000    5        0       1\n",
       "3     22500    2        0       1\n",
       "4     46000    4        0       1\n",
       "5     59000    5        1       0\n",
       "6     52000    5        1       0\n",
       "7     72000    6        1       0\n",
       "8     91000    8        1       0\n",
       "9     67000    6        0       0\n",
       "10    83000    7        0       0\n",
       "11    79000    7        0       0\n",
       "12    50000    5        0       0"
      ]
     },
     "execution_count": 85,
     "metadata": {},
     "output_type": "execute_result"
    }
   ],
   "source": [
    "X=final.drop('Price',axis=\"columns\")\n",
    "X"
   ]
  },
  {
   "cell_type": "code",
   "execution_count": 86,
   "id": "c4ac9c51",
   "metadata": {},
   "outputs": [
    {
     "data": {
      "text/plain": [
       "0     18000\n",
       "1     34000\n",
       "2     26100\n",
       "3     40000\n",
       "4     31500\n",
       "5     29400\n",
       "6     32000\n",
       "7     19300\n",
       "8     12000\n",
       "9     22000\n",
       "10    20000\n",
       "11    21000\n",
       "12    23000\n",
       "Name: Price, dtype: int64"
      ]
     },
     "execution_count": 86,
     "metadata": {},
     "output_type": "execute_result"
    }
   ],
   "source": [
    "Y=final.Price\n",
    "Y"
   ]
  },
  {
   "cell_type": "code",
   "execution_count": 87,
   "id": "c2b498a5",
   "metadata": {},
   "outputs": [
    {
     "data": {
      "text/plain": [
       "LinearRegression()"
      ]
     },
     "execution_count": 87,
     "metadata": {},
     "output_type": "execute_result"
    }
   ],
   "source": [
    "model.fit(X,Y)"
   ]
  },
  {
   "cell_type": "code",
   "execution_count": 88,
   "id": "6715a34f",
   "metadata": {},
   "outputs": [
    {
     "data": {
      "text/plain": [
       "array([32839.20366567])"
      ]
     },
     "execution_count": 88,
     "metadata": {},
     "output_type": "execute_result"
    }
   ],
   "source": [
    "model.predict([[45000,4,0,0]])"
   ]
  },
  {
   "cell_type": "code",
   "execution_count": 89,
   "id": "ece89375",
   "metadata": {},
   "outputs": [
    {
     "data": {
      "text/plain": [
       "array([18635.66598199])"
      ]
     },
     "execution_count": 89,
     "metadata": {},
     "output_type": "execute_result"
    }
   ],
   "source": [
    "model.predict([[86000,7,1,0]])"
   ]
  },
  {
   "cell_type": "code",
   "execution_count": 90,
   "id": "c3a15246",
   "metadata": {},
   "outputs": [
    {
     "data": {
      "text/plain": [
       "0.8902835036556835"
      ]
     },
     "execution_count": 90,
     "metadata": {},
     "output_type": "execute_result"
    }
   ],
   "source": [
    "model.score(X,Y)"
   ]
  },
  {
   "cell_type": "code",
   "execution_count": 93,
   "id": "6180f6ce",
   "metadata": {},
   "outputs": [
    {
     "ename": "TypeError",
     "evalue": "unhashable type: 'numpy.ndarray'",
     "output_type": "error",
     "traceback": [
      "\u001b[1;31m---------------------------------------------------------------------------\u001b[0m",
      "\u001b[1;31mTypeError\u001b[0m                                 Traceback (most recent call last)",
      "\u001b[1;32m<ipython-input-93-7dfcad42a4aa>\u001b[0m in \u001b[0;36m<module>\u001b[1;34m\u001b[0m\n\u001b[1;32m----> 1\u001b[1;33m \u001b[0mplt\u001b[0m\u001b[1;33m.\u001b[0m\u001b[0mplot\u001b[0m\u001b[1;33m(\u001b[0m\u001b[0mdf\u001b[0m\u001b[1;33m.\u001b[0m\u001b[0mdrop\u001b[0m\u001b[1;33m(\u001b[0m\u001b[1;34m'Price'\u001b[0m\u001b[1;33m,\u001b[0m\u001b[0maxis\u001b[0m\u001b[1;33m=\u001b[0m\u001b[1;34m\"columns\"\u001b[0m\u001b[1;33m)\u001b[0m\u001b[1;33m,\u001b[0m\u001b[0mY\u001b[0m\u001b[1;33m,\u001b[0m\u001b[0mcolor\u001b[0m\u001b[1;33m=\u001b[0m\u001b[1;34m\"red\"\u001b[0m\u001b[1;33m)\u001b[0m\u001b[1;33m\u001b[0m\u001b[1;33m\u001b[0m\u001b[0m\n\u001b[0m\u001b[0;32m      2\u001b[0m \u001b[0mplt\u001b[0m\u001b[1;33m.\u001b[0m\u001b[0mscatter\u001b[0m\u001b[1;33m(\u001b[0m\u001b[0mdf\u001b[0m\u001b[1;33m,\u001b[0m\u001b[0mY\u001b[0m\u001b[1;33m,\u001b[0m\u001b[0mcolor\u001b[0m\u001b[1;33m=\u001b[0m\u001b[1;34m'blue'\u001b[0m\u001b[1;33m,\u001b[0m\u001b[0mmarker\u001b[0m\u001b[1;33m=\u001b[0m\u001b[1;34m\"*\"\u001b[0m\u001b[1;33m)\u001b[0m\u001b[1;33m\u001b[0m\u001b[1;33m\u001b[0m\u001b[0m\n",
      "\u001b[1;32m~\\anaconda3\\lib\\site-packages\\matplotlib\\pyplot.py\u001b[0m in \u001b[0;36mplot\u001b[1;34m(scalex, scaley, data, *args, **kwargs)\u001b[0m\n\u001b[0;32m   2838\u001b[0m \u001b[1;33m@\u001b[0m\u001b[0m_copy_docstring_and_deprecators\u001b[0m\u001b[1;33m(\u001b[0m\u001b[0mAxes\u001b[0m\u001b[1;33m.\u001b[0m\u001b[0mplot\u001b[0m\u001b[1;33m)\u001b[0m\u001b[1;33m\u001b[0m\u001b[1;33m\u001b[0m\u001b[0m\n\u001b[0;32m   2839\u001b[0m \u001b[1;32mdef\u001b[0m \u001b[0mplot\u001b[0m\u001b[1;33m(\u001b[0m\u001b[1;33m*\u001b[0m\u001b[0margs\u001b[0m\u001b[1;33m,\u001b[0m \u001b[0mscalex\u001b[0m\u001b[1;33m=\u001b[0m\u001b[1;32mTrue\u001b[0m\u001b[1;33m,\u001b[0m \u001b[0mscaley\u001b[0m\u001b[1;33m=\u001b[0m\u001b[1;32mTrue\u001b[0m\u001b[1;33m,\u001b[0m \u001b[0mdata\u001b[0m\u001b[1;33m=\u001b[0m\u001b[1;32mNone\u001b[0m\u001b[1;33m,\u001b[0m \u001b[1;33m**\u001b[0m\u001b[0mkwargs\u001b[0m\u001b[1;33m)\u001b[0m\u001b[1;33m:\u001b[0m\u001b[1;33m\u001b[0m\u001b[1;33m\u001b[0m\u001b[0m\n\u001b[1;32m-> 2840\u001b[1;33m     return gca().plot(\n\u001b[0m\u001b[0;32m   2841\u001b[0m         \u001b[1;33m*\u001b[0m\u001b[0margs\u001b[0m\u001b[1;33m,\u001b[0m \u001b[0mscalex\u001b[0m\u001b[1;33m=\u001b[0m\u001b[0mscalex\u001b[0m\u001b[1;33m,\u001b[0m \u001b[0mscaley\u001b[0m\u001b[1;33m=\u001b[0m\u001b[0mscaley\u001b[0m\u001b[1;33m,\u001b[0m\u001b[1;33m\u001b[0m\u001b[1;33m\u001b[0m\u001b[0m\n\u001b[0;32m   2842\u001b[0m         **({\"data\": data} if data is not None else {}), **kwargs)\n",
      "\u001b[1;32m~\\anaconda3\\lib\\site-packages\\matplotlib\\axes\\_axes.py\u001b[0m in \u001b[0;36mplot\u001b[1;34m(self, scalex, scaley, data, *args, **kwargs)\u001b[0m\n\u001b[0;32m   1741\u001b[0m         \"\"\"\n\u001b[0;32m   1742\u001b[0m         \u001b[0mkwargs\u001b[0m \u001b[1;33m=\u001b[0m \u001b[0mcbook\u001b[0m\u001b[1;33m.\u001b[0m\u001b[0mnormalize_kwargs\u001b[0m\u001b[1;33m(\u001b[0m\u001b[0mkwargs\u001b[0m\u001b[1;33m,\u001b[0m \u001b[0mmlines\u001b[0m\u001b[1;33m.\u001b[0m\u001b[0mLine2D\u001b[0m\u001b[1;33m)\u001b[0m\u001b[1;33m\u001b[0m\u001b[1;33m\u001b[0m\u001b[0m\n\u001b[1;32m-> 1743\u001b[1;33m         \u001b[0mlines\u001b[0m \u001b[1;33m=\u001b[0m \u001b[1;33m[\u001b[0m\u001b[1;33m*\u001b[0m\u001b[0mself\u001b[0m\u001b[1;33m.\u001b[0m\u001b[0m_get_lines\u001b[0m\u001b[1;33m(\u001b[0m\u001b[1;33m*\u001b[0m\u001b[0margs\u001b[0m\u001b[1;33m,\u001b[0m \u001b[0mdata\u001b[0m\u001b[1;33m=\u001b[0m\u001b[0mdata\u001b[0m\u001b[1;33m,\u001b[0m \u001b[1;33m**\u001b[0m\u001b[0mkwargs\u001b[0m\u001b[1;33m)\u001b[0m\u001b[1;33m]\u001b[0m\u001b[1;33m\u001b[0m\u001b[1;33m\u001b[0m\u001b[0m\n\u001b[0m\u001b[0;32m   1744\u001b[0m         \u001b[1;32mfor\u001b[0m \u001b[0mline\u001b[0m \u001b[1;32min\u001b[0m \u001b[0mlines\u001b[0m\u001b[1;33m:\u001b[0m\u001b[1;33m\u001b[0m\u001b[1;33m\u001b[0m\u001b[0m\n\u001b[0;32m   1745\u001b[0m             \u001b[0mself\u001b[0m\u001b[1;33m.\u001b[0m\u001b[0madd_line\u001b[0m\u001b[1;33m(\u001b[0m\u001b[0mline\u001b[0m\u001b[1;33m)\u001b[0m\u001b[1;33m\u001b[0m\u001b[1;33m\u001b[0m\u001b[0m\n",
      "\u001b[1;32m~\\anaconda3\\lib\\site-packages\\matplotlib\\axes\\_base.py\u001b[0m in \u001b[0;36m__call__\u001b[1;34m(self, data, *args, **kwargs)\u001b[0m\n\u001b[0;32m    271\u001b[0m                 \u001b[0mthis\u001b[0m \u001b[1;33m+=\u001b[0m \u001b[0margs\u001b[0m\u001b[1;33m[\u001b[0m\u001b[1;36m0\u001b[0m\u001b[1;33m]\u001b[0m\u001b[1;33m,\u001b[0m\u001b[1;33m\u001b[0m\u001b[1;33m\u001b[0m\u001b[0m\n\u001b[0;32m    272\u001b[0m                 \u001b[0margs\u001b[0m \u001b[1;33m=\u001b[0m \u001b[0margs\u001b[0m\u001b[1;33m[\u001b[0m\u001b[1;36m1\u001b[0m\u001b[1;33m:\u001b[0m\u001b[1;33m]\u001b[0m\u001b[1;33m\u001b[0m\u001b[1;33m\u001b[0m\u001b[0m\n\u001b[1;32m--> 273\u001b[1;33m             \u001b[1;32myield\u001b[0m \u001b[1;32mfrom\u001b[0m \u001b[0mself\u001b[0m\u001b[1;33m.\u001b[0m\u001b[0m_plot_args\u001b[0m\u001b[1;33m(\u001b[0m\u001b[0mthis\u001b[0m\u001b[1;33m,\u001b[0m \u001b[0mkwargs\u001b[0m\u001b[1;33m)\u001b[0m\u001b[1;33m\u001b[0m\u001b[1;33m\u001b[0m\u001b[0m\n\u001b[0m\u001b[0;32m    274\u001b[0m \u001b[1;33m\u001b[0m\u001b[0m\n\u001b[0;32m    275\u001b[0m     \u001b[1;32mdef\u001b[0m \u001b[0mget_next_color\u001b[0m\u001b[1;33m(\u001b[0m\u001b[0mself\u001b[0m\u001b[1;33m)\u001b[0m\u001b[1;33m:\u001b[0m\u001b[1;33m\u001b[0m\u001b[1;33m\u001b[0m\u001b[0m\n",
      "\u001b[1;32m~\\anaconda3\\lib\\site-packages\\matplotlib\\axes\\_base.py\u001b[0m in \u001b[0;36m_plot_args\u001b[1;34m(self, tup, kwargs)\u001b[0m\n\u001b[0;32m    392\u001b[0m \u001b[1;33m\u001b[0m\u001b[0m\n\u001b[0;32m    393\u001b[0m         \u001b[1;32mif\u001b[0m \u001b[0mself\u001b[0m\u001b[1;33m.\u001b[0m\u001b[0maxes\u001b[0m\u001b[1;33m.\u001b[0m\u001b[0mxaxis\u001b[0m \u001b[1;32mis\u001b[0m \u001b[1;32mnot\u001b[0m \u001b[1;32mNone\u001b[0m\u001b[1;33m:\u001b[0m\u001b[1;33m\u001b[0m\u001b[1;33m\u001b[0m\u001b[0m\n\u001b[1;32m--> 394\u001b[1;33m             \u001b[0mself\u001b[0m\u001b[1;33m.\u001b[0m\u001b[0maxes\u001b[0m\u001b[1;33m.\u001b[0m\u001b[0mxaxis\u001b[0m\u001b[1;33m.\u001b[0m\u001b[0mupdate_units\u001b[0m\u001b[1;33m(\u001b[0m\u001b[0mx\u001b[0m\u001b[1;33m)\u001b[0m\u001b[1;33m\u001b[0m\u001b[1;33m\u001b[0m\u001b[0m\n\u001b[0m\u001b[0;32m    395\u001b[0m         \u001b[1;32mif\u001b[0m \u001b[0mself\u001b[0m\u001b[1;33m.\u001b[0m\u001b[0maxes\u001b[0m\u001b[1;33m.\u001b[0m\u001b[0myaxis\u001b[0m \u001b[1;32mis\u001b[0m \u001b[1;32mnot\u001b[0m \u001b[1;32mNone\u001b[0m\u001b[1;33m:\u001b[0m\u001b[1;33m\u001b[0m\u001b[1;33m\u001b[0m\u001b[0m\n\u001b[0;32m    396\u001b[0m             \u001b[0mself\u001b[0m\u001b[1;33m.\u001b[0m\u001b[0maxes\u001b[0m\u001b[1;33m.\u001b[0m\u001b[0myaxis\u001b[0m\u001b[1;33m.\u001b[0m\u001b[0mupdate_units\u001b[0m\u001b[1;33m(\u001b[0m\u001b[0my\u001b[0m\u001b[1;33m)\u001b[0m\u001b[1;33m\u001b[0m\u001b[1;33m\u001b[0m\u001b[0m\n",
      "\u001b[1;32m~\\anaconda3\\lib\\site-packages\\matplotlib\\axis.py\u001b[0m in \u001b[0;36mupdate_units\u001b[1;34m(self, data)\u001b[0m\n\u001b[0;32m   1464\u001b[0m         \u001b[0mneednew\u001b[0m \u001b[1;33m=\u001b[0m \u001b[0mself\u001b[0m\u001b[1;33m.\u001b[0m\u001b[0mconverter\u001b[0m \u001b[1;33m!=\u001b[0m \u001b[0mconverter\u001b[0m\u001b[1;33m\u001b[0m\u001b[1;33m\u001b[0m\u001b[0m\n\u001b[0;32m   1465\u001b[0m         \u001b[0mself\u001b[0m\u001b[1;33m.\u001b[0m\u001b[0mconverter\u001b[0m \u001b[1;33m=\u001b[0m \u001b[0mconverter\u001b[0m\u001b[1;33m\u001b[0m\u001b[1;33m\u001b[0m\u001b[0m\n\u001b[1;32m-> 1466\u001b[1;33m         \u001b[0mdefault\u001b[0m \u001b[1;33m=\u001b[0m \u001b[0mself\u001b[0m\u001b[1;33m.\u001b[0m\u001b[0mconverter\u001b[0m\u001b[1;33m.\u001b[0m\u001b[0mdefault_units\u001b[0m\u001b[1;33m(\u001b[0m\u001b[0mdata\u001b[0m\u001b[1;33m,\u001b[0m \u001b[0mself\u001b[0m\u001b[1;33m)\u001b[0m\u001b[1;33m\u001b[0m\u001b[1;33m\u001b[0m\u001b[0m\n\u001b[0m\u001b[0;32m   1467\u001b[0m         \u001b[1;32mif\u001b[0m \u001b[0mdefault\u001b[0m \u001b[1;32mis\u001b[0m \u001b[1;32mnot\u001b[0m \u001b[1;32mNone\u001b[0m \u001b[1;32mand\u001b[0m \u001b[0mself\u001b[0m\u001b[1;33m.\u001b[0m\u001b[0munits\u001b[0m \u001b[1;32mis\u001b[0m \u001b[1;32mNone\u001b[0m\u001b[1;33m:\u001b[0m\u001b[1;33m\u001b[0m\u001b[1;33m\u001b[0m\u001b[0m\n\u001b[0;32m   1468\u001b[0m             \u001b[0mself\u001b[0m\u001b[1;33m.\u001b[0m\u001b[0mset_units\u001b[0m\u001b[1;33m(\u001b[0m\u001b[0mdefault\u001b[0m\u001b[1;33m)\u001b[0m\u001b[1;33m\u001b[0m\u001b[1;33m\u001b[0m\u001b[0m\n",
      "\u001b[1;32m~\\anaconda3\\lib\\site-packages\\matplotlib\\category.py\u001b[0m in \u001b[0;36mdefault_units\u001b[1;34m(data, axis)\u001b[0m\n\u001b[0;32m    105\u001b[0m         \u001b[1;31m# the conversion call stack is default_units -> axis_info -> convert\u001b[0m\u001b[1;33m\u001b[0m\u001b[1;33m\u001b[0m\u001b[1;33m\u001b[0m\u001b[0m\n\u001b[0;32m    106\u001b[0m         \u001b[1;32mif\u001b[0m \u001b[0maxis\u001b[0m\u001b[1;33m.\u001b[0m\u001b[0munits\u001b[0m \u001b[1;32mis\u001b[0m \u001b[1;32mNone\u001b[0m\u001b[1;33m:\u001b[0m\u001b[1;33m\u001b[0m\u001b[1;33m\u001b[0m\u001b[0m\n\u001b[1;32m--> 107\u001b[1;33m             \u001b[0maxis\u001b[0m\u001b[1;33m.\u001b[0m\u001b[0mset_units\u001b[0m\u001b[1;33m(\u001b[0m\u001b[0mUnitData\u001b[0m\u001b[1;33m(\u001b[0m\u001b[0mdata\u001b[0m\u001b[1;33m)\u001b[0m\u001b[1;33m)\u001b[0m\u001b[1;33m\u001b[0m\u001b[1;33m\u001b[0m\u001b[0m\n\u001b[0m\u001b[0;32m    108\u001b[0m         \u001b[1;32melse\u001b[0m\u001b[1;33m:\u001b[0m\u001b[1;33m\u001b[0m\u001b[1;33m\u001b[0m\u001b[0m\n\u001b[0;32m    109\u001b[0m             \u001b[0maxis\u001b[0m\u001b[1;33m.\u001b[0m\u001b[0munits\u001b[0m\u001b[1;33m.\u001b[0m\u001b[0mupdate\u001b[0m\u001b[1;33m(\u001b[0m\u001b[0mdata\u001b[0m\u001b[1;33m)\u001b[0m\u001b[1;33m\u001b[0m\u001b[1;33m\u001b[0m\u001b[0m\n",
      "\u001b[1;32m~\\anaconda3\\lib\\site-packages\\matplotlib\\category.py\u001b[0m in \u001b[0;36m__init__\u001b[1;34m(self, data)\u001b[0m\n\u001b[0;32m    174\u001b[0m         \u001b[0mself\u001b[0m\u001b[1;33m.\u001b[0m\u001b[0m_counter\u001b[0m \u001b[1;33m=\u001b[0m \u001b[0mitertools\u001b[0m\u001b[1;33m.\u001b[0m\u001b[0mcount\u001b[0m\u001b[1;33m(\u001b[0m\u001b[1;33m)\u001b[0m\u001b[1;33m\u001b[0m\u001b[1;33m\u001b[0m\u001b[0m\n\u001b[0;32m    175\u001b[0m         \u001b[1;32mif\u001b[0m \u001b[0mdata\u001b[0m \u001b[1;32mis\u001b[0m \u001b[1;32mnot\u001b[0m \u001b[1;32mNone\u001b[0m\u001b[1;33m:\u001b[0m\u001b[1;33m\u001b[0m\u001b[1;33m\u001b[0m\u001b[0m\n\u001b[1;32m--> 176\u001b[1;33m             \u001b[0mself\u001b[0m\u001b[1;33m.\u001b[0m\u001b[0mupdate\u001b[0m\u001b[1;33m(\u001b[0m\u001b[0mdata\u001b[0m\u001b[1;33m)\u001b[0m\u001b[1;33m\u001b[0m\u001b[1;33m\u001b[0m\u001b[0m\n\u001b[0m\u001b[0;32m    177\u001b[0m \u001b[1;33m\u001b[0m\u001b[0m\n\u001b[0;32m    178\u001b[0m     \u001b[1;33m@\u001b[0m\u001b[0mstaticmethod\u001b[0m\u001b[1;33m\u001b[0m\u001b[1;33m\u001b[0m\u001b[0m\n",
      "\u001b[1;32m~\\anaconda3\\lib\\site-packages\\matplotlib\\category.py\u001b[0m in \u001b[0;36mupdate\u001b[1;34m(self, data)\u001b[0m\n\u001b[0;32m    207\u001b[0m         \u001b[1;31m# check if convertible to number:\u001b[0m\u001b[1;33m\u001b[0m\u001b[1;33m\u001b[0m\u001b[1;33m\u001b[0m\u001b[0m\n\u001b[0;32m    208\u001b[0m         \u001b[0mconvertible\u001b[0m \u001b[1;33m=\u001b[0m \u001b[1;32mTrue\u001b[0m\u001b[1;33m\u001b[0m\u001b[1;33m\u001b[0m\u001b[0m\n\u001b[1;32m--> 209\u001b[1;33m         \u001b[1;32mfor\u001b[0m \u001b[0mval\u001b[0m \u001b[1;32min\u001b[0m \u001b[0mOrderedDict\u001b[0m\u001b[1;33m.\u001b[0m\u001b[0mfromkeys\u001b[0m\u001b[1;33m(\u001b[0m\u001b[0mdata\u001b[0m\u001b[1;33m)\u001b[0m\u001b[1;33m:\u001b[0m\u001b[1;33m\u001b[0m\u001b[1;33m\u001b[0m\u001b[0m\n\u001b[0m\u001b[0;32m    210\u001b[0m             \u001b[1;31m# OrderedDict just iterates over unique values in data.\u001b[0m\u001b[1;33m\u001b[0m\u001b[1;33m\u001b[0m\u001b[1;33m\u001b[0m\u001b[0m\n\u001b[0;32m    211\u001b[0m             \u001b[0mcbook\u001b[0m\u001b[1;33m.\u001b[0m\u001b[0m_check_isinstance\u001b[0m\u001b[1;33m(\u001b[0m\u001b[1;33m(\u001b[0m\u001b[0mstr\u001b[0m\u001b[1;33m,\u001b[0m \u001b[0mbytes\u001b[0m\u001b[1;33m)\u001b[0m\u001b[1;33m,\u001b[0m \u001b[0mvalue\u001b[0m\u001b[1;33m=\u001b[0m\u001b[0mval\u001b[0m\u001b[1;33m)\u001b[0m\u001b[1;33m\u001b[0m\u001b[1;33m\u001b[0m\u001b[0m\n",
      "\u001b[1;31mTypeError\u001b[0m: unhashable type: 'numpy.ndarray'"
     ]
    },
    {
     "data": {
      "image/png": "[encoded data removed]",
      "text/plain": [
       "<Figure size 432x288 with 1 Axes>"
      ]
     },
     "metadata": {
      "needs_background": "light"
     },
     "output_type": "display_data"
    }
   ],
   "source": [
    "plt.plot(X.,Y,color=\"red\")\n",
    "plt.scatter(df,Y,color='blue',marker=\"*\")"
   ]
  },
  {
   "cell_type": "markdown",
   "id": "0b2295fd",
   "metadata": {},
   "source": [
    "# Part -7 Training and Testing Data"
   ]
  },
  {
   "cell_type": "code",
   "execution_count": 1,
   "id": "81d4b902",
   "metadata": {},
   "outputs": [],
   "source": [
    "import pandas as pd\n",
    "from sklearn import linear_model\n",
    "import numpy as np\n",
    "import matplotlib.pyplot as plt\n",
    "\n"
   ]
  },
  {
   "cell_type": "code",
   "execution_count": null,
   "id": "1aba984d",
   "metadata": {},
   "outputs": [],
   "source": [
    "'''First 80% part is to train the data and 20% of the part is to testing the data '''\n",
    "\n"
   ]
  },
  {
   "cell_type": "code",
   "execution_count": 9,
   "id": "826b01a3",
   "metadata": {},
   "outputs": [
    {
     "data": {
      "text/html": [
       "<div>\n",
       "<style scoped>\n",
       "    .dataframe tbody tr th:only-of-type {\n",
       "        vertical-align: middle;\n",
       "    }\n",
       "\n",
       "    .dataframe tbody tr th {\n",
       "        vertical-align: top;\n",
       "    }\n",
       "\n",
       "    .dataframe thead th {\n",
       "        text-align: right;\n",
       "    }\n",
       "</style>\n",
       "<table border=\"1\" class=\"dataframe\">\n",
       "  <thead>\n",
       "    <tr style=\"text-align: right;\">\n",
       "      <th></th>\n",
       "      <th>Mileage</th>\n",
       "      <th>Age(yr)</th>\n",
       "      <th>Sell Price($)</th>\n",
       "    </tr>\n",
       "  </thead>\n",
       "  <tbody>\n",
       "    <tr>\n",
       "      <th>0</th>\n",
       "      <td>63000</td>\n",
       "      <td>5</td>\n",
       "      <td>16000</td>\n",
       "    </tr>\n",
       "    <tr>\n",
       "      <th>1</th>\n",
       "      <td>69000</td>\n",
       "      <td>6</td>\n",
       "      <td>18000</td>\n",
       "    </tr>\n",
       "    <tr>\n",
       "      <th>2</th>\n",
       "      <td>35000</td>\n",
       "      <td>3</td>\n",
       "      <td>34000</td>\n",
       "    </tr>\n",
       "    <tr>\n",
       "      <th>3</th>\n",
       "      <td>57000</td>\n",
       "      <td>5</td>\n",
       "      <td>26100</td>\n",
       "    </tr>\n",
       "    <tr>\n",
       "      <th>4</th>\n",
       "      <td>22500</td>\n",
       "      <td>2</td>\n",
       "      <td>40000</td>\n",
       "    </tr>\n",
       "  </tbody>\n",
       "</table>\n",
       "</div>"
      ],
      "text/plain": [
       "   Mileage  Age(yr)  Sell Price($)\n",
       "0    63000        5          16000\n",
       "1    69000        6          18000\n",
       "2    35000        3          34000\n",
       "3    57000        5          26100\n",
       "4    22500        2          40000"
      ]
     },
     "execution_count": 9,
     "metadata": {},
     "output_type": "execute_result"
    }
   ],
   "source": [
    "df=pd.read_csv(\"TRAIN$TEST.csv\")\n",
    "df.head()"
   ]
  },
  {
   "cell_type": "code",
   "execution_count": 10,
   "id": "89c33c28",
   "metadata": {},
   "outputs": [
    {
     "data": {
      "text/plain": [
       "<matplotlib.collections.PathCollection at 0x28633aff550>"
      ]
     },
     "execution_count": 10,
     "metadata": {},
     "output_type": "execute_result"
    },
    {
     "data": {
      "image/png": "[encoded data removed]",
      "text/plain": [
       "<Figure size 432x288 with 1 Axes>"
      ]
     },
     "metadata": {
      "needs_background": "light"
     },
     "output_type": "display_data"
    }
   ],
   "source": [
    "plt.scatter(df['Mileage'],df[\"Sell Price($)\"])"
   ]
  },
  {
   "cell_type": "code",
   "execution_count": 11,
   "id": "ff58dd86",
   "metadata": {},
   "outputs": [
    {
     "data": {
      "text/plain": [
       "[<matplotlib.lines.Line2D at 0x28633b59820>]"
      ]
     },
     "execution_count": 11,
     "metadata": {},
     "output_type": "execute_result"
    },
    {
     "data": {
      "image/png": "[encoded data removed]",
      "text/plain": [
       "<Figure size 432x288 with 1 Axes>"
      ]
     },
     "metadata": {
      "needs_background": "light"
     },
     "output_type": "display_data"
    }
   ],
   "source": [
    "plt.plot(df['Mileage'],df['Sell Price($)'])"
   ]
  },
  {
   "cell_type": "code",
   "execution_count": 13,
   "id": "8cd8105f",
   "metadata": {},
   "outputs": [],
   "source": [
    "X=df[[\"Mileage\",\"Age(yr)\"]]\n",
    "Y=df[\"Sell Price($)\"]"
   ]
  },
  {
   "cell_type": "code",
   "execution_count": 18,
   "id": "3fa1bb2d",
   "metadata": {},
   "outputs": [],
   "source": [
    "from sklearn.linear_model import LinearRegression"
   ]
  },
  {
   "cell_type": "code",
   "execution_count": 19,
   "id": "7aac5d24",
   "metadata": {},
   "outputs": [],
   "source": [
    "model=LinearRegression()"
   ]
  },
  {
   "cell_type": "code",
   "execution_count": 20,
   "id": "b6d40441",
   "metadata": {},
   "outputs": [
    {
     "data": {
      "text/plain": [
       "LinearRegression()"
      ]
     },
     "execution_count": 20,
     "metadata": {},
     "output_type": "execute_result"
    }
   ],
   "source": [
    "model.fit(X,Y)"
   ]
  },
  {
   "cell_type": "code",
   "execution_count": 21,
   "id": "802823bb",
   "metadata": {},
   "outputs": [
    {
     "data": {
      "text/html": [
       "<div>\n",
       "<style scoped>\n",
       "    .dataframe tbody tr th:only-of-type {\n",
       "        vertical-align: middle;\n",
       "    }\n",
       "\n",
       "    .dataframe tbody tr th {\n",
       "        vertical-align: top;\n",
       "    }\n",
       "\n",
       "    .dataframe thead th {\n",
       "        text-align: right;\n",
       "    }\n",
       "</style>\n",
       "<table border=\"1\" class=\"dataframe\">\n",
       "  <thead>\n",
       "    <tr style=\"text-align: right;\">\n",
       "      <th></th>\n",
       "      <th>Mileage</th>\n",
       "      <th>Age(yr)</th>\n",
       "    </tr>\n",
       "  </thead>\n",
       "  <tbody>\n",
       "    <tr>\n",
       "      <th>0</th>\n",
       "      <td>63000</td>\n",
       "      <td>5</td>\n",
       "    </tr>\n",
       "    <tr>\n",
       "      <th>1</th>\n",
       "      <td>69000</td>\n",
       "      <td>6</td>\n",
       "    </tr>\n",
       "    <tr>\n",
       "      <th>2</th>\n",
       "      <td>35000</td>\n",
       "      <td>3</td>\n",
       "    </tr>\n",
       "    <tr>\n",
       "      <th>3</th>\n",
       "      <td>57000</td>\n",
       "      <td>5</td>\n",
       "    </tr>\n",
       "    <tr>\n",
       "      <th>4</th>\n",
       "      <td>22500</td>\n",
       "      <td>2</td>\n",
       "    </tr>\n",
       "    <tr>\n",
       "      <th>5</th>\n",
       "      <td>46000</td>\n",
       "      <td>4</td>\n",
       "    </tr>\n",
       "    <tr>\n",
       "      <th>6</th>\n",
       "      <td>59000</td>\n",
       "      <td>5</td>\n",
       "    </tr>\n",
       "    <tr>\n",
       "      <th>7</th>\n",
       "      <td>52000</td>\n",
       "      <td>5</td>\n",
       "    </tr>\n",
       "    <tr>\n",
       "      <th>8</th>\n",
       "      <td>72000</td>\n",
       "      <td>6</td>\n",
       "    </tr>\n",
       "    <tr>\n",
       "      <th>9</th>\n",
       "      <td>91000</td>\n",
       "      <td>8</td>\n",
       "    </tr>\n",
       "    <tr>\n",
       "      <th>10</th>\n",
       "      <td>67000</td>\n",
       "      <td>6</td>\n",
       "    </tr>\n",
       "    <tr>\n",
       "      <th>11</th>\n",
       "      <td>83000</td>\n",
       "      <td>7</td>\n",
       "    </tr>\n",
       "    <tr>\n",
       "      <th>12</th>\n",
       "      <td>79000</td>\n",
       "      <td>7</td>\n",
       "    </tr>\n",
       "    <tr>\n",
       "      <th>13</th>\n",
       "      <td>50000</td>\n",
       "      <td>5</td>\n",
       "    </tr>\n",
       "    <tr>\n",
       "      <th>14</th>\n",
       "      <td>87000</td>\n",
       "      <td>7</td>\n",
       "    </tr>\n",
       "    <tr>\n",
       "      <th>15</th>\n",
       "      <td>43000</td>\n",
       "      <td>3</td>\n",
       "    </tr>\n",
       "    <tr>\n",
       "      <th>16</th>\n",
       "      <td>63000</td>\n",
       "      <td>2</td>\n",
       "    </tr>\n",
       "    <tr>\n",
       "      <th>17</th>\n",
       "      <td>62000</td>\n",
       "      <td>4</td>\n",
       "    </tr>\n",
       "    <tr>\n",
       "      <th>18</th>\n",
       "      <td>25400</td>\n",
       "      <td>3</td>\n",
       "    </tr>\n",
       "    <tr>\n",
       "      <th>19</th>\n",
       "      <td>50000</td>\n",
       "      <td>4</td>\n",
       "    </tr>\n",
       "  </tbody>\n",
       "</table>\n",
       "</div>"
      ],
      "text/plain": [
       "    Mileage  Age(yr)\n",
       "0     63000        5\n",
       "1     69000        6\n",
       "2     35000        3\n",
       "3     57000        5\n",
       "4     22500        2\n",
       "5     46000        4\n",
       "6     59000        5\n",
       "7     52000        5\n",
       "8     72000        6\n",
       "9     91000        8\n",
       "10    67000        6\n",
       "11    83000        7\n",
       "12    79000        7\n",
       "13    50000        5\n",
       "14    87000        7\n",
       "15    43000        3\n",
       "16    63000        2\n",
       "17    62000        4\n",
       "18    25400        3\n",
       "19    50000        4"
      ]
     },
     "execution_count": 21,
     "metadata": {},
     "output_type": "execute_result"
    }
   ],
   "source": [
    "X\n"
   ]
  },
  {
   "cell_type": "code",
   "execution_count": 22,
   "id": "09beb1a0",
   "metadata": {},
   "outputs": [
    {
     "data": {
      "text/plain": [
       "0     16000\n",
       "1     18000\n",
       "2     34000\n",
       "3     26100\n",
       "4     40000\n",
       "5     31500\n",
       "6     29400\n",
       "7     32000\n",
       "8     19300\n",
       "9     12000\n",
       "10    22000\n",
       "11    20000\n",
       "12    21000\n",
       "13    23000\n",
       "14    32000\n",
       "15    35000\n",
       "16    24000\n",
       "17    16500\n",
       "18    12000\n",
       "19    25000\n",
       "Name: Sell Price($), dtype: int64"
      ]
     },
     "execution_count": 22,
     "metadata": {},
     "output_type": "execute_result"
    }
   ],
   "source": [
    "Y"
   ]
  },
  {
   "cell_type": "code",
   "execution_count": 23,
   "id": "5c792131",
   "metadata": {},
   "outputs": [],
   "source": [
    "from sklearn.model_selection import train_test_split"
   ]
  },
  {
   "cell_type": "code",
   "execution_count": 30,
   "id": "3fba0fde",
   "metadata": {},
   "outputs": [],
   "source": [
    "X_train, X_test, y_train,y_test=train_test_split(X,Y,test_size=0.2,random_state=10)"
   ]
  },
  {
   "cell_type": "code",
   "execution_count": 31,
   "id": "e24e1a24",
   "metadata": {},
   "outputs": [
    {
     "data": {
      "text/plain": [
       "16"
      ]
     },
     "execution_count": 31,
     "metadata": {},
     "output_type": "execute_result"
    }
   ],
   "source": [
    "len(X_train)"
   ]
  },
  {
   "cell_type": "code",
   "execution_count": 32,
   "id": "33c17742",
   "metadata": {},
   "outputs": [
    {
     "data": {
      "text/html": [
       "<div>\n",
       "<style scoped>\n",
       "    .dataframe tbody tr th:only-of-type {\n",
       "        vertical-align: middle;\n",
       "    }\n",
       "\n",
       "    .dataframe tbody tr th {\n",
       "        vertical-align: top;\n",
       "    }\n",
       "\n",
       "    .dataframe thead th {\n",
       "        text-align: right;\n",
       "    }\n",
       "</style>\n",
       "<table border=\"1\" class=\"dataframe\">\n",
       "  <thead>\n",
       "    <tr style=\"text-align: right;\">\n",
       "      <th></th>\n",
       "      <th>Mileage</th>\n",
       "      <th>Age(yr)</th>\n",
       "    </tr>\n",
       "  </thead>\n",
       "  <tbody>\n",
       "    <tr>\n",
       "      <th>3</th>\n",
       "      <td>57000</td>\n",
       "      <td>5</td>\n",
       "    </tr>\n",
       "    <tr>\n",
       "      <th>18</th>\n",
       "      <td>25400</td>\n",
       "      <td>3</td>\n",
       "    </tr>\n",
       "    <tr>\n",
       "      <th>13</th>\n",
       "      <td>50000</td>\n",
       "      <td>5</td>\n",
       "    </tr>\n",
       "    <tr>\n",
       "      <th>2</th>\n",
       "      <td>35000</td>\n",
       "      <td>3</td>\n",
       "    </tr>\n",
       "    <tr>\n",
       "      <th>14</th>\n",
       "      <td>87000</td>\n",
       "      <td>7</td>\n",
       "    </tr>\n",
       "    <tr>\n",
       "      <th>8</th>\n",
       "      <td>72000</td>\n",
       "      <td>6</td>\n",
       "    </tr>\n",
       "    <tr>\n",
       "      <th>17</th>\n",
       "      <td>62000</td>\n",
       "      <td>4</td>\n",
       "    </tr>\n",
       "    <tr>\n",
       "      <th>16</th>\n",
       "      <td>63000</td>\n",
       "      <td>2</td>\n",
       "    </tr>\n",
       "    <tr>\n",
       "      <th>19</th>\n",
       "      <td>50000</td>\n",
       "      <td>4</td>\n",
       "    </tr>\n",
       "    <tr>\n",
       "      <th>12</th>\n",
       "      <td>79000</td>\n",
       "      <td>7</td>\n",
       "    </tr>\n",
       "    <tr>\n",
       "      <th>11</th>\n",
       "      <td>83000</td>\n",
       "      <td>7</td>\n",
       "    </tr>\n",
       "    <tr>\n",
       "      <th>1</th>\n",
       "      <td>69000</td>\n",
       "      <td>6</td>\n",
       "    </tr>\n",
       "    <tr>\n",
       "      <th>0</th>\n",
       "      <td>63000</td>\n",
       "      <td>5</td>\n",
       "    </tr>\n",
       "    <tr>\n",
       "      <th>15</th>\n",
       "      <td>43000</td>\n",
       "      <td>3</td>\n",
       "    </tr>\n",
       "    <tr>\n",
       "      <th>4</th>\n",
       "      <td>22500</td>\n",
       "      <td>2</td>\n",
       "    </tr>\n",
       "    <tr>\n",
       "      <th>9</th>\n",
       "      <td>91000</td>\n",
       "      <td>8</td>\n",
       "    </tr>\n",
       "  </tbody>\n",
       "</table>\n",
       "</div>"
      ],
      "text/plain": [
       "    Mileage  Age(yr)\n",
       "3     57000        5\n",
       "18    25400        3\n",
       "13    50000        5\n",
       "2     35000        3\n",
       "14    87000        7\n",
       "8     72000        6\n",
       "17    62000        4\n",
       "16    63000        2\n",
       "19    50000        4\n",
       "12    79000        7\n",
       "11    83000        7\n",
       "1     69000        6\n",
       "0     63000        5\n",
       "15    43000        3\n",
       "4     22500        2\n",
       "9     91000        8"
      ]
     },
     "execution_count": 32,
     "metadata": {},
     "output_type": "execute_result"
    }
   ],
   "source": [
    "X_train"
   ]
  },
  {
   "cell_type": "code",
   "execution_count": 33,
   "id": "d3bbcf88",
   "metadata": {},
   "outputs": [
    {
     "data": {
      "text/html": [
       "<div>\n",
       "<style scoped>\n",
       "    .dataframe tbody tr th:only-of-type {\n",
       "        vertical-align: middle;\n",
       "    }\n",
       "\n",
       "    .dataframe tbody tr th {\n",
       "        vertical-align: top;\n",
       "    }\n",
       "\n",
       "    .dataframe thead th {\n",
       "        text-align: right;\n",
       "    }\n",
       "</style>\n",
       "<table border=\"1\" class=\"dataframe\">\n",
       "  <thead>\n",
       "    <tr style=\"text-align: right;\">\n",
       "      <th></th>\n",
       "      <th>Mileage</th>\n",
       "      <th>Age(yr)</th>\n",
       "    </tr>\n",
       "  </thead>\n",
       "  <tbody>\n",
       "    <tr>\n",
       "      <th>7</th>\n",
       "      <td>52000</td>\n",
       "      <td>5</td>\n",
       "    </tr>\n",
       "    <tr>\n",
       "      <th>10</th>\n",
       "      <td>67000</td>\n",
       "      <td>6</td>\n",
       "    </tr>\n",
       "    <tr>\n",
       "      <th>5</th>\n",
       "      <td>46000</td>\n",
       "      <td>4</td>\n",
       "    </tr>\n",
       "    <tr>\n",
       "      <th>6</th>\n",
       "      <td>59000</td>\n",
       "      <td>5</td>\n",
       "    </tr>\n",
       "  </tbody>\n",
       "</table>\n",
       "</div>"
      ],
      "text/plain": [
       "    Mileage  Age(yr)\n",
       "7     52000        5\n",
       "10    67000        6\n",
       "5     46000        4\n",
       "6     59000        5"
      ]
     },
     "execution_count": 33,
     "metadata": {},
     "output_type": "execute_result"
    }
   ],
   "source": [
    "X_test"
   ]
  },
  {
   "cell_type": "code",
   "execution_count": 36,
   "id": "2b681a2b",
   "metadata": {},
   "outputs": [
    {
     "data": {
      "text/plain": [
       "LinearRegression()"
      ]
     },
     "execution_count": 36,
     "metadata": {},
     "output_type": "execute_result"
    }
   ],
   "source": [
    "model.fit(X_train,y_train)\n"
   ]
  },
  {
   "cell_type": "code",
   "execution_count": 37,
   "id": "e8b02867",
   "metadata": {},
   "outputs": [
    {
     "data": {
      "text/plain": [
       "array([23466.08973693, 21240.75448925, 25242.05582873, 23116.58039346])"
      ]
     },
     "execution_count": 37,
     "metadata": {},
     "output_type": "execute_result"
    }
   ],
   "source": [
    "model.predict(X_test)"
   ]
  },
  {
   "cell_type": "code",
   "execution_count": 38,
   "id": "7c44d2b9",
   "metadata": {},
   "outputs": [
    {
     "data": {
      "text/plain": [
       "7     32000\n",
       "10    22000\n",
       "5     31500\n",
       "6     29400\n",
       "Name: Sell Price($), dtype: int64"
      ]
     },
     "execution_count": 38,
     "metadata": {},
     "output_type": "execute_result"
    }
   ],
   "source": [
    "y_test"
   ]
  },
  {
   "cell_type": "code",
   "execution_count": 39,
   "id": "b5607dc2",
   "metadata": {},
   "outputs": [
    {
     "data": {
      "text/plain": [
       "-1.3717553379304426"
      ]
     },
     "execution_count": 39,
     "metadata": {},
     "output_type": "execute_result"
    }
   ],
   "source": [
    "model.score(X_test,y_test)"
   ]
  },
  {
   "cell_type": "code",
   "execution_count": null,
   "id": "9d005f8f",
   "metadata": {},
   "outputs": [],
   "source": []
  }
 ],
 "metadata": {
  "kernelspec": {
   "display_name": "Python 3",
   "language": "python",
   "name": "python3"
  },
  "language_info": {
   "codemirror_mode": {
    "name": "ipython",
    "version": 3
   },
   "file_extension": ".py",
   "mimetype": "text/x-python",
   "name": "python",
   "nbconvert_exporter": "python",
   "pygments_lexer": "ipython3",
   "version": "3.8.8"
  }
 },
 "nbformat": 4,
 "nbformat_minor": 5
}
