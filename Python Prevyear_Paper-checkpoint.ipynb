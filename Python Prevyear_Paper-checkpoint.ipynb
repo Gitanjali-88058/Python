{
 "cells": [
  {
   "cell_type": "markdown",
   "id": "54eddee7",
   "metadata": {},
   "source": [
    "# 2. Write an algorithm to find the least common multiple of two numbers.\n"
   ]
  },
  {
   "cell_type": "code",
   "execution_count": 7,
   "id": "c9cce4d7",
   "metadata": {},
   "outputs": [
    {
     "name": "stdout",
     "output_type": "stream",
     "text": [
      "Enter the number1: 12\n",
      "Enter the number2: 8\n",
      "lcm is  24\n"
     ]
    }
   ],
   "source": [
    "num1=int(input(\"Enter the number1: \"))\n",
    "num2=int(input(\"Enter the number2: \"))\n",
    "if(num1>num2):\n",
    "    lcm=num1\n",
    "else:\n",
    "    lcm=num2\n",
    "while(1):\n",
    "    if(lcm%num1==0 and lcm%num2==0):\n",
    "        print(\"lcm is \", lcm)\n",
    "        break\n",
    "    \n",
    "    lcm=lcm+1\n",
    "        \n",
    "        "
   ]
  },
  {
   "cell_type": "markdown",
   "id": "aebefba6",
   "metadata": {},
   "source": [
    "# Write a program to print the sum of the first n terms of the following series:"
   ]
  },
  {
   "cell_type": "code",
   "execution_count": 28,
   "id": "8c276527",
   "metadata": {},
   "outputs": [
    {
     "name": "stdout",
     "output_type": "stream",
     "text": [
      "Enter the nth term: 4\n",
      "sum of first nterms:  0.5\n",
      "sum of first nterms:  0.25\n",
      "sum of first nterms:  0.41666666666666663\n",
      "sum of first nterms:  0.29166666666666663\n"
     ]
    }
   ],
   "source": [
    "#1/2 – 1/4 + 1/6 –1/8 + …\n",
    "n=int(input(\"Enter the nth term: \"))\n",
    "\n",
    "sum=0\n",
    "for i in range(1,n+1):\n",
    "    if(i%2==0):\n",
    "        sum-=1/(2*i)\n",
    "    else:\n",
    "        sum+=(1/(2*i))\n",
    "    print(\"sum of first nterms: \",sum)        \n"
   ]
  },
  {
   "cell_type": "code",
   "execution_count": null,
   "id": "191fd40e",
   "metadata": {},
   "outputs": [],
   "source": [
    "'''Evaluate the following expressions and justify your answers:\n",
    " 7 * 2 - 5 ** 2 // 4 + 8         = 16\n",
    " 10 < 5 or 7 < 12 and not 18 > 3 = f\n",
    "\n",
    " float(6 - int(56.4) % 2)  =6\n",
    " 9 & -11          =1\n",
    " 'hello' < 'hi' or 'I am fine' > 'I am not fine'\n",
    " '''"
   ]
  },
  {
   "cell_type": "code",
   "execution_count": 36,
   "id": "59c1beac",
   "metadata": {},
   "outputs": [
    {
     "data": {
      "text/plain": [
       "16"
      ]
     },
     "execution_count": 36,
     "metadata": {},
     "output_type": "execute_result"
    }
   ],
   "source": [
    "(14-25//4)+8"
   ]
  },
  {
   "cell_type": "code",
   "execution_count": 37,
   "id": "c1adb129",
   "metadata": {},
   "outputs": [
    {
     "data": {
      "text/plain": [
       "16"
      ]
     },
     "execution_count": 37,
     "metadata": {},
     "output_type": "execute_result"
    }
   ],
   "source": [
    "7*2-5**2//4+8"
   ]
  },
  {
   "cell_type": "code",
   "execution_count": 38,
   "id": "be5c20df",
   "metadata": {},
   "outputs": [
    {
     "data": {
      "text/plain": [
       "False"
      ]
     },
     "execution_count": 38,
     "metadata": {},
     "output_type": "execute_result"
    }
   ],
   "source": [
    " 10 < 5 or 7 < 12 and not 18 > 3\n"
   ]
  },
  {
   "cell_type": "code",
   "execution_count": 39,
   "id": "57e67575",
   "metadata": {},
   "outputs": [
    {
     "data": {
      "text/plain": [
       "-22"
      ]
     },
     "execution_count": 39,
     "metadata": {},
     "output_type": "execute_result"
    }
   ],
   "source": [
    "6-56%2\n",
    "6-28"
   ]
  },
  {
   "cell_type": "code",
   "execution_count": 40,
   "id": "ac9a211a",
   "metadata": {},
   "outputs": [
    {
     "data": {
      "text/plain": [
       "6.0"
      ]
     },
     "execution_count": 40,
     "metadata": {},
     "output_type": "execute_result"
    }
   ],
   "source": [
    "float(6 - int(56.4) % 2)"
   ]
  },
  {
   "cell_type": "code",
   "execution_count": 41,
   "id": "7d6a1a5f",
   "metadata": {},
   "outputs": [
    {
     "data": {
      "text/plain": [
       "0"
      ]
     },
     "execution_count": 41,
     "metadata": {},
     "output_type": "execute_result"
    }
   ],
   "source": [
    "56%2"
   ]
  },
  {
   "cell_type": "code",
   "execution_count": 42,
   "id": "31c8cf7e",
   "metadata": {},
   "outputs": [
    {
     "data": {
      "text/plain": [
       "1"
      ]
     },
     "execution_count": 42,
     "metadata": {},
     "output_type": "execute_result"
    }
   ],
   "source": [
    "9 & -11\n"
   ]
  },
  {
   "cell_type": "code",
   "execution_count": 44,
   "id": "076f807e",
   "metadata": {},
   "outputs": [
    {
     "data": {
      "text/plain": [
       "993"
      ]
     },
     "execution_count": 44,
     "metadata": {},
     "output_type": "execute_result"
    }
   ],
   "source": [
    "1001 & 1011"
   ]
  },
  {
   "cell_type": "code",
   "execution_count": 48,
   "id": "9df33774",
   "metadata": {},
   "outputs": [
    {
     "data": {
      "text/plain": [
       "True"
      ]
     },
     "execution_count": 48,
     "metadata": {},
     "output_type": "execute_result"
    }
   ],
   "source": [
    "'hello'<'hi'"
   ]
  },
  {
   "cell_type": "code",
   "execution_count": 49,
   "id": "e150c8ee",
   "metadata": {},
   "outputs": [
    {
     "data": {
      "text/plain": [
       "False"
      ]
     },
     "execution_count": 49,
     "metadata": {},
     "output_type": "execute_result"
    }
   ],
   "source": [
    "'I am fine'> 'I am not fine'"
   ]
  },
  {
   "cell_type": "code",
   "execution_count": 50,
   "id": "d0a4306a",
   "metadata": {},
   "outputs": [
    {
     "data": {
      "text/plain": [
       "9"
      ]
     },
     "execution_count": 50,
     "metadata": {},
     "output_type": "execute_result"
    }
   ],
   "source": [
    "9&11\n"
   ]
  },
  {
   "cell_type": "code",
   "execution_count": 51,
   "id": "46c3b268",
   "metadata": {},
   "outputs": [
    {
     "data": {
      "text/plain": [
       "0"
      ]
     },
     "execution_count": 51,
     "metadata": {},
     "output_type": "execute_result"
    }
   ],
   "source": [
    "12 & 34"
   ]
  },
  {
   "cell_type": "code",
   "execution_count": 58,
   "id": "28dde1d8",
   "metadata": {},
   "outputs": [
    {
     "data": {
      "text/plain": [
       "True"
      ]
     },
     "execution_count": 58,
     "metadata": {},
     "output_type": "execute_result"
    }
   ],
   "source": [
    "'geet'<'gitanjali'"
   ]
  },
  {
   "cell_type": "code",
   "execution_count": 59,
   "id": "d2256191",
   "metadata": {},
   "outputs": [
    {
     "data": {
      "text/plain": [
       "\"a function that accepts a number and a string as arguments. It should return a list having \\nn elements such that the i\\nth element of the list has the string repeated i times. For \\nexample, if the arguments are 3 and 'Hello' then the function should return \\n['Hello', 'HelloHello', 'HelloHelloHello']. Use list comprehension \\nto generate this list.\""
      ]
     },
     "execution_count": 59,
     "metadata": {},
     "output_type": "execute_result"
    }
   ],
   "source": [
    "'''a function that accepts a number and a string as arguments. It should return a list having \n",
    "n elements such that the i\n",
    "th element of the list has the string repeated i times. For \n",
    "example, if the arguments are 3 and 'Hello' then the function should return \n",
    "['Hello', 'HelloHello', 'HelloHelloHello']. Use list comprehension \n",
    "to generate this list.'''\n"
   ]
  },
  {
   "cell_type": "code",
   "execution_count": 66,
   "id": "05f496c9",
   "metadata": {},
   "outputs": [
    {
     "name": "stdout",
     "output_type": "stream",
     "text": [
      "['geet', 'geetgeet', 'geetgeetgeet']\n"
     ]
    }
   ],
   "source": [
    "def funcList(st,num):\n",
    "    lst=[]\n",
    "    for i in range(1,num):\n",
    "        lst.append(st*i)\n",
    "\n",
    "    print(lst)\n",
    "funcList(\"geet\",4)    "
   ]
  },
  {
   "cell_type": "code",
   "execution_count": 116,
   "id": "14302325",
   "metadata": {},
   "outputs": [
    {
     "ename": "SyntaxError",
     "evalue": "'return' outside function (<ipython-input-116-eb244667f1c3>, line 15)",
     "output_type": "error",
     "traceback": [
      "\u001b[1;36m  File \u001b[1;32m\"<ipython-input-116-eb244667f1c3>\"\u001b[1;36m, line \u001b[1;32m15\u001b[0m\n\u001b[1;33m    return (lst)\u001b[0m\n\u001b[1;37m    ^\u001b[0m\n\u001b[1;31mSyntaxError\u001b[0m\u001b[1;31m:\u001b[0m 'return' outside function\n"
     ]
    }
   ],
   "source": [
    "def tup(t1,t2):\n",
    "    try:\n",
    "        lst=[]\n",
    "    \n",
    "        n=len(t1)\n",
    "            \n",
    "        for i in range(n):\n",
    "            if(i%2==0):\n",
    "                lst.append(t1[i])\n",
    "            else:\n",
    "                lst.append(t2[i])\n",
    "    \n",
    "    except IndexError:\n",
    "                print(\"Tuples are not of same size\")\n",
    "    return (lst) \n",
    "    \n",
    "print(lst)    \n",
    "t1=(1,2,3,4,5)\n",
    "t2=(6,7,8,9,10)\n",
    "tup(t1,t2)"
   ]
  },
  {
   "cell_type": "code",
   "execution_count": null,
   "id": "7e7a3b41",
   "metadata": {},
   "outputs": [],
   "source": []
  },
  {
   "cell_type": "code",
   "execution_count": null,
   "id": "cbd2766d",
   "metadata": {},
   "outputs": [],
   "source": []
  }
 ],
 "metadata": {
  "kernelspec": {
   "display_name": "Python 3",
   "language": "python",
   "name": "python3"
  },
  "language_info": {
   "codemirror_mode": {
    "name": "ipython",
    "version": 3
   },
   "file_extension": ".py",
   "mimetype": "text/x-python",
   "name": "python",
   "nbconvert_exporter": "python",
   "pygments_lexer": "ipython3",
   "version": "3.8.8"
  }
 },
 "nbformat": 4,
 "nbformat_minor": 5
}
